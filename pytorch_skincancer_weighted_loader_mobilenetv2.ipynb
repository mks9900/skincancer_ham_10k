{
 "cells": [
  {
   "cell_type": "markdown",
   "metadata": {},
   "source": [
    "# Skincancer HAM-dataset med Pytorch"
   ]
  },
  {
   "cell_type": "code",
   "execution_count": 1,
   "metadata": {},
   "outputs": [],
   "source": [
    "do_training = False"
   ]
  },
  {
   "cell_type": "markdown",
   "metadata": {},
   "source": [
    "## Standardimporter"
   ]
  },
  {
   "cell_type": "code",
   "execution_count": 2,
   "metadata": {},
   "outputs": [],
   "source": [
    "import torch\n",
    "import torch.nn as nn\n",
    "import torch.nn.functional as F\n",
    "from torch.utils.data import DataLoader\n",
    "import torchvision\n",
    "from torchvision import datasets, transforms, models\n",
    "from torchvision.utils import make_grid\n",
    "import torch.optim as optim\n",
    "from torch.optim import lr_scheduler\n",
    "\n",
    "import time\n",
    "import os\n",
    "\n",
    "import numpy as np\n",
    "import pandas as pd\n",
    "#from sklearn.metrics import confusion_matrix\n",
    "import matplotlib.pyplot as plt\n",
    "%matplotlib inline"
   ]
  },
  {
   "cell_type": "markdown",
   "metadata": {},
   "source": [
    "## Hantering av GPU och CPU:"
   ]
  },
  {
   "cell_type": "code",
   "execution_count": 3,
   "metadata": {},
   "outputs": [],
   "source": [
    "def get_default_device():\n",
    "    \"\"\"Pick GPU if available, else CPU\"\"\"\n",
    "    if torch.cuda.is_available():\n",
    "        return torch.device('cuda')\n",
    "    else:\n",
    "        return torch.device('cpu')"
   ]
  },
  {
   "cell_type": "code",
   "execution_count": 4,
   "metadata": {},
   "outputs": [],
   "source": [
    "device = get_default_device()"
   ]
  },
  {
   "cell_type": "code",
   "execution_count": 5,
   "metadata": {},
   "outputs": [],
   "source": [
    "# print(device)"
   ]
  },
  {
   "cell_type": "markdown",
   "metadata": {},
   "source": [
    "### De båda nedanstående blocken används för att enkelt flytta till GPU: "
   ]
  },
  {
   "cell_type": "code",
   "execution_count": 6,
   "metadata": {},
   "outputs": [],
   "source": [
    "def to_device(data, device):\n",
    "    \"\"\"Move tensor(s) to chosen device\"\"\"\n",
    "    if isinstance(data, (list,tuple)):\n",
    "        return [to_device(x, device) for x in data]\n",
    "    return data.to(device, non_blocking=True)"
   ]
  },
  {
   "cell_type": "code",
   "execution_count": 7,
   "metadata": {},
   "outputs": [],
   "source": [
    "class DeviceDataLoader():\n",
    "    \"\"\"Wrap a dataloader to move data to a device\"\"\"\n",
    "    def __init__(self, dl, device):\n",
    "        self.dl = dl\n",
    "        self.device = device\n",
    "        \n",
    "    def __iter__(self):\n",
    "        \"\"\"Yield a batch of data after moving it to device\"\"\"\n",
    "        for b in self.dl: \n",
    "            yield to_device(b, self.device)\n",
    "\n",
    "    def __len__(self):\n",
    "        \"\"\"Number of batches\"\"\"\n",
    "        return len(self.dl)"
   ]
  },
  {
   "cell_type": "markdown",
   "metadata": {},
   "source": [
    "## Hjälpfunktioner för att spara och ladda:"
   ]
  },
  {
   "cell_type": "code",
   "execution_count": 8,
   "metadata": {},
   "outputs": [],
   "source": [
    "# Anropas när följande variabler finns tillgängliga:\n",
    "# epochs, batchsz-{train, val}, learning_rate\n",
    "# Dessa krävs för funktionen \"create_filename\".\n",
    "\n",
    "def create_filename(filename):\n",
    "    global file_name\n",
    "    file_name = filename + \"_e\" + str(epochs) + \"_bsztr\" + str(batchsz_train) + \\\n",
    "            \"_bszval\" + str(batchsz_val) + \"_lr\" + str(f'{learning_rate:.0e}')\n",
    "    return file_name"
   ]
  },
  {
   "cell_type": "code",
   "execution_count": 9,
   "metadata": {},
   "outputs": [],
   "source": [
    "# https://pytorch.org/docs/master/notes/serialization.html\n",
    "\n",
    "def save_trained_model(modelname):\n",
    "    model_folder = \"trained_models\"\n",
    "    model_file_suffix = \".pt\"\n",
    "    create_filename(modelname) # spottar ur sig ett filnamn i variabeln \"file_name\"\n",
    "    \n",
    "    full_model_filename = model_folder + \"/\" + file_name + model_file_suffix\n",
    "    \n",
    "    torch.save(model.state_dict(), full_model_filename)"
   ]
  },
  {
   "cell_type": "code",
   "execution_count": 10,
   "metadata": {},
   "outputs": [],
   "source": [
    "def load_trained_model(modelname):\n",
    "    model_folder = \"trained_models\"\n",
    "    model_file_suffix = \".pt\"\n",
    "    create_filename(modelname) # spottar ur sig ett filnamn i variabeln \"file_name\"\n",
    "    \n",
    "    full_model_filename = model_folder + \"/\" + file_name + model_file_suffix\n",
    "    \n",
    "    if torch.cuda.is_available():\n",
    "        model.load_state_dict(torch.load(full_model_filename))\n",
    "    else:\n",
    "        model.load_state_dict(torch.load(full_model_filename, map_location=torch.device('cpu')))"
   ]
  },
  {
   "cell_type": "code",
   "execution_count": 11,
   "metadata": {},
   "outputs": [],
   "source": [
    "def save_training_log(logname, do_validation = True):\n",
    "    log_folder = \"logs\"\n",
    "    log_filename = create_filename(logname)\n",
    "    log_file_suffix = \".csv\"\n",
    "    full_log_filename = log_folder + \"/\" + file_name + log_file_suffix\n",
    "        \n",
    "    global training_log\n",
    "        \n",
    "    # Speciell range nedan för att starta på epok 1 och ej 0:\n",
    "    if do_validation == True:\n",
    "        training_log = pd.DataFrame(data={\"epoch\": range(1, epochs + 1), \\\n",
    "                                              \"train_acc\": train_accuracy, \\\n",
    "                                              \"train_loss\": train_losses,  \\\n",
    "                                              \"val_acc\": val_accuracy, \\\n",
    "                                              \"val_loss\": val_losses})\n",
    "    \n",
    "        training_log.to_csv(full_log_filename, sep=',', index = False)\n",
    "    else:\n",
    "        training_log = pd.DataFrame(data={\"epoch\": range(1, epochs + 1), \\\n",
    "                                              \"train_acc\": train_accuracy, \\\n",
    "                                              \"train_loss\": train_losses})\n",
    "    \n",
    "        training_log.to_csv(full_log_filename, sep=',', index = False)\n",
    "    \n",
    "    return training_log"
   ]
  },
  {
   "cell_type": "code",
   "execution_count": 52,
   "metadata": {},
   "outputs": [],
   "source": [
    "def load_training_log(logname):\n",
    "    log_folder = \"logs\"\n",
    "    log_filename = create_filename(logname)\n",
    "    log_file_suffix = \".csv\"\n",
    "    full_log_filename = log_folder + \"/\" + file_name + log_file_suffix\n",
    "    \n",
    "    global training_log\n",
    "    training_log = pd.read_csv(full_log_filename)\n",
    "    return training_log"
   ]
  },
  {
   "cell_type": "markdown",
   "metadata": {},
   "source": [
    "## Definiera de olika mängderna för träning, validering och test:"
   ]
  },
  {
   "cell_type": "code",
   "execution_count": 13,
   "metadata": {},
   "outputs": [],
   "source": [
    "epochs = 400\n",
    "learning_rate = 1e-4\n",
    "\n",
    "img_w = 224\n",
    "img_h = 224\n",
    "img_dim = 3\n",
    "\n",
    "batchsz_train = 2**2\n",
    "batchsz_val = 2**2\n",
    "batchsz_test = 2**2\n",
    "\n",
    "train_num_workers = 4\n",
    "test_val_num_workers = 4\n",
    "\n",
    "basepath = \"../../../ml/Datasets/skin-cancer-mnist-ham10000/images_per_label_splitted_sets/\""
   ]
  },
  {
   "cell_type": "code",
   "execution_count": 14,
   "metadata": {},
   "outputs": [],
   "source": [
    "# Definiera vilken augmentation som ska göras:\n",
    "train_data_transform = transforms.Compose([\n",
    "        transforms.RandomResizedCrop(img_w),\n",
    "        transforms.RandomHorizontalFlip(),\n",
    "        transforms.ToTensor(),\n",
    "        transforms.Normalize(mean=[0.485, 0.456, 0.406],\n",
    "                             std=[0.229, 0.224, 0.225])\n",
    "    ])\n",
    "\n",
    "val_test_data_transform = transforms.Compose([\n",
    "        transforms.RandomResizedCrop(img_w),\n",
    "        transforms.ToTensor(),\n",
    "        transforms.Normalize(mean=[0.485, 0.456, 0.406],\n",
    "                             std=[0.229, 0.224, 0.225])\n",
    "    ])"
   ]
  },
  {
   "cell_type": "code",
   "execution_count": 15,
   "metadata": {},
   "outputs": [],
   "source": [
    "# Definiera de tre dataseten:\n",
    "skincancer_train_dataset = datasets.ImageFolder(root = basepath + 'train/',\n",
    "                                           transform = train_data_transform)\n",
    "\n",
    "skincancer_valid_dataset = datasets.ImageFolder(root = basepath + 'val/',\n",
    "                                           transform = val_test_data_transform)\n",
    "\n",
    "skincancer_test_dataset = datasets.ImageFolder(root = basepath + 'test/',\n",
    "                                              transform = val_test_data_transform)"
   ]
  },
  {
   "cell_type": "code",
   "execution_count": 16,
   "metadata": {},
   "outputs": [],
   "source": [
    "# Skapa loaders för de tre dataseten:\n",
    "train_loader = torch.utils.data.DataLoader(skincancer_train_dataset,\n",
    "                                             batch_size = batchsz_train, \n",
    "                                             shuffle = True,\n",
    "                                             pin_memory = True,\n",
    "                                             drop_last = True,\n",
    "                                             num_workers = train_num_workers)\n",
    "\n",
    "valid_loader = torch.utils.data.DataLoader(skincancer_valid_dataset,\n",
    "                                             batch_size = batchsz_val, \n",
    "                                             shuffle = True,\n",
    "                                             num_workers = test_val_num_workers)\n",
    "\n",
    "test_loader = torch.utils.data.DataLoader(skincancer_test_dataset,\n",
    "                                             batch_size = batchsz_test, \n",
    "                                             shuffle = False,\n",
    "                                             num_workers = test_val_num_workers)"
   ]
  },
  {
   "cell_type": "markdown",
   "metadata": {},
   "source": [
    "### Skapa en weighted loader som hanterar obalansen mellan klasserna:"
   ]
  },
  {
   "cell_type": "code",
   "execution_count": 17,
   "metadata": {},
   "outputs": [],
   "source": [
    "train_targets = train_loader.dataset.targets\n",
    "# print(len(train_targets))"
   ]
  },
  {
   "cell_type": "code",
   "execution_count": 18,
   "metadata": {},
   "outputs": [],
   "source": [
    "from torch.utils.data import WeightedRandomSampler"
   ]
  },
  {
   "cell_type": "code",
   "execution_count": 19,
   "metadata": {},
   "outputs": [],
   "source": [
    "# Test för att oversampla vissa klasser...\n",
    "# https://discuss.pytorch.org/t/how-to-implement-oversampling-in-cifar-10/16964/6\n",
    "\n",
    "train_targets = train_loader.dataset.targets\n",
    "class_count = np.unique(train_targets, return_counts=True)[1]\n",
    "#print(\"Antal bilder per klass = \", class_count, \"\\n\")\n",
    "\n",
    "# Testa att köra med 1 / sevenones för att se en obalanserad, vanlig, loader\n",
    "# och med 1 / class_count för att se hur det balanserade resultatet blir:\n",
    "\n",
    "# sevenones = np.ones(7)\n",
    "# weight = 1 / sevenones\n",
    "weight = 1. / class_count\n",
    "samples_weight = weight[train_targets]\n",
    "samples_weight = torch.from_numpy(samples_weight)\n",
    "\n",
    "# Replacement = True ger dragning med återläggning, vilket vi ska ha, \n",
    "# annars kommer de mindre klasserna \"ta slut\" i dragningen:\n",
    "sampler = WeightedRandomSampler(samples_weight, len(samples_weight), replacement=True)"
   ]
  },
  {
   "cell_type": "code",
   "execution_count": 20,
   "metadata": {},
   "outputs": [],
   "source": [
    "# Skapa en ny dataloader baserad på \n",
    "# träningssetet som är viktad klassivs:\n",
    "\n",
    "# \"pin_memory=True\" gör att man flyttar data till GPU:n medan \n",
    "# vi kör träningen, vilket påskyndar arbetet radikalt, ffa\n",
    "# om vi har komplexa modeller.\n",
    "train_loader_weighted = DataLoader(skincancer_train_dataset, \n",
    "                             batch_size = batchsz_train, \n",
    "                             sampler = sampler, # kan ej ha shuffle = True med sampler!\n",
    "                             pin_memory=True,\n",
    "                             drop_last=True,\n",
    "                             num_workers = train_num_workers)"
   ]
  },
  {
   "cell_type": "code",
   "execution_count": 21,
   "metadata": {},
   "outputs": [],
   "source": [
    "# Definiera antalet klasser:\n",
    "\n",
    "number_of_classes = len(test_loader.dataset.classes)"
   ]
  },
  {
   "cell_type": "markdown",
   "metadata": {},
   "source": [
    "### Flytta *_loader till rätt device"
   ]
  },
  {
   "cell_type": "code",
   "execution_count": 22,
   "metadata": {},
   "outputs": [],
   "source": [
    "train_dl = DeviceDataLoader(train_loader, device)\n",
    "train_dl_weighted = DeviceDataLoader(train_loader_weighted, device)\n",
    "valid_dl = DeviceDataLoader(valid_loader, device)\n",
    "test_dl = DeviceDataLoader(test_loader, device)"
   ]
  },
  {
   "cell_type": "markdown",
   "metadata": {},
   "source": [
    "### Visa skillnader mellan oviktad och viktad loader:"
   ]
  },
  {
   "cell_type": "code",
   "execution_count": 23,
   "metadata": {},
   "outputs": [
    {
     "name": "stdout",
     "output_type": "stream",
     "text": [
      "Antal bilder per klass =  [ 228  359  769   80  779 4693   99] \n",
      "\n",
      "Batch 0, classes [0 2 6], count [1 2 1]\n",
      "Batch 1, classes [0 1 4 5], count [1 1 1 1]\n",
      "Batch 2, classes [0 1 3 4], count [1 1 1 1]\n",
      "Batch 3, classes [0 5 6], count [1 1 2]\n"
     ]
    }
   ],
   "source": [
    "print(\"Antal bilder per klass = \", class_count, \"\\n\")\n",
    "\n",
    "# Visa hur den drar samples från klasserna för fyra batcher:\n",
    "for batch_idx, (data, target) in enumerate(train_loader_weighted):\n",
    "    print('Batch {}, classes {}, count {}'.format(\n",
    "        batch_idx, *np.unique(target.numpy(), return_counts=True)))\n",
    "    if batch_idx == 3:\n",
    "        break"
   ]
  },
  {
   "cell_type": "code",
   "execution_count": 24,
   "metadata": {},
   "outputs": [
    {
     "name": "stdout",
     "output_type": "stream",
     "text": [
      "Antal bilder per klass =  [ 228  359  769   80  779 4693   99] \n",
      "\n",
      "Batch 0, classes [2 5], count [1 3]\n",
      "Batch 1, classes [2 4 5], count [1 1 2]\n",
      "Batch 2, classes [4 5], count [1 3]\n",
      "Batch 3, classes [2 5], count [1 3]\n"
     ]
    }
   ],
   "source": [
    "print(\"Antal bilder per klass = \", class_count, \"\\n\")\n",
    "\n",
    "# Visa hur den drar samples från klasserna för fyra batcher:\n",
    "for batch_idx, (data, target) in enumerate(train_loader):\n",
    "    print('Batch {}, classes {}, count {}'.format(\n",
    "        batch_idx, *np.unique(target.numpy(), return_counts=True)))\n",
    "    if batch_idx == 3:\n",
    "        break"
   ]
  },
  {
   "cell_type": "code",
   "execution_count": 25,
   "metadata": {},
   "outputs": [],
   "source": [
    "# len(target) # ger en vektor med batchsz i storlek.\n",
    "\n",
    "# Kolla t.ex. hur många samples ur klass A som finns i sista batchen ovan:\n",
    "# A = 0\n",
    "# np.sum(target.numpy() == A)"
   ]
  },
  {
   "cell_type": "code",
   "execution_count": 26,
   "metadata": {},
   "outputs": [],
   "source": [
    "# Visa dimensionerna för en bild-tensor (batchsize, number of channels, width, height):\n",
    "# images.shape"
   ]
  },
  {
   "cell_type": "markdown",
   "metadata": {},
   "source": [
    "## Definiera en modell:"
   ]
  },
  {
   "cell_type": "code",
   "execution_count": 27,
   "metadata": {},
   "outputs": [
    {
     "name": "stderr",
     "output_type": "stream",
     "text": [
      "Downloading: \"https://download.pytorch.org/models/mobilenet_v2-b0353104.pth\" to C:\\Users\\johan/.cache\\torch\\checkpoints\\mobilenet_v2-b0353104.pth\n",
      "100.0%\n"
     ]
    }
   ],
   "source": [
    "# Nedanstående två rader måste göras oavsett träning eller ej:\n",
    "\n",
    "model = models.mobilenet_v2(pretrained = True, progress = True)"
   ]
  },
  {
   "cell_type": "code",
   "execution_count": 28,
   "metadata": {},
   "outputs": [
    {
     "name": "stdout",
     "output_type": "stream",
     "text": [
      "MobileNetV2(\n",
      "  (features): Sequential(\n",
      "    (0): ConvBNReLU(\n",
      "      (0): Conv2d(3, 32, kernel_size=(3, 3), stride=(2, 2), padding=(1, 1), bias=False)\n",
      "      (1): BatchNorm2d(32, eps=1e-05, momentum=0.1, affine=True, track_running_stats=True)\n",
      "      (2): ReLU6(inplace=True)\n",
      "    )\n",
      "    (1): InvertedResidual(\n",
      "      (conv): Sequential(\n",
      "        (0): ConvBNReLU(\n",
      "          (0): Conv2d(32, 32, kernel_size=(3, 3), stride=(1, 1), padding=(1, 1), groups=32, bias=False)\n",
      "          (1): BatchNorm2d(32, eps=1e-05, momentum=0.1, affine=True, track_running_stats=True)\n",
      "          (2): ReLU6(inplace=True)\n",
      "        )\n",
      "        (1): Conv2d(32, 16, kernel_size=(1, 1), stride=(1, 1), bias=False)\n",
      "        (2): BatchNorm2d(16, eps=1e-05, momentum=0.1, affine=True, track_running_stats=True)\n",
      "      )\n",
      "    )\n",
      "    (2): InvertedResidual(\n",
      "      (conv): Sequential(\n",
      "        (0): ConvBNReLU(\n",
      "          (0): Conv2d(16, 96, kernel_size=(1, 1), stride=(1, 1), bias=False)\n",
      "          (1): BatchNorm2d(96, eps=1e-05, momentum=0.1, affine=True, track_running_stats=True)\n",
      "          (2): ReLU6(inplace=True)\n",
      "        )\n",
      "        (1): ConvBNReLU(\n",
      "          (0): Conv2d(96, 96, kernel_size=(3, 3), stride=(2, 2), padding=(1, 1), groups=96, bias=False)\n",
      "          (1): BatchNorm2d(96, eps=1e-05, momentum=0.1, affine=True, track_running_stats=True)\n",
      "          (2): ReLU6(inplace=True)\n",
      "        )\n",
      "        (2): Conv2d(96, 24, kernel_size=(1, 1), stride=(1, 1), bias=False)\n",
      "        (3): BatchNorm2d(24, eps=1e-05, momentum=0.1, affine=True, track_running_stats=True)\n",
      "      )\n",
      "    )\n",
      "    (3): InvertedResidual(\n",
      "      (conv): Sequential(\n",
      "        (0): ConvBNReLU(\n",
      "          (0): Conv2d(24, 144, kernel_size=(1, 1), stride=(1, 1), bias=False)\n",
      "          (1): BatchNorm2d(144, eps=1e-05, momentum=0.1, affine=True, track_running_stats=True)\n",
      "          (2): ReLU6(inplace=True)\n",
      "        )\n",
      "        (1): ConvBNReLU(\n",
      "          (0): Conv2d(144, 144, kernel_size=(3, 3), stride=(1, 1), padding=(1, 1), groups=144, bias=False)\n",
      "          (1): BatchNorm2d(144, eps=1e-05, momentum=0.1, affine=True, track_running_stats=True)\n",
      "          (2): ReLU6(inplace=True)\n",
      "        )\n",
      "        (2): Conv2d(144, 24, kernel_size=(1, 1), stride=(1, 1), bias=False)\n",
      "        (3): BatchNorm2d(24, eps=1e-05, momentum=0.1, affine=True, track_running_stats=True)\n",
      "      )\n",
      "    )\n",
      "    (4): InvertedResidual(\n",
      "      (conv): Sequential(\n",
      "        (0): ConvBNReLU(\n",
      "          (0): Conv2d(24, 144, kernel_size=(1, 1), stride=(1, 1), bias=False)\n",
      "          (1): BatchNorm2d(144, eps=1e-05, momentum=0.1, affine=True, track_running_stats=True)\n",
      "          (2): ReLU6(inplace=True)\n",
      "        )\n",
      "        (1): ConvBNReLU(\n",
      "          (0): Conv2d(144, 144, kernel_size=(3, 3), stride=(2, 2), padding=(1, 1), groups=144, bias=False)\n",
      "          (1): BatchNorm2d(144, eps=1e-05, momentum=0.1, affine=True, track_running_stats=True)\n",
      "          (2): ReLU6(inplace=True)\n",
      "        )\n",
      "        (2): Conv2d(144, 32, kernel_size=(1, 1), stride=(1, 1), bias=False)\n",
      "        (3): BatchNorm2d(32, eps=1e-05, momentum=0.1, affine=True, track_running_stats=True)\n",
      "      )\n",
      "    )\n",
      "    (5): InvertedResidual(\n",
      "      (conv): Sequential(\n",
      "        (0): ConvBNReLU(\n",
      "          (0): Conv2d(32, 192, kernel_size=(1, 1), stride=(1, 1), bias=False)\n",
      "          (1): BatchNorm2d(192, eps=1e-05, momentum=0.1, affine=True, track_running_stats=True)\n",
      "          (2): ReLU6(inplace=True)\n",
      "        )\n",
      "        (1): ConvBNReLU(\n",
      "          (0): Conv2d(192, 192, kernel_size=(3, 3), stride=(1, 1), padding=(1, 1), groups=192, bias=False)\n",
      "          (1): BatchNorm2d(192, eps=1e-05, momentum=0.1, affine=True, track_running_stats=True)\n",
      "          (2): ReLU6(inplace=True)\n",
      "        )\n",
      "        (2): Conv2d(192, 32, kernel_size=(1, 1), stride=(1, 1), bias=False)\n",
      "        (3): BatchNorm2d(32, eps=1e-05, momentum=0.1, affine=True, track_running_stats=True)\n",
      "      )\n",
      "    )\n",
      "    (6): InvertedResidual(\n",
      "      (conv): Sequential(\n",
      "        (0): ConvBNReLU(\n",
      "          (0): Conv2d(32, 192, kernel_size=(1, 1), stride=(1, 1), bias=False)\n",
      "          (1): BatchNorm2d(192, eps=1e-05, momentum=0.1, affine=True, track_running_stats=True)\n",
      "          (2): ReLU6(inplace=True)\n",
      "        )\n",
      "        (1): ConvBNReLU(\n",
      "          (0): Conv2d(192, 192, kernel_size=(3, 3), stride=(1, 1), padding=(1, 1), groups=192, bias=False)\n",
      "          (1): BatchNorm2d(192, eps=1e-05, momentum=0.1, affine=True, track_running_stats=True)\n",
      "          (2): ReLU6(inplace=True)\n",
      "        )\n",
      "        (2): Conv2d(192, 32, kernel_size=(1, 1), stride=(1, 1), bias=False)\n",
      "        (3): BatchNorm2d(32, eps=1e-05, momentum=0.1, affine=True, track_running_stats=True)\n",
      "      )\n",
      "    )\n",
      "    (7): InvertedResidual(\n",
      "      (conv): Sequential(\n",
      "        (0): ConvBNReLU(\n",
      "          (0): Conv2d(32, 192, kernel_size=(1, 1), stride=(1, 1), bias=False)\n",
      "          (1): BatchNorm2d(192, eps=1e-05, momentum=0.1, affine=True, track_running_stats=True)\n",
      "          (2): ReLU6(inplace=True)\n",
      "        )\n",
      "        (1): ConvBNReLU(\n",
      "          (0): Conv2d(192, 192, kernel_size=(3, 3), stride=(2, 2), padding=(1, 1), groups=192, bias=False)\n",
      "          (1): BatchNorm2d(192, eps=1e-05, momentum=0.1, affine=True, track_running_stats=True)\n",
      "          (2): ReLU6(inplace=True)\n",
      "        )\n",
      "        (2): Conv2d(192, 64, kernel_size=(1, 1), stride=(1, 1), bias=False)\n",
      "        (3): BatchNorm2d(64, eps=1e-05, momentum=0.1, affine=True, track_running_stats=True)\n",
      "      )\n",
      "    )\n",
      "    (8): InvertedResidual(\n",
      "      (conv): Sequential(\n",
      "        (0): ConvBNReLU(\n",
      "          (0): Conv2d(64, 384, kernel_size=(1, 1), stride=(1, 1), bias=False)\n",
      "          (1): BatchNorm2d(384, eps=1e-05, momentum=0.1, affine=True, track_running_stats=True)\n",
      "          (2): ReLU6(inplace=True)\n",
      "        )\n",
      "        (1): ConvBNReLU(\n",
      "          (0): Conv2d(384, 384, kernel_size=(3, 3), stride=(1, 1), padding=(1, 1), groups=384, bias=False)\n",
      "          (1): BatchNorm2d(384, eps=1e-05, momentum=0.1, affine=True, track_running_stats=True)\n",
      "          (2): ReLU6(inplace=True)\n",
      "        )\n",
      "        (2): Conv2d(384, 64, kernel_size=(1, 1), stride=(1, 1), bias=False)\n",
      "        (3): BatchNorm2d(64, eps=1e-05, momentum=0.1, affine=True, track_running_stats=True)\n",
      "      )\n",
      "    )\n",
      "    (9): InvertedResidual(\n",
      "      (conv): Sequential(\n",
      "        (0): ConvBNReLU(\n",
      "          (0): Conv2d(64, 384, kernel_size=(1, 1), stride=(1, 1), bias=False)\n",
      "          (1): BatchNorm2d(384, eps=1e-05, momentum=0.1, affine=True, track_running_stats=True)\n",
      "          (2): ReLU6(inplace=True)\n",
      "        )\n",
      "        (1): ConvBNReLU(\n",
      "          (0): Conv2d(384, 384, kernel_size=(3, 3), stride=(1, 1), padding=(1, 1), groups=384, bias=False)\n",
      "          (1): BatchNorm2d(384, eps=1e-05, momentum=0.1, affine=True, track_running_stats=True)\n",
      "          (2): ReLU6(inplace=True)\n",
      "        )\n",
      "        (2): Conv2d(384, 64, kernel_size=(1, 1), stride=(1, 1), bias=False)\n",
      "        (3): BatchNorm2d(64, eps=1e-05, momentum=0.1, affine=True, track_running_stats=True)\n",
      "      )\n",
      "    )\n",
      "    (10): InvertedResidual(\n",
      "      (conv): Sequential(\n",
      "        (0): ConvBNReLU(\n",
      "          (0): Conv2d(64, 384, kernel_size=(1, 1), stride=(1, 1), bias=False)\n",
      "          (1): BatchNorm2d(384, eps=1e-05, momentum=0.1, affine=True, track_running_stats=True)\n",
      "          (2): ReLU6(inplace=True)\n",
      "        )\n",
      "        (1): ConvBNReLU(\n",
      "          (0): Conv2d(384, 384, kernel_size=(3, 3), stride=(1, 1), padding=(1, 1), groups=384, bias=False)\n",
      "          (1): BatchNorm2d(384, eps=1e-05, momentum=0.1, affine=True, track_running_stats=True)\n",
      "          (2): ReLU6(inplace=True)\n",
      "        )\n",
      "        (2): Conv2d(384, 64, kernel_size=(1, 1), stride=(1, 1), bias=False)\n",
      "        (3): BatchNorm2d(64, eps=1e-05, momentum=0.1, affine=True, track_running_stats=True)\n",
      "      )\n",
      "    )\n",
      "    (11): InvertedResidual(\n",
      "      (conv): Sequential(\n",
      "        (0): ConvBNReLU(\n",
      "          (0): Conv2d(64, 384, kernel_size=(1, 1), stride=(1, 1), bias=False)\n",
      "          (1): BatchNorm2d(384, eps=1e-05, momentum=0.1, affine=True, track_running_stats=True)\n",
      "          (2): ReLU6(inplace=True)\n",
      "        )\n",
      "        (1): ConvBNReLU(\n",
      "          (0): Conv2d(384, 384, kernel_size=(3, 3), stride=(1, 1), padding=(1, 1), groups=384, bias=False)\n",
      "          (1): BatchNorm2d(384, eps=1e-05, momentum=0.1, affine=True, track_running_stats=True)\n",
      "          (2): ReLU6(inplace=True)\n",
      "        )\n",
      "        (2): Conv2d(384, 96, kernel_size=(1, 1), stride=(1, 1), bias=False)\n",
      "        (3): BatchNorm2d(96, eps=1e-05, momentum=0.1, affine=True, track_running_stats=True)\n",
      "      )\n",
      "    )\n",
      "    (12): InvertedResidual(\n",
      "      (conv): Sequential(\n",
      "        (0): ConvBNReLU(\n",
      "          (0): Conv2d(96, 576, kernel_size=(1, 1), stride=(1, 1), bias=False)\n",
      "          (1): BatchNorm2d(576, eps=1e-05, momentum=0.1, affine=True, track_running_stats=True)\n",
      "          (2): ReLU6(inplace=True)\n",
      "        )\n",
      "        (1): ConvBNReLU(\n",
      "          (0): Conv2d(576, 576, kernel_size=(3, 3), stride=(1, 1), padding=(1, 1), groups=576, bias=False)\n",
      "          (1): BatchNorm2d(576, eps=1e-05, momentum=0.1, affine=True, track_running_stats=True)\n",
      "          (2): ReLU6(inplace=True)\n",
      "        )\n",
      "        (2): Conv2d(576, 96, kernel_size=(1, 1), stride=(1, 1), bias=False)\n",
      "        (3): BatchNorm2d(96, eps=1e-05, momentum=0.1, affine=True, track_running_stats=True)\n",
      "      )\n",
      "    )\n",
      "    (13): InvertedResidual(\n",
      "      (conv): Sequential(\n",
      "        (0): ConvBNReLU(\n",
      "          (0): Conv2d(96, 576, kernel_size=(1, 1), stride=(1, 1), bias=False)\n",
      "          (1): BatchNorm2d(576, eps=1e-05, momentum=0.1, affine=True, track_running_stats=True)\n",
      "          (2): ReLU6(inplace=True)\n",
      "        )\n",
      "        (1): ConvBNReLU(\n",
      "          (0): Conv2d(576, 576, kernel_size=(3, 3), stride=(1, 1), padding=(1, 1), groups=576, bias=False)\n",
      "          (1): BatchNorm2d(576, eps=1e-05, momentum=0.1, affine=True, track_running_stats=True)\n",
      "          (2): ReLU6(inplace=True)\n",
      "        )\n",
      "        (2): Conv2d(576, 96, kernel_size=(1, 1), stride=(1, 1), bias=False)\n",
      "        (3): BatchNorm2d(96, eps=1e-05, momentum=0.1, affine=True, track_running_stats=True)\n",
      "      )\n",
      "    )\n",
      "    (14): InvertedResidual(\n",
      "      (conv): Sequential(\n",
      "        (0): ConvBNReLU(\n",
      "          (0): Conv2d(96, 576, kernel_size=(1, 1), stride=(1, 1), bias=False)\n",
      "          (1): BatchNorm2d(576, eps=1e-05, momentum=0.1, affine=True, track_running_stats=True)\n",
      "          (2): ReLU6(inplace=True)\n",
      "        )\n",
      "        (1): ConvBNReLU(\n",
      "          (0): Conv2d(576, 576, kernel_size=(3, 3), stride=(2, 2), padding=(1, 1), groups=576, bias=False)\n",
      "          (1): BatchNorm2d(576, eps=1e-05, momentum=0.1, affine=True, track_running_stats=True)\n",
      "          (2): ReLU6(inplace=True)\n",
      "        )\n",
      "        (2): Conv2d(576, 160, kernel_size=(1, 1), stride=(1, 1), bias=False)\n",
      "        (3): BatchNorm2d(160, eps=1e-05, momentum=0.1, affine=True, track_running_stats=True)\n",
      "      )\n",
      "    )\n",
      "    (15): InvertedResidual(\n",
      "      (conv): Sequential(\n",
      "        (0): ConvBNReLU(\n",
      "          (0): Conv2d(160, 960, kernel_size=(1, 1), stride=(1, 1), bias=False)\n",
      "          (1): BatchNorm2d(960, eps=1e-05, momentum=0.1, affine=True, track_running_stats=True)\n",
      "          (2): ReLU6(inplace=True)\n",
      "        )\n",
      "        (1): ConvBNReLU(\n",
      "          (0): Conv2d(960, 960, kernel_size=(3, 3), stride=(1, 1), padding=(1, 1), groups=960, bias=False)\n",
      "          (1): BatchNorm2d(960, eps=1e-05, momentum=0.1, affine=True, track_running_stats=True)\n",
      "          (2): ReLU6(inplace=True)\n",
      "        )\n",
      "        (2): Conv2d(960, 160, kernel_size=(1, 1), stride=(1, 1), bias=False)\n",
      "        (3): BatchNorm2d(160, eps=1e-05, momentum=0.1, affine=True, track_running_stats=True)\n",
      "      )\n",
      "    )\n",
      "    (16): InvertedResidual(\n",
      "      (conv): Sequential(\n",
      "        (0): ConvBNReLU(\n",
      "          (0): Conv2d(160, 960, kernel_size=(1, 1), stride=(1, 1), bias=False)\n",
      "          (1): BatchNorm2d(960, eps=1e-05, momentum=0.1, affine=True, track_running_stats=True)\n",
      "          (2): ReLU6(inplace=True)\n",
      "        )\n",
      "        (1): ConvBNReLU(\n",
      "          (0): Conv2d(960, 960, kernel_size=(3, 3), stride=(1, 1), padding=(1, 1), groups=960, bias=False)\n",
      "          (1): BatchNorm2d(960, eps=1e-05, momentum=0.1, affine=True, track_running_stats=True)\n",
      "          (2): ReLU6(inplace=True)\n",
      "        )\n",
      "        (2): Conv2d(960, 160, kernel_size=(1, 1), stride=(1, 1), bias=False)\n",
      "        (3): BatchNorm2d(160, eps=1e-05, momentum=0.1, affine=True, track_running_stats=True)\n",
      "      )\n",
      "    )\n",
      "    (17): InvertedResidual(\n",
      "      (conv): Sequential(\n",
      "        (0): ConvBNReLU(\n",
      "          (0): Conv2d(160, 960, kernel_size=(1, 1), stride=(1, 1), bias=False)\n",
      "          (1): BatchNorm2d(960, eps=1e-05, momentum=0.1, affine=True, track_running_stats=True)\n",
      "          (2): ReLU6(inplace=True)\n",
      "        )\n",
      "        (1): ConvBNReLU(\n",
      "          (0): Conv2d(960, 960, kernel_size=(3, 3), stride=(1, 1), padding=(1, 1), groups=960, bias=False)\n",
      "          (1): BatchNorm2d(960, eps=1e-05, momentum=0.1, affine=True, track_running_stats=True)\n",
      "          (2): ReLU6(inplace=True)\n",
      "        )\n",
      "        (2): Conv2d(960, 320, kernel_size=(1, 1), stride=(1, 1), bias=False)\n",
      "        (3): BatchNorm2d(320, eps=1e-05, momentum=0.1, affine=True, track_running_stats=True)\n",
      "      )\n",
      "    )\n",
      "    (18): ConvBNReLU(\n",
      "      (0): Conv2d(320, 1280, kernel_size=(1, 1), stride=(1, 1), bias=False)\n",
      "      (1): BatchNorm2d(1280, eps=1e-05, momentum=0.1, affine=True, track_running_stats=True)\n",
      "      (2): ReLU6(inplace=True)\n",
      "    )\n",
      "  )\n",
      "  (classifier): Sequential(\n",
      "    (0): Dropout(p=0.2, inplace=False)\n",
      "    (1): Linear(in_features=1280, out_features=1000, bias=True)\n",
      "  )\n",
      ")\n"
     ]
    }
   ],
   "source": [
    "# Printa modellen för att se de sista FC-lagren som behöver bytas ut: \n",
    "print(model)"
   ]
  },
  {
   "cell_type": "code",
   "execution_count": 29,
   "metadata": {},
   "outputs": [],
   "source": [
    "models_last_fc_infeatures = 1280\n",
    "model_name = 'MobileNetV2'"
   ]
  },
  {
   "cell_type": "code",
   "execution_count": 30,
   "metadata": {},
   "outputs": [
    {
     "data": {
      "text/plain": [
       "'MobileNetV2_e400_bsztr4_bszval4_lr1e-04'"
      ]
     },
     "execution_count": 30,
     "metadata": {},
     "output_type": "execute_result"
    }
   ],
   "source": [
    "create_filename(model_name)"
   ]
  },
  {
   "cell_type": "code",
   "execution_count": 37,
   "metadata": {},
   "outputs": [],
   "source": [
    "if do_training == True:\n",
    "    \n",
    "    # Vi måste ändra på det sista FC-lagret i modellen, som från början\n",
    "    # innehållet 1000 st out-features. Vi behöver bara 7.\n",
    "\n",
    "    for param in model.parameters():\n",
    "        param.require_grad = False\n",
    "    \n",
    "    # Ersätt sista fc-lagret med rätt antal ut-klasser: \n",
    "    model.classifier = nn.Linear(in_features = models_last_fc_infeatures, out_features = number_of_classes, bias = True)\n",
    "    \n",
    "else:\n",
    "    model.classifier = nn.Linear(in_features = models_last_fc_infeatures, out_features = number_of_classes, bias = True)\n",
    "    load_trained_model(model_name)\n",
    "    model.eval()"
   ]
  },
  {
   "cell_type": "markdown",
   "metadata": {},
   "source": [
    "### Flytta modellen till GPU, om en sådan finns:"
   ]
  },
  {
   "cell_type": "code",
   "execution_count": 38,
   "metadata": {},
   "outputs": [
    {
     "data": {
      "text/plain": [
       "True"
      ]
     },
     "execution_count": 38,
     "metadata": {},
     "output_type": "execute_result"
    }
   ],
   "source": [
    "# Flytta modellen till rätt device:\n",
    "\n",
    "to_device(model, device)\n",
    "\n",
    "# Verifiera att modellen är på rätt device:\n",
    "# True => modellen finns på GPU.\n",
    "\n",
    "next(model.parameters()).is_cuda"
   ]
  },
  {
   "cell_type": "code",
   "execution_count": 39,
   "metadata": {},
   "outputs": [
    {
     "name": "stdout",
     "output_type": "stream",
     "text": [
      "Antalet träningsbara parametrar är 2,232,839 st.\n"
     ]
    }
   ],
   "source": [
    "trainableparameters = []\n",
    "for param in model.parameters():\n",
    "    # trainableparameters = param.numel()\n",
    "    trainableparameters.append(param.numel())\n",
    "    num_trainable_params = np.sum(trainableparameters)\n",
    "    \n",
    "print(f'Antalet träningsbara parametrar är {num_trainable_params:,} st.')"
   ]
  },
  {
   "cell_type": "markdown",
   "metadata": {},
   "source": [
    "## Definiera loss-function och vilken metod för optimering som ska användas:"
   ]
  },
  {
   "cell_type": "code",
   "execution_count": 40,
   "metadata": {},
   "outputs": [],
   "source": [
    "# Definiera loss-function och vilken optimerare som ska användas:\n",
    "criterion = nn.CrossEntropyLoss()\n",
    "optimizer = torch.optim.Adam(model.parameters(), lr = learning_rate)"
   ]
  },
  {
   "cell_type": "code",
   "execution_count": 41,
   "metadata": {},
   "outputs": [],
   "source": [
    "# Decay LR by a factor of 0.1 every 3 epochs\n",
    "# exp_lr_scheduler = lr_scheduler.StepLR(optimizer, step_size = 3, gamma = 0.1)"
   ]
  },
  {
   "cell_type": "markdown",
   "metadata": {},
   "source": [
    "## Följande återställer modellens vikter mellan olika körningar"
   ]
  },
  {
   "cell_type": "code",
   "execution_count": 42,
   "metadata": {},
   "outputs": [],
   "source": [
    "def weights_init(m):\n",
    "    if isinstance(m, nn.Conv2d):\n",
    "        torch.nn.init.xavier_uniform_(m.weight.data)"
   ]
  },
  {
   "cell_type": "markdown",
   "metadata": {},
   "source": [
    "## Overfit på en batch för att se att modellen är rimlig"
   ]
  },
  {
   "cell_type": "code",
   "execution_count": 43,
   "metadata": {},
   "outputs": [],
   "source": [
    "if do_training == True:\n",
    "\n",
    "    model.apply(weights_init)\n",
    "    model.train()\n",
    "\n",
    "    inputs, labels = next(iter(train_dl_weighted))\n",
    "    inputs = inputs.to(device)\n",
    "    labels = labels.to(device)\n",
    "\n",
    "    criterion_check_onebatch = nn.CrossEntropyLoss()\n",
    "    optimizer_check_onebatch = optim.Adam(model.parameters(), lr = learning_rate)\n",
    "\n",
    "    model.train()\n",
    "    for epoch in range(31):\n",
    "        optimizer_check_onebatch.zero_grad()\n",
    "        outputs = model(inputs)\n",
    "        loss = criterion_check_onebatch(outputs, labels)\n",
    "        _, preds = torch.max(outputs, 1)\n",
    "        loss.backward()\n",
    "        optimizer_check_onebatch.step()\n",
    "        correct = torch.sum(preds == labels)\n",
    "    \n",
    "        if epoch%10 == 0:\n",
    "            print(f'Epok {epoch:02}: ----- loss = {loss:4.4f} ----- accuracy = {correct}')\n",
    "else:\n",
    "    pass"
   ]
  },
  {
   "cell_type": "markdown",
   "metadata": {},
   "source": [
    "# Träna och utvärdera modellen"
   ]
  },
  {
   "cell_type": "code",
   "execution_count": 44,
   "metadata": {},
   "outputs": [],
   "source": [
    "def train_eval(epochs = 10, do_validation = True, training_dataloader = train_dl_weighted, validation_dataloader = valid_dl):\n",
    "\n",
    "    # if ((do_training == False) and (do_validation == True)):\n",
    "    #    print(\"Kan inte validera en modell som inte tränats.\")\n",
    "    # else:\n",
    "    start_training_time = time.time()\n",
    "\n",
    "    # Placeholders för att mäta modellen:\n",
    "    global train_accuracy, train_losses, val_accuracy, val_losses\n",
    "        \n",
    "    train_accuracy = []\n",
    "    train_losses = []\n",
    "        \n",
    "    val_accuracy = []\n",
    "    val_losses = []\n",
    "\n",
    "    for epoch in range(epochs):\n",
    "        start_epoch_time = time.time()\n",
    "        train_correct_pred_per_epoch = 0\n",
    "        \n",
    "        current_train_loss = 0.0\n",
    "        current_train_corrects = 0\n",
    "        \n",
    "        # Träning ###########################################################\n",
    "        # Sätt modellen i träningsläge:\n",
    "        start_train_time = time.time()\n",
    "        model.train()\n",
    "        \n",
    "        for inputs_train, labels_train in training_dataloader:\n",
    "            train_predictions = model.forward(inputs_train)\n",
    "            optimizer.zero_grad()\n",
    "            \n",
    "            train_loss = criterion(train_predictions, labels_train)\n",
    "            train_loss.backward()\n",
    "                \n",
    "            optimizer.step()\n",
    "                    \n",
    "            #exp_lr_scheduler.step()\n",
    "            #lr = exp_lr_scheduler.get_lr()\n",
    "                \n",
    "            # Nedan ger den mest troliga klassen:\n",
    "            _, train_predicted = torch.max(train_predictions, 1)\n",
    "    \n",
    "            current_train_loss += train_loss.item() * batchsz_train\n",
    "            current_train_corrects += torch.sum(train_predicted == labels_train.data)\n",
    "        \n",
    "        end_train_time = time.time()\n",
    "        \n",
    "        # Validering ########################################################\n",
    "        # Sätt modellen i utvärderingsläge:\n",
    "            \n",
    "        if do_validation == True:\n",
    "            start_eval_time = time.time()\n",
    "            model.eval()\n",
    "        \n",
    "            current_val_loss = 0.0\n",
    "            current_val_corrects = 0\n",
    "        \n",
    "            with torch.no_grad():\n",
    "                \n",
    "                inputs_val, labels_val = next(iter(validation_dataloader))\n",
    "                val_predictions = model.forward(inputs_val)\n",
    "                val_loss = criterion(val_predictions, labels_val)\n",
    "                _, val_predicted = torch.max(val_predictions, 1)\n",
    "                    \n",
    "                current_val_loss += val_loss.item() * batchsz_val\n",
    "                current_val_corrects += torch.sum(val_predicted == labels_val.data)\n",
    "        \n",
    "            end_eval_time = time.time()\n",
    "        else:\n",
    "            pass\n",
    "            \n",
    "        ######################################################################\n",
    "        \n",
    "        # Metrics ############################################################\n",
    "        # Räkna ut acc och loss per epok:\n",
    "        epoch_train_loss = np.float64(current_train_loss / num_train_images)\n",
    "        epoch_train_acc = np.float64(current_train_corrects.double() / num_train_images)\n",
    "        \n",
    "        if do_validation == True:\n",
    "            epoch_val_loss = np.float64(current_val_loss / batchsz_val)\n",
    "            epoch_val_acc = np.float64(current_val_corrects.double() / batchsz_val)\n",
    "        else:\n",
    "            pass\n",
    "                \n",
    "        # Lagra accuracy och loss per epok i en lista för t.ex. plottning:\n",
    "        train_losses.append(epoch_train_loss)\n",
    "        train_accuracy.append(epoch_train_acc)\n",
    "            \n",
    "        if do_validation == True:\n",
    "            val_losses.append(epoch_val_loss)\n",
    "            val_accuracy.append(epoch_val_acc)\n",
    "        else:\n",
    "            pass\n",
    "                \n",
    "        # Räkna ut tiderna per epok:\n",
    "        end_epoch_time = time.time()\n",
    "        epoch_time = end_epoch_time - start_epoch_time\n",
    "        \n",
    "        # epoch startar på 0, därav \"+1\" nedan:\n",
    "        if do_validation == True:\n",
    "            print(f\"Epok {epoch + 1:02}: {epoch_time:2.1f} sek, train-acc = {epoch_train_acc:4.3f}, val-acc = {epoch_val_acc:4.3f}, train-loss = {epoch_train_loss:4.4f}, val-loss = {epoch_val_loss:4.4f}\")            \n",
    "        else:\n",
    "            print(f\"Epok {epoch + 1:02}: {epoch_time:2.1f} sek, train-acc = {epoch_train_acc:4.3f}, train-loss = {epoch_train_loss:4.4f}\")\n",
    "    \n",
    "    # Spara träningsdatan till fil och i en pandas_df:\n",
    "    save_training_log(model_name, do_validation)\n",
    "    \n",
    "    end_training_time = time.time()\n",
    "    \n",
    "    delta = end_training_time - start_training_time\n",
    "    \n",
    "    print(f'\\nTraining took {delta:.2f} seconds.')"
   ]
  },
  {
   "cell_type": "code",
   "execution_count": 45,
   "metadata": {},
   "outputs": [],
   "source": [
    " # Nollställer vikterna i modellen:\n",
    "if do_training == True:\n",
    "    model.apply(weights_init)\n",
    "else:\n",
    "    pass\n",
    "\n",
    "# Nedan för att vi använder \"droplast = True\"...\n",
    "\n",
    "# Train:\n",
    "num_train_images = batchsz_train * np.floor_divide(len(train_loader.dataset), batchsz_train)\n",
    "    \n",
    "# Validation:\n",
    "num_val_images = batchsz_val * np.floor_divide(len(valid_loader.dataset), batchsz_val)"
   ]
  },
  {
   "cell_type": "code",
   "execution_count": 54,
   "metadata": {
    "scrolled": true
   },
   "outputs": [],
   "source": [
    "# Här görs själva träningen, valideringen, sparande av modellen och träningsloggen.\n",
    "# Alternativt så laddas en redan färdig modell/träningslogg.\n",
    "\n",
    "# \"epochs\" definieras i början av filen!\n",
    "\n",
    "if do_training == True:\n",
    "    train_eval(epochs, do_validation=True, training_dataloader=train_dl_weighted, validation_dataloader=valid_dl)\n",
    "    save_trained_model(model_name)\n",
    "else:\n",
    "    load_training_log(model_name)"
   ]
  },
  {
   "cell_type": "code",
   "execution_count": 55,
   "metadata": {},
   "outputs": [
    {
     "data": {
      "text/html": [
       "<div>\n",
       "<style scoped>\n",
       "    .dataframe tbody tr th:only-of-type {\n",
       "        vertical-align: middle;\n",
       "    }\n",
       "\n",
       "    .dataframe tbody tr th {\n",
       "        vertical-align: top;\n",
       "    }\n",
       "\n",
       "    .dataframe thead th {\n",
       "        text-align: right;\n",
       "    }\n",
       "</style>\n",
       "<table border=\"1\" class=\"dataframe\">\n",
       "  <thead>\n",
       "    <tr style=\"text-align: right;\">\n",
       "      <th></th>\n",
       "      <th>epoch</th>\n",
       "      <th>train_acc</th>\n",
       "      <th>train_loss</th>\n",
       "      <th>val_acc</th>\n",
       "      <th>val_loss</th>\n",
       "    </tr>\n",
       "  </thead>\n",
       "  <tbody>\n",
       "    <tr>\n",
       "      <td>0</td>\n",
       "      <td>0</td>\n",
       "      <td>0.290120</td>\n",
       "      <td>1.761360</td>\n",
       "      <td>0.50</td>\n",
       "      <td>1.423345</td>\n",
       "    </tr>\n",
       "    <tr>\n",
       "      <td>1</td>\n",
       "      <td>1</td>\n",
       "      <td>0.355797</td>\n",
       "      <td>1.625321</td>\n",
       "      <td>0.25</td>\n",
       "      <td>1.442852</td>\n",
       "    </tr>\n",
       "    <tr>\n",
       "      <td>2</td>\n",
       "      <td>2</td>\n",
       "      <td>0.390206</td>\n",
       "      <td>1.563421</td>\n",
       "      <td>0.25</td>\n",
       "      <td>2.609665</td>\n",
       "    </tr>\n",
       "    <tr>\n",
       "      <td>3</td>\n",
       "      <td>3</td>\n",
       "      <td>0.419189</td>\n",
       "      <td>1.509637</td>\n",
       "      <td>0.25</td>\n",
       "      <td>1.762103</td>\n",
       "    </tr>\n",
       "    <tr>\n",
       "      <td>4</td>\n",
       "      <td>4</td>\n",
       "      <td>0.432753</td>\n",
       "      <td>1.455144</td>\n",
       "      <td>1.00</td>\n",
       "      <td>0.245745</td>\n",
       "    </tr>\n",
       "  </tbody>\n",
       "</table>\n",
       "</div>"
      ],
      "text/plain": [
       "   epoch  train_acc  train_loss  val_acc  val_loss\n",
       "0      0   0.290120    1.761360     0.50  1.423345\n",
       "1      1   0.355797    1.625321     0.25  1.442852\n",
       "2      2   0.390206    1.563421     0.25  2.609665\n",
       "3      3   0.419189    1.509637     0.25  1.762103\n",
       "4      4   0.432753    1.455144     1.00  0.245745"
      ]
     },
     "execution_count": 55,
     "metadata": {},
     "output_type": "execute_result"
    }
   ],
   "source": [
    "training_log.head()"
   ]
  },
  {
   "cell_type": "markdown",
   "metadata": {},
   "source": [
    "## Utvärdering av modellen:"
   ]
  },
  {
   "cell_type": "markdown",
   "metadata": {},
   "source": [
    "### Grafer över accuracy och loss på train/validation:"
   ]
  },
  {
   "cell_type": "code",
   "execution_count": 56,
   "metadata": {},
   "outputs": [
    {
     "data": {
      "image/png": "[encoded data removed]",
      "text/plain": [
       "<Figure size 432x288 with 1 Axes>"
      ]
     },
     "metadata": {
      "needs_background": "light"
     },
     "output_type": "display_data"
    }
   ],
   "source": [
    "plt.plot(training_log['epoch'], training_log['train_loss'])\n",
    "#plt.title(\"Loss on the training set over the epochs\")\n",
    "# plt.yticks(np.arange(0, 50, step = 5))\n",
    "# plt.ylim(0,50)\n",
    "#plt.show()\n",
    "\n",
    "# Plotta accuracy över valideringsdatat:\n",
    "plt.plot(training_log['epoch'], training_log['val_loss'])\n",
    "plt.title(\"Training and validation loss\")\n",
    "#plt.yticks(np.arange(0, 1.1, step = 0.2))\n",
    "#plt.ylim(0, max())\n",
    "plt.legend(['Train loss', 'Validation loss'], loc = 'upper right')\n",
    "plt.show()\n"
   ]
  },
  {
   "cell_type": "code",
   "execution_count": 57,
   "metadata": {},
   "outputs": [
    {
     "data": {
      "image/png": "[encoded data removed]",
      "text/plain": [
       "<Figure size 432x288 with 1 Axes>"
      ]
     },
     "metadata": {
      "needs_background": "light"
     },
     "output_type": "display_data"
    }
   ],
   "source": [
    "plt.plot(training_log['epoch'], training_log['train_acc'])\n",
    "#plt.title(\"Loss on the training set over the epochs\")\n",
    "# plt.yticks(np.arange(0, 50, step = 5))\n",
    "# plt.ylim(0,50)\n",
    "#plt.show()\n",
    "\n",
    "# Plotta accuracy över valideringsdatat:\n",
    "plt.plot(training_log['epoch'], training_log['val_acc'])\n",
    "plt.title(\"Training and validation accuracy\")\n",
    "#plt.yticks(np.arange(0, 1.1, step = 0.2))\n",
    "#plt.ylim(0, max())\n",
    "plt.legend(['Train acc', 'Validation acc'], loc = 'lower right')\n",
    "plt.show()"
   ]
  },
  {
   "cell_type": "code",
   "execution_count": 58,
   "metadata": {},
   "outputs": [],
   "source": [
    "max_train_acc = 100*max(training_log['train_acc'])"
   ]
  },
  {
   "cell_type": "code",
   "execution_count": 59,
   "metadata": {},
   "outputs": [
    {
     "name": "stdout",
     "output_type": "stream",
     "text": [
      "Max tränings-accuracy = 91.58 %.\n"
     ]
    }
   ],
   "source": [
    "print(f'Max tränings-accuracy = {max_train_acc:.2f} %.')"
   ]
  },
  {
   "cell_type": "markdown",
   "metadata": {},
   "source": [
    "### Utvärdera modellen på validation- och test-set:"
   ]
  },
  {
   "cell_type": "code",
   "execution_count": 60,
   "metadata": {},
   "outputs": [],
   "source": [
    "def evaluate_model(num_eval_images, data_loader, model):\n",
    "\n",
    "    model.eval()\n",
    "\n",
    "    start_eval_test_time = time.time()\n",
    "    \n",
    "    # Nedan för att vi inte ska uppdatera \n",
    "    # modellens vikter:\n",
    "\n",
    "    with torch.no_grad():\n",
    "        correct = 0\n",
    "        # Antal iterationer = num_test_images / batchsz_test = x st.\n",
    "    \n",
    "        for X_test, y_test in data_loader:\n",
    "            y_pred_test = model.forward(X_test)\n",
    "            predicted = torch.max(input = y_pred_test, dim = 1)[1]\n",
    "            correct += (predicted == y_test).sum()\n",
    "    \n",
    "        end_eval_test_time = time.time()\n",
    "    \n",
    "        eval_test_time = end_eval_test_time - start_eval_test_time\n",
    "\n",
    "    print(f'Test accuracy: {correct.item()}/{num_eval_images} = {correct.item()*100/(num_eval_images):5.2f} %')\n",
    "    print(f\"\\nEvaluation took {eval_test_time:.2f} seconds.\")"
   ]
  },
  {
   "cell_type": "code",
   "execution_count": 61,
   "metadata": {},
   "outputs": [
    {
     "name": "stdout",
     "output_type": "stream",
     "text": [
      "Test accuracy: 1606/2010 = 79.90 %\n",
      "\n",
      "Evaluation took 23.66 seconds.\n"
     ]
    }
   ],
   "source": [
    "num_test_images = len(test_loader.dataset)\n",
    "\n",
    "evaluate_model(num_test_images, test_dl, model)"
   ]
  },
  {
   "cell_type": "code",
   "execution_count": 62,
   "metadata": {},
   "outputs": [
    {
     "name": "stdout",
     "output_type": "stream",
     "text": [
      "Test accuracy: 818/998 = 81.96 %\n",
      "\n",
      "Evaluation took 10.64 seconds.\n"
     ]
    }
   ],
   "source": [
    "num_valid_images = len(valid_loader.dataset)\n",
    "\n",
    "evaluate_model(num_valid_images, valid_dl, model)"
   ]
  },
  {
   "cell_type": "markdown",
   "metadata": {},
   "source": [
    "### Confusion matrix"
   ]
  },
  {
   "cell_type": "code",
   "execution_count": 63,
   "metadata": {},
   "outputs": [],
   "source": [
    "def pytorch_confusion_matrix(num_classes, model, dataloader):\n",
    "    \n",
    "    confusion_matrix = torch.zeros(num_classes, num_classes)\n",
    "    \n",
    "    with torch.no_grad():\n",
    "        for i, (inputs, classes) in enumerate(dataloader):\n",
    "            inputs = inputs.to(device)\n",
    "            classes = classes.to(device)\n",
    "            \n",
    "            predictions = model.forward(inputs)\n",
    "            _, preds = torch.max(predictions, 1)\n",
    "            \n",
    "            for t, p in zip(classes.view(-1), preds.view(-1)):\n",
    "                confusion_matrix[t.long(), p.long()] += 1\n",
    "    \n",
    "    return confusion_matrix"
   ]
  },
  {
   "cell_type": "code",
   "execution_count": 64,
   "metadata": {},
   "outputs": [
    {
     "name": "stdout",
     "output_type": "stream",
     "text": [
      "Beräkningen av CM tog 21.46.\n"
     ]
    }
   ],
   "source": [
    "# Beräkningen på test-setet tar ca. 9 sek.\n",
    "# på den stationära datorn med GPU med 4 workers.\n",
    "# Ca. 22 sek på jobbdatorn med GPU.\n",
    "\n",
    "start_cm_time = time.time()\n",
    "cm_test = pytorch_confusion_matrix(number_of_classes, model, test_dl)\n",
    "\n",
    "end_cm_time = time.time()\n",
    "\n",
    "delta_cm_time = end_cm_time - start_cm_time\n",
    "\n",
    "print(f'Beräkningen av CM tog {delta_cm_time:.2f}.')"
   ]
  },
  {
   "cell_type": "code",
   "execution_count": 68,
   "metadata": {},
   "outputs": [],
   "source": [
    "# Spara confusion matrix till en fil...\n",
    "cm_file_suffice = \".pt\"\n",
    "cm_filename = \"results/\" + file_name + cm_file_suffice\n",
    "torch.save(cm_test, cm_filename)"
   ]
  },
  {
   "cell_type": "code",
   "execution_count": 69,
   "metadata": {},
   "outputs": [],
   "source": [
    "# Ladda CM från en fil:\n",
    "cm_test = torch.load(cm_filename)"
   ]
  },
  {
   "cell_type": "code",
   "execution_count": 70,
   "metadata": {},
   "outputs": [],
   "source": [
    "cm_test_np = cm_test.numpy()"
   ]
  },
  {
   "cell_type": "code",
   "execution_count": 73,
   "metadata": {},
   "outputs": [
    {
     "name": "stdout",
     "output_type": "stream",
     "text": [
      "[[  34.   16.    9.    2.    3.    3.    0.]\n",
      " [   4.   84.    8.    2.    1.    3.    2.]\n",
      " [   3.    8.  157.    0.   14.   39.    0.]\n",
      " [   1.    0.    3.   16.    1.    2.    1.]\n",
      " [   9.    4.   23.    4.  102.   81.    0.]\n",
      " [  11.   26.   36.   11.   47. 1204.    7.]\n",
      " [   0.    1.    1.    0.    0.    4.   23.]]\n"
     ]
    }
   ],
   "source": [
    "np.set_printoptions(suppress=True)\n",
    "print(cm_test_np)"
   ]
  },
  {
   "cell_type": "markdown",
   "metadata": {},
   "source": [
    "### Precision och recall (precision & sensitivitet):"
   ]
  },
  {
   "cell_type": "code",
   "execution_count": 74,
   "metadata": {},
   "outputs": [],
   "source": [
    "# Beräkna första radens summa:\n",
    "sum_row_one = np.sum(cm_test_np[:,0])\n",
    "\n",
    "# Då blir t.ex. precision för label 1:\n",
    "precision_label_one = cm_test_np[0][0].item() / sum_row_one"
   ]
  },
  {
   "cell_type": "code",
   "execution_count": 75,
   "metadata": {},
   "outputs": [
    {
     "name": "stdout",
     "output_type": "stream",
     "text": [
      "Precision för label 1 = 0.548\n"
     ]
    }
   ],
   "source": [
    "print(f'Precision för label 1 = {precision_label_one:.3f}')"
   ]
  },
  {
   "cell_type": "code",
   "execution_count": 76,
   "metadata": {},
   "outputs": [
    {
     "name": "stdout",
     "output_type": "stream",
     "text": [
      "Recall för label 1 = 0.507\n"
     ]
    }
   ],
   "source": [
    "# Motsvarande blir recall för label 1:\n",
    "\n",
    "sum_col_1 = np.sum(cm_test_np[0,:])\n",
    "recall_label_one = cm_test_np[0][0] / sum_col_1\n",
    "\n",
    "print(f'Recall för label 1 = {recall_label_one:.3f}')"
   ]
  },
  {
   "cell_type": "code",
   "execution_count": 77,
   "metadata": {},
   "outputs": [
    {
     "data": {
      "text/plain": [
       "'akiec'"
      ]
     },
     "execution_count": 77,
     "metadata": {},
     "output_type": "execute_result"
    }
   ],
   "source": [
    "# Få ut labels så här:\n",
    "test_loader.dataset.classes[0]"
   ]
  },
  {
   "cell_type": "code",
   "execution_count": 78,
   "metadata": {},
   "outputs": [
    {
     "name": "stdout",
     "output_type": "stream",
     "text": [
      "Precision för respektive klass:\n",
      "akiec: 0.548\n",
      "bcc  : 0.604\n",
      "bkl  : 0.662\n",
      "df   : 0.457\n",
      "mel  : 0.607\n",
      "nv   : 0.901\n",
      "vasc : 0.697\n",
      "\n",
      "Recall för respektive klass:\n",
      "akiec: 0.507\n",
      "bcc  : 0.808\n",
      "bkl  : 0.710\n",
      "df   : 0.667\n",
      "mel  : 0.457\n",
      "nv   : 0.897\n",
      "vasc : 0.793\n"
     ]
    }
   ],
   "source": [
    "# Skapa en sammanställning över precision/recall för alla sju klasser.\n",
    "\n",
    "# Precision:\n",
    "\n",
    "print(\"Precision för respektive klass:\")\n",
    "for i in range(number_of_classes):\n",
    "    sum_row_i = np.sum(cm_test_np[:, i])\n",
    "    recall_i = cm_test_np[i,i] / sum_row_i\n",
    "    print(f'{test_loader.dataset.classes[i]:5}: {recall_i:.3f}')\n",
    "\n",
    "\n",
    "# Recall:\n",
    "\n",
    "print(\"\\nRecall för respektive klass:\")\n",
    "for j in range(number_of_classes):\n",
    "    sum_col_j = np.sum(cm_test_np[j, :])\n",
    "    recall_j = cm_test_np[j,j] / sum_col_j\n",
    "    print(f'{test_loader.dataset.classes[j]:5}: {recall_j:.3f}')"
   ]
  },
  {
   "cell_type": "markdown",
   "metadata": {},
   "source": [
    "### Visualisera modellens förutsägelser"
   ]
  },
  {
   "cell_type": "code",
   "execution_count": 79,
   "metadata": {},
   "outputs": [],
   "source": [
    "def visualize_model(model, num_images = 6):\n",
    "    was_training = model.training\n",
    "    model.eval()\n",
    "    images_so_far = 0\n",
    "    fig = plt.figure()\n",
    "\n",
    "    with torch.no_grad():\n",
    "        for i, (inputs, labels) in enumerate(test_loader):\n",
    "            inputs = inputs.to(device)\n",
    "            labels = labels.to(device)\n",
    "\n",
    "            outputs = model(inputs)\n",
    "            _, preds = torch.max(outputs, 1)\n",
    "\n",
    "            for j in range(inputs.size()[0]):\n",
    "                images_so_far += 1\n",
    "                ax = plt.subplot(num_images//2, 2, images_so_far)\n",
    "                ax.axis('off')\n",
    "                ax.set_title('predicted: {}'.format(class_names[preds[j]]))\n",
    "                imshow(inputs.cpu().data[j])\n",
    "\n",
    "                if images_so_far == num_images:\n",
    "                    model.train(mode = was_training)\n",
    "                    return\n",
    "        model.train(mode = was_training)"
   ]
  },
  {
   "cell_type": "code",
   "execution_count": 80,
   "metadata": {
    "collapsed": true
   },
   "outputs": [
    {
     "ename": "NameError",
     "evalue": "name 'class_names' is not defined",
     "output_type": "error",
     "traceback": [
      "\u001b[1;31m---------------------------------------------------------------------------\u001b[0m",
      "\u001b[1;31mNameError\u001b[0m                                 Traceback (most recent call last)",
      "\u001b[1;32m<ipython-input-80-e4ad3be949bc>\u001b[0m in \u001b[0;36m<module>\u001b[1;34m\u001b[0m\n\u001b[1;32m----> 1\u001b[1;33m \u001b[0mvisualize_model\u001b[0m\u001b[1;33m(\u001b[0m\u001b[0mmodel\u001b[0m\u001b[1;33m,\u001b[0m \u001b[1;36m4\u001b[0m\u001b[1;33m)\u001b[0m\u001b[1;33m\u001b[0m\u001b[1;33m\u001b[0m\u001b[0m\n\u001b[0m",
      "\u001b[1;32m<ipython-input-79-bc2f4abf6bc6>\u001b[0m in \u001b[0;36mvisualize_model\u001b[1;34m(model, num_images)\u001b[0m\n\u001b[0;32m     17\u001b[0m                 \u001b[0max\u001b[0m \u001b[1;33m=\u001b[0m \u001b[0mplt\u001b[0m\u001b[1;33m.\u001b[0m\u001b[0msubplot\u001b[0m\u001b[1;33m(\u001b[0m\u001b[0mnum_images\u001b[0m\u001b[1;33m//\u001b[0m\u001b[1;36m2\u001b[0m\u001b[1;33m,\u001b[0m \u001b[1;36m2\u001b[0m\u001b[1;33m,\u001b[0m \u001b[0mimages_so_far\u001b[0m\u001b[1;33m)\u001b[0m\u001b[1;33m\u001b[0m\u001b[1;33m\u001b[0m\u001b[0m\n\u001b[0;32m     18\u001b[0m                 \u001b[0max\u001b[0m\u001b[1;33m.\u001b[0m\u001b[0maxis\u001b[0m\u001b[1;33m(\u001b[0m\u001b[1;34m'off'\u001b[0m\u001b[1;33m)\u001b[0m\u001b[1;33m\u001b[0m\u001b[1;33m\u001b[0m\u001b[0m\n\u001b[1;32m---> 19\u001b[1;33m                 \u001b[0max\u001b[0m\u001b[1;33m.\u001b[0m\u001b[0mset_title\u001b[0m\u001b[1;33m(\u001b[0m\u001b[1;34m'predicted: {}'\u001b[0m\u001b[1;33m.\u001b[0m\u001b[0mformat\u001b[0m\u001b[1;33m(\u001b[0m\u001b[0mclass_names\u001b[0m\u001b[1;33m[\u001b[0m\u001b[0mpreds\u001b[0m\u001b[1;33m[\u001b[0m\u001b[0mj\u001b[0m\u001b[1;33m]\u001b[0m\u001b[1;33m]\u001b[0m\u001b[1;33m)\u001b[0m\u001b[1;33m)\u001b[0m\u001b[1;33m\u001b[0m\u001b[1;33m\u001b[0m\u001b[0m\n\u001b[0m\u001b[0;32m     20\u001b[0m                 \u001b[0mimshow\u001b[0m\u001b[1;33m(\u001b[0m\u001b[0minputs\u001b[0m\u001b[1;33m.\u001b[0m\u001b[0mcpu\u001b[0m\u001b[1;33m(\u001b[0m\u001b[1;33m)\u001b[0m\u001b[1;33m.\u001b[0m\u001b[0mdata\u001b[0m\u001b[1;33m[\u001b[0m\u001b[0mj\u001b[0m\u001b[1;33m]\u001b[0m\u001b[1;33m)\u001b[0m\u001b[1;33m\u001b[0m\u001b[1;33m\u001b[0m\u001b[0m\n\u001b[0;32m     21\u001b[0m \u001b[1;33m\u001b[0m\u001b[0m\n",
      "\u001b[1;31mNameError\u001b[0m: name 'class_names' is not defined"
     ]
    },
    {
     "data": {
      "image/png": "[encoded data removed]",
      "text/plain": [
       "<Figure size 432x288 with 1 Axes>"
      ]
     },
     "metadata": {
      "needs_background": "light"
     },
     "output_type": "display_data"
    }
   ],
   "source": [
    "visualize_model(model, 4)"
   ]
  }
 ],
 "metadata": {
  "kernelspec": {
   "display_name": "Python 3",
   "language": "python",
   "name": "python3"
  },
  "language_info": {
   "codemirror_mode": {
    "name": "ipython",
    "version": 3
   },
   "file_extension": ".py",
   "mimetype": "text/x-python",
   "name": "python",
   "nbconvert_exporter": "python",
   "pygments_lexer": "ipython3",
   "version": "3.7.4"
  },
  "latex_envs": {
   "LaTeX_envs_menu_present": true,
   "autoclose": false,
   "autocomplete": true,
   "bibliofile": "biblio.bib",
   "cite_by": "apalike",
   "current_citInitial": 1,
   "eqLabelWithNumbers": true,
   "eqNumInitial": 1,
   "hotkeys": {
    "equation": "Ctrl-E",
    "itemize": "Ctrl-I"
   },
   "labels_anchors": false,
   "latex_user_defs": false,
   "report_style_numbering": false,
   "user_envs_cfg": false
  },
  "varInspector": {
   "cols": {
    "lenName": 16,
    "lenType": 16,
    "lenVar": 40
   },
   "kernels_config": {
    "python": {
     "delete_cmd_postfix": "",
     "delete_cmd_prefix": "del ",
     "library": "var_list.py",
     "varRefreshCmd": "print(var_dic_list())"
    },
    "r": {
     "delete_cmd_postfix": ") ",
     "delete_cmd_prefix": "rm(",
     "library": "var_list.r",
     "varRefreshCmd": "cat(var_dic_list()) "
    }
   },
   "position": {
    "height": "526.726px",
    "left": "854.368px",
    "right": "20px",
    "top": "120px",
    "width": "421.087px"
   },
   "types_to_exclude": [
    "module",
    "function",
    "builtin_function_or_method",
    "instance",
    "_Feature"
   ],
   "window_display": false
  }
 },
 "nbformat": 4,
 "nbformat_minor": 2
}
