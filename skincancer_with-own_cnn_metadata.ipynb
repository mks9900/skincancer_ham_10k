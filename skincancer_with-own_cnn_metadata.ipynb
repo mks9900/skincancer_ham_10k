{
 "cells": [
  {
   "cell_type": "markdown",
   "metadata": {},
   "source": [
    "# Skincancer HAM-dataset using Pytorch"
   ]
  },
  {
   "cell_type": "markdown",
   "metadata": {},
   "source": [
    "### Standardimporter"
   ]
  },
  {
   "cell_type": "code",
   "execution_count": 1,
   "metadata": {},
   "outputs": [],
   "source": [
    "import torch\n",
    "import torch.nn as nn\n",
    "import torch.nn.functional as F\n",
    "from torch.utils.data import DataLoader, Dataset\n",
    "from torchvision import datasets, transforms\n",
    "from torchvision.utils import make_grid\n",
    "from torch.utils.data import WeightedRandomSampler\n",
    "\n",
    "import os\n",
    "from PIL import Image\n",
    "# from skimage import io, transform\n",
    "\n",
    "import numpy as np\n",
    "import pandas as pd\n",
    "\n",
    "from sklearn.preprocessing import LabelEncoder\n",
    "from sklearn.metrics import confusion_matrix, classification_report\n",
    "from sklearn.model_selection import train_test_split\n",
    "\n",
    "import matplotlib.pyplot as plt\n",
    "%matplotlib inline"
   ]
  },
  {
   "cell_type": "code",
   "execution_count": 2,
   "metadata": {},
   "outputs": [
    {
     "data": {
      "text/plain": [
       "'LC_CTYPE=en_US.UTF-8;LC_NUMERIC=sv_SE.UTF-8;LC_TIME=sv_SE.UTF-8;LC_COLLATE=en_US.UTF-8;LC_MONETARY=sv_SE.UTF-8;LC_MESSAGES=en_US.UTF-8;LC_PAPER=sv_SE.UTF-8;LC_NAME=sv_SE.UTF-8;LC_ADDRESS=sv_SE.UTF-8;LC_TELEPHONE=sv_SE.UTF-8;LC_MEASUREMENT=sv_SE.UTF-8;LC_IDENTIFICATION=sv_SE.UTF-8'"
      ]
     },
     "execution_count": 2,
     "metadata": {},
     "output_type": "execute_result"
    }
   ],
   "source": [
    "# Nedan används om man t.ex. vill ha tusentalsavgränsare:\n",
    "import locale\n",
    "locale.setlocale(locale.LC_ALL, '')"
   ]
  },
  {
   "cell_type": "markdown",
   "metadata": {},
   "source": [
    "## Hjälpfunktioner"
   ]
  },
  {
   "cell_type": "code",
   "execution_count": 3,
   "metadata": {},
   "outputs": [],
   "source": [
    "def create_filename(filename):\n",
    "    global file_name\n",
    "    file_name = filename + \"_e\" + str(epochs) + \"_bsz\" + str(batchsz) + \\\n",
    "            \"_lr\" + str(f'{learning_rate:.0e}')\n",
    "    return file_name"
   ]
  },
  {
   "cell_type": "code",
   "execution_count": 4,
   "metadata": {},
   "outputs": [],
   "source": [
    "# https://pytorch.org/docs/master/notes/serialization.html\n",
    "\n",
    "def save_trained_model(modelname):\n",
    "    model_folder = \"trained_models\"\n",
    "    model_file_suffix = \".pt\"\n",
    "    create_filename(modelname) # spottar ur sig ett filnamn i variabeln \"file_name\"\n",
    "    \n",
    "    full_model_filename = model_folder + \"/\" + file_name + model_file_suffix\n",
    "    \n",
    "    torch.save(mult_model.state_dict(), full_model_filename)"
   ]
  },
  {
   "cell_type": "code",
   "execution_count": 5,
   "metadata": {},
   "outputs": [],
   "source": [
    "def load_trained_model(modelname):\n",
    "    model_folder = \"trained_models\"\n",
    "    model_file_suffix = \".pt\"\n",
    "    create_filename(modelname) # spottar ur sig ett filnamn i variabeln \"file_name\"\n",
    "    \n",
    "    full_model_filename = model_folder + \"/\" + file_name + model_file_suffix\n",
    "    \n",
    "    if torch.cuda.is_available():\n",
    "        model.load_state_dict(torch.load(full_model_filename))\n",
    "    else:\n",
    "        model.load_state_dict(torch.load(full_model_filename, map_location=torch.device('cpu')))"
   ]
  },
  {
   "cell_type": "code",
   "execution_count": 6,
   "metadata": {},
   "outputs": [],
   "source": [
    "# Följande återställer modellens vikter\n",
    "# mellan körningar:\n",
    "\n",
    "# usage: model.apply(weights_init)\n",
    "\n",
    "def weights_init(m):\n",
    "    if isinstance(m, nn.Conv2d):\n",
    "        torch.nn.init.xavier_uniform_(m.weight.data)"
   ]
  },
  {
   "cell_type": "markdown",
   "metadata": {},
   "source": [
    "## Importera data och definiera sökvägar"
   ]
  },
  {
   "cell_type": "code",
   "execution_count": 7,
   "metadata": {},
   "outputs": [],
   "source": [
    "homePath = os.path.dirname(\"/home/johan/coding/\")\n",
    "# print(homePath) ---> /home/johan/Dropbox/coding\n",
    "\n",
    "basePath = homePath + \"/\" +\"ml/Datasets/skin-cancer-mnist-ham10000/images_in_one\"\n",
    "# print(basePath) ---> /home/johan/Dropbox/coding/ml/Datasets/skin-cancer-mnist-ham10000/\n",
    "\n",
    "imageFolder = \"images_per_label_splitted_sets\"\n",
    "\n",
    "metadataSkincancerFilename =  \"../../../ml/Datasets/skin-cancer-mnist-ham10000/csv/HAM10000_metadata.csv\""
   ]
  },
  {
   "cell_type": "code",
   "execution_count": 8,
   "metadata": {},
   "outputs": [],
   "source": [
    "# Importera metadatan i en Pandas DataFrame:\n",
    "\n",
    "skincancer_df = pd.read_csv(metadataSkincancerFilename)"
   ]
  },
  {
   "cell_type": "markdown",
   "metadata": {},
   "source": [
    "## Utforska och bearbeta vårt data"
   ]
  },
  {
   "cell_type": "code",
   "execution_count": 9,
   "metadata": {},
   "outputs": [
    {
     "data": {
      "text/plain": [
       "lesion_id        0\n",
       "image_id         0\n",
       "dx               0\n",
       "dx_type          0\n",
       "age             57\n",
       "sex              0\n",
       "localization     0\n",
       "dtype: int64"
      ]
     },
     "execution_count": 9,
     "metadata": {},
     "output_type": "execute_result"
    }
   ],
   "source": [
    "# Kolla om vi har några noll-värden i vår Dataframe:\n",
    "\n",
    "skincancer_df.isnull().sum()"
   ]
  },
  {
   "cell_type": "code",
   "execution_count": 10,
   "metadata": {},
   "outputs": [],
   "source": [
    "# Enligt ovan är det bara i \"age\"-kolumnen som vi har noll-värden. \n",
    "# Dessa fyller vi ut genom att beräkna medevärdet:\n",
    "\n",
    "skincancer_df['age'].fillna((skincancer_df['age'].mean()), inplace=True)"
   ]
  },
  {
   "cell_type": "code",
   "execution_count": 11,
   "metadata": {},
   "outputs": [],
   "source": [
    "# Definiera var vi har våra labels:\n",
    "\n",
    "labels = skincancer_df['dx']\n",
    "num_classes = len(labels.unique()) # --> 7"
   ]
  },
  {
   "cell_type": "code",
   "execution_count": 12,
   "metadata": {},
   "outputs": [],
   "source": [
    "# Innan vi fortsätter måste vi göra om \n",
    "# text-datan till numeriska features.\n",
    "\n",
    "# 1. Flytta labels sist i df\n",
    "# 2. Flytta age till efter image_id\n",
    "# 3. Alla categorical features emellan.\n",
    "\n",
    "skincancer_df = skincancer_df[['lesion_id', 'image_id', 'age', 'dx_type', 'sex', 'localization', 'dx']]"
   ]
  },
  {
   "cell_type": "code",
   "execution_count": 13,
   "metadata": {},
   "outputs": [
    {
     "data": {
      "text/plain": [
       "histo        5340\n",
       "follow_up    3704\n",
       "consensus     902\n",
       "confocal       69\n",
       "Name: dx_type, dtype: int64"
      ]
     },
     "execution_count": 13,
     "metadata": {},
     "output_type": "execute_result"
    }
   ],
   "source": [
    "dxtype_feat_df = skincancer_df.iloc[:, 3]\n",
    "dxtype_feat_df.value_counts()"
   ]
  },
  {
   "cell_type": "code",
   "execution_count": 14,
   "metadata": {},
   "outputs": [
    {
     "data": {
      "text/plain": [
       "male       5406\n",
       "female     4552\n",
       "unknown      57\n",
       "Name: sex, dtype: int64"
      ]
     },
     "execution_count": 14,
     "metadata": {},
     "output_type": "execute_result"
    }
   ],
   "source": [
    "sex_feat_df = skincancer_df.iloc[:, 4]\n",
    "sex_feat_df.value_counts()"
   ]
  },
  {
   "cell_type": "code",
   "execution_count": 15,
   "metadata": {},
   "outputs": [
    {
     "data": {
      "text/plain": [
       "back               2192\n",
       "lower extremity    2077\n",
       "trunk              1404\n",
       "upper extremity    1118\n",
       "abdomen            1022\n",
       "face                745\n",
       "chest               407\n",
       "foot                319\n",
       "unknown             234\n",
       "neck                168\n",
       "scalp               128\n",
       "hand                 90\n",
       "ear                  56\n",
       "genital              48\n",
       "acral                 7\n",
       "Name: localization, dtype: int64"
      ]
     },
     "execution_count": 15,
     "metadata": {},
     "output_type": "execute_result"
    }
   ],
   "source": [
    "loc_feat_df = skincancer_df.iloc[:, 5]\n",
    "loc_feat_df.value_counts()"
   ]
  },
  {
   "cell_type": "code",
   "execution_count": 16,
   "metadata": {},
   "outputs": [
    {
     "data": {
      "text/plain": [
       "nv       6705\n",
       "mel      1113\n",
       "bkl      1099\n",
       "bcc       514\n",
       "akiec     327\n",
       "vasc      142\n",
       "df        115\n",
       "Name: dx, dtype: int64"
      ]
     },
     "execution_count": 16,
     "metadata": {},
     "output_type": "execute_result"
    }
   ],
   "source": [
    "label_df = skincancer_df.iloc[:, 6]\n",
    "label_df.value_counts()"
   ]
  },
  {
   "cell_type": "code",
   "execution_count": 17,
   "metadata": {},
   "outputs": [
    {
     "data": {
      "text/plain": [
       "(array([  69.,    0.,    0.,  902.,    0.,    0., 3704.,    0.,    0.,\n",
       "        5340.]),\n",
       " array([0. , 0.3, 0.6, 0.9, 1.2, 1.5, 1.8, 2.1, 2.4, 2.7, 3. ]),\n",
       " <a list of 10 Patch objects>)"
      ]
     },
     "execution_count": 17,
     "metadata": {},
     "output_type": "execute_result"
    },
    {
     "data": {
      "image/png": "[encoded data removed]",
      "text/plain": [
       "<Figure size 432x288 with 1 Axes>"
      ]
     },
     "metadata": {
      "needs_background": "light"
     },
     "output_type": "display_data"
    }
   ],
   "source": [
    "le = LabelEncoder()\n",
    "dxtype_feat = le.fit_transform(dxtype_feat_df)\n",
    "plt.hist(dxtype_feat)"
   ]
  },
  {
   "cell_type": "code",
   "execution_count": 18,
   "metadata": {},
   "outputs": [
    {
     "data": {
      "text/plain": [
       "(array([1029., 2192.,  463.,  745.,  319.,  138., 2077.,  296., 1404.,\n",
       "        1352.]),\n",
       " array([ 0. ,  1.4,  2.8,  4.2,  5.6,  7. ,  8.4,  9.8, 11.2, 12.6, 14. ]),\n",
       " <a list of 10 Patch objects>)"
      ]
     },
     "execution_count": 18,
     "metadata": {},
     "output_type": "execute_result"
    },
    {
     "data": {
      "image/png": "[encoded data removed]",
      "text/plain": [
       "<Figure size 432x288 with 1 Axes>"
      ]
     },
     "metadata": {
      "needs_background": "light"
     },
     "output_type": "display_data"
    }
   ],
   "source": [
    "loc_feat = le.fit_transform(loc_feat_df)\n",
    "plt.hist(loc_feat)"
   ]
  },
  {
   "cell_type": "code",
   "execution_count": 19,
   "metadata": {},
   "outputs": [
    {
     "data": {
      "text/plain": [
       "(array([4552.,    0.,    0.,    0.,    0., 5406.,    0.,    0.,    0.,\n",
       "          57.]),\n",
       " array([0. , 0.2, 0.4, 0.6, 0.8, 1. , 1.2, 1.4, 1.6, 1.8, 2. ]),\n",
       " <a list of 10 Patch objects>)"
      ]
     },
     "execution_count": 19,
     "metadata": {},
     "output_type": "execute_result"
    },
    {
     "data": {
      "image/png": "[encoded data removed]",
      "text/plain": [
       "<Figure size 432x288 with 1 Axes>"
      ]
     },
     "metadata": {
      "needs_background": "light"
     },
     "output_type": "display_data"
    }
   ],
   "source": [
    "sex_feat = le.fit_transform(sex_feat_df)\n",
    "plt.hist(sex_feat)"
   ]
  },
  {
   "cell_type": "code",
   "execution_count": 20,
   "metadata": {},
   "outputs": [
    {
     "data": {
      "text/plain": [
       "(array([ 327.,  514.,    0., 1099.,    0.,  115., 1113.,    0., 6705.,\n",
       "         142.]),\n",
       " array([0. , 0.6, 1.2, 1.8, 2.4, 3. , 3.6, 4.2, 4.8, 5.4, 6. ]),\n",
       " <a list of 10 Patch objects>)"
      ]
     },
     "execution_count": 20,
     "metadata": {},
     "output_type": "execute_result"
    },
    {
     "data": {
      "image/png": "[encoded data removed]",
      "text/plain": [
       "<Figure size 432x288 with 1 Axes>"
      ]
     },
     "metadata": {
      "needs_background": "light"
     },
     "output_type": "display_data"
    }
   ],
   "source": [
    "labels = le.fit_transform(label_df)\n",
    "plt.hist(labels)"
   ]
  },
  {
   "cell_type": "code",
   "execution_count": 21,
   "metadata": {},
   "outputs": [],
   "source": [
    "le_skincancer_df = skincancer_df.copy()\n",
    "del skincancer_df"
   ]
  },
  {
   "cell_type": "code",
   "execution_count": 22,
   "metadata": {},
   "outputs": [
    {
     "data": {
      "text/html": [
       "<div>\n",
       "<style scoped>\n",
       "    .dataframe tbody tr th:only-of-type {\n",
       "        vertical-align: middle;\n",
       "    }\n",
       "\n",
       "    .dataframe tbody tr th {\n",
       "        vertical-align: top;\n",
       "    }\n",
       "\n",
       "    .dataframe thead th {\n",
       "        text-align: right;\n",
       "    }\n",
       "</style>\n",
       "<table border=\"1\" class=\"dataframe\">\n",
       "  <thead>\n",
       "    <tr style=\"text-align: right;\">\n",
       "      <th></th>\n",
       "      <th>lesion_id</th>\n",
       "      <th>image_id</th>\n",
       "      <th>age</th>\n",
       "      <th>sex</th>\n",
       "      <th>dxtype</th>\n",
       "      <th>loc</th>\n",
       "      <th>label</th>\n",
       "    </tr>\n",
       "  </thead>\n",
       "  <tbody>\n",
       "    <tr>\n",
       "      <th>0</th>\n",
       "      <td>HAM_0000118</td>\n",
       "      <td>ISIC_0027419</td>\n",
       "      <td>80.0</td>\n",
       "      <td>1</td>\n",
       "      <td>3</td>\n",
       "      <td>11</td>\n",
       "      <td>2</td>\n",
       "    </tr>\n",
       "    <tr>\n",
       "      <th>1</th>\n",
       "      <td>HAM_0000118</td>\n",
       "      <td>ISIC_0025030</td>\n",
       "      <td>80.0</td>\n",
       "      <td>1</td>\n",
       "      <td>3</td>\n",
       "      <td>11</td>\n",
       "      <td>2</td>\n",
       "    </tr>\n",
       "    <tr>\n",
       "      <th>2</th>\n",
       "      <td>HAM_0002730</td>\n",
       "      <td>ISIC_0026769</td>\n",
       "      <td>80.0</td>\n",
       "      <td>1</td>\n",
       "      <td>3</td>\n",
       "      <td>11</td>\n",
       "      <td>2</td>\n",
       "    </tr>\n",
       "    <tr>\n",
       "      <th>3</th>\n",
       "      <td>HAM_0002730</td>\n",
       "      <td>ISIC_0025661</td>\n",
       "      <td>80.0</td>\n",
       "      <td>1</td>\n",
       "      <td>3</td>\n",
       "      <td>11</td>\n",
       "      <td>2</td>\n",
       "    </tr>\n",
       "    <tr>\n",
       "      <th>4</th>\n",
       "      <td>HAM_0001466</td>\n",
       "      <td>ISIC_0031633</td>\n",
       "      <td>75.0</td>\n",
       "      <td>1</td>\n",
       "      <td>3</td>\n",
       "      <td>4</td>\n",
       "      <td>2</td>\n",
       "    </tr>\n",
       "  </tbody>\n",
       "</table>\n",
       "</div>"
      ],
      "text/plain": [
       "     lesion_id      image_id   age  sex  dxtype  loc  label\n",
       "0  HAM_0000118  ISIC_0027419  80.0    1       3   11      2\n",
       "1  HAM_0000118  ISIC_0025030  80.0    1       3   11      2\n",
       "2  HAM_0002730  ISIC_0026769  80.0    1       3   11      2\n",
       "3  HAM_0002730  ISIC_0025661  80.0    1       3   11      2\n",
       "4  HAM_0001466  ISIC_0031633  75.0    1       3    4      2"
      ]
     },
     "execution_count": 22,
     "metadata": {},
     "output_type": "execute_result"
    }
   ],
   "source": [
    "le_skincancer_df['dxtype'] = dxtype_feat\n",
    "le_skincancer_df['sex'] = sex_feat\n",
    "le_skincancer_df['loc'] = loc_feat\n",
    "le_skincancer_df['label'] = labels\n",
    "le_skincancer_df.drop(columns=['localization', 'dx_type', 'dx'], inplace = True)\n",
    "le_skincancer_df.head()"
   ]
  },
  {
   "cell_type": "code",
   "execution_count": 23,
   "metadata": {},
   "outputs": [],
   "source": [
    "# Vi normaliserar metadata-features\n",
    "# innan vi skickar in det till Pytorch \n",
    "# för träning:\n",
    "\n",
    "from sklearn.preprocessing import MinMaxScaler\n",
    "\n",
    "scaler = MinMaxScaler()"
   ]
  },
  {
   "cell_type": "code",
   "execution_count": 24,
   "metadata": {},
   "outputs": [],
   "source": [
    "le_skincancer_df[['age', 'dxtype', 'loc']] = scaler.fit_transform(le_skincancer_df[['age', 'dxtype', 'loc']])"
   ]
  },
  {
   "cell_type": "code",
   "execution_count": 25,
   "metadata": {},
   "outputs": [],
   "source": [
    "le_skincancer_df.drop(columns='lesion_id', axis = 1, inplace=True)"
   ]
  },
  {
   "cell_type": "code",
   "execution_count": 26,
   "metadata": {},
   "outputs": [
    {
     "data": {
      "text/html": [
       "<div>\n",
       "<style scoped>\n",
       "    .dataframe tbody tr th:only-of-type {\n",
       "        vertical-align: middle;\n",
       "    }\n",
       "\n",
       "    .dataframe tbody tr th {\n",
       "        vertical-align: top;\n",
       "    }\n",
       "\n",
       "    .dataframe thead th {\n",
       "        text-align: right;\n",
       "    }\n",
       "</style>\n",
       "<table border=\"1\" class=\"dataframe\">\n",
       "  <thead>\n",
       "    <tr style=\"text-align: right;\">\n",
       "      <th></th>\n",
       "      <th>image_id</th>\n",
       "      <th>age</th>\n",
       "      <th>sex</th>\n",
       "      <th>dxtype</th>\n",
       "      <th>loc</th>\n",
       "      <th>label</th>\n",
       "    </tr>\n",
       "  </thead>\n",
       "  <tbody>\n",
       "    <tr>\n",
       "      <th>0</th>\n",
       "      <td>ISIC_0027419</td>\n",
       "      <td>0.941176</td>\n",
       "      <td>1</td>\n",
       "      <td>1.0</td>\n",
       "      <td>0.785714</td>\n",
       "      <td>2</td>\n",
       "    </tr>\n",
       "    <tr>\n",
       "      <th>1</th>\n",
       "      <td>ISIC_0025030</td>\n",
       "      <td>0.941176</td>\n",
       "      <td>1</td>\n",
       "      <td>1.0</td>\n",
       "      <td>0.785714</td>\n",
       "      <td>2</td>\n",
       "    </tr>\n",
       "    <tr>\n",
       "      <th>2</th>\n",
       "      <td>ISIC_0026769</td>\n",
       "      <td>0.941176</td>\n",
       "      <td>1</td>\n",
       "      <td>1.0</td>\n",
       "      <td>0.785714</td>\n",
       "      <td>2</td>\n",
       "    </tr>\n",
       "    <tr>\n",
       "      <th>3</th>\n",
       "      <td>ISIC_0025661</td>\n",
       "      <td>0.941176</td>\n",
       "      <td>1</td>\n",
       "      <td>1.0</td>\n",
       "      <td>0.785714</td>\n",
       "      <td>2</td>\n",
       "    </tr>\n",
       "    <tr>\n",
       "      <th>4</th>\n",
       "      <td>ISIC_0031633</td>\n",
       "      <td>0.882353</td>\n",
       "      <td>1</td>\n",
       "      <td>1.0</td>\n",
       "      <td>0.285714</td>\n",
       "      <td>2</td>\n",
       "    </tr>\n",
       "  </tbody>\n",
       "</table>\n",
       "</div>"
      ],
      "text/plain": [
       "       image_id       age  sex  dxtype       loc  label\n",
       "0  ISIC_0027419  0.941176    1     1.0  0.785714      2\n",
       "1  ISIC_0025030  0.941176    1     1.0  0.785714      2\n",
       "2  ISIC_0026769  0.941176    1     1.0  0.785714      2\n",
       "3  ISIC_0025661  0.941176    1     1.0  0.785714      2\n",
       "4  ISIC_0031633  0.882353    1     1.0  0.285714      2"
      ]
     },
     "execution_count": 26,
     "metadata": {},
     "output_type": "execute_result"
    }
   ],
   "source": [
    "le_skincancer_df.head(n = 5)"
   ]
  },
  {
   "cell_type": "code",
   "execution_count": 27,
   "metadata": {},
   "outputs": [],
   "source": [
    "features_df = le_skincancer_df.iloc[:, :5]"
   ]
  },
  {
   "cell_type": "code",
   "execution_count": 28,
   "metadata": {},
   "outputs": [],
   "source": [
    "labels_df = le_skincancer_df.iloc[:, 5:]"
   ]
  },
  {
   "cell_type": "markdown",
   "metadata": {},
   "source": [
    "## Bygg en egen dataloader-klass för bilder och Pandas-dataframe"
   ]
  },
  {
   "cell_type": "code",
   "execution_count": 29,
   "metadata": {},
   "outputs": [],
   "source": [
    "class SkinCancerHamDF(Dataset):\n",
    "\n",
    "    def __init__(self, features_df, labels_df, root_dir, transform = None):\n",
    "\n",
    "        self.features_df = features_df\n",
    "        self.labels_df = labels_df\n",
    "        self.root_dir = root_dir\n",
    "        self.transform = transform\n",
    "\n",
    "    def __len__(self):\n",
    "        return len(self.features_df)\n",
    "\n",
    "    def __getitem__(self, idx):\n",
    "        if torch.is_tensor(idx):\n",
    "            idx = idx.tolist()\n",
    "\n",
    "        img_name = self.features_df.iloc[idx, 0]\n",
    "        #print(type(img_name))\n",
    "        img_name = str(img_name)\n",
    "        #print(type(img_name))\n",
    "        \n",
    "        full_img_name_woext = os.path.join(self.root_dir, \\\n",
    "                                img_name)\n",
    "        \n",
    "        full_img_name = full_img_name_woext + \".jpg\"\n",
    "        \n",
    "        # pillow:\n",
    "        image = Image.open(full_img_name)\n",
    "        \n",
    "        # labels:\n",
    "        label = self.labels_df.iloc[idx]\n",
    "        label_np = np.array([label], dtype = int)\n",
    "        \n",
    "        # features:\n",
    "        metadata = self.features_df.iloc[idx, 1:5]\n",
    "        metadata_np = np.array([metadata], dtype = float)\n",
    "        \n",
    "        # Skapar en batch utan transforms:\n",
    "        sample = {'image': image, \\\n",
    "                  'metadata': metadata_np, \\\n",
    "                  'label': label_np}\n",
    "\n",
    "        # Skapar en batch med transforms:\n",
    "        if self.transform:\n",
    "            sample = {'image': self.transform(image), \\\n",
    "                      'metadata': metadata_np, \\\n",
    "                      'label': label_np.flatten()}\n",
    "\n",
    "        return sample"
   ]
  },
  {
   "cell_type": "code",
   "execution_count": 30,
   "metadata": {},
   "outputs": [],
   "source": [
    "# Definiera en batch-storlek:\n",
    "batchsz = 2**5\n",
    "\n",
    "# Definiera vilken augmentation som ska göras:\n",
    "train_data_transform = transforms.Compose([\n",
    "                                           transforms.Resize([224, 224]),\\\n",
    "                                           transforms.ToTensor(), \n",
    "                                           transforms.Normalize(mean = [0.485, 0.456, 0.406],\n",
    "                                                                std = [0.229, 0.224, 0.225])\n",
    "                                           ])\n",
    "\n",
    "val_data_transform = transforms.Compose([\n",
    "                                           transforms.Resize([224, 224]),\\\n",
    "                                           transforms.ToTensor(), \\\n",
    "                                           transforms.Normalize(mean = [0.485, 0.456, 0.406],\n",
    "                                                                std = [0.229, 0.224, 0.225])\n",
    "                                           ])"
   ]
  },
  {
   "cell_type": "markdown",
   "metadata": {},
   "source": [
    "### Dela upp i tränings- och valideringsdata"
   ]
  },
  {
   "cell_type": "code",
   "execution_count": 31,
   "metadata": {},
   "outputs": [],
   "source": [
    "features_train, features_val, labels_train, labels_val = train_test_split(features_df, \\\n",
    "                                                                          labels_df, \\\n",
    "                                                                          test_size = 0.3, \\\n",
    "                                                                          shuffle = True)"
   ]
  },
  {
   "cell_type": "code",
   "execution_count": 32,
   "metadata": {},
   "outputs": [],
   "source": [
    "ham10k_train = SkinCancerHamDF(features_df = features_train, \\\n",
    "                               labels_df = labels_train, \\\n",
    "                               root_dir = basePath, \\\n",
    "                               transform = train_data_transform)"
   ]
  },
  {
   "cell_type": "code",
   "execution_count": 33,
   "metadata": {},
   "outputs": [],
   "source": [
    "ham10k_val = SkinCancerHamDF(features_df = features_val, \\\n",
    "                             labels_df = labels_val, \\\n",
    "                             root_dir = basePath, \\\n",
    "                             transform = val_data_transform)"
   ]
  },
  {
   "cell_type": "code",
   "execution_count": 34,
   "metadata": {},
   "outputs": [],
   "source": [
    "ham10k_train_generator = DataLoader(ham10k_train, \\\n",
    "                                    batch_size = batchsz, \\\n",
    "                                    num_workers = 4, \\\n",
    "                                    pin_memory = True, \\\n",
    "                                    )"
   ]
  },
  {
   "cell_type": "code",
   "execution_count": 35,
   "metadata": {},
   "outputs": [],
   "source": [
    "ham10k_val_generator = DataLoader(ham10k_val, \\\n",
    "                                  batch_size = batchsz, \\\n",
    "                                  pin_memory = True, \\\n",
    "                                  num_workers = 4, \\\n",
    "                                  )"
   ]
  },
  {
   "cell_type": "code",
   "execution_count": 169,
   "metadata": {},
   "outputs": [],
   "source": [
    "# Test för att oversampla vissa klasser...\n",
    "# https://discuss.pytorch.org/t/how-to-implement-oversampling-in-cifar-10/16964/6\n",
    "\n",
    "train_targets = labels_train.values\n",
    "class_count = np.unique(train_targets, return_counts=True)[1]\n",
    "#print(\"Antal bilder per klass = \", class_count, \"\\n\")\n",
    "\n",
    "# Testa att köra med 1 / sevenones för att se en obalanserad, vanlig, loader\n",
    "# och med 1 / class_count för att se hur det balanserade resultatet blir:\n",
    "\n",
    "# sevenones = np.ones(7)\n",
    "# weight = 1 / sevenones\n",
    "weight = 1. / class_count\n",
    "samples_weight = weight[train_targets]\n",
    "samples_weight = torch.from_numpy(samples_weight)\n",
    "\n",
    "# Replacement = True ger dragning med återläggning, vilket vi ska ha, \n",
    "# annars kommer de mindre klasserna \"ta slut\" i dragningen:\n",
    "sampler = WeightedRandomSampler(samples_weight, len(samples_weight), replacement=True)"
   ]
  },
  {
   "cell_type": "code",
   "execution_count": 170,
   "metadata": {},
   "outputs": [],
   "source": [
    "ham10k_train_weighted_generator = DataLoader(ham10k_train, \\\n",
    "                                    batch_size = batchsz, \\\n",
    "                                    #num_workers = 4, \\\n",
    "                                    sampler = sampler, \\\n",
    "                                    pin_memory = True, \\\n",
    "                                    )"
   ]
  },
  {
   "cell_type": "code",
   "execution_count": 172,
   "metadata": {
    "collapsed": true
   },
   "outputs": [
    {
     "ename": "OSError",
     "evalue": "[Errno 36] File name too long: '/home/johan/Dropbox/coding/ml/Datasets/skin-cancer-mnist-ham10000/images_in_one/5796    ISIC_0031768\\n5796    ISIC_0031768\\n5796    ISIC_0031768\\n5796    ISIC_0031768\\n5796    ISIC_0031768\\n            ...     \\n5796    ISIC_0031768\\n5796    ISIC_0031768\\n5796    ISIC_0031768\\n5796    ISIC_0031768\\n5796    ISIC_0031768\\nName: image_id, Length: 7010, dtype: object.jpg'",
     "output_type": "error",
     "traceback": [
      "\u001b[0;31m---------------------------------------------------------------------------\u001b[0m",
      "\u001b[0;31mOSError\u001b[0m                                   Traceback (most recent call last)",
      "\u001b[0;32m<ipython-input-172-0a92d90341e8>\u001b[0m in \u001b[0;36m<module>\u001b[0;34m\u001b[0m\n\u001b[0;32m----> 1\u001b[0;31m \u001b[0;32mfor\u001b[0m \u001b[0mitems\u001b[0m \u001b[0;32min\u001b[0m \u001b[0mham10k_train_weighted_generator\u001b[0m\u001b[0;34m:\u001b[0m\u001b[0;34m\u001b[0m\u001b[0;34m\u001b[0m\u001b[0m\n\u001b[0m\u001b[1;32m      2\u001b[0m     \u001b[0mprint\u001b[0m\u001b[0;34m(\u001b[0m\u001b[0mitems\u001b[0m\u001b[0;34m)\u001b[0m\u001b[0;34m\u001b[0m\u001b[0;34m\u001b[0m\u001b[0m\n\u001b[1;32m      3\u001b[0m     \u001b[0;32mbreak\u001b[0m\u001b[0;34m\u001b[0m\u001b[0;34m\u001b[0m\u001b[0m\n",
      "\u001b[0;32m~/anaconda3/envs/pytorch_general/lib/python3.7/site-packages/torch/utils/data/dataloader.py\u001b[0m in \u001b[0;36m__next__\u001b[0;34m(self)\u001b[0m\n\u001b[1;32m    344\u001b[0m     \u001b[0;32mdef\u001b[0m \u001b[0m__next__\u001b[0m\u001b[0;34m(\u001b[0m\u001b[0mself\u001b[0m\u001b[0;34m)\u001b[0m\u001b[0;34m:\u001b[0m\u001b[0;34m\u001b[0m\u001b[0;34m\u001b[0m\u001b[0m\n\u001b[1;32m    345\u001b[0m         \u001b[0mindex\u001b[0m \u001b[0;34m=\u001b[0m \u001b[0mself\u001b[0m\u001b[0;34m.\u001b[0m\u001b[0m_next_index\u001b[0m\u001b[0;34m(\u001b[0m\u001b[0;34m)\u001b[0m  \u001b[0;31m# may raise StopIteration\u001b[0m\u001b[0;34m\u001b[0m\u001b[0;34m\u001b[0m\u001b[0m\n\u001b[0;32m--> 346\u001b[0;31m         \u001b[0mdata\u001b[0m \u001b[0;34m=\u001b[0m \u001b[0mself\u001b[0m\u001b[0;34m.\u001b[0m\u001b[0m_dataset_fetcher\u001b[0m\u001b[0;34m.\u001b[0m\u001b[0mfetch\u001b[0m\u001b[0;34m(\u001b[0m\u001b[0mindex\u001b[0m\u001b[0;34m)\u001b[0m  \u001b[0;31m# may raise StopIteration\u001b[0m\u001b[0;34m\u001b[0m\u001b[0;34m\u001b[0m\u001b[0m\n\u001b[0m\u001b[1;32m    347\u001b[0m         \u001b[0;32mif\u001b[0m \u001b[0mself\u001b[0m\u001b[0;34m.\u001b[0m\u001b[0m_pin_memory\u001b[0m\u001b[0;34m:\u001b[0m\u001b[0;34m\u001b[0m\u001b[0;34m\u001b[0m\u001b[0m\n\u001b[1;32m    348\u001b[0m             \u001b[0mdata\u001b[0m \u001b[0;34m=\u001b[0m \u001b[0m_utils\u001b[0m\u001b[0;34m.\u001b[0m\u001b[0mpin_memory\u001b[0m\u001b[0;34m.\u001b[0m\u001b[0mpin_memory\u001b[0m\u001b[0;34m(\u001b[0m\u001b[0mdata\u001b[0m\u001b[0;34m)\u001b[0m\u001b[0;34m\u001b[0m\u001b[0;34m\u001b[0m\u001b[0m\n",
      "\u001b[0;32m~/anaconda3/envs/pytorch_general/lib/python3.7/site-packages/torch/utils/data/_utils/fetch.py\u001b[0m in \u001b[0;36mfetch\u001b[0;34m(self, possibly_batched_index)\u001b[0m\n\u001b[1;32m     42\u001b[0m     \u001b[0;32mdef\u001b[0m \u001b[0mfetch\u001b[0m\u001b[0;34m(\u001b[0m\u001b[0mself\u001b[0m\u001b[0;34m,\u001b[0m \u001b[0mpossibly_batched_index\u001b[0m\u001b[0;34m)\u001b[0m\u001b[0;34m:\u001b[0m\u001b[0;34m\u001b[0m\u001b[0;34m\u001b[0m\u001b[0m\n\u001b[1;32m     43\u001b[0m         \u001b[0;32mif\u001b[0m \u001b[0mself\u001b[0m\u001b[0;34m.\u001b[0m\u001b[0mauto_collation\u001b[0m\u001b[0;34m:\u001b[0m\u001b[0;34m\u001b[0m\u001b[0;34m\u001b[0m\u001b[0m\n\u001b[0;32m---> 44\u001b[0;31m             \u001b[0mdata\u001b[0m \u001b[0;34m=\u001b[0m \u001b[0;34m[\u001b[0m\u001b[0mself\u001b[0m\u001b[0;34m.\u001b[0m\u001b[0mdataset\u001b[0m\u001b[0;34m[\u001b[0m\u001b[0midx\u001b[0m\u001b[0;34m]\u001b[0m \u001b[0;32mfor\u001b[0m \u001b[0midx\u001b[0m \u001b[0;32min\u001b[0m \u001b[0mpossibly_batched_index\u001b[0m\u001b[0;34m]\u001b[0m\u001b[0;34m\u001b[0m\u001b[0;34m\u001b[0m\u001b[0m\n\u001b[0m\u001b[1;32m     45\u001b[0m         \u001b[0;32melse\u001b[0m\u001b[0;34m:\u001b[0m\u001b[0;34m\u001b[0m\u001b[0;34m\u001b[0m\u001b[0m\n\u001b[1;32m     46\u001b[0m             \u001b[0mdata\u001b[0m \u001b[0;34m=\u001b[0m \u001b[0mself\u001b[0m\u001b[0;34m.\u001b[0m\u001b[0mdataset\u001b[0m\u001b[0;34m[\u001b[0m\u001b[0mpossibly_batched_index\u001b[0m\u001b[0;34m]\u001b[0m\u001b[0;34m\u001b[0m\u001b[0;34m\u001b[0m\u001b[0m\n",
      "\u001b[0;32m~/anaconda3/envs/pytorch_general/lib/python3.7/site-packages/torch/utils/data/_utils/fetch.py\u001b[0m in \u001b[0;36m<listcomp>\u001b[0;34m(.0)\u001b[0m\n\u001b[1;32m     42\u001b[0m     \u001b[0;32mdef\u001b[0m \u001b[0mfetch\u001b[0m\u001b[0;34m(\u001b[0m\u001b[0mself\u001b[0m\u001b[0;34m,\u001b[0m \u001b[0mpossibly_batched_index\u001b[0m\u001b[0;34m)\u001b[0m\u001b[0;34m:\u001b[0m\u001b[0;34m\u001b[0m\u001b[0;34m\u001b[0m\u001b[0m\n\u001b[1;32m     43\u001b[0m         \u001b[0;32mif\u001b[0m \u001b[0mself\u001b[0m\u001b[0;34m.\u001b[0m\u001b[0mauto_collation\u001b[0m\u001b[0;34m:\u001b[0m\u001b[0;34m\u001b[0m\u001b[0;34m\u001b[0m\u001b[0m\n\u001b[0;32m---> 44\u001b[0;31m             \u001b[0mdata\u001b[0m \u001b[0;34m=\u001b[0m \u001b[0;34m[\u001b[0m\u001b[0mself\u001b[0m\u001b[0;34m.\u001b[0m\u001b[0mdataset\u001b[0m\u001b[0;34m[\u001b[0m\u001b[0midx\u001b[0m\u001b[0;34m]\u001b[0m \u001b[0;32mfor\u001b[0m \u001b[0midx\u001b[0m \u001b[0;32min\u001b[0m \u001b[0mpossibly_batched_index\u001b[0m\u001b[0;34m]\u001b[0m\u001b[0;34m\u001b[0m\u001b[0;34m\u001b[0m\u001b[0m\n\u001b[0m\u001b[1;32m     45\u001b[0m         \u001b[0;32melse\u001b[0m\u001b[0;34m:\u001b[0m\u001b[0;34m\u001b[0m\u001b[0;34m\u001b[0m\u001b[0m\n\u001b[1;32m     46\u001b[0m             \u001b[0mdata\u001b[0m \u001b[0;34m=\u001b[0m \u001b[0mself\u001b[0m\u001b[0;34m.\u001b[0m\u001b[0mdataset\u001b[0m\u001b[0;34m[\u001b[0m\u001b[0mpossibly_batched_index\u001b[0m\u001b[0;34m]\u001b[0m\u001b[0;34m\u001b[0m\u001b[0;34m\u001b[0m\u001b[0m\n",
      "\u001b[0;32m<ipython-input-145-23529358f125>\u001b[0m in \u001b[0;36m__getitem__\u001b[0;34m(self, idx)\u001b[0m\n\u001b[1;32m     26\u001b[0m \u001b[0;34m\u001b[0m\u001b[0m\n\u001b[1;32m     27\u001b[0m         \u001b[0;31m# pillow:\u001b[0m\u001b[0;34m\u001b[0m\u001b[0;34m\u001b[0m\u001b[0;34m\u001b[0m\u001b[0m\n\u001b[0;32m---> 28\u001b[0;31m         \u001b[0mimage\u001b[0m \u001b[0;34m=\u001b[0m \u001b[0mImage\u001b[0m\u001b[0;34m.\u001b[0m\u001b[0mopen\u001b[0m\u001b[0;34m(\u001b[0m\u001b[0mfull_img_name\u001b[0m\u001b[0;34m)\u001b[0m\u001b[0;34m\u001b[0m\u001b[0;34m\u001b[0m\u001b[0m\n\u001b[0m\u001b[1;32m     29\u001b[0m \u001b[0;34m\u001b[0m\u001b[0m\n\u001b[1;32m     30\u001b[0m         \u001b[0;31m# labels:\u001b[0m\u001b[0;34m\u001b[0m\u001b[0;34m\u001b[0m\u001b[0;34m\u001b[0m\u001b[0m\n",
      "\u001b[0;32m~/anaconda3/envs/pytorch_general/lib/python3.7/site-packages/PIL/Image.py\u001b[0m in \u001b[0;36mopen\u001b[0;34m(fp, mode)\u001b[0m\n\u001b[1;32m   2764\u001b[0m \u001b[0;34m\u001b[0m\u001b[0m\n\u001b[1;32m   2765\u001b[0m     \u001b[0;32mif\u001b[0m \u001b[0mfilename\u001b[0m\u001b[0;34m:\u001b[0m\u001b[0;34m\u001b[0m\u001b[0;34m\u001b[0m\u001b[0m\n\u001b[0;32m-> 2766\u001b[0;31m         \u001b[0mfp\u001b[0m \u001b[0;34m=\u001b[0m \u001b[0mbuiltins\u001b[0m\u001b[0;34m.\u001b[0m\u001b[0mopen\u001b[0m\u001b[0;34m(\u001b[0m\u001b[0mfilename\u001b[0m\u001b[0;34m,\u001b[0m \u001b[0;34m\"rb\"\u001b[0m\u001b[0;34m)\u001b[0m\u001b[0;34m\u001b[0m\u001b[0;34m\u001b[0m\u001b[0m\n\u001b[0m\u001b[1;32m   2767\u001b[0m         \u001b[0mexclusive_fp\u001b[0m \u001b[0;34m=\u001b[0m \u001b[0;32mTrue\u001b[0m\u001b[0;34m\u001b[0m\u001b[0;34m\u001b[0m\u001b[0m\n\u001b[1;32m   2768\u001b[0m \u001b[0;34m\u001b[0m\u001b[0m\n",
      "\u001b[0;31mOSError\u001b[0m: [Errno 36] File name too long: '/home/johan/Dropbox/coding/ml/Datasets/skin-cancer-mnist-ham10000/images_in_one/5796    ISIC_0031768\\n5796    ISIC_0031768\\n5796    ISIC_0031768\\n5796    ISIC_0031768\\n5796    ISIC_0031768\\n            ...     \\n5796    ISIC_0031768\\n5796    ISIC_0031768\\n5796    ISIC_0031768\\n5796    ISIC_0031768\\n5796    ISIC_0031768\\nName: image_id, Length: 7010, dtype: object.jpg'"
     ]
    }
   ],
   "source": [
    "for items in ham10k_train_weighted_generator:\n",
    "    print(items)\n",
    "    break"
   ]
  },
  {
   "cell_type": "code",
   "execution_count": 36,
   "metadata": {},
   "outputs": [
    {
     "name": "stdout",
     "output_type": "stream",
     "text": [
      "cuda:0\n"
     ]
    }
   ],
   "source": [
    "# Flytta till grafikkortet:\n",
    "\n",
    "use_cuda = torch.cuda.is_available() # True/False\n",
    "device = torch.device(\"cuda:0\" if use_cuda else \"cpu\")\n",
    "print(device)\n",
    "\n",
    "# Override:\n",
    "# device = \"cpu\""
   ]
  },
  {
   "cell_type": "markdown",
   "metadata": {},
   "source": [
    "## Hur blir tensor-storlekarna när de flödar genom ett nät?"
   ]
  },
  {
   "cell_type": "code",
   "execution_count": 37,
   "metadata": {},
   "outputs": [
    {
     "name": "stdout",
     "output_type": "stream",
     "text": [
      "Ursprunglig storlek:  torch.Size([32, 3, 224, 224])\n"
     ]
    }
   ],
   "source": [
    "# Hämta en batch för att skicka igenom\n",
    "# ett nätverk:\n",
    "\n",
    "for x in ham10k_train_generator:\n",
    "    x = x['image']\n",
    "    print(\"Ursprunglig storlek: \", x.shape)\n",
    "    break"
   ]
  },
  {
   "cell_type": "code",
   "execution_count": 38,
   "metadata": {},
   "outputs": [
    {
     "name": "stdout",
     "output_type": "stream",
     "text": [
      "Efter Conv2d(3, 16, 5, 2):  torch.Size([32, 16, 221, 221])\n"
     ]
    }
   ],
   "source": [
    "x = nn.Conv2d(in_channels = 3, out_channels = 16, kernel_size = 4, stride = 1, padding = 0)(x)\n",
    "print(\"Efter Conv2d(3, 16, 5, 2): \", x.shape)"
   ]
  },
  {
   "cell_type": "code",
   "execution_count": 39,
   "metadata": {},
   "outputs": [
    {
     "name": "stdout",
     "output_type": "stream",
     "text": [
      "Efter Pooling, kernel_size = 2, stride = 2 så blir storleken:  torch.Size([32, 16, 110, 110])\n"
     ]
    }
   ],
   "source": [
    "x = nn.MaxPool2d(kernel_size = 2, stride = 2)(x)\n",
    "print(\"Efter Pooling, kernel_size = 2, stride = 2 så blir storleken: \", x.shape)"
   ]
  },
  {
   "cell_type": "code",
   "execution_count": 40,
   "metadata": {},
   "outputs": [
    {
     "name": "stdout",
     "output_type": "stream",
     "text": [
      "torch.Size([32, 64, 105, 105])\n"
     ]
    }
   ],
   "source": [
    "x = nn.Conv2d(16, 64, 6, 1, 0)(x)\n",
    "print(x.shape)"
   ]
  },
  {
   "cell_type": "code",
   "execution_count": 41,
   "metadata": {},
   "outputs": [
    {
     "name": "stdout",
     "output_type": "stream",
     "text": [
      "torch.Size([32, 64, 52, 52])\n"
     ]
    }
   ],
   "source": [
    "x = nn.MaxPool2d(2, 2)(x)\n",
    "print(x.shape)"
   ]
  },
  {
   "cell_type": "code",
   "execution_count": 42,
   "metadata": {},
   "outputs": [
    {
     "name": "stdout",
     "output_type": "stream",
     "text": [
      "torch.Size([32, 128, 24, 24])\n"
     ]
    }
   ],
   "source": [
    "x = nn.Conv2d(64, 128, 5, 2, 0)(x)\n",
    "print(x.shape)"
   ]
  },
  {
   "cell_type": "code",
   "execution_count": 43,
   "metadata": {},
   "outputs": [
    {
     "name": "stdout",
     "output_type": "stream",
     "text": [
      "torch.Size([32, 128, 12, 12])\n"
     ]
    }
   ],
   "source": [
    "x = nn.MaxPool2d(2, 2)(x)\n",
    "print(x.shape)"
   ]
  },
  {
   "cell_type": "code",
   "execution_count": 44,
   "metadata": {},
   "outputs": [
    {
     "name": "stdout",
     "output_type": "stream",
     "text": [
      "torch.Size([32, 256, 10, 10])\n"
     ]
    }
   ],
   "source": [
    "x = nn.Conv2d(128, 256, 3, 1, 0)(x)\n",
    "print(x.shape)"
   ]
  },
  {
   "cell_type": "code",
   "execution_count": 45,
   "metadata": {},
   "outputs": [
    {
     "name": "stdout",
     "output_type": "stream",
     "text": [
      "torch.Size([32, 256, 5, 5])\n"
     ]
    }
   ],
   "source": [
    "x = nn.MaxPool2d(2, 2)(x)\n",
    "print(x.shape)"
   ]
  },
  {
   "cell_type": "code",
   "execution_count": 46,
   "metadata": {},
   "outputs": [
    {
     "data": {
      "text/plain": [
       "32"
      ]
     },
     "execution_count": 46,
     "metadata": {},
     "output_type": "execute_result"
    }
   ],
   "source": [
    "x.size(0) # batchsz"
   ]
  },
  {
   "cell_type": "code",
   "execution_count": 47,
   "metadata": {},
   "outputs": [
    {
     "data": {
      "text/plain": [
       "torch.Size([32, 6400])"
      ]
     },
     "execution_count": 47,
     "metadata": {},
     "output_type": "execute_result"
    }
   ],
   "source": [
    "x.view(x.size(0), -1).shape\n",
    "# alternativt eftersom vi vet batchsz:\n",
    "# x.view(batchsz, -1)"
   ]
  },
  {
   "cell_type": "markdown",
   "metadata": {},
   "source": [
    "## Bygg ett eget CNN-nät:"
   ]
  },
  {
   "cell_type": "code",
   "execution_count": 48,
   "metadata": {},
   "outputs": [],
   "source": [
    "# W_out = (W_in - Kernel_Filtersz + 2*padding) / stride + 1\n",
    "# Avrundas neråt.\n",
    "\n",
    "metadata_input_dim = features_df.shape[1] -1 # första kolumnen är bildnamnet..."
   ]
  },
  {
   "cell_type": "code",
   "execution_count": 49,
   "metadata": {},
   "outputs": [],
   "source": [
    "class MultInput(nn.Module):\n",
    "    def __init__(self):\n",
    "        super(MultInput, self).__init__()\n",
    "        self.image_layer1 = nn.Sequential(\n",
    "            nn.Conv2d(3, 16, 4, 1, 0), # (in, out, kernelsz, stride, padding) 224 --> 221 px\n",
    "            nn.MaxPool2d(2), # 221 --> 110 px\n",
    "            nn.ReLU(),\n",
    "        )\n",
    "        \n",
    "        self.image_layer2 = nn.Sequential(\n",
    "            nn.Conv2d(16, 64, 6, 1, 0), # (in, out, kernelsz, stride) 110 --> 105 px\n",
    "            nn.MaxPool2d(2), # 105 --> 52 px\n",
    "            nn.ReLU(),\n",
    "        )\n",
    "        \n",
    "        self.image_layer3 = nn.Sequential(\n",
    "            nn.Conv2d(64, 128, 5, 2, 0), # (in, out, kernelsz, stride) 52 -->  24 px\n",
    "            nn.MaxPool2d(2), # 24 --> 12 px\n",
    "            nn.ReLU(),\n",
    "        )\n",
    "        \n",
    "        self.image_layer4 = nn.Sequential(\n",
    "            nn.Conv2d(128, 256, 3, 1, 0), # (in, out, kernelsz, stride) 12 -->  10 px\n",
    "            nn.MaxPool2d(2), # 10 --> 5 px\n",
    "            nn.ReLU(),\n",
    "        )\n",
    "\n",
    "        #self.metadata_layer = nn.Sequential(\n",
    "        #    nn.Linear(4, 64),\n",
    "        #    nn.ReLU(),\n",
    "        #)\n",
    "\n",
    "        self.classifier = nn.Sequential(\n",
    "            nn.Linear(5*5*256 + metadata_input_dim, 512),\n",
    "            nn.Linear(512, 256),\n",
    "            nn.Linear(256, 64),\n",
    "            nn.Dropout(p = 0.3),\n",
    "            nn.Linear(64, num_classes),\n",
    "            )\n",
    "        \n",
    "    def forward(self, x1, x2):\n",
    "        x1 = self.image_layer1(x1)\n",
    "        x1 = self.image_layer2(x1)\n",
    "        x1 = nn.Dropout(p = 0.3)(x1)\n",
    "        x1 = self.image_layer3(x1)\n",
    "        x1 = self.image_layer4(x1)\n",
    "        x1 = nn.Dropout(p = 0.3)(x1)\n",
    "        \n",
    "        #x2 = self.metadata_layer(x2)\n",
    "\n",
    "        x1 = x1.view(x1.size(0), -1)\n",
    "        x2 = x2.view(x2.size(0), -1)\n",
    "        x = torch.cat((x1, x2), dim = 1)\n",
    "        x = self.classifier(x)\n",
    "        \n",
    "        return F.log_softmax(x, dim = 1)"
   ]
  },
  {
   "cell_type": "code",
   "execution_count": 65,
   "metadata": {},
   "outputs": [],
   "source": [
    "# Med batchnorm och lite djupare:\n",
    "\n",
    "class MultInput(nn.Module):\n",
    "    def __init__(self):\n",
    "        super(MultInput, self).__init__()\n",
    "        self.image_layer1 = nn.Sequential(\n",
    "            nn.Conv2d(3, 16, 4, 1, 0), # (in, out, kernelsz, stride, padding) 224 --> 221 px\n",
    "            nn.BatchNorm2d(16), \n",
    "            nn.Conv2d(16, 32, 5, 1, 0), # 221 --> 217 px\n",
    "            nn.BatchNorm2d(32),\n",
    "            nn.ReLU(),\n",
    "        )\n",
    "        \n",
    "        self.image_layer2 = nn.Sequential(\n",
    "            nn.Conv2d(32, 64, 5, 2, 0), # (in, out, kernelsz, stride) 217 --> 107 px\n",
    "            nn.BatchNorm2d(64),\n",
    "            nn.Conv2d(64, 96, 5, 1, 0), # 107 --> 103 px\n",
    "            nn.BatchNorm2d(96),\n",
    "            nn.ReLU(),\n",
    "        )\n",
    "        \n",
    "        self.image_layer3 = nn.Sequential(\n",
    "            nn.Conv2d(96, 96, 5, 2, 0), # (in, out, kernelsz, stride) 103 -->  50 px\n",
    "            nn.BatchNorm2d(96),\n",
    "            nn.Conv2d(96, 128, 5, 1, 0), # 46\n",
    "            nn.ReLU(),\n",
    "        )\n",
    "        \n",
    "        self.image_layer4 = nn.Sequential(\n",
    "            nn.Conv2d(128, 128, 3, 2, 0), # (in, out, kernelsz, stride) 46 -->  22 px\n",
    "            nn.BatchNorm2d(128),\n",
    "            nn.Conv2d(128, 256, 3, 2, 0), # 22 --> 10 px\n",
    "            nn.BatchNorm2d(256),\n",
    "            nn.ReLU(),\n",
    "        )\n",
    "\n",
    "        #self.metadata_layer = nn.Sequential(\n",
    "        #    nn.Linear(4, 64),\n",
    "        #    nn.ReLU(),\n",
    "        #)\n",
    "\n",
    "        self.classifier = nn.Sequential(\n",
    "            nn.Linear(10*10*256 + metadata_input_dim, 512),\n",
    "            nn.Linear(512, 256),\n",
    "            nn.Dropout(p = 0.3),\n",
    "            nn.Linear(256, 64),\n",
    "            nn.Dropout(p = 0.3),\n",
    "            nn.Linear(64, num_classes),\n",
    "            )\n",
    "        \n",
    "    def forward(self, x1, x2):\n",
    "        x1 = self.image_layer1(x1)\n",
    "        x1 = self.image_layer2(x1)\n",
    "        #x1 = nn.Dropout(p = 0.3)(x1)\n",
    "        x1 = self.image_layer3(x1)\n",
    "        x1 = self.image_layer4(x1)\n",
    "        #x1 = nn.Dropout(p = 0.3)(x1)\n",
    "        \n",
    "        #x2 = self.metadata_layer(x2)\n",
    "\n",
    "        x1 = x1.view(x1.size(0), -1)\n",
    "        x2 = x2.view(x2.size(0), -1)\n",
    "        x = torch.cat((x1, x2), dim = 1)\n",
    "        x = self.classifier(x)\n",
    "        \n",
    "        #return F.log_softmax(x, dim = 1)\n",
    "        return x\n",
    "    "
   ]
  },
  {
   "cell_type": "code",
   "execution_count": 66,
   "metadata": {},
   "outputs": [
    {
     "data": {
      "text/plain": [
       "MultInput(\n",
       "  (image_layer1): Sequential(\n",
       "    (0): Conv2d(3, 16, kernel_size=(4, 4), stride=(1, 1))\n",
       "    (1): BatchNorm2d(16, eps=1e-05, momentum=0.1, affine=True, track_running_stats=True)\n",
       "    (2): Conv2d(16, 32, kernel_size=(5, 5), stride=(1, 1))\n",
       "    (3): BatchNorm2d(32, eps=1e-05, momentum=0.1, affine=True, track_running_stats=True)\n",
       "    (4): ReLU()\n",
       "  )\n",
       "  (image_layer2): Sequential(\n",
       "    (0): Conv2d(32, 64, kernel_size=(5, 5), stride=(2, 2))\n",
       "    (1): BatchNorm2d(64, eps=1e-05, momentum=0.1, affine=True, track_running_stats=True)\n",
       "    (2): Conv2d(64, 96, kernel_size=(5, 5), stride=(1, 1))\n",
       "    (3): BatchNorm2d(96, eps=1e-05, momentum=0.1, affine=True, track_running_stats=True)\n",
       "    (4): ReLU()\n",
       "  )\n",
       "  (image_layer3): Sequential(\n",
       "    (0): Conv2d(96, 96, kernel_size=(5, 5), stride=(2, 2))\n",
       "    (1): BatchNorm2d(96, eps=1e-05, momentum=0.1, affine=True, track_running_stats=True)\n",
       "    (2): Conv2d(96, 128, kernel_size=(5, 5), stride=(1, 1))\n",
       "    (3): ReLU()\n",
       "  )\n",
       "  (image_layer4): Sequential(\n",
       "    (0): Conv2d(128, 128, kernel_size=(3, 3), stride=(2, 2))\n",
       "    (1): BatchNorm2d(128, eps=1e-05, momentum=0.1, affine=True, track_running_stats=True)\n",
       "    (2): Conv2d(128, 256, kernel_size=(3, 3), stride=(2, 2))\n",
       "    (3): BatchNorm2d(256, eps=1e-05, momentum=0.1, affine=True, track_running_stats=True)\n",
       "    (4): ReLU()\n",
       "  )\n",
       "  (classifier): Sequential(\n",
       "    (0): Linear(in_features=25604, out_features=512, bias=True)\n",
       "    (1): Linear(in_features=512, out_features=256, bias=True)\n",
       "    (2): Dropout(p=0.3, inplace=False)\n",
       "    (3): Linear(in_features=256, out_features=64, bias=True)\n",
       "    (4): Dropout(p=0.3, inplace=False)\n",
       "    (5): Linear(in_features=64, out_features=7, bias=True)\n",
       "  )\n",
       ")"
      ]
     },
     "execution_count": 66,
     "metadata": {},
     "output_type": "execute_result"
    }
   ],
   "source": [
    "# Definiera en instans av CNN():\n",
    "mult_model = MultInput()\n",
    "\n",
    "# Flytta till rätt device för träning:\n",
    "mult_model.to(device)"
   ]
  },
  {
   "cell_type": "code",
   "execution_count": 67,
   "metadata": {},
   "outputs": [
    {
     "data": {
      "text/plain": [
       "True"
      ]
     },
     "execution_count": 67,
     "metadata": {},
     "output_type": "execute_result"
    }
   ],
   "source": [
    "# Dubbelkolla att modellen flyttats till \n",
    "# grafikkortet eller ej (True/False):\n",
    "\n",
    "next(mult_model.parameters()).is_cuda"
   ]
  },
  {
   "cell_type": "code",
   "execution_count": 68,
   "metadata": {},
   "outputs": [
    {
     "name": "stdout",
     "output_type": "stream",
     "text": [
      "Antalet träningsbara parametrar är 14 458 519 st\n"
     ]
    }
   ],
   "source": [
    "# Hur många parametrar har modellen\n",
    "# att träna?\n",
    "\n",
    "trainableparameters = []\n",
    "for param in mult_model.parameters():\n",
    "    # trainableparameters = param.numel()\n",
    "    trainableparameters.append(param.numel())\n",
    "\n",
    "tot_params = np.sum(trainableparameters)\n",
    "\n",
    "print(f'Antalet träningsbara parametrar är {tot_params:n} st')"
   ]
  },
  {
   "cell_type": "markdown",
   "metadata": {},
   "source": [
    "### Återställ nätets vikter"
   ]
  },
  {
   "cell_type": "code",
   "execution_count": 69,
   "metadata": {},
   "outputs": [
    {
     "data": {
      "text/plain": [
       "MultInput(\n",
       "  (image_layer1): Sequential(\n",
       "    (0): Conv2d(3, 16, kernel_size=(4, 4), stride=(1, 1))\n",
       "    (1): BatchNorm2d(16, eps=1e-05, momentum=0.1, affine=True, track_running_stats=True)\n",
       "    (2): Conv2d(16, 32, kernel_size=(5, 5), stride=(1, 1))\n",
       "    (3): BatchNorm2d(32, eps=1e-05, momentum=0.1, affine=True, track_running_stats=True)\n",
       "    (4): ReLU()\n",
       "  )\n",
       "  (image_layer2): Sequential(\n",
       "    (0): Conv2d(32, 64, kernel_size=(5, 5), stride=(2, 2))\n",
       "    (1): BatchNorm2d(64, eps=1e-05, momentum=0.1, affine=True, track_running_stats=True)\n",
       "    (2): Conv2d(64, 96, kernel_size=(5, 5), stride=(1, 1))\n",
       "    (3): BatchNorm2d(96, eps=1e-05, momentum=0.1, affine=True, track_running_stats=True)\n",
       "    (4): ReLU()\n",
       "  )\n",
       "  (image_layer3): Sequential(\n",
       "    (0): Conv2d(96, 96, kernel_size=(5, 5), stride=(2, 2))\n",
       "    (1): BatchNorm2d(96, eps=1e-05, momentum=0.1, affine=True, track_running_stats=True)\n",
       "    (2): Conv2d(96, 128, kernel_size=(5, 5), stride=(1, 1))\n",
       "    (3): ReLU()\n",
       "  )\n",
       "  (image_layer4): Sequential(\n",
       "    (0): Conv2d(128, 128, kernel_size=(3, 3), stride=(2, 2))\n",
       "    (1): BatchNorm2d(128, eps=1e-05, momentum=0.1, affine=True, track_running_stats=True)\n",
       "    (2): Conv2d(128, 256, kernel_size=(3, 3), stride=(2, 2))\n",
       "    (3): BatchNorm2d(256, eps=1e-05, momentum=0.1, affine=True, track_running_stats=True)\n",
       "    (4): ReLU()\n",
       "  )\n",
       "  (classifier): Sequential(\n",
       "    (0): Linear(in_features=25604, out_features=512, bias=True)\n",
       "    (1): Linear(in_features=512, out_features=256, bias=True)\n",
       "    (2): Dropout(p=0.3, inplace=False)\n",
       "    (3): Linear(in_features=256, out_features=64, bias=True)\n",
       "    (4): Dropout(p=0.3, inplace=False)\n",
       "    (5): Linear(in_features=64, out_features=7, bias=True)\n",
       "  )\n",
       ")"
      ]
     },
     "execution_count": 69,
     "metadata": {},
     "output_type": "execute_result"
    }
   ],
   "source": [
    "mult_model.apply(weights_init)"
   ]
  },
  {
   "cell_type": "markdown",
   "metadata": {},
   "source": [
    "### Loss och optimiser"
   ]
  },
  {
   "cell_type": "code",
   "execution_count": 80,
   "metadata": {},
   "outputs": [],
   "source": [
    "# Definiera loss-function och vilken optimerare som ska användas:\n",
    "\n",
    "epochs = 25 # verkar räcka med tanke på overfitting.\n",
    "\n",
    "learning_rate = 1e-4\n",
    "\n",
    "criterion = nn.CrossEntropyLoss()\n",
    "optimizer = torch.optim.Adam(mult_model.parameters(), lr = learning_rate)"
   ]
  },
  {
   "cell_type": "code",
   "execution_count": 81,
   "metadata": {},
   "outputs": [
    {
     "name": "stdout",
     "output_type": "stream",
     "text": [
      "multi_model_cnn_e25_bsz32_lr1e-04\n"
     ]
    }
   ],
   "source": [
    "modelname = create_filename(\"multi_model_cnn\")\n",
    "print(modelname)"
   ]
  },
  {
   "cell_type": "markdown",
   "metadata": {},
   "source": [
    "## Trainingloop:"
   ]
  },
  {
   "cell_type": "code",
   "execution_count": 82,
   "metadata": {
    "scrolled": true
   },
   "outputs": [
    {
     "name": "stdout",
     "output_type": "stream",
     "text": [
      "Epok 001, 57.3 sek. --- train acc = 0.693 --- val acc = 0.712 --- train loss = 0.86566 --- val loss = 0.80817\n",
      "Epok 002, 59.7 sek. --- train acc = 0.737 --- val acc = 0.711 --- train loss = 0.71903 --- val loss = 0.82153\n",
      "Epok 003, 60.8 sek. --- train acc = 0.757 --- val acc = 0.727 --- train loss = 0.66288 --- val loss = 0.79165\n",
      "Epok 004, 60.3 sek. --- train acc = 0.783 --- val acc = 0.714 --- train loss = 0.61319 --- val loss = 0.89796\n",
      "Epok 005, 58.2 sek. --- train acc = 0.805 --- val acc = 0.719 --- train loss = 0.55514 --- val loss = 0.84455\n",
      "Epok 006, 58.5 sek. --- train acc = 0.839 --- val acc = 0.710 --- train loss = 0.46159 --- val loss = 0.90749\n",
      "Epok 007, 58.2 sek. --- train acc = 0.872 --- val acc = 0.720 --- train loss = 0.36986 --- val loss = 1.00031\n",
      "Epok 008, 58.2 sek. --- train acc = 0.910 --- val acc = 0.701 --- train loss = 0.27313 --- val loss = 1.06205\n",
      "Epok 009, 58.4 sek. --- train acc = 0.928 --- val acc = 0.652 --- train loss = 0.22868 --- val loss = 1.43880\n",
      "Epok 010, 58.2 sek. --- train acc = 0.926 --- val acc = 0.695 --- train loss = 0.21939 --- val loss = 1.48432\n",
      "Epok 011, 58.3 sek. --- train acc = 0.937 --- val acc = 0.707 --- train loss = 0.18630 --- val loss = 1.38774\n",
      "Epok 012, 58.2 sek. --- train acc = 0.946 --- val acc = 0.719 --- train loss = 0.16205 --- val loss = 1.64251\n",
      "Epok 013, 58.3 sek. --- train acc = 0.953 --- val acc = 0.717 --- train loss = 0.14295 --- val loss = 1.68150\n",
      "Epok 014, 58.3 sek. --- train acc = 0.963 --- val acc = 0.708 --- train loss = 0.11502 --- val loss = 1.49239\n",
      "Epok 015, 58.1 sek. --- train acc = 0.973 --- val acc = 0.700 --- train loss = 0.09210 --- val loss = 1.48671\n",
      "Epok 016, 58.4 sek. --- train acc = 0.974 --- val acc = 0.705 --- train loss = 0.08574 --- val loss = 1.74693\n",
      "Epok 017, 61.3 sek. --- train acc = 0.977 --- val acc = 0.707 --- train loss = 0.07496 --- val loss = 1.82306\n",
      "Epok 018, 60.8 sek. --- train acc = 0.980 --- val acc = 0.704 --- train loss = 0.05690 --- val loss = 1.90268\n",
      "Epok 019, 58.8 sek. --- train acc = 0.985 --- val acc = 0.703 --- train loss = 0.06015 --- val loss = 2.13505\n",
      "Epok 020, 59.5 sek. --- train acc = 0.986 --- val acc = 0.713 --- train loss = 0.04704 --- val loss = 1.93283\n",
      "Epok 021, 59.1 sek. --- train acc = 0.988 --- val acc = 0.702 --- train loss = 0.03621 --- val loss = 1.97631\n",
      "Epok 022, 60.9 sek. --- train acc = 0.983 --- val acc = 0.686 --- train loss = 0.04829 --- val loss = 2.05107\n",
      "Epok 023, 59.5 sek. --- train acc = 0.966 --- val acc = 0.705 --- train loss = 0.13042 --- val loss = 1.95922\n",
      "Epok 024, 59.2 sek. --- train acc = 0.991 --- val acc = 0.703 --- train loss = 0.02937 --- val loss = 2.32729\n",
      "Epok 025, 61.3 sek. --- train acc = 0.992 --- val acc = 0.696 --- train loss = 0.02621 --- val loss = 2.39698\n",
      "\n",
      "Training took 24.63 minutes.\n"
     ]
    }
   ],
   "source": [
    "mult_model.apply(weights_init)\n",
    "\n",
    "do_validation = 1\n",
    "\n",
    "import time\n",
    "start_training_time = time.time()\n",
    "\n",
    "num_training_images = len(ham10k_train_generator.dataset)\n",
    "num_val_images = len(ham10k_val_generator.dataset)\n",
    "\n",
    "accuracy_train = []\n",
    "losses_train = []\n",
    "accuracy_val = []\n",
    "losses_val = []\n",
    "\n",
    "for epoch in range(epochs):\n",
    "    start_epoch_time = time.time()\n",
    "    \n",
    "    num_correct_per_epoch_train = 0\n",
    "    tot_loss_per_epoch_train = 0.0\n",
    " \n",
    "    for idx_train, inputs_train in enumerate(ham10k_train_generator):\n",
    "        images_train = inputs_train['image'].float().to(device)\n",
    "        metadata_train = inputs_train['metadata'].float().to(device)\n",
    "        labels_train = inputs_train['label'].flatten().to(device)\n",
    "        \n",
    "        mult_model.train()\n",
    "        # Låt modellen göra förutsägelser:\n",
    "        predictions_train = mult_model.forward(images_train, metadata_train)\n",
    "        \n",
    "        # Beräkna statistik från träningen på träningsmängden:\n",
    "        _, predicted_train = torch.max(predictions_train.data, 1)\n",
    "        num_correct_per_batch_train = torch.sum(predicted_train.detach() == labels_train.detach())\n",
    "        num_correct_per_epoch_train += num_correct_per_batch_train\n",
    "        \n",
    "        # Beräkna loss:\n",
    "        loss_per_batch_train = criterion(predictions_train, labels_train)\n",
    "        tot_loss_per_epoch_train += loss_per_batch_train.item() * batchsz\n",
    "        \n",
    "        # Nolla ackadumulerade gradienter, göra \n",
    "        # backprop. & uppdatera vår optimeringsfunktion:\n",
    "        optimizer.zero_grad()\n",
    "        loss_per_batch_train.backward()\n",
    "        optimizer.step()\n",
    "        \n",
    "    # Validation\n",
    "    if do_validation == True:\n",
    "        start_eval_time = time.time()\n",
    "        mult_model.eval()\n",
    "        \n",
    "        num_correct_per_epoch_val = 0\n",
    "        tot_loss_per_epoch_val = 0.0\n",
    "        \n",
    "        for idx_val, inputs_val in enumerate(ham10k_val_generator):\n",
    "            images_val = inputs_val['image'].float().to(device)\n",
    "            metadata_val = inputs_val['metadata'].float().to(device)\n",
    "            labels_val = inputs_val['label'].flatten().to(device)\n",
    "\n",
    "            with torch.no_grad():\n",
    "                            \n",
    "                predictions_val = mult_model.forward(images_val, metadata_val)\n",
    "                _, predicted_val = torch.max(predictions_val, 1)\n",
    "                # Behöver ej använda .detach med torch.no_grad()\n",
    "                num_correct_per_batch_val = torch.sum(predicted_val == labels_val)\n",
    "                #num_correct_per_batch_val = torch.sum(predicted_val.detach() == labels_val.detach())\n",
    "                num_correct_per_epoch_val += num_correct_per_batch_val\n",
    "                \n",
    "                loss_per_batch_val = criterion(predictions_val, labels_val) \n",
    "                tot_loss_per_epoch_val += loss_per_batch_val.item() * batchsz\n",
    "        \n",
    "        end_eval_time = time.time()\n",
    "    else:\n",
    "        pass\n",
    "    \n",
    "    # Beräkna statistik från epoken:\n",
    "    # Use torch.Tensor.item() to get a Python number \n",
    "    # from a tensor containing a single value:\n",
    "    \n",
    "    # acc, train:\n",
    "    accuracy_per_epoch_train = num_correct_per_epoch_train.item() / num_training_images\n",
    "    accuracy_train.append(accuracy_per_epoch_train)\n",
    "        \n",
    "    # loss, train:\n",
    "    loss_per_epoch_train = tot_loss_per_epoch_train / num_training_images\n",
    "    losses_train.append(loss_per_epoch_train)\n",
    "    \n",
    "    if do_validation == True:\n",
    "        # acc, val:\n",
    "        accuracy_per_epoch_val = num_correct_per_epoch_val.item() / num_val_images\n",
    "        accuracy_val.append(accuracy_per_epoch_val)\n",
    "        \n",
    "        # loss, val:\n",
    "        loss_per_epoch_val = tot_loss_per_epoch_val / num_val_images\n",
    "        losses_val.append(loss_per_epoch_val)\n",
    "    else:\n",
    "        pass\n",
    "    \n",
    "    end_epoch_time = time.time()\n",
    "    epoch_time = end_epoch_time - start_epoch_time\n",
    "    \n",
    "    # epoch startar på 0, därav \"+1\" nedan:\n",
    "    if do_validation == True:\n",
    "        print(f\"Epok {epoch+1:03}, {epoch_time:4.1f} sek. --- train acc = {accuracy_per_epoch_train:4.3f} --- val acc = {accuracy_per_epoch_val:4.3f} --- train loss = {loss_per_epoch_train:4.5f} --- val loss = {loss_per_epoch_val:4.5f}\")\n",
    "    else:\n",
    "        print(f\"Epok {epoch+1:03}, {epoch_time:4.1f} sek. --- train acc = {accuracy_per_epoch_train:4.3f} --- train loss = {loss_per_epoch_train:4.5f}\")\n",
    "    \n",
    "end_training_time = time.time()\n",
    "\n",
    "delta = end_training_time - start_training_time\n",
    "\n",
    "print(f'\\nTraining took {delta/60:.2f} minutes.')    "
   ]
  },
  {
   "cell_type": "code",
   "execution_count": 83,
   "metadata": {},
   "outputs": [],
   "source": [
    "save_trained_model(modelname)"
   ]
  },
  {
   "cell_type": "markdown",
   "metadata": {},
   "source": [
    "## Visualisering av träningsomgången"
   ]
  },
  {
   "cell_type": "code",
   "execution_count": 84,
   "metadata": {},
   "outputs": [
    {
     "data": {
      "image/png": "[encoded data removed]",
      "text/plain": [
       "<Figure size 864x504 with 1 Axes>"
      ]
     },
     "metadata": {
      "needs_background": "light"
     },
     "output_type": "display_data"
    }
   ],
   "source": [
    "if do_validation == False:\n",
    "\n",
    "    plt.figure(figsize = (12, 7))\n",
    "    plt.title(\"Visualisering träningsomgången\")\n",
    "    plt.plot(losses_train, label = \"Loss\")\n",
    "    plt.plot(accuracy_train, label = \"Andel korrekta\")\n",
    "    plt.legend()\n",
    "    plt.show()\n",
    "else:\n",
    "    plt.figure(figsize = (12, 7))\n",
    "    plt.title(\"Visualisering träningsomgången\")\n",
    "    plt.plot(losses_train, label = \"Loss, train\")\n",
    "    plt.plot(accuracy_train, label = \"Acc train\")\n",
    "    plt.plot(losses_val, label = \"Loss, validation\", linestyle='dashed')\n",
    "    plt.plot(accuracy_val, label = \"Acc validation\", linestyle='dashed')\n",
    "    plt.legend(loc = 'lower left')\n",
    "    plt.show()"
   ]
  },
  {
   "cell_type": "markdown",
   "metadata": {},
   "source": [
    "## Utvärdering"
   ]
  },
  {
   "cell_type": "code",
   "execution_count": 85,
   "metadata": {},
   "outputs": [],
   "source": [
    "def evaluate_model(num_eval_images, data_generator, model):\n",
    "\n",
    "    model.eval()\n",
    "\n",
    "    start_eval_test_time = time.time()\n",
    "    \n",
    "    global labels_val_true_np, predicted_val_np\n",
    "    \n",
    "    labels_ground_truth = []\n",
    "    predicted_classes_val = []\n",
    "    \n",
    "    with torch.no_grad():\n",
    "        correct_val = 0\n",
    "        # Antal iterationer = num_images / batchsz = x st.\n",
    "        for inputs in data_generator:\n",
    "            images = inputs['image'].float().to(device)\n",
    "            metadata = inputs['metadata'].float().to(device)\n",
    "            labels = inputs['label'].flatten().to(device)\n",
    "            \n",
    "            # Spara för mer utvärdering utanför denna funktion:\n",
    "            labels_ground_truth.append(labels.cpu().numpy())\n",
    "        \n",
    "            # Låt modellen göra förutsägelser:\n",
    "            predictions_val = mult_model.forward(images, metadata)\n",
    "            _, predicted_val = torch.max(input = predictions_val, dim = 1)\n",
    "            predicted_classes_val.append(predicted_val.cpu().numpy())\n",
    "            \n",
    "            correct_val += (predicted_val == labels).sum()\n",
    "\n",
    "        # Platta till listorna...\n",
    "        labels_ground_truth = [item for sublist in labels_ground_truth for item in sublist]\n",
    "        predicted_classes_val = [item for sublist in predicted_classes_val for item in sublist]\n",
    "        \n",
    "        #flat_list = []\n",
    "        #for sublist in predicted_classes_val:\n",
    "        #    for item in sublist:\n",
    "        #        flat_list.append(item)\n",
    "        \n",
    "        labels_val_true_np = np.array(labels_ground_truth)\n",
    "        predicted_val_np = np.array(predicted_classes_val)        \n",
    "        \n",
    "        end_eval_test_time = time.time()\n",
    "        eval_test_time = end_eval_test_time - start_eval_test_time\n",
    "\n",
    "    print(f'Test accuracy: {correct_val.item()}/{num_eval_images} = {100*correct_val.item()/(num_eval_images):5.2f} %')\n",
    "    print(f\"\\nEvaluation took {eval_test_time:.2f} seconds.\")"
   ]
  },
  {
   "cell_type": "code",
   "execution_count": 86,
   "metadata": {},
   "outputs": [
    {
     "name": "stdout",
     "output_type": "stream",
     "text": [
      "Test accuracy: 2090/3005 = 69.55 %\n",
      "\n",
      "Evaluation took 12.85 seconds.\n"
     ]
    }
   ],
   "source": [
    "evaluate_model(len(ham10k_val_generator.dataset), ham10k_val_generator, mult_model)"
   ]
  },
  {
   "cell_type": "code",
   "execution_count": 87,
   "metadata": {},
   "outputs": [],
   "source": [
    "cm_pytorch = confusion_matrix(labels_val_true_np, predicted_val_np)"
   ]
  },
  {
   "cell_type": "code",
   "execution_count": 88,
   "metadata": {},
   "outputs": [
    {
     "name": "stdout",
     "output_type": "stream",
     "text": [
      "[[  14   10   21    5   12   34    0]\n",
      " [  13   33   19    7   15   57    0]\n",
      " [   9    8  104    5   43  170    1]\n",
      " [   1    2   10   11    0   17    0]\n",
      " [   9    1   41    1   78  213    1]\n",
      " [   3    9   75    6   64 1835    3]\n",
      " [   1    8    1    1    3   16   15]]\n"
     ]
    }
   ],
   "source": [
    "print(cm_pytorch)"
   ]
  },
  {
   "cell_type": "code",
   "execution_count": 89,
   "metadata": {},
   "outputs": [
    {
     "name": "stdout",
     "output_type": "stream",
     "text": [
      "              precision    recall  f1-score   support\n",
      "\n",
      "           0       0.28      0.15      0.19        96\n",
      "           1       0.46      0.23      0.31       144\n",
      "           2       0.38      0.31      0.34       340\n",
      "           3       0.31      0.27      0.29        41\n",
      "           4       0.36      0.23      0.28       344\n",
      "           5       0.78      0.92      0.85      1995\n",
      "           6       0.75      0.33      0.46        45\n",
      "\n",
      "    accuracy                           0.70      3005\n",
      "   macro avg       0.48      0.35      0.39      3005\n",
      "weighted avg       0.65      0.70      0.66      3005\n",
      "\n"
     ]
    }
   ],
   "source": [
    "print(classification_report(labels_val_true_np, predicted_val_np))"
   ]
  }
 ],
 "metadata": {
  "kernelspec": {
   "display_name": "pytorch_general",
   "language": "python",
   "name": "pytorch_general"
  },
  "language_info": {
   "codemirror_mode": {
    "name": "ipython",
    "version": 3
   },
   "file_extension": ".py",
   "mimetype": "text/x-python",
   "name": "python",
   "nbconvert_exporter": "python",
   "pygments_lexer": "ipython3",
   "version": "3.7.6"
  },
  "latex_envs": {
   "LaTeX_envs_menu_present": true,
   "autoclose": false,
   "autocomplete": true,
   "bibliofile": "biblio.bib",
   "cite_by": "apalike",
   "current_citInitial": 1,
   "eqLabelWithNumbers": true,
   "eqNumInitial": 1,
   "hotkeys": {
    "equation": "Ctrl-E",
    "itemize": "Ctrl-I"
   },
   "labels_anchors": false,
   "latex_user_defs": false,
   "report_style_numbering": false,
   "user_envs_cfg": false
  },
  "varInspector": {
   "cols": {
    "lenName": 16,
    "lenType": 16,
    "lenVar": 40
   },
   "kernels_config": {
    "python": {
     "delete_cmd_postfix": "",
     "delete_cmd_prefix": "del ",
     "library": "var_list.py",
     "varRefreshCmd": "print(var_dic_list())"
    },
    "r": {
     "delete_cmd_postfix": ") ",
     "delete_cmd_prefix": "rm(",
     "library": "var_list.r",
     "varRefreshCmd": "cat(var_dic_list()) "
    }
   },
   "types_to_exclude": [
    "module",
    "function",
    "builtin_function_or_method",
    "instance",
    "_Feature"
   ],
   "window_display": false
  }
 },
 "nbformat": 4,
 "nbformat_minor": 2
}
