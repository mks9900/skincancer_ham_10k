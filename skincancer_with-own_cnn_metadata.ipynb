{
 "cells": [
  {
   "cell_type": "markdown",
   "metadata": {},
   "source": [
    "# Skincancer HAM-dataset using Pytorch"
   ]
  },
  {
   "cell_type": "markdown",
   "metadata": {},
   "source": [
    "### Standardimporter"
   ]
  },
  {
   "cell_type": "code",
   "execution_count": 1,
   "metadata": {
    "execution": {
     "iopub.execute_input": "2020-04-07T19:04:28.569Z",
     "iopub.status.busy": "2020-04-07T19:04:28.546Z",
     "iopub.status.idle": "2020-04-07T19:04:46.672Z",
     "shell.execute_reply": "2020-04-07T19:04:47.109Z"
    }
   },
   "outputs": [],
   "source": [
    "import torch\n",
    "import torch.nn as nn\n",
    "import torch.nn.functional as F\n",
    "from torch.utils.data import DataLoader, Dataset\n",
    "from torchvision import datasets, transforms\n",
    "from torchvision.utils import make_grid\n",
    "from torch.utils.data import WeightedRandomSampler\n",
    "\n",
    "import os\n",
    "from PIL import Image\n",
    "# from skimage import io, transform\n",
    "\n",
    "import numpy as np\n",
    "import pandas as pd\n",
    "\n",
    "from sklearn.preprocessing import LabelEncoder\n",
    "from sklearn.metrics import confusion_matrix, classification_report\n",
    "from sklearn.model_selection import train_test_split\n",
    "\n",
    "import matplotlib.pyplot as plt\n",
    "%matplotlib inline"
   ]
  },
  {
   "cell_type": "code",
   "execution_count": 2,
   "metadata": {
    "execution": {
     "iopub.execute_input": "2020-04-07T19:04:46.725Z",
     "iopub.status.busy": "2020-04-07T19:04:46.707Z",
     "iopub.status.idle": "2020-04-07T19:04:46.763Z",
     "shell.execute_reply": "2020-04-07T19:04:47.128Z"
    }
   },
   "outputs": [
    {
     "data": {
      "text/plain": [
       "'LC_CTYPE=en_US.UTF-8;LC_NUMERIC=sv_SE.UTF-8;LC_TIME=sv_SE.UTF-8;LC_COLLATE=en_US.UTF-8;LC_MONETARY=sv_SE.UTF-8;LC_MESSAGES=en_US.UTF-8;LC_PAPER=sv_SE.UTF-8;LC_NAME=sv_SE.UTF-8;LC_ADDRESS=sv_SE.UTF-8;LC_TELEPHONE=sv_SE.UTF-8;LC_MEASUREMENT=sv_SE.UTF-8;LC_IDENTIFICATION=sv_SE.UTF-8'"
      ]
     },
     "execution_count": 2,
     "metadata": {},
     "output_type": "execute_result"
    }
   ],
   "source": [
    "# Nedan används om man t.ex. vill ha tusentalsavgränsare:\n",
    "import locale\n",
    "locale.setlocale(locale.LC_ALL, '')"
   ]
  },
  {
   "cell_type": "markdown",
   "metadata": {},
   "source": [
    "## Hjälpfunktioner"
   ]
  },
  {
   "cell_type": "code",
   "execution_count": 3,
   "metadata": {
    "execution": {
     "iopub.execute_input": "2020-04-07T19:04:46.812Z",
     "iopub.status.busy": "2020-04-07T19:04:46.794Z",
     "iopub.status.idle": "2020-04-07T19:04:46.839Z",
     "shell.execute_reply": "2020-04-07T19:04:47.143Z"
    }
   },
   "outputs": [],
   "source": [
    "def create_filename(filename):\n",
    "    global file_name\n",
    "    file_name = filename + \"_e\" + str(epochs) + \"_bsz\" + str(batchsz) + \\\n",
    "            \"_lr\" + str(f'{learning_rate:.0e}')\n",
    "    return file_name"
   ]
  },
  {
   "cell_type": "code",
   "execution_count": 4,
   "metadata": {
    "execution": {
     "iopub.execute_input": "2020-04-07T19:04:46.885Z",
     "iopub.status.busy": "2020-04-07T19:04:46.867Z",
     "iopub.status.idle": "2020-04-07T19:04:46.912Z",
     "shell.execute_reply": "2020-04-07T19:04:47.155Z"
    }
   },
   "outputs": [],
   "source": [
    "# https://pytorch.org/docs/master/notes/serialization.html\n",
    "\n",
    "def save_trained_model(modelname):\n",
    "    model_folder = \"trained_models\"\n",
    "    model_file_suffix = \".pt\"\n",
    "    create_filename(modelname) # spottar ur sig ett filnamn i variabeln \"file_name\"\n",
    "    \n",
    "    full_model_filename = model_folder + \"/\" + file_name + model_file_suffix\n",
    "    \n",
    "    torch.save(mult_model.state_dict(), full_model_filename)"
   ]
  },
  {
   "cell_type": "code",
   "execution_count": 5,
   "metadata": {
    "execution": {
     "iopub.execute_input": "2020-04-07T19:04:46.958Z",
     "iopub.status.busy": "2020-04-07T19:04:46.940Z",
     "iopub.status.idle": "2020-04-07T19:04:46.986Z",
     "shell.execute_reply": "2020-04-07T19:04:47.165Z"
    }
   },
   "outputs": [],
   "source": [
    "def load_trained_model(modelname):\n",
    "    model_folder = \"trained_models\"\n",
    "    model_file_suffix = \".pt\"\n",
    "    create_filename(modelname) # spottar ur sig ett filnamn i variabeln \"file_name\"\n",
    "    \n",
    "    full_model_filename = model_folder + \"/\" + file_name + model_file_suffix\n",
    "    \n",
    "    if torch.cuda.is_available():\n",
    "        model.load_state_dict(torch.load(full_model_filename))\n",
    "    else:\n",
    "        model.load_state_dict(torch.load(full_model_filename, map_location=torch.device('cpu')))"
   ]
  },
  {
   "cell_type": "code",
   "execution_count": 6,
   "metadata": {
    "execution": {
     "iopub.execute_input": "2020-04-07T19:04:47.030Z",
     "iopub.status.busy": "2020-04-07T19:04:47.014Z",
     "iopub.status.idle": "2020-04-07T19:04:47.057Z",
     "shell.execute_reply": "2020-04-07T19:04:47.177Z"
    }
   },
   "outputs": [],
   "source": [
    "# Följande återställer modellens vikter\n",
    "# mellan körningar:\n",
    "\n",
    "# usage: model.apply(weights_init)\n",
    "\n",
    "def weights_init(m):\n",
    "    if isinstance(m, nn.Conv2d):\n",
    "        torch.nn.init.xavier_uniform_(m.weight.data)"
   ]
  },
  {
   "cell_type": "markdown",
   "metadata": {},
   "source": [
    "## Importera data och definiera sökvägar"
   ]
  },
  {
   "cell_type": "code",
   "execution_count": 7,
   "metadata": {
    "execution": {
     "iopub.execute_input": "2020-04-08T07:04:56.246Z",
     "iopub.status.busy": "2020-04-08T07:04:56.229Z",
     "iopub.status.idle": "2020-04-08T07:04:56.269Z",
     "shell.execute_reply": "2020-04-08T07:04:56.283Z"
    }
   },
   "outputs": [],
   "source": [
    "#homePath = os.path.dirname(\"/Users/johanthor/OneDrive/coding/\")\n",
    "\n",
    "#basePath = homePath + \"/\" + \"ml/Datasets/skin-cancer-mnist-ham10000/images_in_one\"\n",
    "\n",
    "#imageFolder = \"images_per_label_splitted_sets\"\n",
    "\n",
    "\n",
    "imageFolder = \"../../../ml/Datasets/skin-cancer-mnist-ham10000/images_in_one\"\n",
    "\n",
    "metadataSkincancerFilename =  \"../../../ml/Datasets/skin-cancer-mnist-ham10000/csv/HAM10000_metadata.csv\""
   ]
  },
  {
   "cell_type": "code",
   "execution_count": 8,
   "metadata": {
    "execution": {
     "iopub.execute_input": "2020-04-08T07:04:56.809Z",
     "iopub.status.busy": "2020-04-08T07:04:56.791Z",
     "iopub.status.idle": "2020-04-08T07:04:56.835Z",
     "shell.execute_reply": "2020-04-08T07:04:56.871Z"
    }
   },
   "outputs": [],
   "source": [
    "# Importera metadatan i en Pandas DataFrame:\n",
    "\n",
    "skincancer_df = pd.read_csv(metadataSkincancerFilename)"
   ]
  },
  {
   "cell_type": "markdown",
   "metadata": {},
   "source": [
    "## Utforska och bearbeta vårt data"
   ]
  },
  {
   "cell_type": "code",
   "execution_count": 9,
   "metadata": {
    "execution": {
     "iopub.execute_input": "2020-04-08T07:04:59.994Z",
     "iopub.status.busy": "2020-04-08T07:04:59.975Z",
     "iopub.status.idle": "2020-04-08T07:05:00.025Z",
     "shell.execute_reply": "2020-04-08T07:05:00.043Z"
    }
   },
   "outputs": [
    {
     "data": {
      "text/plain": [
       "lesion_id        0\n",
       "image_id         0\n",
       "dx               0\n",
       "dx_type          0\n",
       "age             57\n",
       "sex              0\n",
       "localization     0\n",
       "dtype: int64"
      ]
     },
     "execution_count": 9,
     "metadata": {},
     "output_type": "execute_result"
    }
   ],
   "source": [
    "# Kolla om vi har några noll-värden i vår Dataframe:\n",
    "\n",
    "skincancer_df.isnull().sum()"
   ]
  },
  {
   "cell_type": "code",
   "execution_count": 10,
   "metadata": {
    "execution": {
     "iopub.execute_input": "2020-04-08T07:05:00.169Z",
     "iopub.status.busy": "2020-04-08T07:05:00.156Z",
     "iopub.status.idle": "2020-04-08T07:05:00.190Z",
     "shell.execute_reply": "2020-04-08T07:05:00.204Z"
    }
   },
   "outputs": [],
   "source": [
    "# Enligt ovan är det bara i \"age\"-kolumnen som vi har noll-värden. \n",
    "# Dessa fyller vi ut genom att beräkna medevärdet:\n",
    "\n",
    "skincancer_df['age'].fillna((skincancer_df['age'].mean()), inplace=True)"
   ]
  },
  {
   "cell_type": "code",
   "execution_count": 11,
   "metadata": {
    "execution": {
     "iopub.execute_input": "2020-04-08T07:05:00.335Z",
     "iopub.status.busy": "2020-04-08T07:05:00.322Z",
     "iopub.status.idle": "2020-04-08T07:05:00.357Z",
     "shell.execute_reply": "2020-04-08T07:05:00.371Z"
    }
   },
   "outputs": [],
   "source": [
    "# Definiera var vi har våra labels:\n",
    "\n",
    "labels = skincancer_df['dx']\n",
    "num_classes = len(labels.unique()) # --> 7"
   ]
  },
  {
   "cell_type": "code",
   "execution_count": 12,
   "metadata": {
    "execution": {
     "iopub.execute_input": "2020-04-08T07:05:00.525Z",
     "iopub.status.busy": "2020-04-08T07:05:00.504Z",
     "iopub.status.idle": "2020-04-08T07:05:00.555Z",
     "shell.execute_reply": "2020-04-08T07:05:00.579Z"
    }
   },
   "outputs": [],
   "source": [
    "# Innan vi fortsätter måste vi göra om \n",
    "# text-datan till numeriska features.\n",
    "\n",
    "# 1. Flytta labels sist i df\n",
    "# 2. Flytta age till efter image_id\n",
    "# 3. Alla categorical features emellan.\n",
    "\n",
    "skincancer_df = skincancer_df[['lesion_id', 'image_id', 'age', 'dx_type', 'sex', 'localization', 'dx']]"
   ]
  },
  {
   "cell_type": "code",
   "execution_count": 13,
   "metadata": {
    "execution": {
     "iopub.execute_input": "2020-04-08T07:05:00.830Z",
     "iopub.status.busy": "2020-04-08T07:05:00.813Z",
     "iopub.status.idle": "2020-04-08T07:05:00.860Z",
     "shell.execute_reply": "2020-04-08T07:05:00.747Z"
    }
   },
   "outputs": [
    {
     "data": {
      "text/plain": [
       "histo        5340\n",
       "follow_up    3704\n",
       "consensus     902\n",
       "confocal       69\n",
       "Name: dx_type, dtype: int64"
      ]
     },
     "execution_count": 13,
     "metadata": {},
     "output_type": "execute_result"
    }
   ],
   "source": [
    "dxtype_feat_df = skincancer_df.iloc[:, 3]\n",
    "dxtype_feat_df.value_counts()"
   ]
  },
  {
   "cell_type": "code",
   "execution_count": 14,
   "metadata": {
    "execution": {
     "iopub.execute_input": "2020-04-08T07:05:00.901Z",
     "iopub.status.busy": "2020-04-08T07:05:00.883Z",
     "iopub.status.idle": "2020-04-08T07:05:00.943Z",
     "shell.execute_reply": "2020-04-08T07:05:00.783Z"
    }
   },
   "outputs": [
    {
     "data": {
      "text/plain": [
       "male       5406\n",
       "female     4552\n",
       "unknown      57\n",
       "Name: sex, dtype: int64"
      ]
     },
     "execution_count": 14,
     "metadata": {},
     "output_type": "execute_result"
    }
   ],
   "source": [
    "sex_feat_df = skincancer_df.iloc[:, 4]\n",
    "sex_feat_df.value_counts()"
   ]
  },
  {
   "cell_type": "code",
   "execution_count": 15,
   "metadata": {
    "execution": {
     "iopub.execute_input": "2020-04-08T07:05:01.263Z",
     "iopub.status.busy": "2020-04-08T07:05:01.240Z",
     "iopub.status.idle": "2020-04-08T07:05:01.289Z",
     "shell.execute_reply": "2020-04-08T07:05:01.179Z"
    }
   },
   "outputs": [
    {
     "data": {
      "text/plain": [
       "back               2192\n",
       "lower extremity    2077\n",
       "trunk              1404\n",
       "upper extremity    1118\n",
       "abdomen            1022\n",
       "face                745\n",
       "chest               407\n",
       "foot                319\n",
       "unknown             234\n",
       "neck                168\n",
       "scalp               128\n",
       "hand                 90\n",
       "ear                  56\n",
       "genital              48\n",
       "acral                 7\n",
       "Name: localization, dtype: int64"
      ]
     },
     "execution_count": 15,
     "metadata": {},
     "output_type": "execute_result"
    }
   ],
   "source": [
    "loc_feat_df = skincancer_df.iloc[:, 5]\n",
    "loc_feat_df.value_counts()"
   ]
  },
  {
   "cell_type": "code",
   "execution_count": 16,
   "metadata": {
    "execution": {
     "iopub.execute_input": "2020-04-08T07:05:01.326Z",
     "iopub.status.busy": "2020-04-08T07:05:01.312Z",
     "iopub.status.idle": "2020-04-08T07:05:01.350Z",
     "shell.execute_reply": "2020-04-08T07:05:01.213Z"
    }
   },
   "outputs": [
    {
     "data": {
      "text/plain": [
       "nv       6705\n",
       "mel      1113\n",
       "bkl      1099\n",
       "bcc       514\n",
       "akiec     327\n",
       "vasc      142\n",
       "df        115\n",
       "Name: dx, dtype: int64"
      ]
     },
     "execution_count": 16,
     "metadata": {},
     "output_type": "execute_result"
    }
   ],
   "source": [
    "label_df = skincancer_df.iloc[:, 6]\n",
    "label_df.value_counts()"
   ]
  },
  {
   "cell_type": "code",
   "execution_count": 17,
   "metadata": {
    "execution": {
     "iopub.execute_input": "2020-04-08T07:05:01.898Z",
     "iopub.status.busy": "2020-04-08T07:05:01.872Z",
     "iopub.status.idle": "2020-04-08T07:05:01.943Z",
     "shell.execute_reply": "2020-04-08T07:05:02.087Z"
    }
   },
   "outputs": [
    {
     "data": {
      "text/plain": [
       "(array([  69.,    0.,    0.,  902.,    0.,    0., 3704.,    0.,    0.,\n",
       "        5340.]),\n",
       " array([0. , 0.3, 0.6, 0.9, 1.2, 1.5, 1.8, 2.1, 2.4, 2.7, 3. ]),\n",
       " <a list of 10 Patch objects>)"
      ]
     },
     "execution_count": 17,
     "metadata": {},
     "output_type": "execute_result"
    },
    {
     "data": {
      "image/png": "[encoded data removed]",
      "text/plain": [
       "<Figure size 432x288 with 1 Axes>"
      ]
     },
     "metadata": {
      "needs_background": "light"
     },
     "output_type": "display_data"
    }
   ],
   "source": [
    "le = LabelEncoder()\n",
    "dxtype_feat = le.fit_transform(dxtype_feat_df)\n",
    "plt.hist(dxtype_feat)"
   ]
  },
  {
   "cell_type": "code",
   "execution_count": 18,
   "metadata": {
    "execution": {
     "iopub.execute_input": "2020-04-08T07:05:01.982Z",
     "iopub.status.busy": "2020-04-08T07:05:01.967Z",
     "iopub.status.idle": "2020-04-08T07:05:02.027Z",
     "shell.execute_reply": "2020-04-08T07:05:02.095Z"
    }
   },
   "outputs": [
    {
     "data": {
      "text/plain": [
       "(array([1029., 2192.,  463.,  745.,  319.,  138., 2077.,  296., 1404.,\n",
       "        1352.]),\n",
       " array([ 0. ,  1.4,  2.8,  4.2,  5.6,  7. ,  8.4,  9.8, 11.2, 12.6, 14. ]),\n",
       " <a list of 10 Patch objects>)"
      ]
     },
     "execution_count": 18,
     "metadata": {},
     "output_type": "execute_result"
    },
    {
     "data": {
      "image/png": "[encoded data removed]",
      "text/plain": [
       "<Figure size 432x288 with 1 Axes>"
      ]
     },
     "metadata": {
      "needs_background": "light"
     },
     "output_type": "display_data"
    }
   ],
   "source": [
    "loc_feat = le.fit_transform(loc_feat_df)\n",
    "plt.hist(loc_feat)"
   ]
  },
  {
   "cell_type": "code",
   "execution_count": 19,
   "metadata": {
    "execution": {
     "iopub.execute_input": "2020-04-08T07:05:02.063Z",
     "iopub.status.busy": "2020-04-08T07:05:02.050Z",
     "iopub.status.idle": "2020-04-08T07:05:02.544Z",
     "shell.execute_reply": "2020-04-08T07:05:02.427Z"
    }
   },
   "outputs": [
    {
     "data": {
      "text/plain": [
       "(array([4552.,    0.,    0.,    0.,    0., 5406.,    0.,    0.,    0.,\n",
       "          57.]),\n",
       " array([0. , 0.2, 0.4, 0.6, 0.8, 1. , 1.2, 1.4, 1.6, 1.8, 2. ]),\n",
       " <a list of 10 Patch objects>)"
      ]
     },
     "execution_count": 19,
     "metadata": {},
     "output_type": "execute_result"
    },
    {
     "data": {
      "image/png": "[encoded data removed]",
      "text/plain": [
       "<Figure size 432x288 with 1 Axes>"
      ]
     },
     "metadata": {
      "needs_background": "light"
     },
     "output_type": "display_data"
    }
   ],
   "source": [
    "sex_feat = le.fit_transform(sex_feat_df)\n",
    "plt.hist(sex_feat)"
   ]
  },
  {
   "cell_type": "code",
   "execution_count": 20,
   "metadata": {
    "execution": {
     "iopub.execute_input": "2020-04-08T07:05:02.583Z",
     "iopub.status.busy": "2020-04-08T07:05:02.569Z",
     "iopub.status.idle": "2020-04-08T07:05:02.612Z",
     "shell.execute_reply": "2020-04-08T07:05:02.444Z"
    }
   },
   "outputs": [
    {
     "data": {
      "text/plain": [
       "(array([ 327.,  514.,    0., 1099.,    0.,  115., 1113.,    0., 6705.,\n",
       "         142.]),\n",
       " array([0. , 0.6, 1.2, 1.8, 2.4, 3. , 3.6, 4.2, 4.8, 5.4, 6. ]),\n",
       " <a list of 10 Patch objects>)"
      ]
     },
     "execution_count": 20,
     "metadata": {},
     "output_type": "execute_result"
    },
    {
     "data": {
      "image/png": "[encoded data removed]",
      "text/plain": [
       "<Figure size 432x288 with 1 Axes>"
      ]
     },
     "metadata": {
      "needs_background": "light"
     },
     "output_type": "display_data"
    }
   ],
   "source": [
    "labels = le.fit_transform(label_df)\n",
    "plt.hist(labels)"
   ]
  },
  {
   "cell_type": "code",
   "execution_count": 21,
   "metadata": {
    "execution": {
     "iopub.execute_input": "2020-04-08T07:05:02.658Z",
     "iopub.status.busy": "2020-04-08T07:05:02.640Z",
     "iopub.status.idle": "2020-04-08T07:05:02.674Z",
     "shell.execute_reply": "2020-04-08T07:05:02.467Z"
    }
   },
   "outputs": [],
   "source": [
    "le_skincancer_df = skincancer_df.copy()\n",
    "del skincancer_df"
   ]
  },
  {
   "cell_type": "code",
   "execution_count": 22,
   "metadata": {
    "execution": {
     "iopub.execute_input": "2020-04-08T07:05:02.710Z",
     "iopub.status.busy": "2020-04-08T07:05:02.694Z",
     "iopub.status.idle": "2020-04-08T07:05:02.737Z",
     "shell.execute_reply": "2020-04-08T07:05:02.484Z"
    }
   },
   "outputs": [
    {
     "data": {
      "text/html": [
       "<div>\n",
       "<style scoped>\n",
       "    .dataframe tbody tr th:only-of-type {\n",
       "        vertical-align: middle;\n",
       "    }\n",
       "\n",
       "    .dataframe tbody tr th {\n",
       "        vertical-align: top;\n",
       "    }\n",
       "\n",
       "    .dataframe thead th {\n",
       "        text-align: right;\n",
       "    }\n",
       "</style>\n",
       "<table border=\"1\" class=\"dataframe\">\n",
       "  <thead>\n",
       "    <tr style=\"text-align: right;\">\n",
       "      <th></th>\n",
       "      <th>lesion_id</th>\n",
       "      <th>image_id</th>\n",
       "      <th>age</th>\n",
       "      <th>sex</th>\n",
       "      <th>dxtype</th>\n",
       "      <th>loc</th>\n",
       "      <th>label</th>\n",
       "    </tr>\n",
       "  </thead>\n",
       "  <tbody>\n",
       "    <tr>\n",
       "      <th>0</th>\n",
       "      <td>HAM_0000118</td>\n",
       "      <td>ISIC_0027419</td>\n",
       "      <td>80.0</td>\n",
       "      <td>1</td>\n",
       "      <td>3</td>\n",
       "      <td>11</td>\n",
       "      <td>2</td>\n",
       "    </tr>\n",
       "    <tr>\n",
       "      <th>1</th>\n",
       "      <td>HAM_0000118</td>\n",
       "      <td>ISIC_0025030</td>\n",
       "      <td>80.0</td>\n",
       "      <td>1</td>\n",
       "      <td>3</td>\n",
       "      <td>11</td>\n",
       "      <td>2</td>\n",
       "    </tr>\n",
       "    <tr>\n",
       "      <th>2</th>\n",
       "      <td>HAM_0002730</td>\n",
       "      <td>ISIC_0026769</td>\n",
       "      <td>80.0</td>\n",
       "      <td>1</td>\n",
       "      <td>3</td>\n",
       "      <td>11</td>\n",
       "      <td>2</td>\n",
       "    </tr>\n",
       "    <tr>\n",
       "      <th>3</th>\n",
       "      <td>HAM_0002730</td>\n",
       "      <td>ISIC_0025661</td>\n",
       "      <td>80.0</td>\n",
       "      <td>1</td>\n",
       "      <td>3</td>\n",
       "      <td>11</td>\n",
       "      <td>2</td>\n",
       "    </tr>\n",
       "    <tr>\n",
       "      <th>4</th>\n",
       "      <td>HAM_0001466</td>\n",
       "      <td>ISIC_0031633</td>\n",
       "      <td>75.0</td>\n",
       "      <td>1</td>\n",
       "      <td>3</td>\n",
       "      <td>4</td>\n",
       "      <td>2</td>\n",
       "    </tr>\n",
       "  </tbody>\n",
       "</table>\n",
       "</div>"
      ],
      "text/plain": [
       "     lesion_id      image_id   age  sex  dxtype  loc  label\n",
       "0  HAM_0000118  ISIC_0027419  80.0    1       3   11      2\n",
       "1  HAM_0000118  ISIC_0025030  80.0    1       3   11      2\n",
       "2  HAM_0002730  ISIC_0026769  80.0    1       3   11      2\n",
       "3  HAM_0002730  ISIC_0025661  80.0    1       3   11      2\n",
       "4  HAM_0001466  ISIC_0031633  75.0    1       3    4      2"
      ]
     },
     "execution_count": 22,
     "metadata": {},
     "output_type": "execute_result"
    }
   ],
   "source": [
    "le_skincancer_df['dxtype'] = dxtype_feat\n",
    "le_skincancer_df['sex'] = sex_feat\n",
    "le_skincancer_df['loc'] = loc_feat\n",
    "le_skincancer_df['label'] = labels\n",
    "le_skincancer_df.drop(columns=['localization', 'dx_type', 'dx'], inplace = True)\n",
    "le_skincancer_df.head()"
   ]
  },
  {
   "cell_type": "code",
   "execution_count": 23,
   "metadata": {
    "execution": {
     "iopub.execute_input": "2020-04-08T07:05:02.773Z",
     "iopub.status.busy": "2020-04-08T07:05:02.758Z",
     "iopub.status.idle": "2020-04-08T07:05:02.788Z",
     "shell.execute_reply": "2020-04-08T07:05:02.499Z"
    }
   },
   "outputs": [],
   "source": [
    "# Vi normaliserar metadata-features\n",
    "# innan vi skickar in det till Pytorch \n",
    "# för träning:\n",
    "\n",
    "from sklearn.preprocessing import MinMaxScaler\n",
    "\n",
    "scaler = MinMaxScaler()"
   ]
  },
  {
   "cell_type": "code",
   "execution_count": 24,
   "metadata": {
    "execution": {
     "iopub.execute_input": "2020-04-08T07:05:02.830Z",
     "iopub.status.busy": "2020-04-08T07:05:02.814Z",
     "iopub.status.idle": "2020-04-08T07:05:02.844Z",
     "shell.execute_reply": "2020-04-08T07:05:02.512Z"
    }
   },
   "outputs": [],
   "source": [
    "le_skincancer_df[['age', 'dxtype', 'loc']] = scaler.fit_transform(le_skincancer_df[['age', 'dxtype', 'loc']])"
   ]
  },
  {
   "cell_type": "code",
   "execution_count": 25,
   "metadata": {
    "execution": {
     "iopub.execute_input": "2020-04-08T07:05:03.267Z",
     "iopub.status.busy": "2020-04-08T07:05:03.250Z",
     "iopub.status.idle": "2020-04-08T07:05:03.283Z",
     "shell.execute_reply": "2020-04-08T07:05:03.183Z"
    }
   },
   "outputs": [],
   "source": [
    "le_skincancer_df.drop(columns='lesion_id', axis = 1, inplace=True)"
   ]
  },
  {
   "cell_type": "code",
   "execution_count": 26,
   "metadata": {
    "execution": {
     "iopub.execute_input": "2020-04-08T07:05:03.318Z",
     "iopub.status.busy": "2020-04-08T07:05:03.304Z",
     "iopub.status.idle": "2020-04-08T07:05:03.342Z",
     "shell.execute_reply": "2020-04-08T07:05:03.198Z"
    }
   },
   "outputs": [
    {
     "data": {
      "text/html": [
       "<div>\n",
       "<style scoped>\n",
       "    .dataframe tbody tr th:only-of-type {\n",
       "        vertical-align: middle;\n",
       "    }\n",
       "\n",
       "    .dataframe tbody tr th {\n",
       "        vertical-align: top;\n",
       "    }\n",
       "\n",
       "    .dataframe thead th {\n",
       "        text-align: right;\n",
       "    }\n",
       "</style>\n",
       "<table border=\"1\" class=\"dataframe\">\n",
       "  <thead>\n",
       "    <tr style=\"text-align: right;\">\n",
       "      <th></th>\n",
       "      <th>image_id</th>\n",
       "      <th>age</th>\n",
       "      <th>sex</th>\n",
       "      <th>dxtype</th>\n",
       "      <th>loc</th>\n",
       "      <th>label</th>\n",
       "    </tr>\n",
       "  </thead>\n",
       "  <tbody>\n",
       "    <tr>\n",
       "      <th>0</th>\n",
       "      <td>ISIC_0027419</td>\n",
       "      <td>0.941176</td>\n",
       "      <td>1</td>\n",
       "      <td>1.0</td>\n",
       "      <td>0.785714</td>\n",
       "      <td>2</td>\n",
       "    </tr>\n",
       "    <tr>\n",
       "      <th>1</th>\n",
       "      <td>ISIC_0025030</td>\n",
       "      <td>0.941176</td>\n",
       "      <td>1</td>\n",
       "      <td>1.0</td>\n",
       "      <td>0.785714</td>\n",
       "      <td>2</td>\n",
       "    </tr>\n",
       "    <tr>\n",
       "      <th>2</th>\n",
       "      <td>ISIC_0026769</td>\n",
       "      <td>0.941176</td>\n",
       "      <td>1</td>\n",
       "      <td>1.0</td>\n",
       "      <td>0.785714</td>\n",
       "      <td>2</td>\n",
       "    </tr>\n",
       "    <tr>\n",
       "      <th>3</th>\n",
       "      <td>ISIC_0025661</td>\n",
       "      <td>0.941176</td>\n",
       "      <td>1</td>\n",
       "      <td>1.0</td>\n",
       "      <td>0.785714</td>\n",
       "      <td>2</td>\n",
       "    </tr>\n",
       "    <tr>\n",
       "      <th>4</th>\n",
       "      <td>ISIC_0031633</td>\n",
       "      <td>0.882353</td>\n",
       "      <td>1</td>\n",
       "      <td>1.0</td>\n",
       "      <td>0.285714</td>\n",
       "      <td>2</td>\n",
       "    </tr>\n",
       "  </tbody>\n",
       "</table>\n",
       "</div>"
      ],
      "text/plain": [
       "       image_id       age  sex  dxtype       loc  label\n",
       "0  ISIC_0027419  0.941176    1     1.0  0.785714      2\n",
       "1  ISIC_0025030  0.941176    1     1.0  0.785714      2\n",
       "2  ISIC_0026769  0.941176    1     1.0  0.785714      2\n",
       "3  ISIC_0025661  0.941176    1     1.0  0.785714      2\n",
       "4  ISIC_0031633  0.882353    1     1.0  0.285714      2"
      ]
     },
     "execution_count": 26,
     "metadata": {},
     "output_type": "execute_result"
    }
   ],
   "source": [
    "le_skincancer_df.head(n = 5)"
   ]
  },
  {
   "cell_type": "code",
   "execution_count": 27,
   "metadata": {
    "execution": {
     "iopub.execute_input": "2020-04-08T07:05:03.380Z",
     "iopub.status.busy": "2020-04-08T07:05:03.364Z",
     "iopub.status.idle": "2020-04-08T07:05:03.397Z",
     "shell.execute_reply": "2020-04-08T07:05:03.212Z"
    }
   },
   "outputs": [],
   "source": [
    "features_df = le_skincancer_df.iloc[:, :5]"
   ]
  },
  {
   "cell_type": "code",
   "execution_count": 28,
   "metadata": {
    "execution": {
     "iopub.execute_input": "2020-04-08T07:05:03.436Z",
     "iopub.status.busy": "2020-04-08T07:05:03.420Z",
     "iopub.status.idle": "2020-04-08T07:05:03.452Z",
     "shell.execute_reply": "2020-04-08T07:05:03.227Z"
    }
   },
   "outputs": [],
   "source": [
    "labels_df = le_skincancer_df.iloc[:, 5:]"
   ]
  },
  {
   "cell_type": "markdown",
   "metadata": {},
   "source": [
    "## Bygg en egen dataloader-klass för bilder och Pandas-dataframe"
   ]
  },
  {
   "cell_type": "code",
   "execution_count": 29,
   "metadata": {
    "execution": {
     "iopub.execute_input": "2020-04-08T07:05:04.332Z",
     "iopub.status.busy": "2020-04-08T07:05:04.317Z",
     "iopub.status.idle": "2020-04-08T07:05:04.354Z",
     "shell.execute_reply": "2020-04-08T07:05:04.370Z"
    }
   },
   "outputs": [],
   "source": [
    "class SkinCancerHamDF(Dataset):\n",
    "\n",
    "    def __init__(self, features_df, labels_df, root_dir, transform = None):\n",
    "\n",
    "        self.features_df = features_df\n",
    "        self.labels_df = labels_df\n",
    "        self.root_dir = root_dir\n",
    "        self.transform = transform\n",
    "\n",
    "    def __len__(self):\n",
    "        return len(self.features_df)\n",
    "\n",
    "    def __getitem__(self, idx):\n",
    "        if torch.is_tensor(idx):\n",
    "            idx = idx.tolist()\n",
    "\n",
    "        img_name = self.features_df.iloc[idx, 0]\n",
    "        #print(type(img_name))\n",
    "        img_name = str(img_name)\n",
    "        #print(type(img_name))\n",
    "        \n",
    "        full_img_name_woext = os.path.join(self.root_dir, \\\n",
    "                                img_name)\n",
    "        \n",
    "        full_img_name = full_img_name_woext + \".jpg\"\n",
    "        \n",
    "        # pillow:\n",
    "        image = Image.open(full_img_name)\n",
    "        \n",
    "        # labels:\n",
    "        label = self.labels_df.iloc[idx]\n",
    "        label_np = np.array([label], dtype = int)\n",
    "        \n",
    "        # features:\n",
    "        metadata = self.features_df.iloc[idx, 1:5]\n",
    "        metadata_np = np.array([metadata], dtype = float)\n",
    "        \n",
    "        # Skapar en batch utan transforms:\n",
    "        sample = {'image': image, \\\n",
    "                  'metadata': metadata_np, \\\n",
    "                  'label': label_np}\n",
    "\n",
    "        # Skapar en batch med transforms:\n",
    "        if self.transform:\n",
    "            sample = {'image': self.transform(image), \\\n",
    "                      'metadata': metadata_np, \\\n",
    "                      'label': label_np.flatten()}\n",
    "\n",
    "        return sample"
   ]
  },
  {
   "cell_type": "code",
   "execution_count": 30,
   "metadata": {
    "execution": {
     "iopub.execute_input": "2020-04-08T07:05:04.990Z",
     "iopub.status.busy": "2020-04-08T07:05:04.976Z",
     "iopub.status.idle": "2020-04-08T07:05:05.012Z",
     "shell.execute_reply": "2020-04-08T07:05:05.026Z"
    }
   },
   "outputs": [],
   "source": [
    "# Definiera en batch-storlek:\n",
    "batchsz = 2**5\n",
    "\n",
    "# Definiera vilken augmentation som ska göras:\n",
    "train_data_transform = transforms.Compose([\n",
    "                                           transforms.Resize([224, 224]),\\\n",
    "                                           transforms.ToTensor(), \n",
    "                                           transforms.Normalize(mean = [0.485, 0.456, 0.406],\n",
    "                                                                std = [0.229, 0.224, 0.225])\n",
    "                                           ])\n",
    "\n",
    "val_data_transform = transforms.Compose([\n",
    "                                           transforms.Resize([224, 224]),\\\n",
    "                                           transforms.ToTensor(), \\\n",
    "                                           transforms.Normalize(mean = [0.485, 0.456, 0.406],\n",
    "                                                                std = [0.229, 0.224, 0.225])\n",
    "                                           ])"
   ]
  },
  {
   "cell_type": "markdown",
   "metadata": {},
   "source": [
    "### Dela upp i tränings- och valideringsdata"
   ]
  },
  {
   "cell_type": "code",
   "execution_count": 31,
   "metadata": {
    "execution": {
     "iopub.execute_input": "2020-04-08T07:05:06.303Z",
     "iopub.status.busy": "2020-04-08T07:05:06.290Z",
     "iopub.status.idle": "2020-04-08T07:05:06.324Z",
     "shell.execute_reply": "2020-04-08T07:05:06.339Z"
    }
   },
   "outputs": [],
   "source": [
    "features_train, features_val, labels_train, labels_val = train_test_split(features_df, \\\n",
    "                                                                          labels_df, \\\n",
    "                                                                          test_size = 0.1, \\\n",
    "                                                                          shuffle = True)"
   ]
  },
  {
   "cell_type": "code",
   "execution_count": 32,
   "metadata": {
    "execution": {
     "iopub.execute_input": "2020-04-08T07:05:07.032Z",
     "iopub.status.busy": "2020-04-08T07:05:07.018Z",
     "iopub.status.idle": "2020-04-08T07:05:07.060Z",
     "shell.execute_reply": "2020-04-08T07:05:07.074Z"
    }
   },
   "outputs": [],
   "source": [
    "ham10k_train = SkinCancerHamDF(features_df = features_train, \\\n",
    "                               labels_df = labels_train, \\\n",
    "                               root_dir = imageFolder, \\\n",
    "                               transform = train_data_transform)"
   ]
  },
  {
   "cell_type": "code",
   "execution_count": 33,
   "metadata": {
    "execution": {
     "iopub.execute_input": "2020-04-08T07:05:07.381Z",
     "iopub.status.busy": "2020-04-08T07:05:07.368Z",
     "iopub.status.idle": "2020-04-08T07:05:07.401Z",
     "shell.execute_reply": "2020-04-08T07:05:07.415Z"
    }
   },
   "outputs": [],
   "source": [
    "ham10k_val = SkinCancerHamDF(features_df = features_val, \\\n",
    "                             labels_df = labels_val, \\\n",
    "                             root_dir = imageFolder, \\\n",
    "                             transform = val_data_transform)"
   ]
  },
  {
   "cell_type": "code",
   "execution_count": 34,
   "metadata": {
    "execution": {
     "iopub.execute_input": "2020-04-08T07:05:09.040Z",
     "iopub.status.busy": "2020-04-08T07:05:09.026Z",
     "iopub.status.idle": "2020-04-08T07:05:09.064Z",
     "shell.execute_reply": "2020-04-08T07:05:09.079Z"
    }
   },
   "outputs": [],
   "source": [
    "ham10k_train_dl = DataLoader(ham10k_train, \\\n",
    "                                    batch_size = batchsz, \\\n",
    "                                    num_workers = 4, \\\n",
    "                                    pin_memory = True, \\\n",
    "                                    )"
   ]
  },
  {
   "cell_type": "code",
   "execution_count": 35,
   "metadata": {
    "execution": {
     "iopub.execute_input": "2020-04-08T07:05:10.711Z",
     "iopub.status.busy": "2020-04-08T07:05:10.698Z",
     "iopub.status.idle": "2020-04-08T07:05:10.731Z",
     "shell.execute_reply": "2020-04-08T07:05:10.745Z"
    }
   },
   "outputs": [],
   "source": [
    "ham10k_val_dl = DataLoader(ham10k_val, \\\n",
    "                                  batch_size = batchsz, \\\n",
    "                                  pin_memory = True, \\\n",
    "                                  num_workers = 4, \\\n",
    "                                  )"
   ]
  },
  {
   "cell_type": "code",
   "execution_count": 36,
   "metadata": {},
   "outputs": [],
   "source": [
    "# Test för att oversampla vissa klasser...\n",
    "# https://discuss.pytorch.org/t/how-to-implement-oversampling-in-cifar-10/16964/6\n",
    "\n",
    "train_targets = labels_train.values\n",
    "class_count = np.unique(train_targets, return_counts=True)[1]\n",
    "#print(\"Antal bilder per klass = \", class_count, \"\\n\")\n",
    "\n",
    "# Testa att köra med 1 / sevenones för att se en obalanserad, vanlig, loader\n",
    "# och med 1 / class_count för att se hur det balanserade resultatet blir:\n",
    "\n",
    "# sevenones = np.ones(7)\n",
    "# weight = 1 / sevenones\n",
    "weight = 1. / class_count\n",
    "samples_weight = weight[train_targets]\n",
    "samples_weight = torch.from_numpy(samples_weight)\n",
    "\n",
    "# Replacement = True ger dragning med återläggning, vilket vi ska ha, \n",
    "# annars kommer de mindre klasserna \"ta slut\" i dragningen:\n",
    "sampler = WeightedRandomSampler(samples_weight, len(samples_weight), replacement=True)"
   ]
  },
  {
   "cell_type": "code",
   "execution_count": 37,
   "metadata": {},
   "outputs": [],
   "source": [
    "ham10k_train_weighted_dl = DataLoader(ham10k_train, \\\n",
    "                                    batch_size = batchsz, \\\n",
    "                                    #num_workers = 4, \\\n",
    "                                    sampler = sampler, \\\n",
    "                                    pin_memory = True, \\\n",
    "                                    )"
   ]
  },
  {
   "cell_type": "code",
   "execution_count": 38,
   "metadata": {
    "scrolled": true
   },
   "outputs": [
    {
     "ename": "OSError",
     "evalue": "[Errno 36] File name too long: '../../../ml/Datasets/skin-cancer-mnist-ham10000/images_in_one/2803    ISIC_0031728\\n2803    ISIC_0031728\\n2803    ISIC_0031728\\n2803    ISIC_0031728\\n2803    ISIC_0031728\\n            ...     \\n2803    ISIC_0031728\\n2803    ISIC_0031728\\n2803    ISIC_0031728\\n2803    ISIC_0031728\\n2803    ISIC_0031728\\nName: image_id, Length: 9013, dtype: object.jpg'",
     "output_type": "error",
     "traceback": [
      "\u001b[0;31m---------------------------------------------------------------------------\u001b[0m",
      "\u001b[0;31mOSError\u001b[0m                                   Traceback (most recent call last)",
      "\u001b[0;32m<ipython-input-38-c46315555cd4>\u001b[0m in \u001b[0;36m<module>\u001b[0;34m\u001b[0m\n\u001b[0;32m----> 1\u001b[0;31m \u001b[0;32mfor\u001b[0m \u001b[0mitems\u001b[0m \u001b[0;32min\u001b[0m \u001b[0mham10k_train_weighted_dl\u001b[0m\u001b[0;34m:\u001b[0m\u001b[0;34m\u001b[0m\u001b[0;34m\u001b[0m\u001b[0m\n\u001b[0m\u001b[1;32m      2\u001b[0m     \u001b[0mprint\u001b[0m\u001b[0;34m(\u001b[0m\u001b[0mitems\u001b[0m\u001b[0;34m)\u001b[0m\u001b[0;34m\u001b[0m\u001b[0;34m\u001b[0m\u001b[0m\n\u001b[1;32m      3\u001b[0m     \u001b[0;32mbreak\u001b[0m\u001b[0;34m\u001b[0m\u001b[0;34m\u001b[0m\u001b[0m\n",
      "\u001b[0;32m~/anaconda3/envs/pytorch_general/lib/python3.7/site-packages/torch/utils/data/dataloader.py\u001b[0m in \u001b[0;36m__next__\u001b[0;34m(self)\u001b[0m\n\u001b[1;32m    344\u001b[0m     \u001b[0;32mdef\u001b[0m \u001b[0m__next__\u001b[0m\u001b[0;34m(\u001b[0m\u001b[0mself\u001b[0m\u001b[0;34m)\u001b[0m\u001b[0;34m:\u001b[0m\u001b[0;34m\u001b[0m\u001b[0;34m\u001b[0m\u001b[0m\n\u001b[1;32m    345\u001b[0m         \u001b[0mindex\u001b[0m \u001b[0;34m=\u001b[0m \u001b[0mself\u001b[0m\u001b[0;34m.\u001b[0m\u001b[0m_next_index\u001b[0m\u001b[0;34m(\u001b[0m\u001b[0;34m)\u001b[0m  \u001b[0;31m# may raise StopIteration\u001b[0m\u001b[0;34m\u001b[0m\u001b[0;34m\u001b[0m\u001b[0m\n\u001b[0;32m--> 346\u001b[0;31m         \u001b[0mdata\u001b[0m \u001b[0;34m=\u001b[0m \u001b[0mself\u001b[0m\u001b[0;34m.\u001b[0m\u001b[0m_dataset_fetcher\u001b[0m\u001b[0;34m.\u001b[0m\u001b[0mfetch\u001b[0m\u001b[0;34m(\u001b[0m\u001b[0mindex\u001b[0m\u001b[0;34m)\u001b[0m  \u001b[0;31m# may raise StopIteration\u001b[0m\u001b[0;34m\u001b[0m\u001b[0;34m\u001b[0m\u001b[0m\n\u001b[0m\u001b[1;32m    347\u001b[0m         \u001b[0;32mif\u001b[0m \u001b[0mself\u001b[0m\u001b[0;34m.\u001b[0m\u001b[0m_pin_memory\u001b[0m\u001b[0;34m:\u001b[0m\u001b[0;34m\u001b[0m\u001b[0;34m\u001b[0m\u001b[0m\n\u001b[1;32m    348\u001b[0m             \u001b[0mdata\u001b[0m \u001b[0;34m=\u001b[0m \u001b[0m_utils\u001b[0m\u001b[0;34m.\u001b[0m\u001b[0mpin_memory\u001b[0m\u001b[0;34m.\u001b[0m\u001b[0mpin_memory\u001b[0m\u001b[0;34m(\u001b[0m\u001b[0mdata\u001b[0m\u001b[0;34m)\u001b[0m\u001b[0;34m\u001b[0m\u001b[0;34m\u001b[0m\u001b[0m\n",
      "\u001b[0;32m~/anaconda3/envs/pytorch_general/lib/python3.7/site-packages/torch/utils/data/_utils/fetch.py\u001b[0m in \u001b[0;36mfetch\u001b[0;34m(self, possibly_batched_index)\u001b[0m\n\u001b[1;32m     42\u001b[0m     \u001b[0;32mdef\u001b[0m \u001b[0mfetch\u001b[0m\u001b[0;34m(\u001b[0m\u001b[0mself\u001b[0m\u001b[0;34m,\u001b[0m \u001b[0mpossibly_batched_index\u001b[0m\u001b[0;34m)\u001b[0m\u001b[0;34m:\u001b[0m\u001b[0;34m\u001b[0m\u001b[0;34m\u001b[0m\u001b[0m\n\u001b[1;32m     43\u001b[0m         \u001b[0;32mif\u001b[0m \u001b[0mself\u001b[0m\u001b[0;34m.\u001b[0m\u001b[0mauto_collation\u001b[0m\u001b[0;34m:\u001b[0m\u001b[0;34m\u001b[0m\u001b[0;34m\u001b[0m\u001b[0m\n\u001b[0;32m---> 44\u001b[0;31m             \u001b[0mdata\u001b[0m \u001b[0;34m=\u001b[0m \u001b[0;34m[\u001b[0m\u001b[0mself\u001b[0m\u001b[0;34m.\u001b[0m\u001b[0mdataset\u001b[0m\u001b[0;34m[\u001b[0m\u001b[0midx\u001b[0m\u001b[0;34m]\u001b[0m \u001b[0;32mfor\u001b[0m \u001b[0midx\u001b[0m \u001b[0;32min\u001b[0m \u001b[0mpossibly_batched_index\u001b[0m\u001b[0;34m]\u001b[0m\u001b[0;34m\u001b[0m\u001b[0;34m\u001b[0m\u001b[0m\n\u001b[0m\u001b[1;32m     45\u001b[0m         \u001b[0;32melse\u001b[0m\u001b[0;34m:\u001b[0m\u001b[0;34m\u001b[0m\u001b[0;34m\u001b[0m\u001b[0m\n\u001b[1;32m     46\u001b[0m             \u001b[0mdata\u001b[0m \u001b[0;34m=\u001b[0m \u001b[0mself\u001b[0m\u001b[0;34m.\u001b[0m\u001b[0mdataset\u001b[0m\u001b[0;34m[\u001b[0m\u001b[0mpossibly_batched_index\u001b[0m\u001b[0;34m]\u001b[0m\u001b[0;34m\u001b[0m\u001b[0;34m\u001b[0m\u001b[0m\n",
      "\u001b[0;32m~/anaconda3/envs/pytorch_general/lib/python3.7/site-packages/torch/utils/data/_utils/fetch.py\u001b[0m in \u001b[0;36m<listcomp>\u001b[0;34m(.0)\u001b[0m\n\u001b[1;32m     42\u001b[0m     \u001b[0;32mdef\u001b[0m \u001b[0mfetch\u001b[0m\u001b[0;34m(\u001b[0m\u001b[0mself\u001b[0m\u001b[0;34m,\u001b[0m \u001b[0mpossibly_batched_index\u001b[0m\u001b[0;34m)\u001b[0m\u001b[0;34m:\u001b[0m\u001b[0;34m\u001b[0m\u001b[0;34m\u001b[0m\u001b[0m\n\u001b[1;32m     43\u001b[0m         \u001b[0;32mif\u001b[0m \u001b[0mself\u001b[0m\u001b[0;34m.\u001b[0m\u001b[0mauto_collation\u001b[0m\u001b[0;34m:\u001b[0m\u001b[0;34m\u001b[0m\u001b[0;34m\u001b[0m\u001b[0m\n\u001b[0;32m---> 44\u001b[0;31m             \u001b[0mdata\u001b[0m \u001b[0;34m=\u001b[0m \u001b[0;34m[\u001b[0m\u001b[0mself\u001b[0m\u001b[0;34m.\u001b[0m\u001b[0mdataset\u001b[0m\u001b[0;34m[\u001b[0m\u001b[0midx\u001b[0m\u001b[0;34m]\u001b[0m \u001b[0;32mfor\u001b[0m \u001b[0midx\u001b[0m \u001b[0;32min\u001b[0m \u001b[0mpossibly_batched_index\u001b[0m\u001b[0;34m]\u001b[0m\u001b[0;34m\u001b[0m\u001b[0;34m\u001b[0m\u001b[0m\n\u001b[0m\u001b[1;32m     45\u001b[0m         \u001b[0;32melse\u001b[0m\u001b[0;34m:\u001b[0m\u001b[0;34m\u001b[0m\u001b[0;34m\u001b[0m\u001b[0m\n\u001b[1;32m     46\u001b[0m             \u001b[0mdata\u001b[0m \u001b[0;34m=\u001b[0m \u001b[0mself\u001b[0m\u001b[0;34m.\u001b[0m\u001b[0mdataset\u001b[0m\u001b[0;34m[\u001b[0m\u001b[0mpossibly_batched_index\u001b[0m\u001b[0;34m]\u001b[0m\u001b[0;34m\u001b[0m\u001b[0;34m\u001b[0m\u001b[0m\n",
      "\u001b[0;32m<ipython-input-29-23529358f125>\u001b[0m in \u001b[0;36m__getitem__\u001b[0;34m(self, idx)\u001b[0m\n\u001b[1;32m     26\u001b[0m \u001b[0;34m\u001b[0m\u001b[0m\n\u001b[1;32m     27\u001b[0m         \u001b[0;31m# pillow:\u001b[0m\u001b[0;34m\u001b[0m\u001b[0;34m\u001b[0m\u001b[0;34m\u001b[0m\u001b[0m\n\u001b[0;32m---> 28\u001b[0;31m         \u001b[0mimage\u001b[0m \u001b[0;34m=\u001b[0m \u001b[0mImage\u001b[0m\u001b[0;34m.\u001b[0m\u001b[0mopen\u001b[0m\u001b[0;34m(\u001b[0m\u001b[0mfull_img_name\u001b[0m\u001b[0;34m)\u001b[0m\u001b[0;34m\u001b[0m\u001b[0;34m\u001b[0m\u001b[0m\n\u001b[0m\u001b[1;32m     29\u001b[0m \u001b[0;34m\u001b[0m\u001b[0m\n\u001b[1;32m     30\u001b[0m         \u001b[0;31m# labels:\u001b[0m\u001b[0;34m\u001b[0m\u001b[0;34m\u001b[0m\u001b[0;34m\u001b[0m\u001b[0m\n",
      "\u001b[0;32m~/anaconda3/envs/pytorch_general/lib/python3.7/site-packages/PIL/Image.py\u001b[0m in \u001b[0;36mopen\u001b[0;34m(fp, mode)\u001b[0m\n\u001b[1;32m   2764\u001b[0m \u001b[0;34m\u001b[0m\u001b[0m\n\u001b[1;32m   2765\u001b[0m     \u001b[0;32mif\u001b[0m \u001b[0mfilename\u001b[0m\u001b[0;34m:\u001b[0m\u001b[0;34m\u001b[0m\u001b[0;34m\u001b[0m\u001b[0m\n\u001b[0;32m-> 2766\u001b[0;31m         \u001b[0mfp\u001b[0m \u001b[0;34m=\u001b[0m \u001b[0mbuiltins\u001b[0m\u001b[0;34m.\u001b[0m\u001b[0mopen\u001b[0m\u001b[0;34m(\u001b[0m\u001b[0mfilename\u001b[0m\u001b[0;34m,\u001b[0m \u001b[0;34m\"rb\"\u001b[0m\u001b[0;34m)\u001b[0m\u001b[0;34m\u001b[0m\u001b[0;34m\u001b[0m\u001b[0m\n\u001b[0m\u001b[1;32m   2767\u001b[0m         \u001b[0mexclusive_fp\u001b[0m \u001b[0;34m=\u001b[0m \u001b[0;32mTrue\u001b[0m\u001b[0;34m\u001b[0m\u001b[0;34m\u001b[0m\u001b[0m\n\u001b[1;32m   2768\u001b[0m \u001b[0;34m\u001b[0m\u001b[0m\n",
      "\u001b[0;31mOSError\u001b[0m: [Errno 36] File name too long: '../../../ml/Datasets/skin-cancer-mnist-ham10000/images_in_one/2803    ISIC_0031728\\n2803    ISIC_0031728\\n2803    ISIC_0031728\\n2803    ISIC_0031728\\n2803    ISIC_0031728\\n            ...     \\n2803    ISIC_0031728\\n2803    ISIC_0031728\\n2803    ISIC_0031728\\n2803    ISIC_0031728\\n2803    ISIC_0031728\\nName: image_id, Length: 9013, dtype: object.jpg'"
     ]
    }
   ],
   "source": [
    "for items in ham10k_train_weighted_dl:\n",
    "    print(items)\n",
    "    break"
   ]
  },
  {
   "cell_type": "code",
   "execution_count": 36,
   "metadata": {
    "execution": {
     "iopub.execute_input": "2020-04-08T07:05:15.983Z",
     "iopub.status.busy": "2020-04-08T07:05:15.966Z",
     "iopub.status.idle": "2020-04-08T07:05:16.016Z",
     "shell.execute_reply": "2020-04-08T07:05:16.034Z"
    }
   },
   "outputs": [
    {
     "name": "stdout",
     "output_type": "stream",
     "text": [
      "cuda:0\n"
     ]
    }
   ],
   "source": [
    "# Flytta till grafikkortet:\n",
    "\n",
    "use_cuda = torch.cuda.is_available() # True/False\n",
    "device = torch.device(\"cuda:0\" if use_cuda else \"cpu\")\n",
    "print(device)\n",
    "\n",
    "# Override:\n",
    "# device = \"cpu\""
   ]
  },
  {
   "cell_type": "markdown",
   "metadata": {},
   "source": [
    "## Hur blir tensor-storlekarna när de flödar genom ett nät?"
   ]
  },
  {
   "cell_type": "code",
   "execution_count": 37,
   "metadata": {
    "execution": {
     "iopub.execute_input": "2020-04-08T07:05:17.781Z",
     "iopub.status.busy": "2020-04-08T07:05:17.758Z",
     "iopub.status.idle": "2020-04-08T07:05:17.867Z",
     "shell.execute_reply": "2020-04-08T07:05:17.883Z"
    }
   },
   "outputs": [
    {
     "name": "stdout",
     "output_type": "stream",
     "text": [
      "Ursprunglig storlek:  torch.Size([32, 3, 224, 224])\n"
     ]
    }
   ],
   "source": [
    "# Hämta en batch för att skicka igenom\n",
    "# ett nätverk:\n",
    "\n",
    "for x in ham10k_train_dl:\n",
    "    x = x['image']\n",
    "    print(\"Ursprunglig storlek: \", x.shape)\n",
    "    break"
   ]
  },
  {
   "cell_type": "code",
   "execution_count": 38,
   "metadata": {
    "execution": {
     "iopub.execute_input": "2020-04-08T07:05:34.508Z",
     "iopub.status.busy": "2020-04-08T07:05:34.495Z",
     "iopub.status.idle": "2020-04-08T07:05:34.536Z",
     "shell.execute_reply": "2020-04-08T07:05:34.550Z"
    }
   },
   "outputs": [
    {
     "name": "stdout",
     "output_type": "stream",
     "text": [
      "Efter Conv2d(3, 16, 5, 2):  torch.Size([32, 16, 221, 221])\n"
     ]
    }
   ],
   "source": [
    "x = nn.Conv2d(in_channels = 3, out_channels = 16, kernel_size = 4, stride = 1, padding = 0)(x)\n",
    "print(\"Efter Conv2d(3, 16, 5, 2): \", x.shape)"
   ]
  },
  {
   "cell_type": "code",
   "execution_count": 39,
   "metadata": {},
   "outputs": [
    {
     "name": "stdout",
     "output_type": "stream",
     "text": [
      "Efter Pooling, kernel_size = 2, stride = 2 så blir storleken:  torch.Size([32, 16, 110, 110])\n"
     ]
    }
   ],
   "source": [
    "x = nn.MaxPool2d(kernel_size = 2, stride = 2)(x)\n",
    "print(\"Efter Pooling, kernel_size = 2, stride = 2 så blir storleken: \", x.shape)"
   ]
  },
  {
   "cell_type": "code",
   "execution_count": 40,
   "metadata": {},
   "outputs": [
    {
     "name": "stdout",
     "output_type": "stream",
     "text": [
      "torch.Size([32, 64, 105, 105])\n"
     ]
    }
   ],
   "source": [
    "x = nn.Conv2d(16, 64, 6, 1, 0)(x)\n",
    "print(x.shape)"
   ]
  },
  {
   "cell_type": "code",
   "execution_count": 41,
   "metadata": {},
   "outputs": [
    {
     "name": "stdout",
     "output_type": "stream",
     "text": [
      "torch.Size([32, 64, 52, 52])\n"
     ]
    }
   ],
   "source": [
    "x = nn.MaxPool2d(2, 2)(x)\n",
    "print(x.shape)"
   ]
  },
  {
   "cell_type": "code",
   "execution_count": 42,
   "metadata": {},
   "outputs": [
    {
     "name": "stdout",
     "output_type": "stream",
     "text": [
      "torch.Size([32, 128, 24, 24])\n"
     ]
    }
   ],
   "source": [
    "x = nn.Conv2d(64, 128, 5, 2, 0)(x)\n",
    "print(x.shape)"
   ]
  },
  {
   "cell_type": "code",
   "execution_count": 43,
   "metadata": {},
   "outputs": [
    {
     "name": "stdout",
     "output_type": "stream",
     "text": [
      "torch.Size([32, 128, 12, 12])\n"
     ]
    }
   ],
   "source": [
    "x = nn.MaxPool2d(2, 2)(x)\n",
    "print(x.shape)"
   ]
  },
  {
   "cell_type": "code",
   "execution_count": 44,
   "metadata": {},
   "outputs": [
    {
     "name": "stdout",
     "output_type": "stream",
     "text": [
      "torch.Size([32, 256, 10, 10])\n"
     ]
    }
   ],
   "source": [
    "x = nn.Conv2d(128, 256, 3, 1, 0)(x)\n",
    "print(x.shape)"
   ]
  },
  {
   "cell_type": "code",
   "execution_count": 45,
   "metadata": {},
   "outputs": [
    {
     "name": "stdout",
     "output_type": "stream",
     "text": [
      "torch.Size([32, 256, 5, 5])\n"
     ]
    }
   ],
   "source": [
    "x = nn.MaxPool2d(2, 2)(x)\n",
    "print(x.shape)"
   ]
  },
  {
   "cell_type": "code",
   "execution_count": 46,
   "metadata": {},
   "outputs": [
    {
     "data": {
      "text/plain": [
       "32"
      ]
     },
     "execution_count": 46,
     "metadata": {},
     "output_type": "execute_result"
    }
   ],
   "source": [
    "x.size(0) # batchsz"
   ]
  },
  {
   "cell_type": "code",
   "execution_count": 47,
   "metadata": {},
   "outputs": [
    {
     "data": {
      "text/plain": [
       "torch.Size([32, 6400])"
      ]
     },
     "execution_count": 47,
     "metadata": {},
     "output_type": "execute_result"
    }
   ],
   "source": [
    "x.view(x.size(0), -1).shape\n",
    "# alternativt eftersom vi vet batchsz:\n",
    "# x.view(batchsz, -1)"
   ]
  },
  {
   "cell_type": "markdown",
   "metadata": {},
   "source": [
    "## Bygg ett eget CNN-nät:"
   ]
  },
  {
   "cell_type": "code",
   "execution_count": 48,
   "metadata": {},
   "outputs": [],
   "source": [
    "# W_out = (W_in - Kernel_Filtersz + 2*padding) / stride + 1\n",
    "# Avrundas neråt.\n",
    "\n",
    "metadata_input_dim = features_df.shape[1] -1 # första kolumnen är bildnamnet..."
   ]
  },
  {
   "cell_type": "code",
   "execution_count": 49,
   "metadata": {},
   "outputs": [],
   "source": [
    "class MultInput(nn.Module):\n",
    "    def __init__(self):\n",
    "        super(MultInput, self).__init__()\n",
    "        self.image_layer1 = nn.Sequential(\n",
    "            nn.Conv2d(3, 16, 4, 1, 0), # (in, out, kernelsz, stride, padding) 224 --> 221 px\n",
    "            nn.MaxPool2d(2), # 221 --> 110 px\n",
    "            nn.ReLU(),\n",
    "        )\n",
    "        \n",
    "        self.image_layer2 = nn.Sequential(\n",
    "            nn.Conv2d(16, 64, 6, 1, 0), # (in, out, kernelsz, stride) 110 --> 105 px\n",
    "            nn.MaxPool2d(2), # 105 --> 52 px\n",
    "            nn.ReLU(),\n",
    "        )\n",
    "        \n",
    "        self.image_layer3 = nn.Sequential(\n",
    "            nn.Conv2d(64, 128, 5, 2, 0), # (in, out, kernelsz, stride) 52 -->  24 px\n",
    "            nn.MaxPool2d(2), # 24 --> 12 px\n",
    "            nn.ReLU(),\n",
    "        )\n",
    "        \n",
    "        self.image_layer4 = nn.Sequential(\n",
    "            nn.Conv2d(128, 256, 3, 1, 0), # (in, out, kernelsz, stride) 12 -->  10 px\n",
    "            nn.MaxPool2d(2), # 10 --> 5 px\n",
    "            nn.ReLU(),\n",
    "        )\n",
    "\n",
    "        #self.metadata_layer = nn.Sequential(\n",
    "        #    nn.Linear(4, 64),\n",
    "        #    nn.ReLU(),\n",
    "        #)\n",
    "\n",
    "        self.classifier = nn.Sequential(\n",
    "            nn.Linear(5*5*256 + metadata_input_dim, 512),\n",
    "            nn.Linear(512, 256),\n",
    "            nn.Linear(256, 64),\n",
    "            nn.Dropout(p = 0.3),\n",
    "            nn.Linear(64, num_classes),\n",
    "            )\n",
    "        \n",
    "    def forward(self, x1, x2):\n",
    "        x1 = self.image_layer1(x1)\n",
    "        x1 = self.image_layer2(x1)\n",
    "        x1 = nn.Dropout(p = 0.3)(x1)\n",
    "        x1 = self.image_layer3(x1)\n",
    "        x1 = self.image_layer4(x1)\n",
    "        x1 = nn.Dropout(p = 0.3)(x1)\n",
    "        \n",
    "        #x2 = self.metadata_layer(x2)\n",
    "\n",
    "        x1 = x1.view(x1.size(0), -1)\n",
    "        x2 = x2.view(x2.size(0), -1)\n",
    "        x = torch.cat((x1, x2), dim = 1)\n",
    "        x = self.classifier(x)\n",
    "\n",
    "        #return F.log_softmax(x, dim = 1)\n",
    "        return x\n",
    "        "
   ]
  },
  {
   "cell_type": "code",
   "execution_count": 50,
   "metadata": {},
   "outputs": [],
   "source": [
    "# Med batchnorm och lite djupare:\n",
    "\n",
    "class MultInput(nn.Module):\n",
    "    def __init__(self):\n",
    "        super(MultInput, self).__init__()\n",
    "        self.image_layer1 = nn.Sequential(\n",
    "            nn.Conv2d(3, 16, 4, 1, 0), # (in, out, kernelsz, stride, padding) 224 --> 221 px\n",
    "            nn.BatchNorm2d(16), \n",
    "            nn.Conv2d(16, 32, 5, 1, 0), # 221 --> 217 px\n",
    "            nn.BatchNorm2d(32),\n",
    "            nn.ReLU(),\n",
    "        )\n",
    "        \n",
    "        self.image_layer2 = nn.Sequential(\n",
    "            nn.Conv2d(32, 64, 5, 2, 0), # (in, out, kernelsz, stride) 217 --> 107 px\n",
    "            nn.BatchNorm2d(64),\n",
    "            nn.Conv2d(64, 96, 5, 1, 0), # 107 --> 103 px\n",
    "            nn.BatchNorm2d(96),\n",
    "            nn.ReLU(),\n",
    "        )\n",
    "        \n",
    "        self.image_layer3 = nn.Sequential(\n",
    "            nn.Conv2d(96, 96, 5, 2, 0), # (in, out, kernelsz, stride) 103 -->  50 px\n",
    "            nn.BatchNorm2d(96),\n",
    "            nn.Conv2d(96, 128, 5, 1, 0), # 46\n",
    "            nn.ReLU(),\n",
    "        )\n",
    "        \n",
    "        self.image_layer4 = nn.Sequential(\n",
    "            nn.Conv2d(128, 128, 3, 2, 0), # (in, out, kernelsz, stride) 46 -->  22 px\n",
    "            nn.BatchNorm2d(128),\n",
    "            nn.Conv2d(128, 256, 3, 2, 0), # 22 --> 10 px\n",
    "            nn.BatchNorm2d(256),\n",
    "            nn.ReLU(),\n",
    "        )\n",
    "\n",
    "        #self.metadata_layer = nn.Sequential(\n",
    "        #    nn.Linear(4, 64),\n",
    "        #    nn.ReLU(),\n",
    "        #)\n",
    "\n",
    "        self.classifier = nn.Sequential(\n",
    "            nn.Linear(10*10*256 + metadata_input_dim, 512),\n",
    "            nn.Linear(512, 256),\n",
    "            nn.Dropout(p = 0.3),\n",
    "            nn.Linear(256, 64),\n",
    "            nn.Dropout(p = 0.3),\n",
    "            nn.Linear(64, num_classes),\n",
    "            )\n",
    "        \n",
    "    def forward(self, x1, x2):\n",
    "        x1 = self.image_layer1(x1)\n",
    "        x1 = self.image_layer2(x1)\n",
    "        #x1 = nn.Dropout(p = 0.3)(x1)\n",
    "        x1 = self.image_layer3(x1)\n",
    "        x1 = self.image_layer4(x1)\n",
    "        #x1 = nn.Dropout(p = 0.3)(x1)\n",
    "        \n",
    "        #x2 = self.metadata_layer(x2)\n",
    "\n",
    "        x1 = x1.view(x1.size(0), -1)\n",
    "        x2 = x2.view(x2.size(0), -1)\n",
    "        x = torch.cat((x1, x2), dim = 1)\n",
    "        x = self.classifier(x)\n",
    "        \n",
    "        #return F.log_softmax(x, dim = 1)\n",
    "        return x\n",
    "    "
   ]
  },
  {
   "cell_type": "code",
   "execution_count": 51,
   "metadata": {},
   "outputs": [
    {
     "data": {
      "text/plain": [
       "MultInput(\n",
       "  (image_layer1): Sequential(\n",
       "    (0): Conv2d(3, 16, kernel_size=(4, 4), stride=(1, 1))\n",
       "    (1): BatchNorm2d(16, eps=1e-05, momentum=0.1, affine=True, track_running_stats=True)\n",
       "    (2): Conv2d(16, 32, kernel_size=(5, 5), stride=(1, 1))\n",
       "    (3): BatchNorm2d(32, eps=1e-05, momentum=0.1, affine=True, track_running_stats=True)\n",
       "    (4): ReLU()\n",
       "  )\n",
       "  (image_layer2): Sequential(\n",
       "    (0): Conv2d(32, 64, kernel_size=(5, 5), stride=(2, 2))\n",
       "    (1): BatchNorm2d(64, eps=1e-05, momentum=0.1, affine=True, track_running_stats=True)\n",
       "    (2): Conv2d(64, 96, kernel_size=(5, 5), stride=(1, 1))\n",
       "    (3): BatchNorm2d(96, eps=1e-05, momentum=0.1, affine=True, track_running_stats=True)\n",
       "    (4): ReLU()\n",
       "  )\n",
       "  (image_layer3): Sequential(\n",
       "    (0): Conv2d(96, 96, kernel_size=(5, 5), stride=(2, 2))\n",
       "    (1): BatchNorm2d(96, eps=1e-05, momentum=0.1, affine=True, track_running_stats=True)\n",
       "    (2): Conv2d(96, 128, kernel_size=(5, 5), stride=(1, 1))\n",
       "    (3): ReLU()\n",
       "  )\n",
       "  (image_layer4): Sequential(\n",
       "    (0): Conv2d(128, 128, kernel_size=(3, 3), stride=(2, 2))\n",
       "    (1): BatchNorm2d(128, eps=1e-05, momentum=0.1, affine=True, track_running_stats=True)\n",
       "    (2): Conv2d(128, 256, kernel_size=(3, 3), stride=(2, 2))\n",
       "    (3): BatchNorm2d(256, eps=1e-05, momentum=0.1, affine=True, track_running_stats=True)\n",
       "    (4): ReLU()\n",
       "  )\n",
       "  (classifier): Sequential(\n",
       "    (0): Linear(in_features=25604, out_features=512, bias=True)\n",
       "    (1): Linear(in_features=512, out_features=256, bias=True)\n",
       "    (2): Dropout(p=0.3, inplace=False)\n",
       "    (3): Linear(in_features=256, out_features=64, bias=True)\n",
       "    (4): Dropout(p=0.3, inplace=False)\n",
       "    (5): Linear(in_features=64, out_features=7, bias=True)\n",
       "  )\n",
       ")"
      ]
     },
     "execution_count": 51,
     "metadata": {},
     "output_type": "execute_result"
    }
   ],
   "source": [
    "# Definiera en instans av CNN():\n",
    "mult_model = MultInput()\n",
    "\n",
    "# Flytta till rätt device för träning:\n",
    "mult_model.to(device)"
   ]
  },
  {
   "cell_type": "code",
   "execution_count": 52,
   "metadata": {},
   "outputs": [
    {
     "data": {
      "text/plain": [
       "True"
      ]
     },
     "execution_count": 52,
     "metadata": {},
     "output_type": "execute_result"
    }
   ],
   "source": [
    "# Dubbelkolla att modellen flyttats till \n",
    "# grafikkortet eller ej (True/False):\n",
    "\n",
    "next(mult_model.parameters()).is_cuda"
   ]
  },
  {
   "cell_type": "code",
   "execution_count": 53,
   "metadata": {},
   "outputs": [
    {
     "name": "stdout",
     "output_type": "stream",
     "text": [
      "Antalet träningsbara parametrar är 14 458 519 st\n"
     ]
    }
   ],
   "source": [
    "# Hur många parametrar har modellen\n",
    "# att träna?\n",
    "\n",
    "trainableparameters = []\n",
    "for param in mult_model.parameters():\n",
    "    # trainableparameters = param.numel()\n",
    "    trainableparameters.append(param.numel())\n",
    "\n",
    "tot_params = np.sum(trainableparameters)\n",
    "\n",
    "print(f'Antalet träningsbara parametrar är {tot_params:n} st')"
   ]
  },
  {
   "cell_type": "markdown",
   "metadata": {},
   "source": [
    "### Återställ nätets vikter"
   ]
  },
  {
   "cell_type": "code",
   "execution_count": 54,
   "metadata": {},
   "outputs": [
    {
     "data": {
      "text/plain": [
       "MultInput(\n",
       "  (image_layer1): Sequential(\n",
       "    (0): Conv2d(3, 16, kernel_size=(4, 4), stride=(1, 1))\n",
       "    (1): BatchNorm2d(16, eps=1e-05, momentum=0.1, affine=True, track_running_stats=True)\n",
       "    (2): Conv2d(16, 32, kernel_size=(5, 5), stride=(1, 1))\n",
       "    (3): BatchNorm2d(32, eps=1e-05, momentum=0.1, affine=True, track_running_stats=True)\n",
       "    (4): ReLU()\n",
       "  )\n",
       "  (image_layer2): Sequential(\n",
       "    (0): Conv2d(32, 64, kernel_size=(5, 5), stride=(2, 2))\n",
       "    (1): BatchNorm2d(64, eps=1e-05, momentum=0.1, affine=True, track_running_stats=True)\n",
       "    (2): Conv2d(64, 96, kernel_size=(5, 5), stride=(1, 1))\n",
       "    (3): BatchNorm2d(96, eps=1e-05, momentum=0.1, affine=True, track_running_stats=True)\n",
       "    (4): ReLU()\n",
       "  )\n",
       "  (image_layer3): Sequential(\n",
       "    (0): Conv2d(96, 96, kernel_size=(5, 5), stride=(2, 2))\n",
       "    (1): BatchNorm2d(96, eps=1e-05, momentum=0.1, affine=True, track_running_stats=True)\n",
       "    (2): Conv2d(96, 128, kernel_size=(5, 5), stride=(1, 1))\n",
       "    (3): ReLU()\n",
       "  )\n",
       "  (image_layer4): Sequential(\n",
       "    (0): Conv2d(128, 128, kernel_size=(3, 3), stride=(2, 2))\n",
       "    (1): BatchNorm2d(128, eps=1e-05, momentum=0.1, affine=True, track_running_stats=True)\n",
       "    (2): Conv2d(128, 256, kernel_size=(3, 3), stride=(2, 2))\n",
       "    (3): BatchNorm2d(256, eps=1e-05, momentum=0.1, affine=True, track_running_stats=True)\n",
       "    (4): ReLU()\n",
       "  )\n",
       "  (classifier): Sequential(\n",
       "    (0): Linear(in_features=25604, out_features=512, bias=True)\n",
       "    (1): Linear(in_features=512, out_features=256, bias=True)\n",
       "    (2): Dropout(p=0.3, inplace=False)\n",
       "    (3): Linear(in_features=256, out_features=64, bias=True)\n",
       "    (4): Dropout(p=0.3, inplace=False)\n",
       "    (5): Linear(in_features=64, out_features=7, bias=True)\n",
       "  )\n",
       ")"
      ]
     },
     "execution_count": 54,
     "metadata": {},
     "output_type": "execute_result"
    }
   ],
   "source": [
    "mult_model.apply(weights_init)"
   ]
  },
  {
   "cell_type": "markdown",
   "metadata": {},
   "source": [
    "### Loss och optimiser"
   ]
  },
  {
   "cell_type": "code",
   "execution_count": 55,
   "metadata": {},
   "outputs": [],
   "source": [
    "# Definiera loss-function och vilken optimerare som ska användas:\n",
    "\n",
    "epochs = 6 # verkar räcka med tanke på overfitting.\n",
    "\n",
    "learning_rate = 1e-4\n",
    "\n",
    "criterion = nn.CrossEntropyLoss()\n",
    "optimizer = torch.optim.Adam(mult_model.parameters(), lr = learning_rate)"
   ]
  },
  {
   "cell_type": "code",
   "execution_count": 56,
   "metadata": {},
   "outputs": [
    {
     "name": "stdout",
     "output_type": "stream",
     "text": [
      "multi_model_cnn_e6_bsz32_lr1e-04\n"
     ]
    }
   ],
   "source": [
    "modelname = create_filename(\"multi_model_cnn\")\n",
    "print(modelname)"
   ]
  },
  {
   "cell_type": "markdown",
   "metadata": {},
   "source": [
    "## Trainingloop:"
   ]
  },
  {
   "cell_type": "code",
   "execution_count": 57,
   "metadata": {
    "scrolled": true
   },
   "outputs": [
    {
     "name": "stdout",
     "output_type": "stream",
     "text": [
      "Epok 001, 135.3 sek. --- train acc = 0.666 --- val acc = 0.724 --- train loss = 0.94899 --- val loss = 0.77203\n",
      "Epok 002, 65.4 sek. --- train acc = 0.702 --- val acc = 0.740 --- train loss = 0.83108 --- val loss = 0.74064\n",
      "Epok 003, 64.7 sek. --- train acc = 0.721 --- val acc = 0.752 --- train loss = 0.77102 --- val loss = 0.73270\n",
      "Epok 004, 65.0 sek. --- train acc = 0.733 --- val acc = 0.735 --- train loss = 0.73071 --- val loss = 0.74022\n",
      "Epok 005, 64.5 sek. --- train acc = 0.750 --- val acc = 0.743 --- train loss = 0.69823 --- val loss = 0.72634\n",
      "Epok 006, 64.5 sek. --- train acc = 0.762 --- val acc = 0.751 --- train loss = 0.66539 --- val loss = 0.73435\n",
      "\n",
      "Training took 7.66 minutes.\n"
     ]
    }
   ],
   "source": [
    "mult_model.apply(weights_init)\n",
    "\n",
    "do_validation = 1\n",
    "\n",
    "import time\n",
    "start_training_time = time.time()\n",
    "\n",
    "num_training_images = len(ham10k_train_dl.dataset)\n",
    "num_val_images = len(ham10k_val_dl.dataset)\n",
    "\n",
    "accuracy_train = []\n",
    "losses_train = []\n",
    "accuracy_val = []\n",
    "losses_val = []\n",
    "\n",
    "for epoch in range(epochs):\n",
    "    start_epoch_time = time.time()\n",
    "    \n",
    "    num_correct_per_epoch_train = 0\n",
    "    tot_loss_per_epoch_train = 0.0\n",
    " \n",
    "    for idx_train, inputs_train in enumerate(ham10k_train_dl):\n",
    "        images_train = inputs_train['image'].float().to(device)\n",
    "        metadata_train = inputs_train['metadata'].float().to(device)\n",
    "        labels_train = inputs_train['label'].flatten().to(device)\n",
    "        \n",
    "        mult_model.train()\n",
    "        # Låt modellen göra förutsägelser:\n",
    "        predictions_train = mult_model.forward(images_train, metadata_train)\n",
    "        \n",
    "        # Beräkna statistik från träningen på träningsmängden:\n",
    "        _, predicted_train = torch.max(predictions_train.data, 1)\n",
    "        num_correct_per_batch_train = torch.sum(predicted_train.detach() == labels_train.detach())\n",
    "        num_correct_per_epoch_train += num_correct_per_batch_train\n",
    "        \n",
    "        # Beräkna loss:\n",
    "        loss_per_batch_train = criterion(predictions_train, labels_train)\n",
    "        tot_loss_per_epoch_train += loss_per_batch_train.item() * batchsz\n",
    "        \n",
    "        # Nolla ackadumulerade gradienter, göra \n",
    "        # backprop. & uppdatera vår optimeringsfunktion:\n",
    "        optimizer.zero_grad()\n",
    "        loss_per_batch_train.backward()\n",
    "        optimizer.step()\n",
    "        \n",
    "    # Validation\n",
    "    if do_validation == True:\n",
    "        start_eval_time = time.time()\n",
    "        mult_model.eval()\n",
    "        \n",
    "        num_correct_per_epoch_val = 0\n",
    "        tot_loss_per_epoch_val = 0.0\n",
    "        \n",
    "        for idx_val, inputs_val in enumerate(ham10k_val_dl):\n",
    "            images_val = inputs_val['image'].float().to(device)\n",
    "            metadata_val = inputs_val['metadata'].float().to(device)\n",
    "            labels_val = inputs_val['label'].flatten().to(device)\n",
    "\n",
    "            with torch.no_grad():\n",
    "                            \n",
    "                predictions_val = mult_model.forward(images_val, metadata_val)\n",
    "                _, predicted_val = torch.max(predictions_val, 1)\n",
    "                # Behöver ej använda .detach med torch.no_grad()\n",
    "                num_correct_per_batch_val = torch.sum(predicted_val == labels_val)\n",
    "                #num_correct_per_batch_val = torch.sum(predicted_val.detach() == labels_val.detach())\n",
    "                num_correct_per_epoch_val += num_correct_per_batch_val\n",
    "                \n",
    "                loss_per_batch_val = criterion(predictions_val, labels_val) \n",
    "                tot_loss_per_epoch_val += loss_per_batch_val.item() * batchsz\n",
    "        \n",
    "        end_eval_time = time.time()\n",
    "    else:\n",
    "        pass\n",
    "    \n",
    "    # Beräkna statistik från epoken:\n",
    "    # Use torch.Tensor.item() to get a Python number \n",
    "    # from a tensor containing a single value:\n",
    "    \n",
    "    # acc, train:\n",
    "    accuracy_per_epoch_train = num_correct_per_epoch_train.item() / num_training_images\n",
    "    accuracy_train.append(accuracy_per_epoch_train)\n",
    "        \n",
    "    # loss, train:\n",
    "    loss_per_epoch_train = tot_loss_per_epoch_train / num_training_images\n",
    "    losses_train.append(loss_per_epoch_train)\n",
    "    \n",
    "    if do_validation == True:\n",
    "        # acc, val:\n",
    "        accuracy_per_epoch_val = num_correct_per_epoch_val.item() / num_val_images\n",
    "        accuracy_val.append(accuracy_per_epoch_val)\n",
    "        \n",
    "        # loss, val:\n",
    "        loss_per_epoch_val = tot_loss_per_epoch_val / num_val_images\n",
    "        losses_val.append(loss_per_epoch_val)\n",
    "    else:\n",
    "        pass\n",
    "    \n",
    "    end_epoch_time = time.time()\n",
    "    epoch_time = end_epoch_time - start_epoch_time\n",
    "    \n",
    "    # epoch startar på 0, därav \"+1\" nedan:\n",
    "    if do_validation == True:\n",
    "        print(f\"Epok {epoch+1:03}, {epoch_time:4.1f} sek. --- train acc = {accuracy_per_epoch_train:4.3f} --- val acc = {accuracy_per_epoch_val:4.3f} --- train loss = {loss_per_epoch_train:4.5f} --- val loss = {loss_per_epoch_val:4.5f}\")\n",
    "    else:\n",
    "        print(f\"Epok {epoch+1:03}, {epoch_time:4.1f} sek. --- train acc = {accuracy_per_epoch_train:4.3f} --- train loss = {loss_per_epoch_train:4.5f}\")\n",
    "    \n",
    "end_training_time = time.time()\n",
    "\n",
    "delta = end_training_time - start_training_time\n",
    "\n",
    "print(f'\\nTraining took {delta/60:.2f} minutes.')    "
   ]
  },
  {
   "cell_type": "code",
   "execution_count": 58,
   "metadata": {},
   "outputs": [],
   "source": [
    "save_trained_model(modelname)"
   ]
  },
  {
   "cell_type": "markdown",
   "metadata": {},
   "source": [
    "## Visualisering av träningsomgången"
   ]
  },
  {
   "cell_type": "code",
   "execution_count": 59,
   "metadata": {},
   "outputs": [
    {
     "data": {
      "image/png": "[encoded data removed]",
      "text/plain": [
       "<Figure size 864x504 with 1 Axes>"
      ]
     },
     "metadata": {
      "needs_background": "light"
     },
     "output_type": "display_data"
    }
   ],
   "source": [
    "if do_validation == False:\n",
    "\n",
    "    plt.figure(figsize = (12, 7))\n",
    "    plt.title(\"Visualisering träningsomgången\")\n",
    "    plt.plot(losses_train, label = \"Loss\")\n",
    "    plt.plot(accuracy_train, label = \"Andel korrekta\")\n",
    "    plt.legend()\n",
    "    plt.show()\n",
    "else:\n",
    "    plt.figure(figsize = (12, 7))\n",
    "    plt.title(\"Visualisering träningsomgången\")\n",
    "    plt.plot(losses_train, label = \"Loss, train\")\n",
    "    plt.plot(accuracy_train, label = \"Acc train\")\n",
    "    plt.plot(losses_val, label = \"Loss, validation\", linestyle='dashed')\n",
    "    plt.plot(accuracy_val, label = \"Acc validation\", linestyle='dashed')\n",
    "    plt.legend(loc = 'lower left')\n",
    "    plt.show()"
   ]
  },
  {
   "cell_type": "markdown",
   "metadata": {},
   "source": [
    "## Utvärdering"
   ]
  },
  {
   "cell_type": "code",
   "execution_count": 60,
   "metadata": {},
   "outputs": [],
   "source": [
    "def evaluate_model(num_eval_images, data_generator, model):\n",
    "\n",
    "    model.eval()\n",
    "\n",
    "    start_eval_test_time = time.time()\n",
    "    \n",
    "    global labels_val_true_np, predicted_val_np\n",
    "    \n",
    "    labels_ground_truth = []\n",
    "    predicted_classes_val = []\n",
    "    \n",
    "    with torch.no_grad():\n",
    "        correct_val = 0\n",
    "        # Antal iterationer = num_images / batchsz = x st.\n",
    "        for inputs in data_generator:\n",
    "            images = inputs['image'].float().to(device)\n",
    "            metadata = inputs['metadata'].float().to(device)\n",
    "            labels = inputs['label'].flatten().to(device)\n",
    "            \n",
    "            # Spara för mer utvärdering utanför denna funktion:\n",
    "            labels_ground_truth.append(labels.cpu().numpy())\n",
    "        \n",
    "            # Låt modellen göra förutsägelser:\n",
    "            predictions_val = mult_model.forward(images, metadata)\n",
    "            _, predicted_val = torch.max(input = predictions_val, dim = 1)\n",
    "            predicted_classes_val.append(predicted_val.cpu().numpy())\n",
    "            \n",
    "            correct_val += (predicted_val == labels).sum()\n",
    "\n",
    "        # Platta till listorna...\n",
    "        labels_ground_truth = [item for sublist in labels_ground_truth for item in sublist]\n",
    "        predicted_classes_val = [item for sublist in predicted_classes_val for item in sublist]\n",
    "        \n",
    "        #flat_list = []\n",
    "        #for sublist in predicted_classes_val:\n",
    "        #    for item in sublist:\n",
    "        #        flat_list.append(item)\n",
    "        \n",
    "        labels_val_true_np = np.array(labels_ground_truth)\n",
    "        predicted_val_np = np.array(predicted_classes_val)        \n",
    "        \n",
    "        end_eval_test_time = time.time()\n",
    "        eval_test_time = end_eval_test_time - start_eval_test_time\n",
    "\n",
    "    print(f'Test accuracy: {correct_val.item()}/{num_eval_images} = {100*correct_val.item()/(num_eval_images):5.2f} %')\n",
    "    print(f\"\\nEvaluation took {eval_test_time:.2f} seconds.\")"
   ]
  },
  {
   "cell_type": "code",
   "execution_count": 61,
   "metadata": {},
   "outputs": [
    {
     "name": "stdout",
     "output_type": "stream",
     "text": [
      "Test accuracy: 753/1002 = 75.15 %\n",
      "\n",
      "Evaluation took 4.24 seconds.\n"
     ]
    }
   ],
   "source": [
    "evaluate_model(len(ham10k_val_dl.dataset), ham10k_val_dl, mult_model)"
   ]
  },
  {
   "cell_type": "code",
   "execution_count": 62,
   "metadata": {},
   "outputs": [],
   "source": [
    "cm_pytorch = confusion_matrix(labels_val_true_np, predicted_val_np)"
   ]
  },
  {
   "cell_type": "code",
   "execution_count": 63,
   "metadata": {},
   "outputs": [
    {
     "name": "stdout",
     "output_type": "stream",
     "text": [
      "[[  1  13   9   1   2   6   2]\n",
      " [  0  28   4   0   0  10   2]\n",
      " [  1   4  60   0   5  35   1]\n",
      " [  1   6   1   0   1   3   3]\n",
      " [  1   2  24   1  19  51   0]\n",
      " [  0  10  33   0  13 639   3]\n",
      " [  0   0   0   0   0   1   6]]\n"
     ]
    }
   ],
   "source": [
    "print(cm_pytorch)"
   ]
  },
  {
   "cell_type": "code",
   "execution_count": 64,
   "metadata": {},
   "outputs": [
    {
     "name": "stdout",
     "output_type": "stream",
     "text": [
      "              precision    recall  f1-score   support\n",
      "\n",
      "           0       0.25      0.03      0.05        34\n",
      "           1       0.44      0.64      0.52        44\n",
      "           2       0.46      0.57      0.51       106\n",
      "           3       0.00      0.00      0.00        15\n",
      "           4       0.47      0.19      0.28        98\n",
      "           5       0.86      0.92      0.89       698\n",
      "           6       0.35      0.86      0.50         7\n",
      "\n",
      "    accuracy                           0.75      1002\n",
      "   macro avg       0.41      0.46      0.39      1002\n",
      "weighted avg       0.72      0.75      0.73      1002\n",
      "\n"
     ]
    }
   ],
   "source": [
    "print(classification_report(labels_val_true_np, predicted_val_np))"
   ]
  }
 ],
 "metadata": {
  "kernelspec": {
   "display_name": "pytorch_general",
   "language": "python",
   "name": "pytorch_general"
  },
  "language_info": {
   "codemirror_mode": {
    "name": "ipython",
    "version": 3
   },
   "file_extension": ".py",
   "mimetype": "text/x-python",
   "name": "python",
   "nbconvert_exporter": "python",
   "pygments_lexer": "ipython3",
   "version": "3.7.6"
  },
  "latex_envs": {
   "LaTeX_envs_menu_present": true,
   "autoclose": false,
   "autocomplete": true,
   "bibliofile": "biblio.bib",
   "cite_by": "apalike",
   "current_citInitial": 1,
   "eqLabelWithNumbers": true,
   "eqNumInitial": 1,
   "hotkeys": {
    "equation": "Ctrl-E",
    "itemize": "Ctrl-I"
   },
   "labels_anchors": false,
   "latex_user_defs": false,
   "report_style_numbering": false,
   "user_envs_cfg": false
  },
  "nteract": {
   "version": "0.22.4"
  },
  "varInspector": {
   "cols": {
    "lenName": 16,
    "lenType": 16,
    "lenVar": 40
   },
   "kernels_config": {
    "python": {
     "delete_cmd_postfix": "",
     "delete_cmd_prefix": "del ",
     "library": "var_list.py",
     "varRefreshCmd": "print(var_dic_list())"
    },
    "r": {
     "delete_cmd_postfix": ") ",
     "delete_cmd_prefix": "rm(",
     "library": "var_list.r",
     "varRefreshCmd": "cat(var_dic_list()) "
    }
   },
   "types_to_exclude": [
    "module",
    "function",
    "builtin_function_or_method",
    "instance",
    "_Feature"
   ],
   "window_display": false
  }
 },
 "nbformat": 4,
 "nbformat_minor": 2
}
