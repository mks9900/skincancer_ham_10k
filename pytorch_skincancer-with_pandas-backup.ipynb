{
 "cells": [
  {
   "cell_type": "markdown",
   "metadata": {},
   "source": [
    "# Skincancer HAM-dataset using Pytorch"
   ]
  },
  {
   "cell_type": "markdown",
   "metadata": {},
   "source": [
    "### 1. Standardimporter"
   ]
  },
  {
   "cell_type": "code",
   "execution_count": 135,
   "metadata": {},
   "outputs": [],
   "source": [
    "import torch\n",
    "import torch.nn as nn\n",
    "import torch.nn.functional as F\n",
    "from torch.utils.data import DataLoader, Dataset\n",
    "from torchvision import datasets, transforms\n",
    "from torchvision.utils import make_grid\n",
    "import os\n",
    "from PIL import Image\n",
    "from skimage import io, transform\n",
    "\n",
    "import numpy as np\n",
    "import pandas as pd\n",
    "#from sklearn.metrics import confusion_matrix\n",
    "import matplotlib.pyplot as plt\n",
    "%matplotlib inline"
   ]
  },
  {
   "cell_type": "code",
   "execution_count": 3,
   "metadata": {},
   "outputs": [],
   "source": [
    "homePath = os.path.dirname(\"/home/johan/Dropbox/coding/\")\n",
    "# print(homePath) ---> /home/johan/Dropbox/coding\n",
    "\n",
    "basePath = homePath + \"/\" +\"ml/Datasets/skin-cancer-mnist-ham10000/images_in_one\"\n",
    "# print(basePath) ---> /home/johan/Dropbox/coding/ml/Datasets/skin-cancer-mnist-ham10000/\n",
    "\n",
    "imageFolder = \"images_per_label_splitted_sets\"\n",
    "\n",
    "metadataSkincancerFilename =  \"../../../ml/Datasets/skin-cancer-mnist-ham10000/csv/HAM10000_metadata.csv\""
   ]
  },
  {
   "cell_type": "code",
   "execution_count": 4,
   "metadata": {},
   "outputs": [
    {
     "name": "stdout",
     "output_type": "stream",
     "text": [
      "../../../ml/Datasets/skin-cancer-mnist-ham10000/csv/HAM10000_metadata.csv\n"
     ]
    }
   ],
   "source": [
    "print(metadataSkincancerFilename)"
   ]
  },
  {
   "cell_type": "code",
   "execution_count": 5,
   "metadata": {},
   "outputs": [],
   "source": [
    "# Importera metadatan i en Pandas DataFrame:\n",
    "\n",
    "skincancer_df = pd.read_csv(metadataSkincancerFilename)"
   ]
  },
  {
   "cell_type": "code",
   "execution_count": 6,
   "metadata": {},
   "outputs": [
    {
     "data": {
      "text/plain": [
       "lesion_id        0\n",
       "image_id         0\n",
       "dx               0\n",
       "dx_type          0\n",
       "age             57\n",
       "sex              0\n",
       "localization     0\n",
       "dtype: int64"
      ]
     },
     "execution_count": 6,
     "metadata": {},
     "output_type": "execute_result"
    }
   ],
   "source": [
    "# Kolla om vi har några noll-värden i vår Dataframe:\n",
    "\n",
    "skincancer_df.isnull().sum()"
   ]
  },
  {
   "cell_type": "code",
   "execution_count": 7,
   "metadata": {},
   "outputs": [],
   "source": [
    "# Enligt ovan är det bara i \"age\"-kolumnen som vi har noll-värden. \n",
    "# Dessa fyller vi ut genom att beräkna medevärdet:\n",
    "\n",
    "skincancer_df['age'].fillna((skincancer_df['age'].mean()), inplace=True)"
   ]
  },
  {
   "cell_type": "code",
   "execution_count": 8,
   "metadata": {},
   "outputs": [],
   "source": [
    "labels = skincancer_df['dx']\n",
    "num_classes = len(labels.unique()) # --> 7"
   ]
  },
  {
   "cell_type": "code",
   "execution_count": 9,
   "metadata": {},
   "outputs": [],
   "source": [
    "np_labels = np.array(labels)"
   ]
  },
  {
   "cell_type": "code",
   "execution_count": 10,
   "metadata": {},
   "outputs": [
    {
     "data": {
      "text/plain": [
       "array([2, 2, 2, ..., 0, 0, 4])"
      ]
     },
     "execution_count": 10,
     "metadata": {},
     "output_type": "execute_result"
    }
   ],
   "source": [
    "from sklearn.preprocessing import LabelEncoder\n",
    "label_encoder = LabelEncoder()\n",
    "\n",
    "enc_labels = label_encoder.fit_transform(np_labels)\n",
    "enc_labels"
   ]
  },
  {
   "cell_type": "code",
   "execution_count": 11,
   "metadata": {},
   "outputs": [
    {
     "data": {
      "text/plain": [
       "tensor([2, 2, 2,  ..., 0, 0, 4])"
      ]
     },
     "execution_count": 11,
     "metadata": {},
     "output_type": "execute_result"
    }
   ],
   "source": [
    "torch_labels = torch.from_numpy(enc_labels)\n",
    "torch_labels"
   ]
  },
  {
   "cell_type": "code",
   "execution_count": 12,
   "metadata": {},
   "outputs": [
    {
     "data": {
      "text/html": [
       "<div>\n",
       "<style scoped>\n",
       "    .dataframe tbody tr th:only-of-type {\n",
       "        vertical-align: middle;\n",
       "    }\n",
       "\n",
       "    .dataframe tbody tr th {\n",
       "        vertical-align: top;\n",
       "    }\n",
       "\n",
       "    .dataframe thead th {\n",
       "        text-align: right;\n",
       "    }\n",
       "</style>\n",
       "<table border=\"1\" class=\"dataframe\">\n",
       "  <thead>\n",
       "    <tr style=\"text-align: right;\">\n",
       "      <th></th>\n",
       "      <th>lesion_id</th>\n",
       "      <th>image_id</th>\n",
       "      <th>age</th>\n",
       "      <th>dx_type</th>\n",
       "      <th>sex</th>\n",
       "      <th>localization</th>\n",
       "      <th>dx</th>\n",
       "    </tr>\n",
       "  </thead>\n",
       "  <tbody>\n",
       "    <tr>\n",
       "      <th>0</th>\n",
       "      <td>HAM_0000118</td>\n",
       "      <td>ISIC_0027419</td>\n",
       "      <td>80.0</td>\n",
       "      <td>histo</td>\n",
       "      <td>male</td>\n",
       "      <td>scalp</td>\n",
       "      <td>bkl</td>\n",
       "    </tr>\n",
       "    <tr>\n",
       "      <th>1</th>\n",
       "      <td>HAM_0000118</td>\n",
       "      <td>ISIC_0025030</td>\n",
       "      <td>80.0</td>\n",
       "      <td>histo</td>\n",
       "      <td>male</td>\n",
       "      <td>scalp</td>\n",
       "      <td>bkl</td>\n",
       "    </tr>\n",
       "    <tr>\n",
       "      <th>2</th>\n",
       "      <td>HAM_0002730</td>\n",
       "      <td>ISIC_0026769</td>\n",
       "      <td>80.0</td>\n",
       "      <td>histo</td>\n",
       "      <td>male</td>\n",
       "      <td>scalp</td>\n",
       "      <td>bkl</td>\n",
       "    </tr>\n",
       "  </tbody>\n",
       "</table>\n",
       "</div>"
      ],
      "text/plain": [
       "     lesion_id      image_id   age dx_type   sex localization   dx\n",
       "0  HAM_0000118  ISIC_0027419  80.0   histo  male        scalp  bkl\n",
       "1  HAM_0000118  ISIC_0025030  80.0   histo  male        scalp  bkl\n",
       "2  HAM_0002730  ISIC_0026769  80.0   histo  male        scalp  bkl"
      ]
     },
     "execution_count": 12,
     "metadata": {},
     "output_type": "execute_result"
    }
   ],
   "source": [
    "# Innan vi fortsätter måste vi göra om \n",
    "# text-datan till numeriska features.\n",
    "\n",
    "# 1. Flytta labels sist i df\n",
    "# 2. Flytta age till efter image_id\n",
    "# 3. Alla categorical features emellan.\n",
    "\n",
    "skincancer_df = skincancer_df[['lesion_id', 'image_id', 'age', 'dx_type', 'sex', 'localization', 'dx']]\n",
    "skincancer_df.head(n = 3)"
   ]
  },
  {
   "cell_type": "code",
   "execution_count": 13,
   "metadata": {},
   "outputs": [],
   "source": [
    "from sklearn.preprocessing import LabelEncoder"
   ]
  },
  {
   "cell_type": "code",
   "execution_count": 14,
   "metadata": {},
   "outputs": [
    {
     "data": {
      "text/plain": [
       "histo        5340\n",
       "follow_up    3704\n",
       "consensus     902\n",
       "confocal       69\n",
       "Name: dx_type, dtype: int64"
      ]
     },
     "execution_count": 14,
     "metadata": {},
     "output_type": "execute_result"
    }
   ],
   "source": [
    "dxtype_feat_df = skincancer_df.iloc[:, 3]\n",
    "dxtype_feat_df.value_counts()"
   ]
  },
  {
   "cell_type": "code",
   "execution_count": 15,
   "metadata": {},
   "outputs": [
    {
     "data": {
      "text/plain": [
       "male       5406\n",
       "female     4552\n",
       "unknown      57\n",
       "Name: sex, dtype: int64"
      ]
     },
     "execution_count": 15,
     "metadata": {},
     "output_type": "execute_result"
    }
   ],
   "source": [
    "sex_feat_df = skincancer_df.iloc[:, 4]\n",
    "sex_feat_df.value_counts()"
   ]
  },
  {
   "cell_type": "code",
   "execution_count": 16,
   "metadata": {},
   "outputs": [
    {
     "data": {
      "text/plain": [
       "histo        5340\n",
       "follow_up    3704\n",
       "consensus     902\n",
       "confocal       69\n",
       "Name: dx_type, dtype: int64"
      ]
     },
     "execution_count": 16,
     "metadata": {},
     "output_type": "execute_result"
    }
   ],
   "source": [
    "loc_feat_df = skincancer_df.iloc[:, 3]\n",
    "loc_feat_df.value_counts()"
   ]
  },
  {
   "cell_type": "code",
   "execution_count": 17,
   "metadata": {},
   "outputs": [
    {
     "data": {
      "text/plain": [
       "nv       6705\n",
       "mel      1113\n",
       "bkl      1099\n",
       "bcc       514\n",
       "akiec     327\n",
       "vasc      142\n",
       "df        115\n",
       "Name: dx, dtype: int64"
      ]
     },
     "execution_count": 17,
     "metadata": {},
     "output_type": "execute_result"
    }
   ],
   "source": [
    "label_df = skincancer_df.iloc[:, 6]\n",
    "label_df.value_counts()"
   ]
  },
  {
   "cell_type": "code",
   "execution_count": 18,
   "metadata": {},
   "outputs": [
    {
     "data": {
      "text/plain": [
       "(array([  69.,    0.,    0.,  902.,    0.,    0., 3704.,    0.,    0.,\n",
       "        5340.]),\n",
       " array([0. , 0.3, 0.6, 0.9, 1.2, 1.5, 1.8, 2.1, 2.4, 2.7, 3. ]),\n",
       " <a list of 10 Patch objects>)"
      ]
     },
     "execution_count": 18,
     "metadata": {},
     "output_type": "execute_result"
    },
    {
     "data": {
      "image/png": "[encoded data removed]",
      "text/plain": [
       "<Figure size 432x288 with 1 Axes>"
      ]
     },
     "metadata": {
      "needs_background": "light"
     },
     "output_type": "display_data"
    }
   ],
   "source": [
    "le = LabelEncoder()\n",
    "dxtype_feat = le.fit_transform(dxtype_feat_df)\n",
    "plt.hist(dxtype_feat)"
   ]
  },
  {
   "cell_type": "code",
   "execution_count": 19,
   "metadata": {},
   "outputs": [
    {
     "data": {
      "text/plain": [
       "(array([  69.,    0.,    0.,  902.,    0.,    0., 3704.,    0.,    0.,\n",
       "        5340.]),\n",
       " array([0. , 0.3, 0.6, 0.9, 1.2, 1.5, 1.8, 2.1, 2.4, 2.7, 3. ]),\n",
       " <a list of 10 Patch objects>)"
      ]
     },
     "execution_count": 19,
     "metadata": {},
     "output_type": "execute_result"
    },
    {
     "data": {
      "image/png": "[encoded data removed]",
      "text/plain": [
       "<Figure size 432x288 with 1 Axes>"
      ]
     },
     "metadata": {
      "needs_background": "light"
     },
     "output_type": "display_data"
    }
   ],
   "source": [
    "le = LabelEncoder()\n",
    "loc_feat = le.fit_transform(loc_feat_df)\n",
    "plt.hist(loc_feat)"
   ]
  },
  {
   "cell_type": "code",
   "execution_count": 20,
   "metadata": {},
   "outputs": [
    {
     "data": {
      "text/plain": [
       "(array([4552.,    0.,    0.,    0.,    0., 5406.,    0.,    0.,    0.,\n",
       "          57.]),\n",
       " array([0. , 0.2, 0.4, 0.6, 0.8, 1. , 1.2, 1.4, 1.6, 1.8, 2. ]),\n",
       " <a list of 10 Patch objects>)"
      ]
     },
     "execution_count": 20,
     "metadata": {},
     "output_type": "execute_result"
    },
    {
     "data": {
      "image/png": "[encoded data removed]",
      "text/plain": [
       "<Figure size 432x288 with 1 Axes>"
      ]
     },
     "metadata": {
      "needs_background": "light"
     },
     "output_type": "display_data"
    }
   ],
   "source": [
    "le = LabelEncoder()\n",
    "sex_feat = le.fit_transform(sex_feat_df)\n",
    "plt.hist(sex_feat)"
   ]
  },
  {
   "cell_type": "code",
   "execution_count": 21,
   "metadata": {},
   "outputs": [
    {
     "data": {
      "text/plain": [
       "(array([ 327.,  514.,    0., 1099.,    0.,  115., 1113.,    0., 6705.,\n",
       "         142.]),\n",
       " array([0. , 0.6, 1.2, 1.8, 2.4, 3. , 3.6, 4.2, 4.8, 5.4, 6. ]),\n",
       " <a list of 10 Patch objects>)"
      ]
     },
     "execution_count": 21,
     "metadata": {},
     "output_type": "execute_result"
    },
    {
     "data": {
      "image/png": "[encoded data removed]",
      "text/plain": [
       "<Figure size 432x288 with 1 Axes>"
      ]
     },
     "metadata": {
      "needs_background": "light"
     },
     "output_type": "display_data"
    }
   ],
   "source": [
    "le = LabelEncoder()\n",
    "labels = le.fit_transform(label_df)\n",
    "plt.hist(labels)"
   ]
  },
  {
   "cell_type": "code",
   "execution_count": 22,
   "metadata": {},
   "outputs": [
    {
     "data": {
      "text/html": [
       "<div>\n",
       "<style scoped>\n",
       "    .dataframe tbody tr th:only-of-type {\n",
       "        vertical-align: middle;\n",
       "    }\n",
       "\n",
       "    .dataframe tbody tr th {\n",
       "        vertical-align: top;\n",
       "    }\n",
       "\n",
       "    .dataframe thead th {\n",
       "        text-align: right;\n",
       "    }\n",
       "</style>\n",
       "<table border=\"1\" class=\"dataframe\">\n",
       "  <thead>\n",
       "    <tr style=\"text-align: right;\">\n",
       "      <th></th>\n",
       "      <th>lesion_id</th>\n",
       "      <th>image_id</th>\n",
       "      <th>age</th>\n",
       "      <th>dx_type</th>\n",
       "      <th>sex</th>\n",
       "      <th>localization</th>\n",
       "      <th>dx</th>\n",
       "    </tr>\n",
       "  </thead>\n",
       "  <tbody>\n",
       "    <tr>\n",
       "      <th>0</th>\n",
       "      <td>HAM_0000118</td>\n",
       "      <td>ISIC_0027419</td>\n",
       "      <td>80.0</td>\n",
       "      <td>histo</td>\n",
       "      <td>male</td>\n",
       "      <td>scalp</td>\n",
       "      <td>bkl</td>\n",
       "    </tr>\n",
       "    <tr>\n",
       "      <th>1</th>\n",
       "      <td>HAM_0000118</td>\n",
       "      <td>ISIC_0025030</td>\n",
       "      <td>80.0</td>\n",
       "      <td>histo</td>\n",
       "      <td>male</td>\n",
       "      <td>scalp</td>\n",
       "      <td>bkl</td>\n",
       "    </tr>\n",
       "    <tr>\n",
       "      <th>2</th>\n",
       "      <td>HAM_0002730</td>\n",
       "      <td>ISIC_0026769</td>\n",
       "      <td>80.0</td>\n",
       "      <td>histo</td>\n",
       "      <td>male</td>\n",
       "      <td>scalp</td>\n",
       "      <td>bkl</td>\n",
       "    </tr>\n",
       "    <tr>\n",
       "      <th>3</th>\n",
       "      <td>HAM_0002730</td>\n",
       "      <td>ISIC_0025661</td>\n",
       "      <td>80.0</td>\n",
       "      <td>histo</td>\n",
       "      <td>male</td>\n",
       "      <td>scalp</td>\n",
       "      <td>bkl</td>\n",
       "    </tr>\n",
       "    <tr>\n",
       "      <th>4</th>\n",
       "      <td>HAM_0001466</td>\n",
       "      <td>ISIC_0031633</td>\n",
       "      <td>75.0</td>\n",
       "      <td>histo</td>\n",
       "      <td>male</td>\n",
       "      <td>ear</td>\n",
       "      <td>bkl</td>\n",
       "    </tr>\n",
       "  </tbody>\n",
       "</table>\n",
       "</div>"
      ],
      "text/plain": [
       "     lesion_id      image_id   age dx_type   sex localization   dx\n",
       "0  HAM_0000118  ISIC_0027419  80.0   histo  male        scalp  bkl\n",
       "1  HAM_0000118  ISIC_0025030  80.0   histo  male        scalp  bkl\n",
       "2  HAM_0002730  ISIC_0026769  80.0   histo  male        scalp  bkl\n",
       "3  HAM_0002730  ISIC_0025661  80.0   histo  male        scalp  bkl\n",
       "4  HAM_0001466  ISIC_0031633  75.0   histo  male          ear  bkl"
      ]
     },
     "execution_count": 22,
     "metadata": {},
     "output_type": "execute_result"
    }
   ],
   "source": [
    "skincancer_df.head()"
   ]
  },
  {
   "cell_type": "code",
   "execution_count": 23,
   "metadata": {},
   "outputs": [],
   "source": [
    "le_skincancer_df = skincancer_df.copy()"
   ]
  },
  {
   "cell_type": "code",
   "execution_count": 24,
   "metadata": {},
   "outputs": [
    {
     "data": {
      "text/html": [
       "<div>\n",
       "<style scoped>\n",
       "    .dataframe tbody tr th:only-of-type {\n",
       "        vertical-align: middle;\n",
       "    }\n",
       "\n",
       "    .dataframe tbody tr th {\n",
       "        vertical-align: top;\n",
       "    }\n",
       "\n",
       "    .dataframe thead th {\n",
       "        text-align: right;\n",
       "    }\n",
       "</style>\n",
       "<table border=\"1\" class=\"dataframe\">\n",
       "  <thead>\n",
       "    <tr style=\"text-align: right;\">\n",
       "      <th></th>\n",
       "      <th>lesion_id</th>\n",
       "      <th>image_id</th>\n",
       "      <th>age</th>\n",
       "      <th>sex</th>\n",
       "      <th>dxtype</th>\n",
       "      <th>loc</th>\n",
       "      <th>label</th>\n",
       "    </tr>\n",
       "  </thead>\n",
       "  <tbody>\n",
       "    <tr>\n",
       "      <th>0</th>\n",
       "      <td>HAM_0000118</td>\n",
       "      <td>ISIC_0027419</td>\n",
       "      <td>80.0</td>\n",
       "      <td>1</td>\n",
       "      <td>3</td>\n",
       "      <td>3</td>\n",
       "      <td>2</td>\n",
       "    </tr>\n",
       "    <tr>\n",
       "      <th>1</th>\n",
       "      <td>HAM_0000118</td>\n",
       "      <td>ISIC_0025030</td>\n",
       "      <td>80.0</td>\n",
       "      <td>1</td>\n",
       "      <td>3</td>\n",
       "      <td>3</td>\n",
       "      <td>2</td>\n",
       "    </tr>\n",
       "    <tr>\n",
       "      <th>2</th>\n",
       "      <td>HAM_0002730</td>\n",
       "      <td>ISIC_0026769</td>\n",
       "      <td>80.0</td>\n",
       "      <td>1</td>\n",
       "      <td>3</td>\n",
       "      <td>3</td>\n",
       "      <td>2</td>\n",
       "    </tr>\n",
       "    <tr>\n",
       "      <th>3</th>\n",
       "      <td>HAM_0002730</td>\n",
       "      <td>ISIC_0025661</td>\n",
       "      <td>80.0</td>\n",
       "      <td>1</td>\n",
       "      <td>3</td>\n",
       "      <td>3</td>\n",
       "      <td>2</td>\n",
       "    </tr>\n",
       "    <tr>\n",
       "      <th>4</th>\n",
       "      <td>HAM_0001466</td>\n",
       "      <td>ISIC_0031633</td>\n",
       "      <td>75.0</td>\n",
       "      <td>1</td>\n",
       "      <td>3</td>\n",
       "      <td>3</td>\n",
       "      <td>2</td>\n",
       "    </tr>\n",
       "  </tbody>\n",
       "</table>\n",
       "</div>"
      ],
      "text/plain": [
       "     lesion_id      image_id   age  sex  dxtype  loc  label\n",
       "0  HAM_0000118  ISIC_0027419  80.0    1       3    3      2\n",
       "1  HAM_0000118  ISIC_0025030  80.0    1       3    3      2\n",
       "2  HAM_0002730  ISIC_0026769  80.0    1       3    3      2\n",
       "3  HAM_0002730  ISIC_0025661  80.0    1       3    3      2\n",
       "4  HAM_0001466  ISIC_0031633  75.0    1       3    3      2"
      ]
     },
     "execution_count": 24,
     "metadata": {},
     "output_type": "execute_result"
    }
   ],
   "source": [
    "le_skincancer_df['dxtype'] = dxtype_feat\n",
    "le_skincancer_df['sex'] = sex_feat\n",
    "le_skincancer_df['loc'] = loc_feat\n",
    "le_skincancer_df['label'] = labels\n",
    "le_skincancer_df.drop(columns=['localization', 'dx_type', 'dx'], inplace = True)\n",
    "le_skincancer_df.head()"
   ]
  },
  {
   "cell_type": "markdown",
   "metadata": {},
   "source": [
    "## Bygg en egen dataloader-klass för bilder och csv"
   ]
  },
  {
   "cell_type": "code",
   "execution_count": 31,
   "metadata": {},
   "outputs": [
    {
     "data": {
      "text/plain": [
       "age       80\n",
       "sex        1\n",
       "dxtype     3\n",
       "loc        3\n",
       "Name: 0, dtype: object"
      ]
     },
     "execution_count": 31,
     "metadata": {},
     "output_type": "execute_result"
    }
   ],
   "source": [
    "le_skincancer_df.iloc[0, 2:6]"
   ]
  },
  {
   "cell_type": "code",
   "execution_count": 39,
   "metadata": {},
   "outputs": [],
   "source": [
    "class SkinCancerHamCSV(Dataset):\n",
    "\n",
    "    def __init__(self, csv_file, root_dir, transform = None):\n",
    "        \"\"\"\n",
    "            csv_file (string): \n",
    "            Path to the csv file with annotations.\n",
    "            \n",
    "            root_dir (string): \n",
    "            Directory with all the images.\n",
    "            transform (callable, optional): Optional transform to be applied\n",
    "            on a sample.\n",
    "        \"\"\"\n",
    "        self.skincancer_df = pd.read_csv(csv_file)\n",
    "        self.root_dir = root_dir\n",
    "        self.transform = transform\n",
    "\n",
    "    def __len__(self):\n",
    "        return len(self.skincancer_df)\n",
    "\n",
    "    def __getitem__(self, idx):\n",
    "        if torch.is_tensor(idx):\n",
    "            idx = idx.tolist()\n",
    "\n",
    "        img_name = os.path.join(self.root_dir,\n",
    "                                self.skincancer_df.iloc[idx, 1])\n",
    "        \n",
    "        img_name = img_name + \".jpg\"\n",
    "        \n",
    "        image = io.imread(img_name)\n",
    "        \n",
    "        # Read columns from csv:\n",
    "        # labels:\n",
    "        skincancer_label = self.skincancer_df.iloc[idx, 6:]\n",
    "        skincancer_label_np = np.array([skincancer_label])\n",
    "        \n",
    "        # features:\n",
    "        skincancer_metadata = self.skincancer_df.iloc[idx, 2:6]\n",
    "        skincancer_metadata_np = np.array([skincancer_metadata])\n",
    "        \n",
    "        # Skapar en batch utan transforms:\n",
    "        sample = {'image': image, \\\n",
    "                  'metadata': skincancer_metadata_np, \\\n",
    "                  'label': skincancer_label_np}\n",
    "\n",
    "        # Skapar en batch med transforms:\n",
    "        if self.transform:\n",
    "            sample = {'image': self.transform(image), \\\n",
    "                      'metadata': skincancer_metadata_np, \\\n",
    "                      'label': skincancer_label_np}\n",
    "\n",
    "        return sample"
   ]
  },
  {
   "cell_type": "code",
   "execution_count": 134,
   "metadata": {},
   "outputs": [],
   "source": [
    "# Samma klass som ovan, men läser från en \n",
    "# Pandas-df istället från en csv:\n",
    "\n",
    "class SkinCancerHamDF(Dataset):\n",
    "\n",
    "    def __init__(self, dataframe, root_dir, transform = None):\n",
    "\n",
    "        self.dataframe = dataframe\n",
    "        self.root_dir = root_dir\n",
    "        self.transform = transform\n",
    "\n",
    "    def __len__(self):\n",
    "        return len(self.dataframe)\n",
    "\n",
    "    def __getitem__(self, idx):\n",
    "        if torch.is_tensor(idx):\n",
    "            idx = idx.tolist()\n",
    "\n",
    "        img_name = os.path.join(self.root_dir,\n",
    "                                self.dataframe.iloc[idx, 1])\n",
    "        \n",
    "        img_name = img_name + \".jpg\"\n",
    "        \n",
    "        # sklearn-image:\n",
    "        # image = io.imread(img_name)\n",
    "        \n",
    "        # pillow:\n",
    "        image = Image.open(img_name)\n",
    "        \n",
    "        # Read columns from csv:\n",
    "        # labels:\n",
    "        skincancer_label = self.dataframe.iloc[idx, 6:]\n",
    "        skincancer_label_np = np.array([skincancer_label], dtype = int)\n",
    "        \n",
    "        # features:\n",
    "        skincancer_metadata = self.dataframe.iloc[idx, 2:6]\n",
    "        skincancer_metadata_np = np.array([skincancer_metadata], dtype = float)\n",
    "        \n",
    "        # Skapar en batch utan transforms:\n",
    "        sample = {'image': image, \\\n",
    "                  'metadata': skincancer_metadata_np, \\\n",
    "                  'label': skincancer_label_np}\n",
    "\n",
    "        # Skapar en batch med transforms:\n",
    "        if self.transform:\n",
    "            sample = {'image': self.transform(image), \\\n",
    "                      'metadata': skincancer_metadata_np, \\\n",
    "                      'label': skincancer_label_np}\n",
    "\n",
    "        return sample"
   ]
  },
  {
   "cell_type": "markdown",
   "metadata": {},
   "source": [
    "### Testa klassen..."
   ]
  },
  {
   "cell_type": "code",
   "execution_count": 175,
   "metadata": {},
   "outputs": [],
   "source": [
    "# Definiera en batch-storlek:\n",
    "batchsz = 2**4\n",
    "\n",
    "# Definiera vilken augmentation som ska göras:\n",
    "train_data_transform = transforms.Compose([transforms.Resize([224, 224]),\\\n",
    "                                           transforms.ToTensor()\n",
    "                                           ])\n",
    "\n",
    "val_test_data_transform = transforms.Compose(\n",
    "    [\n",
    "        transforms.RandomResizedCrop(224),\n",
    "        transforms.ToTensor(),\n",
    "        transforms.Normalize(mean=[0.485, 0.456, 0.406],\n",
    "                             std=[0.229, 0.224, 0.225])\n",
    "    ]\n",
    ")"
   ]
  },
  {
   "cell_type": "code",
   "execution_count": 176,
   "metadata": {},
   "outputs": [],
   "source": [
    "ham10k_dataset = SkinCancerHamDF(dataframe = le_skincancer_df, \\\n",
    "                               root_dir = basePath, \\\n",
    "                               transform = train_data_transform)"
   ]
  },
  {
   "cell_type": "code",
   "execution_count": 177,
   "metadata": {},
   "outputs": [
    {
     "data": {
      "text/plain": [
       "{'image': tensor([[[0.7333, 0.7451, 0.7529,  ..., 0.7647, 0.7647, 0.7647],\n",
       "          [0.7373, 0.7490, 0.7569,  ..., 0.7608, 0.7647, 0.7686],\n",
       "          [0.7412, 0.7529, 0.7569,  ..., 0.7608, 0.7686, 0.7686],\n",
       "          ...,\n",
       "          [0.6275, 0.6392, 0.6471,  ..., 0.7255, 0.7137, 0.7020],\n",
       "          [0.6157, 0.6235, 0.6392,  ..., 0.7255, 0.7098, 0.6941],\n",
       "          [0.6078, 0.6157, 0.6275,  ..., 0.7216, 0.7098, 0.6902]],\n",
       " \n",
       "         [[0.5882, 0.6039, 0.6118,  ..., 0.6000, 0.6078, 0.6157],\n",
       "          [0.5922, 0.6078, 0.6118,  ..., 0.6039, 0.6157, 0.6157],\n",
       "          [0.5882, 0.5961, 0.6000,  ..., 0.6039, 0.6157, 0.6118],\n",
       "          ...,\n",
       "          [0.4902, 0.4980, 0.5059,  ..., 0.6000, 0.5882, 0.5725],\n",
       "          [0.4863, 0.4902, 0.4902,  ..., 0.6039, 0.5843, 0.5686],\n",
       "          [0.4745, 0.4745, 0.4745,  ..., 0.6118, 0.5922, 0.5686]],\n",
       " \n",
       "         [[0.7529, 0.7647, 0.7765,  ..., 0.6549, 0.6588, 0.6667],\n",
       "          [0.7569, 0.7686, 0.7765,  ..., 0.6549, 0.6588, 0.6627],\n",
       "          [0.7529, 0.7569, 0.7608,  ..., 0.6510, 0.6706, 0.6549],\n",
       "          ...,\n",
       "          [0.6157, 0.6235, 0.6196,  ..., 0.6902, 0.6627, 0.6275],\n",
       "          [0.6078, 0.6078, 0.6039,  ..., 0.7098, 0.6627, 0.6235],\n",
       "          [0.5961, 0.5961, 0.5882,  ..., 0.7176, 0.6667, 0.6314]]]),\n",
       " 'metadata': array([[80.,  1.,  3.,  3.]]),\n",
       " 'label': array([[2]])}"
      ]
     },
     "execution_count": 177,
     "metadata": {},
     "output_type": "execute_result"
    }
   ],
   "source": [
    "next(iter(ham10k_dataset))"
   ]
  },
  {
   "cell_type": "code",
   "execution_count": 178,
   "metadata": {},
   "outputs": [],
   "source": [
    "#ham10k_generator = DataLoader(ham10k_dataset, **params)\n",
    "\n",
    "ham10k_generator = DataLoader(ham10k_dataset, \\\n",
    "                              batch_size = 2**4, \\\n",
    "                              pin_memory = True, \\\n",
    "                             )"
   ]
  },
  {
   "cell_type": "code",
   "execution_count": 64,
   "metadata": {},
   "outputs": [],
   "source": [
    "# Parameters\n",
    "params = {'batch_size': 2**4,\n",
    "          'shuffle': True,\n",
    "          'num_workers': 4}"
   ]
  },
  {
   "cell_type": "code",
   "execution_count": 179,
   "metadata": {},
   "outputs": [
    {
     "data": {
      "text/plain": [
       "{'image': tensor([[[[0.7333, 0.7451, 0.7529,  ..., 0.7647, 0.7647, 0.7647],\n",
       "           [0.7373, 0.7490, 0.7569,  ..., 0.7608, 0.7647, 0.7686],\n",
       "           [0.7412, 0.7529, 0.7569,  ..., 0.7608, 0.7686, 0.7686],\n",
       "           ...,\n",
       "           [0.6275, 0.6392, 0.6471,  ..., 0.7255, 0.7137, 0.7020],\n",
       "           [0.6157, 0.6235, 0.6392,  ..., 0.7255, 0.7098, 0.6941],\n",
       "           [0.6078, 0.6157, 0.6275,  ..., 0.7216, 0.7098, 0.6902]],\n",
       " \n",
       "          [[0.5882, 0.6039, 0.6118,  ..., 0.6000, 0.6078, 0.6157],\n",
       "           [0.5922, 0.6078, 0.6118,  ..., 0.6039, 0.6157, 0.6157],\n",
       "           [0.5882, 0.5961, 0.6000,  ..., 0.6039, 0.6157, 0.6118],\n",
       "           ...,\n",
       "           [0.4902, 0.4980, 0.5059,  ..., 0.6000, 0.5882, 0.5725],\n",
       "           [0.4863, 0.4902, 0.4902,  ..., 0.6039, 0.5843, 0.5686],\n",
       "           [0.4745, 0.4745, 0.4745,  ..., 0.6118, 0.5922, 0.5686]],\n",
       " \n",
       "          [[0.7529, 0.7647, 0.7765,  ..., 0.6549, 0.6588, 0.6667],\n",
       "           [0.7569, 0.7686, 0.7765,  ..., 0.6549, 0.6588, 0.6627],\n",
       "           [0.7529, 0.7569, 0.7608,  ..., 0.6510, 0.6706, 0.6549],\n",
       "           ...,\n",
       "           [0.6157, 0.6235, 0.6196,  ..., 0.6902, 0.6627, 0.6275],\n",
       "           [0.6078, 0.6078, 0.6039,  ..., 0.7098, 0.6627, 0.6235],\n",
       "           [0.5961, 0.5961, 0.5882,  ..., 0.7176, 0.6667, 0.6314]]],\n",
       " \n",
       " \n",
       "         [[[0.0941, 0.0980, 0.0980,  ..., 0.2392, 0.2353, 0.2392],\n",
       "           [0.0941, 0.0902, 0.0902,  ..., 0.2392, 0.2392, 0.2392],\n",
       "           [0.0902, 0.0863, 0.0863,  ..., 0.2353, 0.2353, 0.2353],\n",
       "           ...,\n",
       "           [0.2392, 0.2510, 0.2549,  ..., 0.0980, 0.0941, 0.0941],\n",
       "           [0.2392, 0.2431, 0.2510,  ..., 0.0941, 0.0941, 0.0863],\n",
       "           [0.2431, 0.2471, 0.2510,  ..., 0.0980, 0.0902, 0.0902]],\n",
       " \n",
       "          [[0.0510, 0.0510, 0.0549,  ..., 0.1451, 0.1451, 0.1490],\n",
       "           [0.0471, 0.0510, 0.0510,  ..., 0.1490, 0.1412, 0.1451],\n",
       "           [0.0510, 0.0510, 0.0510,  ..., 0.1490, 0.1412, 0.1412],\n",
       "           ...,\n",
       "           [0.1451, 0.1569, 0.1608,  ..., 0.0549, 0.0510, 0.0471],\n",
       "           [0.1490, 0.1529, 0.1569,  ..., 0.0588, 0.0510, 0.0471],\n",
       "           [0.1451, 0.1490, 0.1529,  ..., 0.0549, 0.0549, 0.0471]],\n",
       " \n",
       "          [[0.0863, 0.0902, 0.0902,  ..., 0.2471, 0.2510, 0.2510],\n",
       "           [0.0863, 0.0902, 0.0863,  ..., 0.2549, 0.2549, 0.2549],\n",
       "           [0.0863, 0.0824, 0.0863,  ..., 0.2549, 0.2549, 0.2510],\n",
       "           ...,\n",
       "           [0.2353, 0.2431, 0.2510,  ..., 0.1020, 0.0980, 0.0980],\n",
       "           [0.2353, 0.2392, 0.2431,  ..., 0.0941, 0.0941, 0.0824],\n",
       "           [0.2392, 0.2431, 0.2392,  ..., 0.0941, 0.0902, 0.0902]]],\n",
       " \n",
       " \n",
       "         [[[0.7294, 0.7373, 0.7490,  ..., 0.5137, 0.4941, 0.4863],\n",
       "           [0.7294, 0.7294, 0.7412,  ..., 0.5216, 0.5059, 0.4902],\n",
       "           [0.7098, 0.7176, 0.7255,  ..., 0.5333, 0.5176, 0.4941],\n",
       "           ...,\n",
       "           [0.7490, 0.7451, 0.7373,  ..., 0.4784, 0.4392, 0.4314],\n",
       "           [0.7373, 0.7294, 0.7255,  ..., 0.4706, 0.4353, 0.4235],\n",
       "           [0.7294, 0.7294, 0.7255,  ..., 0.4510, 0.4118, 0.3961]],\n",
       " \n",
       "          [[0.4980, 0.5059, 0.5255,  ..., 0.3686, 0.3451, 0.3255],\n",
       "           [0.4980, 0.5020, 0.5176,  ..., 0.3765, 0.3569, 0.3333],\n",
       "           [0.4902, 0.4902, 0.5020,  ..., 0.3765, 0.3608, 0.3412],\n",
       "           ...,\n",
       "           [0.5216, 0.5137, 0.4980,  ..., 0.3647, 0.3216, 0.3020],\n",
       "           [0.5137, 0.5020, 0.4902,  ..., 0.3333, 0.2902, 0.2667],\n",
       "           [0.5059, 0.5020, 0.4902,  ..., 0.2941, 0.2549, 0.2353]],\n",
       " \n",
       "          [[0.5294, 0.5412, 0.5725,  ..., 0.4275, 0.4039, 0.3922],\n",
       "           [0.5333, 0.5373, 0.5647,  ..., 0.4314, 0.4118, 0.4000],\n",
       "           [0.5333, 0.5333, 0.5490,  ..., 0.4392, 0.4157, 0.4000],\n",
       "           ...,\n",
       "           [0.5216, 0.5216, 0.5137,  ..., 0.3804, 0.3412, 0.3255],\n",
       "           [0.5059, 0.5137, 0.5137,  ..., 0.3451, 0.3020, 0.2824],\n",
       "           [0.4980, 0.5255, 0.5216,  ..., 0.3059, 0.2627, 0.2392]]],\n",
       " \n",
       " \n",
       "         ...,\n",
       " \n",
       " \n",
       "         [[[0.5882, 0.5922, 0.5922,  ..., 0.6353, 0.6392, 0.6431],\n",
       "           [0.5922, 0.5882, 0.5961,  ..., 0.6471, 0.6431, 0.6431],\n",
       "           [0.5961, 0.5961, 0.6000,  ..., 0.6471, 0.6431, 0.6431],\n",
       "           ...,\n",
       "           [0.5843, 0.5961, 0.6078,  ..., 0.6196, 0.6157, 0.6078],\n",
       "           [0.5725, 0.5922, 0.6039,  ..., 0.6196, 0.6157, 0.6078],\n",
       "           [0.5686, 0.5882, 0.6039,  ..., 0.6235, 0.6196, 0.6039]],\n",
       " \n",
       "          [[0.5020, 0.4980, 0.4941,  ..., 0.5529, 0.5451, 0.5412],\n",
       "           [0.5059, 0.5020, 0.4980,  ..., 0.5529, 0.5490, 0.5451],\n",
       "           [0.5098, 0.5098, 0.5020,  ..., 0.5529, 0.5529, 0.5490],\n",
       "           ...,\n",
       "           [0.5020, 0.5137, 0.5216,  ..., 0.5294, 0.5255, 0.5216],\n",
       "           [0.4941, 0.5059, 0.5176,  ..., 0.5294, 0.5294, 0.5216],\n",
       "           [0.4902, 0.5020, 0.5176,  ..., 0.5294, 0.5294, 0.5176]],\n",
       " \n",
       "          [[0.5412, 0.5451, 0.5451,  ..., 0.6314, 0.6275, 0.6275],\n",
       "           [0.5451, 0.5412, 0.5451,  ..., 0.6353, 0.6314, 0.6314],\n",
       "           [0.5490, 0.5490, 0.5451,  ..., 0.6392, 0.6314, 0.6314],\n",
       "           ...,\n",
       "           [0.5490, 0.5608, 0.5725,  ..., 0.5882, 0.5804, 0.5686],\n",
       "           [0.5412, 0.5569, 0.5686,  ..., 0.5882, 0.5804, 0.5725],\n",
       "           [0.5373, 0.5529, 0.5686,  ..., 0.5922, 0.5843, 0.5686]]],\n",
       " \n",
       " \n",
       "         [[[0.7490, 0.7569, 0.7569,  ..., 0.7451, 0.7451, 0.7412],\n",
       "           [0.7490, 0.7569, 0.7569,  ..., 0.7490, 0.7490, 0.7490],\n",
       "           [0.7608, 0.7569, 0.7569,  ..., 0.7529, 0.7529, 0.7529],\n",
       "           ...,\n",
       "           [0.7294, 0.7412, 0.7412,  ..., 0.7569, 0.7647, 0.7608],\n",
       "           [0.7333, 0.7451, 0.7451,  ..., 0.7569, 0.7608, 0.7608],\n",
       "           [0.7373, 0.7490, 0.7451,  ..., 0.7608, 0.7569, 0.7569]],\n",
       " \n",
       "          [[0.6392, 0.6471, 0.6471,  ..., 0.6235, 0.6118, 0.6078],\n",
       "           [0.6392, 0.6431, 0.6353,  ..., 0.6157, 0.6118, 0.6118],\n",
       "           [0.6431, 0.6431, 0.6314,  ..., 0.6235, 0.6157, 0.6196],\n",
       "           ...,\n",
       "           [0.6196, 0.6314, 0.6353,  ..., 0.6471, 0.6510, 0.6471],\n",
       "           [0.6235, 0.6353, 0.6353,  ..., 0.6471, 0.6510, 0.6471],\n",
       "           [0.6275, 0.6392, 0.6314,  ..., 0.6549, 0.6549, 0.6471]],\n",
       " \n",
       "          [[0.7216, 0.7451, 0.7569,  ..., 0.7373, 0.7333, 0.7294],\n",
       "           [0.7294, 0.7451, 0.7490,  ..., 0.7333, 0.7333, 0.7294],\n",
       "           [0.7412, 0.7451, 0.7412,  ..., 0.7412, 0.7373, 0.7294],\n",
       "           ...,\n",
       "           [0.7098, 0.7176, 0.7137,  ..., 0.7451, 0.7451, 0.7333],\n",
       "           [0.7137, 0.7255, 0.7216,  ..., 0.7451, 0.7451, 0.7373],\n",
       "           [0.7216, 0.7294, 0.7216,  ..., 0.7490, 0.7451, 0.7373]]],\n",
       " \n",
       " \n",
       "         [[[0.7843, 0.7725, 0.7765,  ..., 0.8196, 0.8196, 0.8118],\n",
       "           [0.7804, 0.7725, 0.7725,  ..., 0.8196, 0.8118, 0.8157],\n",
       "           [0.7333, 0.7490, 0.7608,  ..., 0.8196, 0.8196, 0.8275],\n",
       "           ...,\n",
       "           [0.7765, 0.7843, 0.7843,  ..., 0.8392, 0.8392, 0.8353],\n",
       "           [0.7804, 0.7843, 0.7843,  ..., 0.8471, 0.8471, 0.8471],\n",
       "           [0.7843, 0.7843, 0.7843,  ..., 0.8471, 0.8510, 0.8510]],\n",
       " \n",
       "          [[0.6275, 0.6235, 0.6118,  ..., 0.7176, 0.7176, 0.7098],\n",
       "           [0.6353, 0.6314, 0.6196,  ..., 0.7216, 0.7098, 0.7059],\n",
       "           [0.6000, 0.6118, 0.6157,  ..., 0.7216, 0.7137, 0.7098],\n",
       "           ...,\n",
       "           [0.6353, 0.6314, 0.6275,  ..., 0.7098, 0.7059, 0.7059],\n",
       "           [0.6471, 0.6353, 0.6275,  ..., 0.7216, 0.7176, 0.7176],\n",
       "           [0.6471, 0.6353, 0.6314,  ..., 0.7294, 0.7216, 0.7216]],\n",
       " \n",
       "          [[0.7059, 0.6980, 0.6980,  ..., 0.8157, 0.8118, 0.7961],\n",
       "           [0.7098, 0.7059, 0.7020,  ..., 0.8196, 0.8078, 0.7961],\n",
       "           [0.6863, 0.6941, 0.6980,  ..., 0.8196, 0.8078, 0.8039],\n",
       "           ...,\n",
       "           [0.7373, 0.7373, 0.7294,  ..., 0.8118, 0.8039, 0.8039],\n",
       "           [0.7451, 0.7451, 0.7373,  ..., 0.8235, 0.8157, 0.8118],\n",
       "           [0.7529, 0.7451, 0.7412,  ..., 0.8235, 0.8196, 0.8157]]]]),\n",
       " 'metadata': tensor([[[80.,  1.,  3.,  3.]],\n",
       " \n",
       "         [[80.,  1.,  3.,  3.]],\n",
       " \n",
       "         [[80.,  1.,  3.,  3.]],\n",
       " \n",
       "         [[80.,  1.,  3.,  3.]],\n",
       " \n",
       "         [[75.,  1.,  3.,  3.]],\n",
       " \n",
       "         [[75.,  1.,  3.,  3.]],\n",
       " \n",
       "         [[60.,  1.,  3.,  3.]],\n",
       " \n",
       "         [[60.,  1.,  3.,  3.]],\n",
       " \n",
       "         [[70.,  0.,  3.,  3.]],\n",
       " \n",
       "         [[70.,  0.,  3.,  3.]],\n",
       " \n",
       "         [[55.,  0.,  3.,  3.]],\n",
       " \n",
       "         [[85.,  0.,  3.,  3.]],\n",
       " \n",
       "         [[85.,  0.,  3.,  3.]],\n",
       " \n",
       "         [[70.,  1.,  3.,  3.]],\n",
       " \n",
       "         [[70.,  1.,  3.,  3.]],\n",
       " \n",
       "         [[65.,  1.,  3.,  3.]]], dtype=torch.float64),\n",
       " 'label': tensor([[[2]],\n",
       " \n",
       "         [[2]],\n",
       " \n",
       "         [[2]],\n",
       " \n",
       "         [[2]],\n",
       " \n",
       "         [[2]],\n",
       " \n",
       "         [[2]],\n",
       " \n",
       "         [[2]],\n",
       " \n",
       "         [[2]],\n",
       " \n",
       "         [[2]],\n",
       " \n",
       "         [[2]],\n",
       " \n",
       "         [[2]],\n",
       " \n",
       "         [[2]],\n",
       " \n",
       "         [[2]],\n",
       " \n",
       "         [[2]],\n",
       " \n",
       "         [[2]],\n",
       " \n",
       "         [[2]]])}"
      ]
     },
     "execution_count": 179,
     "metadata": {},
     "output_type": "execute_result"
    }
   ],
   "source": [
    "next(iter(ham10k_generator))"
   ]
  },
  {
   "cell_type": "markdown",
   "metadata": {},
   "source": [
    "## Create code for moving to GPU, if available"
   ]
  },
  {
   "cell_type": "code",
   "execution_count": 76,
   "metadata": {},
   "outputs": [],
   "source": [
    "def get_default_device():\n",
    "    \"\"\"Pick GPU if available, else CPU\"\"\"\n",
    "    if torch.cuda.is_available():\n",
    "        return torch.device('cuda')\n",
    "    else:\n",
    "        return torch.device('cpu')"
   ]
  },
  {
   "cell_type": "code",
   "execution_count": 77,
   "metadata": {},
   "outputs": [],
   "source": [
    "device = get_default_device()"
   ]
  },
  {
   "cell_type": "code",
   "execution_count": 78,
   "metadata": {},
   "outputs": [
    {
     "name": "stdout",
     "output_type": "stream",
     "text": [
      "cuda\n"
     ]
    }
   ],
   "source": [
    "print(device)"
   ]
  },
  {
   "cell_type": "markdown",
   "metadata": {},
   "source": [
    "### De båda nedanstående blocken används för att enkelt flytta till GPU: "
   ]
  },
  {
   "cell_type": "code",
   "execution_count": 79,
   "metadata": {},
   "outputs": [],
   "source": [
    "def to_device(data, device):\n",
    "    \"\"\"Move tensor(s) to chosen device\"\"\"\n",
    "    if isinstance(data, (list,tuple)):\n",
    "        return [to_device(x, device) for x in data]\n",
    "    return data.to(device, non_blocking=True)"
   ]
  },
  {
   "cell_type": "code",
   "execution_count": 80,
   "metadata": {},
   "outputs": [],
   "source": [
    "class DeviceDataLoader():\n",
    "    \"\"\"Wrap a dataloader to move data to a device\"\"\"\n",
    "    def __init__(self, dl, device):\n",
    "        self.dl = dl\n",
    "        self.device = device\n",
    "        \n",
    "    def __iter__(self):\n",
    "        \"\"\"Yield a batch of data after moving it to device\"\"\"\n",
    "        for b in self.dl: \n",
    "            yield to_device(b, self.device)\n",
    "\n",
    "    def __len__(self):\n",
    "        \"\"\"Number of batches\"\"\"\n",
    "        return len(self.dl)"
   ]
  },
  {
   "cell_type": "markdown",
   "metadata": {},
   "source": [
    "#### Flytta train_loader och test_loader till GPU:n"
   ]
  },
  {
   "cell_type": "code",
   "execution_count": 81,
   "metadata": {},
   "outputs": [],
   "source": [
    "train_dl = DeviceDataLoader(ham10k_generator, device)\n",
    "#valid_dl = DeviceDataLoader(valid_loader, device)\n",
    "#test_dl = DeviceDataLoader(test_loader, device)"
   ]
  },
  {
   "cell_type": "code",
   "execution_count": 82,
   "metadata": {},
   "outputs": [
    {
     "data": {
      "text/plain": [
       "device(type='cuda')"
      ]
     },
     "execution_count": 82,
     "metadata": {},
     "output_type": "execute_result"
    }
   ],
   "source": [
    "train_dl.device"
   ]
  },
  {
   "cell_type": "code",
   "execution_count": 19,
   "metadata": {},
   "outputs": [
    {
     "data": {
      "text/plain": [
       "device(type='cuda')"
      ]
     },
     "execution_count": 19,
     "metadata": {},
     "output_type": "execute_result"
    }
   ],
   "source": [
    "valid_dl.device"
   ]
  },
  {
   "cell_type": "code",
   "execution_count": 20,
   "metadata": {},
   "outputs": [
    {
     "data": {
      "text/plain": [
       "device(type='cuda')"
      ]
     },
     "execution_count": 20,
     "metadata": {},
     "output_type": "execute_result"
    }
   ],
   "source": [
    "test_dl.device"
   ]
  },
  {
   "cell_type": "markdown",
   "metadata": {},
   "source": [
    "## Bygg ett eget CNN-nät:"
   ]
  },
  {
   "cell_type": "code",
   "execution_count": 84,
   "metadata": {},
   "outputs": [],
   "source": [
    "class ConvolutionalNetwork(nn.Module):\n",
    "    def __init__(self):\n",
    "        super().__init__()\n",
    "        self.conv1 = nn.Conv2d(in_channels = 3, out_channels = 16, kernel_size = 5, stride = 2)\n",
    "        self.conv2 = nn.Conv2d(in_channels = 16, out_channels = 64, kernel_size = 5, stride = 2)\n",
    "        self.fc1 = nn.Linear(in_features = 64*13*13, out_features = 100)\n",
    "        self.fc2 = nn.Linear(in_features = 100, out_features = 7)\n",
    "\n",
    "    def forward(self, X):\n",
    "        X = F.relu(self.conv1(X))\n",
    "        # X = F.max_pool2d(X, kernel_size=2, stride=2)\n",
    "        m = nn.MaxPool2d(kernel_size = 2, stride = 2)\n",
    "        X = m(X)\n",
    "        X = F.relu(self.conv2(X)) # 12  - 5 + 1 = 8px\n",
    "        #\n",
    "        # Kan man slå isär dessa steg? Japp!\n",
    "        # X = self.conv2(X) # 12  - 5 + 1 = 8px\n",
    "        # X = F.relu(X)\n",
    "        #\n",
    "        X = F.max_pool2d(X, kernel_size = 2, stride = 2) # 8/2 = 4px\n",
    "        # print(X.shape) # kommer visa sig när vi tränar modellen nedan...\n",
    "        X = X.view(-1, 64*13*13) # flatten\n",
    "        X = F.relu(self.fc1(X))\n",
    "        X = self.fc2(X)\n",
    "        return F.log_softmax(X, dim = 1)"
   ]
  },
  {
   "cell_type": "code",
   "execution_count": 85,
   "metadata": {},
   "outputs": [],
   "source": [
    "torch.manual_seed(17)\n",
    "model = ConvolutionalNetwork()"
   ]
  },
  {
   "cell_type": "code",
   "execution_count": 86,
   "metadata": {},
   "outputs": [
    {
     "name": "stdout",
     "output_type": "stream",
     "text": [
      "Antalet träningsbara parametrar är = 1109287 st.\n"
     ]
    }
   ],
   "source": [
    "trainableparameters = []\n",
    "for param in model.parameters():\n",
    "    # trainableparameters = param.numel()\n",
    "    trainableparameters.append(param.numel())\n",
    "\n",
    "print(\"Antalet träningsbara parametrar är =\", np.sum(trainableparameters), \"st.\")\n"
   ]
  },
  {
   "cell_type": "markdown",
   "metadata": {},
   "source": [
    "### Hur blir tensor-storlekarna när de flödar genom ovanstående nät?"
   ]
  },
  {
   "cell_type": "code",
   "execution_count": 96,
   "metadata": {},
   "outputs": [
    {
     "data": {
      "text/plain": [
       "tensor([1, 2, 3])"
      ]
     },
     "execution_count": 96,
     "metadata": {},
     "output_type": "execute_result"
    }
   ],
   "source": [
    "torch.tensor([1,2,3])"
   ]
  },
  {
   "cell_type": "code",
   "execution_count": 97,
   "metadata": {},
   "outputs": [],
   "source": [
    "test_dict = {'image': torch.tensor([1,2,3]), 'label': torch.tensor([1])}"
   ]
  },
  {
   "cell_type": "code",
   "execution_count": 113,
   "metadata": {},
   "outputs": [
    {
     "data": {
      "text/plain": [
       "torch.Size([3])"
      ]
     },
     "execution_count": 113,
     "metadata": {},
     "output_type": "execute_result"
    }
   ],
   "source": [
    "test_dict['image'].shape"
   ]
  },
  {
   "cell_type": "code",
   "execution_count": 143,
   "metadata": {},
   "outputs": [
    {
     "name": "stdout",
     "output_type": "stream",
     "text": [
      "Ursprunglig storlek:  torch.Size([16, 3, 224, 298])\n"
     ]
    }
   ],
   "source": [
    "for x in ham10k_generator:\n",
    "    x = x['image']\n",
    "    print(\"Ursprunglig storlek: \", x.shape)\n",
    "    break"
   ]
  },
  {
   "cell_type": "code",
   "execution_count": 144,
   "metadata": {},
   "outputs": [
    {
     "name": "stdout",
     "output_type": "stream",
     "text": [
      "Efter Conv2d(1, 3, 5, 2):  torch.Size([16, 16, 110, 147])\n"
     ]
    }
   ],
   "source": [
    "x = nn.Conv2d(in_channels = 3, out_channels = 16, kernel_size = 5, stride = 2)(x)\n",
    "print(\"Efter Conv2d(1, 3, 5, 2): \", x.shape)"
   ]
  },
  {
   "cell_type": "code",
   "execution_count": 145,
   "metadata": {},
   "outputs": [
    {
     "name": "stdout",
     "output_type": "stream",
     "text": [
      "Efter Pooling, kernel_size = 2, stride = 2 så blir storleken:  torch.Size([16, 16, 55, 73])\n"
     ]
    }
   ],
   "source": [
    "x = nn.MaxPool2d(kernel_size = 2, stride = 2)(x)\n",
    "print(\"Efter Pooling, kernel_size = 2, stride = 2 så blir storleken: \", x.shape)"
   ]
  },
  {
   "cell_type": "code",
   "execution_count": 146,
   "metadata": {},
   "outputs": [
    {
     "name": "stdout",
     "output_type": "stream",
     "text": [
      "torch.Size([16, 64, 26, 35])\n"
     ]
    }
   ],
   "source": [
    "x = nn.Conv2d(in_channels = 16, out_channels = 64, kernel_size = 5, stride = 2)(x)\n",
    "print(x.shape)"
   ]
  },
  {
   "cell_type": "code",
   "execution_count": 147,
   "metadata": {},
   "outputs": [
    {
     "name": "stdout",
     "output_type": "stream",
     "text": [
      "Efter Pooling, kernel_size = 2, stride = 2 så blir storleken:  torch.Size([16, 64, 13, 17])\n"
     ]
    }
   ],
   "source": [
    "x = nn.MaxPool2d(kernel_size = 2, stride = 2)(x)\n",
    "print(\"Efter Pooling, kernel_size = 2, stride = 2 så blir storleken: \", x.shape)"
   ]
  },
  {
   "cell_type": "code",
   "execution_count": 151,
   "metadata": {},
   "outputs": [
    {
     "data": {
      "text/plain": [
       "torch.Size([16, 14144])"
      ]
     },
     "execution_count": 151,
     "metadata": {},
     "output_type": "execute_result"
    }
   ],
   "source": [
    "x.view(-1, 64*13*17).shape"
   ]
  },
  {
   "cell_type": "markdown",
   "metadata": {},
   "source": [
    "### Flytta modellen till GPU, om en sådan finns:"
   ]
  },
  {
   "cell_type": "code",
   "execution_count": 152,
   "metadata": {},
   "outputs": [
    {
     "data": {
      "text/plain": [
       "ConvolutionalNetwork(\n",
       "  (conv1): Conv2d(3, 16, kernel_size=(5, 5), stride=(2, 2))\n",
       "  (conv2): Conv2d(16, 64, kernel_size=(5, 5), stride=(2, 2))\n",
       "  (fc1): Linear(in_features=10816, out_features=100, bias=True)\n",
       "  (fc2): Linear(in_features=100, out_features=7, bias=True)\n",
       ")"
      ]
     },
     "execution_count": 152,
     "metadata": {},
     "output_type": "execute_result"
    }
   ],
   "source": [
    "# Flytta modellen till GPU:\n",
    "\n",
    "to_device(model, device)"
   ]
  },
  {
   "cell_type": "code",
   "execution_count": 153,
   "metadata": {},
   "outputs": [
    {
     "data": {
      "text/plain": [
       "True"
      ]
     },
     "execution_count": 153,
     "metadata": {},
     "output_type": "execute_result"
    }
   ],
   "source": [
    "# Verifiera att modellen är på rätt device:\n",
    "# True => modellen finns på GPU.\n",
    "\n",
    "next(model.parameters()).is_cuda"
   ]
  },
  {
   "cell_type": "markdown",
   "metadata": {},
   "source": [
    "### 6. Define loss function & optimizer"
   ]
  },
  {
   "cell_type": "code",
   "execution_count": 156,
   "metadata": {},
   "outputs": [],
   "source": [
    "# Definiera loss-function och vilken optimerare som ska användas:\n",
    "criterion = nn.CrossEntropyLoss()\n",
    "optimizer = torch.optim.Adam(model.parameters(), lr = 1e-4)"
   ]
  },
  {
   "cell_type": "markdown",
   "metadata": {},
   "source": [
    "### Trainingloop:"
   ]
  },
  {
   "cell_type": "code",
   "execution_count": 159,
   "metadata": {},
   "outputs": [
    {
     "data": {
      "text/plain": [
       "10015"
      ]
     },
     "execution_count": 159,
     "metadata": {},
     "output_type": "execute_result"
    }
   ],
   "source": [
    "len(ham10k_dataset)"
   ]
  },
  {
   "cell_type": "code",
   "execution_count": 166,
   "metadata": {},
   "outputs": [
    {
     "name": "stdout",
     "output_type": "stream",
     "text": [
      "tensor([[[2]],\n",
      "\n",
      "        [[2]],\n",
      "\n",
      "        [[2]],\n",
      "\n",
      "        [[2]],\n",
      "\n",
      "        [[2]],\n",
      "\n",
      "        [[2]],\n",
      "\n",
      "        [[2]],\n",
      "\n",
      "        [[2]],\n",
      "\n",
      "        [[2]],\n",
      "\n",
      "        [[2]],\n",
      "\n",
      "        [[2]],\n",
      "\n",
      "        [[2]],\n",
      "\n",
      "        [[2]],\n",
      "\n",
      "        [[2]],\n",
      "\n",
      "        [[2]],\n",
      "\n",
      "        [[2]]])\n"
     ]
    }
   ],
   "source": [
    "for X in ham10k_generator:\n",
    "    print(X['label'])\n",
    "    break"
   ]
  },
  {
   "cell_type": "code",
   "execution_count": 171,
   "metadata": {},
   "outputs": [
    {
     "name": "stdout",
     "output_type": "stream",
     "text": [
      "torch.Size([16, 3, 224, 298])\n",
      "torch.Size([16, 1, 1])\n"
     ]
    }
   ],
   "source": [
    "for inputs in ham10k_generator:\n",
    "        images = inputs['image']\n",
    "        labels = inputs['label']\n",
    "        \n",
    "        print(images.shape)\n",
    "        print(labels.shape)\n",
    "        #predictions = model.forward(images)\n",
    "        break"
   ]
  },
  {
   "cell_type": "code",
   "execution_count": 167,
   "metadata": {},
   "outputs": [
    {
     "ename": "RuntimeError",
     "evalue": "Input type (torch.FloatTensor) and weight type (torch.cuda.FloatTensor) should be the same",
     "output_type": "error",
     "traceback": [
      "\u001b[0;31m---------------------------------------------------------------------------\u001b[0m",
      "\u001b[0;31mRuntimeError\u001b[0m                              Traceback (most recent call last)",
      "\u001b[0;32m<ipython-input-167-a1ed96c25406>\u001b[0m in \u001b[0;36m<module>\u001b[0;34m\u001b[0m\n\u001b[1;32m     17\u001b[0m         \u001b[0mlabels\u001b[0m \u001b[0;34m=\u001b[0m \u001b[0minputs\u001b[0m\u001b[0;34m[\u001b[0m\u001b[0;34m'label'\u001b[0m\u001b[0;34m]\u001b[0m\u001b[0;34m\u001b[0m\u001b[0;34m\u001b[0m\u001b[0m\n\u001b[1;32m     18\u001b[0m \u001b[0;34m\u001b[0m\u001b[0m\n\u001b[0;32m---> 19\u001b[0;31m         \u001b[0mpredictions\u001b[0m \u001b[0;34m=\u001b[0m \u001b[0mmodel\u001b[0m\u001b[0;34m.\u001b[0m\u001b[0mforward\u001b[0m\u001b[0;34m(\u001b[0m\u001b[0mimages\u001b[0m\u001b[0;34m)\u001b[0m\u001b[0;34m\u001b[0m\u001b[0;34m\u001b[0m\u001b[0m\n\u001b[0m\u001b[1;32m     20\u001b[0m         \u001b[0mtrain_loss\u001b[0m \u001b[0;34m=\u001b[0m \u001b[0mcriterion\u001b[0m\u001b[0;34m(\u001b[0m\u001b[0mpredictions\u001b[0m\u001b[0;34m,\u001b[0m \u001b[0mlabels\u001b[0m\u001b[0;34m)\u001b[0m\u001b[0;34m\u001b[0m\u001b[0;34m\u001b[0m\u001b[0m\n\u001b[1;32m     21\u001b[0m \u001b[0;34m\u001b[0m\u001b[0m\n",
      "\u001b[0;32m<ipython-input-84-38723914dd90>\u001b[0m in \u001b[0;36mforward\u001b[0;34m(self, X)\u001b[0m\n\u001b[1;32m      8\u001b[0m \u001b[0;34m\u001b[0m\u001b[0m\n\u001b[1;32m      9\u001b[0m     \u001b[0;32mdef\u001b[0m \u001b[0mforward\u001b[0m\u001b[0;34m(\u001b[0m\u001b[0mself\u001b[0m\u001b[0;34m,\u001b[0m \u001b[0mX\u001b[0m\u001b[0;34m)\u001b[0m\u001b[0;34m:\u001b[0m\u001b[0;34m\u001b[0m\u001b[0;34m\u001b[0m\u001b[0m\n\u001b[0;32m---> 10\u001b[0;31m         \u001b[0mX\u001b[0m \u001b[0;34m=\u001b[0m \u001b[0mF\u001b[0m\u001b[0;34m.\u001b[0m\u001b[0mrelu\u001b[0m\u001b[0;34m(\u001b[0m\u001b[0mself\u001b[0m\u001b[0;34m.\u001b[0m\u001b[0mconv1\u001b[0m\u001b[0;34m(\u001b[0m\u001b[0mX\u001b[0m\u001b[0;34m)\u001b[0m\u001b[0;34m)\u001b[0m\u001b[0;34m\u001b[0m\u001b[0;34m\u001b[0m\u001b[0m\n\u001b[0m\u001b[1;32m     11\u001b[0m         \u001b[0;31m# X = F.max_pool2d(X, kernel_size=2, stride=2)\u001b[0m\u001b[0;34m\u001b[0m\u001b[0;34m\u001b[0m\u001b[0;34m\u001b[0m\u001b[0m\n\u001b[1;32m     12\u001b[0m         \u001b[0mm\u001b[0m \u001b[0;34m=\u001b[0m \u001b[0mnn\u001b[0m\u001b[0;34m.\u001b[0m\u001b[0mMaxPool2d\u001b[0m\u001b[0;34m(\u001b[0m\u001b[0mkernel_size\u001b[0m \u001b[0;34m=\u001b[0m \u001b[0;36m2\u001b[0m\u001b[0;34m,\u001b[0m \u001b[0mstride\u001b[0m \u001b[0;34m=\u001b[0m \u001b[0;36m2\u001b[0m\u001b[0;34m)\u001b[0m\u001b[0;34m\u001b[0m\u001b[0;34m\u001b[0m\u001b[0m\n",
      "\u001b[0;32m~/anaconda3/envs/pytorch_general/lib/python3.7/site-packages/torch/nn/modules/module.py\u001b[0m in \u001b[0;36m__call__\u001b[0;34m(self, *input, **kwargs)\u001b[0m\n\u001b[1;32m    539\u001b[0m             \u001b[0mresult\u001b[0m \u001b[0;34m=\u001b[0m \u001b[0mself\u001b[0m\u001b[0;34m.\u001b[0m\u001b[0m_slow_forward\u001b[0m\u001b[0;34m(\u001b[0m\u001b[0;34m*\u001b[0m\u001b[0minput\u001b[0m\u001b[0;34m,\u001b[0m \u001b[0;34m**\u001b[0m\u001b[0mkwargs\u001b[0m\u001b[0;34m)\u001b[0m\u001b[0;34m\u001b[0m\u001b[0;34m\u001b[0m\u001b[0m\n\u001b[1;32m    540\u001b[0m         \u001b[0;32melse\u001b[0m\u001b[0;34m:\u001b[0m\u001b[0;34m\u001b[0m\u001b[0;34m\u001b[0m\u001b[0m\n\u001b[0;32m--> 541\u001b[0;31m             \u001b[0mresult\u001b[0m \u001b[0;34m=\u001b[0m \u001b[0mself\u001b[0m\u001b[0;34m.\u001b[0m\u001b[0mforward\u001b[0m\u001b[0;34m(\u001b[0m\u001b[0;34m*\u001b[0m\u001b[0minput\u001b[0m\u001b[0;34m,\u001b[0m \u001b[0;34m**\u001b[0m\u001b[0mkwargs\u001b[0m\u001b[0;34m)\u001b[0m\u001b[0;34m\u001b[0m\u001b[0;34m\u001b[0m\u001b[0m\n\u001b[0m\u001b[1;32m    542\u001b[0m         \u001b[0;32mfor\u001b[0m \u001b[0mhook\u001b[0m \u001b[0;32min\u001b[0m \u001b[0mself\u001b[0m\u001b[0;34m.\u001b[0m\u001b[0m_forward_hooks\u001b[0m\u001b[0;34m.\u001b[0m\u001b[0mvalues\u001b[0m\u001b[0;34m(\u001b[0m\u001b[0;34m)\u001b[0m\u001b[0;34m:\u001b[0m\u001b[0;34m\u001b[0m\u001b[0;34m\u001b[0m\u001b[0m\n\u001b[1;32m    543\u001b[0m             \u001b[0mhook_result\u001b[0m \u001b[0;34m=\u001b[0m \u001b[0mhook\u001b[0m\u001b[0;34m(\u001b[0m\u001b[0mself\u001b[0m\u001b[0;34m,\u001b[0m \u001b[0minput\u001b[0m\u001b[0;34m,\u001b[0m \u001b[0mresult\u001b[0m\u001b[0;34m)\u001b[0m\u001b[0;34m\u001b[0m\u001b[0;34m\u001b[0m\u001b[0m\n",
      "\u001b[0;32m~/anaconda3/envs/pytorch_general/lib/python3.7/site-packages/torch/nn/modules/conv.py\u001b[0m in \u001b[0;36mforward\u001b[0;34m(self, input)\u001b[0m\n\u001b[1;32m    343\u001b[0m \u001b[0;34m\u001b[0m\u001b[0m\n\u001b[1;32m    344\u001b[0m     \u001b[0;32mdef\u001b[0m \u001b[0mforward\u001b[0m\u001b[0;34m(\u001b[0m\u001b[0mself\u001b[0m\u001b[0;34m,\u001b[0m \u001b[0minput\u001b[0m\u001b[0;34m)\u001b[0m\u001b[0;34m:\u001b[0m\u001b[0;34m\u001b[0m\u001b[0;34m\u001b[0m\u001b[0m\n\u001b[0;32m--> 345\u001b[0;31m         \u001b[0;32mreturn\u001b[0m \u001b[0mself\u001b[0m\u001b[0;34m.\u001b[0m\u001b[0mconv2d_forward\u001b[0m\u001b[0;34m(\u001b[0m\u001b[0minput\u001b[0m\u001b[0;34m,\u001b[0m \u001b[0mself\u001b[0m\u001b[0;34m.\u001b[0m\u001b[0mweight\u001b[0m\u001b[0;34m)\u001b[0m\u001b[0;34m\u001b[0m\u001b[0;34m\u001b[0m\u001b[0m\n\u001b[0m\u001b[1;32m    346\u001b[0m \u001b[0;34m\u001b[0m\u001b[0m\n\u001b[1;32m    347\u001b[0m \u001b[0;32mclass\u001b[0m \u001b[0mConv3d\u001b[0m\u001b[0;34m(\u001b[0m\u001b[0m_ConvNd\u001b[0m\u001b[0;34m)\u001b[0m\u001b[0;34m:\u001b[0m\u001b[0;34m\u001b[0m\u001b[0;34m\u001b[0m\u001b[0m\n",
      "\u001b[0;32m~/anaconda3/envs/pytorch_general/lib/python3.7/site-packages/torch/nn/modules/conv.py\u001b[0m in \u001b[0;36mconv2d_forward\u001b[0;34m(self, input, weight)\u001b[0m\n\u001b[1;32m    340\u001b[0m                             _pair(0), self.dilation, self.groups)\n\u001b[1;32m    341\u001b[0m         return F.conv2d(input, weight, self.bias, self.stride,\n\u001b[0;32m--> 342\u001b[0;31m                         self.padding, self.dilation, self.groups)\n\u001b[0m\u001b[1;32m    343\u001b[0m \u001b[0;34m\u001b[0m\u001b[0m\n\u001b[1;32m    344\u001b[0m     \u001b[0;32mdef\u001b[0m \u001b[0mforward\u001b[0m\u001b[0;34m(\u001b[0m\u001b[0mself\u001b[0m\u001b[0;34m,\u001b[0m \u001b[0minput\u001b[0m\u001b[0;34m)\u001b[0m\u001b[0;34m:\u001b[0m\u001b[0;34m\u001b[0m\u001b[0;34m\u001b[0m\u001b[0m\n",
      "\u001b[0;31mRuntimeError\u001b[0m: Input type (torch.FloatTensor) and weight type (torch.cuda.FloatTensor) should be the same"
     ]
    }
   ],
   "source": [
    "import time\n",
    "start_training_time = time.time()\n",
    "\n",
    "epochs = 10\n",
    "\n",
    "no_training_images = len(ham10k_dataset)\n",
    "\n",
    "train_accuracy = []\n",
    "train_losses = []\n",
    "\n",
    "for epoch in range(epochs):\n",
    "    start_epoch_time = time.time()\n",
    "    correct_pred_per_epoch = 0\n",
    "    \n",
    "    for inputs in ham10k_generator:\n",
    "        images = inputs['image']\n",
    "        labels = inputs['label']\n",
    "        \n",
    "        predictions = model.forward(images)\n",
    "        train_loss = criterion(predictions, labels)\n",
    "        \n",
    "        # Beräkna statistik från träningen på träningsmängden:\n",
    "        predicted = torch.max(predictions.data, 1)[1]\n",
    "        is_correct = (predicted == labels).sum()\n",
    "        correct_pred_per_epoch += is_correct\n",
    "        \n",
    "        optimizer.zero_grad()\n",
    "        train_loss.backward()\n",
    "        optimizer.step()\n",
    "    \n",
    "    # För träningsmängden:\n",
    "    # Lagra accuracy och loss per epok för t.ex. plottning:\n",
    "    accuracy_per_epoch = correct_pred_per_epoch.item() / no_training_images\n",
    "    train_accuracy.append(accuracy_per_epoch)\n",
    "    train_losses.append(train_loss)\n",
    "    \n",
    "    end_epoch_time = time.time()\n",
    "    epoch_time = end_epoch_time - start_epoch_time\n",
    "    # epoch startar på 0, därav \"+1\" nedan:\n",
    "    print(f\"Epok {epoch+1:02}, {epoch_time:2.2f} sek.: Träning: accuracy = {accuracy_per_epoch:4.4f} och loss är = {train_loss:4.4f}\")\n",
    "    \n",
    "end_training_time = time.time()\n",
    "\n",
    "delta = end_training_time - start_training_time\n",
    "\n",
    "print(f'\\nTraining took {delta/60:.2f} minutes.')    "
   ]
  },
  {
   "cell_type": "code",
   "execution_count": null,
   "metadata": {},
   "outputs": [],
   "source": [
    "# Gammal loop för backup...\n",
    "\n",
    "\n",
    "import time\n",
    "start_training_time = time.time()\n",
    "\n",
    "epochs = 10\n",
    "\n",
    "no_training_images = len(ham10k_dataset)\n",
    "\n",
    "train_accuracy = []\n",
    "train_losses = []\n",
    "\n",
    "for epoch in range(epochs):\n",
    "    start_epoch_time = time.time()\n",
    "    train_correct_pred_per_epoch = 0\n",
    "    \n",
    "    for inputs in ham10k_generator:\n",
    "        images = input['image']\n",
    "        labels = input['labels']\n",
    "        predictions = model.forward(images)\n",
    "        train_loss = criterion(predictions, labels)\n",
    "        \n",
    "        # Beräkna statistik från träningen på träningsmängden:\n",
    "        train_predicted = torch.max(y_train_pred.data, 1)[1]\n",
    "        train_is_correct = (train_predicted == y_train).sum()\n",
    "        train_correct_pred_per_epoch += train_is_correct\n",
    "        \n",
    "        optimizer.zero_grad()\n",
    "        train_loss.backward()\n",
    "        optimizer.step()\n",
    "    \n",
    "    # För träningsmängden:\n",
    "    # Lagra accuracy och loss per epok för t.ex. plottning:\n",
    "    train_epoch_accuracy = train_correct_pred_per_epoch.item() / no_training_images\n",
    "    train_accuracy.append(train_epoch_accuracy)\n",
    "    train_losses.append(train_loss)\n",
    "    \n",
    "    end_epoch_time = time.time()\n",
    "    epoch_time = end_epoch_time - start_epoch_time\n",
    "    # epoch startar på 0, därav \"+1\" nedan:\n",
    "    print(f\"Epok {epoch+1:02}, {epoch_time:2.2f} sek.: Träning: accuracy = {train_epoch_accuracy:4.4f} och loss är = {train_loss:4.4f}\")\n",
    "    \n",
    "end_training_time = time.time()\n",
    "\n",
    "delta = end_training_time - start_training_time\n",
    "\n",
    "print(f'\\nTraining took {delta/60:.2f} minutes.')    "
   ]
  },
  {
   "cell_type": "code",
   "execution_count": null,
   "metadata": {},
   "outputs": [],
   "source": [
    "# Valideringsmängden:\n",
    "model.eval()\n",
    "\n",
    "valid_correct_pred_per_epoch = 0\n",
    "valid_accuracy = []\n",
    "valid_losses = []\n",
    "\n",
    "no_valid_images = len(valid_loader.dataset) # = 998\n",
    "with torch.no_grad():\n",
    "    # Antal iterationer = 998 / 16 = 63 st.\n",
    "    for X_valid, y_valid in valid_dl:\n",
    "\n",
    "        y_valid_pred = model.forward(X_valid)\n",
    "        \n",
    "        valid_predicted = torch.max(y_valid_pred.data, 1)[1]\n",
    "        valid_is_correct = (valid_predicted == y_valid).sum()\n",
    "        valid_correct_pred_per_epoch += valid_is_correct\n",
    "        \n",
    "        valid_loss = criterion(y_valid_pred, y_valid)\n",
    "        valid_losses.append(valid_loss.item())\n",
    "            \n",
    "        valid_epoch_accuracy = valid_correct_pred_per_epoch.item() / no_valid_images\n",
    "        valid_accuracy.append(valid_epoch_accuracy)\n",
    "        \n",
    "# epoch startar på 0, därav \"+1\" nedan:\n",
    "print(f\"Validering: accuracy = {valid_epoch_accuracy:4.4f} och loss är = {valid_loss:4.4f}\")"
   ]
  },
  {
   "cell_type": "code",
   "execution_count": null,
   "metadata": {},
   "outputs": [],
   "source": [
    "# Plotta accuracy och loss:\n",
    "\n",
    "max_loss = np.max(train_losses).item()\n",
    "max_accuracy = np.max(train_accuracy).item()\n",
    "y_max = 1.1*max(max_loss, max_accuracy)\n",
    "\n",
    "plt.plot(range(epochs), train_accuracy)\n",
    "plt.plot(range(epochs), train_losses)\n",
    "plt.title(\"Accuracy and loss per epoch on the train set\")\n",
    "plt.legend(['Accuracy', 'Loss'], loc='lower left')\n",
    "plt.yticks(np.arange(0, y_max, step = 0.2))\n",
    "plt.ylim(0, y_max)\n",
    "plt.show()"
   ]
  },
  {
   "cell_type": "code",
   "execution_count": null,
   "metadata": {},
   "outputs": [],
   "source": [
    "max_loss = np.max(valid_losses).item()\n",
    "max_accuracy = np.max(valid_accuracy).item()\n",
    "y_max = 1.1*max(max_loss, max_accuracy)\n",
    "\n",
    "plt.plot(range(len(valid_losses)), valid_accuracy)\n",
    "plt.plot(range(len(valid_losses)), valid_losses)\n",
    "plt.title(\"Accuracy and loss on the validation set\")\n",
    "plt.legend(['Accuracy', 'Loss'], loc='upper left')\n",
    "plt.yticks(np.arange(0, y_max, step = 0.2))\n",
    "plt.ylim(0, y_max)\n",
    "plt.show()"
   ]
  },
  {
   "cell_type": "code",
   "execution_count": null,
   "metadata": {},
   "outputs": [],
   "source": [
    "def visualize_model(model, num_images=6):\n",
    "    was_training = model.training\n",
    "    model.eval()\n",
    "    images_so_far = 0\n",
    "    fig = plt.figure()\n",
    "\n",
    "    with torch.no_grad():\n",
    "        for i, (inputs, labels) in enumerate(test_loader):\n",
    "            inputs = inputs.to(device)\n",
    "            labels = labels.to(device)\n",
    "\n",
    "            outputs = model(inputs)\n",
    "            _, preds = torch.max(outputs, 1)\n",
    "\n",
    "            for j in range(inputs.size()[0]):\n",
    "                images_so_far += 1\n",
    "                ax = plt.subplot(num_images//2, 2, images_so_far)\n",
    "                ax.axis('off')\n",
    "                ax.set_title('predicted: {}'.format(class_names[preds[j]]))\n",
    "                imshow(inputs.cpu().data[j])\n",
    "\n",
    "                if images_so_far == num_images:\n",
    "                    model.train(mode = was_training)\n",
    "                    return\n",
    "        model.train(mode = was_training)"
   ]
  },
  {
   "cell_type": "markdown",
   "metadata": {},
   "source": [
    "### Elaborate training loop:"
   ]
  },
  {
   "cell_type": "code",
   "execution_count": null,
   "metadata": {
    "scrolled": true
   },
   "outputs": [],
   "source": [
    "import time\n",
    "start_time = time.time()\n",
    "\n",
    "epochs = 16\n",
    "\n",
    "no_training_images = len(dataset_trainloader.dataset) # 7007\n",
    "\n",
    "train_losses = []\n",
    "test_losses = []\n",
    "train_correct = []\n",
    "test_correct = []\n",
    "\n",
    "for epoch in range(epochs):\n",
    "    trn_corr = 0\n",
    "    tst_corr = 0\n",
    "    \n",
    "    # Run the training batches\n",
    "    for currentbatch, (X_train, y_train) in enumerate(train_dl):\n",
    "        currentbatch += 1\n",
    "        \n",
    "        # Apply the model\n",
    "        y_pred_train = model(X_train)  # we don't flatten X-train here\n",
    "        loss = criterion(y_pred_train, y_train)\n",
    " \n",
    "        # Tally the number of correct predictions\n",
    "        predicted = torch.max(y_pred_train.data, 1)[1]\n",
    "        batch_corr = (predicted == y_train).sum()\n",
    "        trn_corr += batch_corr\n",
    "        \n",
    "        # Update parameters\n",
    "        optimizer.zero_grad()\n",
    "        loss.backward()\n",
    "        optimizer.step()\n",
    "        \n",
    "        # Print interim results\n",
    "        if currentbatch % 100 == 0:\n",
    "            print(f'epoch: {epoch:2}  batch: {currentbatch:4} [{batchsz*currentbatch:4}/{no_training_images}]\\\n",
    "            loss: {loss.item():5.4f}\\\n",
    "            accuracy: {trn_corr.item()*100/(batchsz*currentbatch):5.1f} %')\n",
    "        \n",
    "    train_losses.append(loss)\n",
    "    train_correct.append(trn_corr)\n",
    "\n",
    "print(f'\\nTraining took: {time.time() - start_time:.0f} seconds.') # print the time elapsed    "
   ]
  },
  {
   "cell_type": "markdown",
   "metadata": {},
   "source": [
    "### 8. Evaluate the model on the test-set"
   ]
  },
  {
   "cell_type": "code",
   "execution_count": null,
   "metadata": {},
   "outputs": [],
   "source": [
    "len(test_loader.dataset)"
   ]
  },
  {
   "cell_type": "code",
   "execution_count": null,
   "metadata": {},
   "outputs": [],
   "source": [
    "model.eval()\n",
    "\n",
    "no_test_images = len(test_loader.dataset)\n",
    "\n",
    "with torch.no_grad():\n",
    "    correct = 0\n",
    "    # Antal iterationer = 2010 / 16 = 123 st.\n",
    "    for X_test, y_test in test_dl:\n",
    "        y_pred_test = model.forward(X_test)\n",
    "        predicted = torch.max(input = y_pred_test, dim = 1)[1]\n",
    "        correct += (predicted == y_test).sum()\n",
    "        \n",
    "print(f'Test accuracy: {correct.item()}/{no_test_images} = {correct.item()*100/(no_test_images):5.2f} %')"
   ]
  }
 ],
 "metadata": {
  "kernelspec": {
   "display_name": "pytorch_general",
   "language": "python",
   "name": "pytorch_general"
  },
  "language_info": {
   "codemirror_mode": {
    "name": "ipython",
    "version": 3
   },
   "file_extension": ".py",
   "mimetype": "text/x-python",
   "name": "python",
   "nbconvert_exporter": "python",
   "pygments_lexer": "ipython3",
   "version": "3.7.6"
  },
  "latex_envs": {
   "LaTeX_envs_menu_present": true,
   "autoclose": false,
   "autocomplete": true,
   "bibliofile": "biblio.bib",
   "cite_by": "apalike",
   "current_citInitial": 1,
   "eqLabelWithNumbers": true,
   "eqNumInitial": 1,
   "hotkeys": {
    "equation": "Ctrl-E",
    "itemize": "Ctrl-I"
   },
   "labels_anchors": false,
   "latex_user_defs": false,
   "report_style_numbering": false,
   "user_envs_cfg": false
  },
  "varInspector": {
   "cols": {
    "lenName": 16,
    "lenType": 16,
    "lenVar": 40
   },
   "kernels_config": {
    "python": {
     "delete_cmd_postfix": "",
     "delete_cmd_prefix": "del ",
     "library": "var_list.py",
     "varRefreshCmd": "print(var_dic_list())"
    },
    "r": {
     "delete_cmd_postfix": ") ",
     "delete_cmd_prefix": "rm(",
     "library": "var_list.r",
     "varRefreshCmd": "cat(var_dic_list()) "
    }
   },
   "types_to_exclude": [
    "module",
    "function",
    "builtin_function_or_method",
    "instance",
    "_Feature"
   ],
   "window_display": false
  }
 },
 "nbformat": 4,
 "nbformat_minor": 2
}
