{
 "cells": [
  {
   "cell_type": "markdown",
   "metadata": {},
   "source": [
    "# Skincancer HAM-dataset med Pytorch"
   ]
  },
  {
   "cell_type": "code",
   "execution_count": 1,
   "metadata": {},
   "outputs": [],
   "source": [
    "do_training = True"
   ]
  },
  {
   "cell_type": "markdown",
   "metadata": {},
   "source": [
    "## Standardimporter"
   ]
  },
  {
   "cell_type": "code",
   "execution_count": 2,
   "metadata": {},
   "outputs": [],
   "source": [
    "import torch\n",
    "import torch.nn as nn\n",
    "import torch.nn.functional as F\n",
    "from torch.utils.data import DataLoader\n",
    "import torchvision\n",
    "from torchvision import datasets, transforms, models\n",
    "from torchvision.utils import make_grid\n",
    "import torch.optim as optim\n",
    "from torch.optim import lr_scheduler\n",
    "\n",
    "import time\n",
    "import os\n",
    "\n",
    "import numpy as np\n",
    "import pandas as pd\n",
    "#from sklearn.metrics import confusion_matrix\n",
    "import matplotlib.pyplot as plt\n",
    "%matplotlib inline"
   ]
  },
  {
   "cell_type": "markdown",
   "metadata": {},
   "source": [
    "## Hantering av GPU och CPU:"
   ]
  },
  {
   "cell_type": "code",
   "execution_count": 3,
   "metadata": {},
   "outputs": [],
   "source": [
    "def get_default_device():\n",
    "    \"\"\"Pick GPU if available, else CPU\"\"\"\n",
    "    if torch.cuda.is_available():\n",
    "        return torch.device('cuda')\n",
    "    else:\n",
    "        return torch.device('cpu')"
   ]
  },
  {
   "cell_type": "code",
   "execution_count": 4,
   "metadata": {},
   "outputs": [],
   "source": [
    "device = get_default_device()"
   ]
  },
  {
   "cell_type": "code",
   "execution_count": 5,
   "metadata": {},
   "outputs": [],
   "source": [
    "# print(device)"
   ]
  },
  {
   "cell_type": "markdown",
   "metadata": {},
   "source": [
    "### De båda nedanstående blocken används för att enkelt flytta till GPU: "
   ]
  },
  {
   "cell_type": "code",
   "execution_count": 6,
   "metadata": {},
   "outputs": [],
   "source": [
    "def to_device(data, device):\n",
    "    \"\"\"Move tensor(s) to chosen device\"\"\"\n",
    "    if isinstance(data, (list,tuple)):\n",
    "        return [to_device(x, device) for x in data]\n",
    "    return data.to(device, non_blocking=True)"
   ]
  },
  {
   "cell_type": "code",
   "execution_count": 7,
   "metadata": {},
   "outputs": [],
   "source": [
    "class DeviceDataLoader():\n",
    "    \"\"\"Wrap a dataloader to move data to a device\"\"\"\n",
    "    def __init__(self, dl, device):\n",
    "        self.dl = dl\n",
    "        self.device = device\n",
    "        \n",
    "    def __iter__(self):\n",
    "        \"\"\"Yield a batch of data after moving it to device\"\"\"\n",
    "        for b in self.dl: \n",
    "            yield to_device(b, self.device)\n",
    "\n",
    "    def __len__(self):\n",
    "        \"\"\"Number of batches\"\"\"\n",
    "        return len(self.dl)"
   ]
  },
  {
   "cell_type": "markdown",
   "metadata": {},
   "source": [
    "## Hjälpfunktioner för att spara och ladda:"
   ]
  },
  {
   "cell_type": "code",
   "execution_count": 8,
   "metadata": {},
   "outputs": [],
   "source": [
    "# Anropas när följande variabler finns tillgängliga:\n",
    "# epochs, batchsz-{train, val}, learning_rate\n",
    "# Dessa krävs för funktionen \"create_filename\".\n",
    "\n",
    "def create_filename(filename):\n",
    "    global file_name\n",
    "    file_name = filename + \"_e\" + str(epochs) + \"_bsztr\" + str(batchsz_train) + \\\n",
    "            \"_bszval\" + str(batchsz_val) + \"_lr\" + str(f'{learning_rate:.0e}')\n",
    "    return file_name"
   ]
  },
  {
   "cell_type": "code",
   "execution_count": 9,
   "metadata": {},
   "outputs": [],
   "source": [
    "# https://pytorch.org/docs/master/notes/serialization.html\n",
    "\n",
    "def save_trained_model(modelname):\n",
    "    model_folder = \"trained_models\"\n",
    "    model_file_suffix = \".pt\"\n",
    "    create_filename(modelname) # spottar ur sig ett filnamn i variabeln \"file_name\"\n",
    "    \n",
    "    full_model_filename = model_folder + \"/\" + file_name + model_file_suffix\n",
    "    \n",
    "    torch.save(model.state_dict(), full_model_filename)"
   ]
  },
  {
   "cell_type": "code",
   "execution_count": 10,
   "metadata": {},
   "outputs": [],
   "source": [
    "def load_trained_model(modelname):\n",
    "    model_folder = \"trained_models\"\n",
    "    model_file_suffix = \".pt\"\n",
    "    create_filename(modelname) # spottar ur sig ett filnamn i variabeln \"file_name\"\n",
    "    \n",
    "    full_model_filename = model_folder + \"/\" + file_name + model_file_suffix\n",
    "    \n",
    "    if torch.cuda.is_available():\n",
    "        model.load_state_dict(torch.load(full_model_filename))\n",
    "    else:\n",
    "        model.load_state_dict(torch.load(full_model_filename, map_location=torch.device('cpu')))"
   ]
  },
  {
   "cell_type": "code",
   "execution_count": 11,
   "metadata": {},
   "outputs": [],
   "source": [
    "def save_training_log(logname, do_validation = True):\n",
    "    log_folder = \"logs\"\n",
    "    log_filename = create_filename(logname)\n",
    "    log_file_suffix = \".csv\"\n",
    "    full_log_filename = log_folder + \"/\" + file_name + log_file_suffix\n",
    "        \n",
    "    global training_log\n",
    "        \n",
    "    # Speciell range nedan för att starta på epok 1 och ej 0:\n",
    "    if do_validation == True:\n",
    "        training_log = pd.DataFrame(data={\"epoch\": range(1, epochs + 1), \\\n",
    "                                              \"train_acc\": train_accuracy, \\\n",
    "                                              \"train_loss\": train_losses,  \\\n",
    "                                              \"val_acc\": val_accuracy, \\\n",
    "                                              \"val_loss\": val_losses})\n",
    "    \n",
    "        training_log.to_csv(full_log_filename, sep=',', index = False)\n",
    "        \n",
    "    else:\n",
    "        training_log = pd.DataFrame(data={\"epoch\": range(1, epochs + 1), \\\n",
    "                                              \"train_acc\": train_accuracy, \\\n",
    "                                              \"train_loss\": train_losses})\n",
    "    \n",
    "        training_log.to_csv(full_log_filename, sep=',', index = False)\n",
    "    \n",
    "    return training_log"
   ]
  },
  {
   "cell_type": "code",
   "execution_count": 12,
   "metadata": {},
   "outputs": [],
   "source": [
    "def load_training_log(logname):\n",
    "    log_folder = \"logs\"\n",
    "    log_filename = create_filename(logname)\n",
    "    log_file_suffix = \".csv\"\n",
    "    full_log_filename = log_folder + \"/\" + file_name + log_file_suffix\n",
    "    \n",
    "    global training_log\n",
    "    training_log = pd.read_csv(full_log_filename)\n",
    "    return training_log"
   ]
  },
  {
   "cell_type": "markdown",
   "metadata": {},
   "source": [
    "## Definiera de olika mängderna för träning, validering och test:"
   ]
  },
  {
   "cell_type": "code",
   "execution_count": 13,
   "metadata": {},
   "outputs": [],
   "source": [
    "epochs = 100\n",
    "learning_rate = 1e-4\n",
    "\n",
    "img_w = 299\n",
    "img_h = 299\n",
    "img_dim = 3\n",
    "\n",
    "batchsz_train = 2**2\n",
    "batchsz_val = 2**4\n",
    "batchsz_test = 2**4\n",
    "\n",
    "train_num_workers = 4\n",
    "test_val_num_workers = 4\n",
    "\n",
    "basepath = \"../../../ml/Datasets/skin-cancer-mnist-ham10000/images_per_label_splitted_sets/\""
   ]
  },
  {
   "cell_type": "code",
   "execution_count": 14,
   "metadata": {},
   "outputs": [],
   "source": [
    "# Definiera vilken augmentation som ska göras:\n",
    "train_data_transform = transforms.Compose([\n",
    "        transforms.RandomResizedCrop(img_w),\n",
    "        transforms.RandomHorizontalFlip(),\n",
    "        transforms.ToTensor(),\n",
    "        transforms.Normalize(mean=[0.485, 0.456, 0.406],\n",
    "                             std=[0.229, 0.224, 0.225])\n",
    "    ])\n",
    "\n",
    "val_test_data_transform = transforms.Compose([\n",
    "        transforms.RandomResizedCrop(img_w),\n",
    "        transforms.ToTensor(),\n",
    "        transforms.Normalize(mean=[0.485, 0.456, 0.406],\n",
    "                             std=[0.229, 0.224, 0.225])\n",
    "    ])"
   ]
  },
  {
   "cell_type": "code",
   "execution_count": 15,
   "metadata": {},
   "outputs": [],
   "source": [
    "# Definiera de tre dataseten:\n",
    "skincancer_train_dataset = datasets.ImageFolder(root = basepath + 'train/',\n",
    "                                           transform = train_data_transform)\n",
    "\n",
    "skincancer_valid_dataset = datasets.ImageFolder(root = basepath + 'val/',\n",
    "                                           transform = val_test_data_transform)\n",
    "\n",
    "skincancer_test_dataset = datasets.ImageFolder(root = basepath + 'test/',\n",
    "                                              transform = val_test_data_transform)"
   ]
  },
  {
   "cell_type": "code",
   "execution_count": 16,
   "metadata": {},
   "outputs": [],
   "source": [
    "# Skapa loaders för de tre dataseten:\n",
    "train_loader = torch.utils.data.DataLoader(skincancer_train_dataset,\n",
    "                                             batch_size = batchsz_train, \n",
    "                                             shuffle = True,\n",
    "                                             pin_memory = True,\n",
    "                                             drop_last = True,\n",
    "                                             num_workers = train_num_workers)\n",
    "\n",
    "valid_loader = torch.utils.data.DataLoader(skincancer_valid_dataset,\n",
    "                                             batch_size = batchsz_val, \n",
    "                                             shuffle = True,\n",
    "                                             num_workers = test_val_num_workers)\n",
    "\n",
    "test_loader = torch.utils.data.DataLoader(skincancer_test_dataset,\n",
    "                                             batch_size = batchsz_test, \n",
    "                                             shuffle = False,\n",
    "                                             num_workers = test_val_num_workers)"
   ]
  },
  {
   "cell_type": "markdown",
   "metadata": {},
   "source": [
    "### Skapa en weighted loader som hanterar obalansen mellan klasserna:"
   ]
  },
  {
   "cell_type": "code",
   "execution_count": 17,
   "metadata": {},
   "outputs": [],
   "source": [
    "train_targets = train_loader.dataset.targets\n",
    "# print(len(train_targets))"
   ]
  },
  {
   "cell_type": "code",
   "execution_count": 18,
   "metadata": {},
   "outputs": [],
   "source": [
    "from torch.utils.data import WeightedRandomSampler"
   ]
  },
  {
   "cell_type": "code",
   "execution_count": 19,
   "metadata": {},
   "outputs": [],
   "source": [
    "# Test för att oversampla vissa klasser...\n",
    "# https://discuss.pytorch.org/t/how-to-implement-oversampling-in-cifar-10/16964/6\n",
    "\n",
    "train_targets = train_loader.dataset.targets\n",
    "class_count = np.unique(train_targets, return_counts=True)[1]\n",
    "#print(\"Antal bilder per klass = \", class_count, \"\\n\")\n",
    "\n",
    "# Testa att köra med 1 / sevenones för att se en obalanserad, vanlig, loader\n",
    "# och med 1 / class_count för att se hur det balanserade resultatet blir:\n",
    "\n",
    "# sevenones = np.ones(7)\n",
    "# weight = 1 / sevenones\n",
    "weight = 1. / class_count\n",
    "samples_weight = weight[train_targets]\n",
    "samples_weight = torch.from_numpy(samples_weight)\n",
    "\n",
    "# Replacement = True ger dragning med återläggning, vilket vi ska ha, \n",
    "# annars kommer de mindre klasserna \"ta slut\" i dragningen:\n",
    "sampler = WeightedRandomSampler(samples_weight, len(samples_weight), replacement=True)"
   ]
  },
  {
   "cell_type": "code",
   "execution_count": 20,
   "metadata": {},
   "outputs": [],
   "source": [
    "# Skapa en ny dataloader baserad på \n",
    "# träningssetet som är viktad klassivs:\n",
    "\n",
    "# \"pin_memory=True\" gör att man flyttar data till GPU:n medan \n",
    "# vi kör träningen, vilket påskyndar arbetet radikalt, ffa\n",
    "# om vi har komplexa modeller.\n",
    "train_loader_weighted = DataLoader(skincancer_train_dataset, \n",
    "                             batch_size = batchsz_train, \n",
    "                             sampler = sampler, # kan ej ha shuffle = True med sampler!\n",
    "                             pin_memory=True,\n",
    "                             drop_last=True,\n",
    "                             num_workers = train_num_workers)"
   ]
  },
  {
   "cell_type": "code",
   "execution_count": 21,
   "metadata": {},
   "outputs": [],
   "source": [
    "# Definiera antalet klasser:\n",
    "\n",
    "number_of_classes = len(test_loader.dataset.classes)"
   ]
  },
  {
   "cell_type": "markdown",
   "metadata": {},
   "source": [
    "### Flytta *_loader till rätt device"
   ]
  },
  {
   "cell_type": "code",
   "execution_count": 22,
   "metadata": {},
   "outputs": [],
   "source": [
    "train_dl = DeviceDataLoader(train_loader, device)\n",
    "train_dl_weighted = DeviceDataLoader(train_loader_weighted, device)\n",
    "valid_dl = DeviceDataLoader(valid_loader, device)\n",
    "test_dl = DeviceDataLoader(test_loader, device)"
   ]
  },
  {
   "cell_type": "markdown",
   "metadata": {},
   "source": [
    "### Visa skillnader mellan oviktad och viktad loader:"
   ]
  },
  {
   "cell_type": "code",
   "execution_count": 49,
   "metadata": {},
   "outputs": [
    {
     "name": "stdout",
     "output_type": "stream",
     "text": [
      "Antal bilder per klass =  [ 228  359  769   80  779 4693   99] \n",
      "\n",
      "Batch 0, classes [2 5 6], count [1 1 2]\n",
      "Batch 1, classes [0 2 5 6], count [1 1 1 1]\n",
      "Batch 2, classes [0 4], count [2 2]\n",
      "Batch 3, classes [0 3 4], count [1 2 1]\n"
     ]
    }
   ],
   "source": [
    "print(\"Antal bilder per klass = \", class_count, \"\\n\")\n",
    "\n",
    "# Visa hur den drar samples från klasserna för fyra batcher:\n",
    "for batch_idx, (data, target) in enumerate(train_loader_weighted):\n",
    "    print('Batch {}, classes {}, count {}'.format(\n",
    "        batch_idx, *np.unique(target.numpy(), return_counts=True)))\n",
    "    if batch_idx == 3:\n",
    "        break"
   ]
  },
  {
   "cell_type": "code",
   "execution_count": 50,
   "metadata": {},
   "outputs": [
    {
     "name": "stdout",
     "output_type": "stream",
     "text": [
      "Antal bilder per klass =  [ 228  359  769   80  779 4693   99] \n",
      "\n",
      "Batch 0, classes [1 5], count [1 3]\n",
      "Batch 1, classes [5], count [4]\n",
      "Batch 2, classes [1 5], count [1 3]\n",
      "Batch 3, classes [0 1 4 5], count [1 1 1 1]\n"
     ]
    }
   ],
   "source": [
    "print(\"Antal bilder per klass = \", class_count, \"\\n\")\n",
    "\n",
    "# Visa hur den drar samples från klasserna för fyra batcher:\n",
    "for batch_idx, (data, target) in enumerate(train_loader):\n",
    "    print('Batch {}, classes {}, count {}'.format(\n",
    "        batch_idx, *np.unique(target.numpy(), return_counts=True)))\n",
    "    if batch_idx == 3:\n",
    "        break"
   ]
  },
  {
   "cell_type": "code",
   "execution_count": 51,
   "metadata": {},
   "outputs": [],
   "source": [
    "# len(target) # ger en vektor med batchsz i storlek.\n",
    "\n",
    "# Kolla t.ex. hur många samples ur klass A som finns i sista batchen ovan:\n",
    "# A = 0\n",
    "# np.sum(target.numpy() == A)"
   ]
  },
  {
   "cell_type": "code",
   "execution_count": 52,
   "metadata": {},
   "outputs": [],
   "source": [
    "# Visa dimensionerna för en bild-tensor (batchsize, number of channels, width, height):\n",
    "# images.shape"
   ]
  },
  {
   "cell_type": "markdown",
   "metadata": {},
   "source": [
    "## Definiera en modell:"
   ]
  },
  {
   "cell_type": "code",
   "execution_count": 23,
   "metadata": {},
   "outputs": [],
   "source": [
    "# Instansiera en modell:\n",
    "\n",
    "model = models.inception_v3(pretrained = True, progress = True)"
   ]
  },
  {
   "cell_type": "code",
   "execution_count": 24,
   "metadata": {},
   "outputs": [
    {
     "name": "stdout",
     "output_type": "stream",
     "text": [
      "Inception3(\n",
      "  (Conv2d_1a_3x3): BasicConv2d(\n",
      "    (conv): Conv2d(3, 32, kernel_size=(3, 3), stride=(2, 2), bias=False)\n",
      "    (bn): BatchNorm2d(32, eps=0.001, momentum=0.1, affine=True, track_running_stats=True)\n",
      "  )\n",
      "  (Conv2d_2a_3x3): BasicConv2d(\n",
      "    (conv): Conv2d(32, 32, kernel_size=(3, 3), stride=(1, 1), bias=False)\n",
      "    (bn): BatchNorm2d(32, eps=0.001, momentum=0.1, affine=True, track_running_stats=True)\n",
      "  )\n",
      "  (Conv2d_2b_3x3): BasicConv2d(\n",
      "    (conv): Conv2d(32, 64, kernel_size=(3, 3), stride=(1, 1), padding=(1, 1), bias=False)\n",
      "    (bn): BatchNorm2d(64, eps=0.001, momentum=0.1, affine=True, track_running_stats=True)\n",
      "  )\n",
      "  (Conv2d_3b_1x1): BasicConv2d(\n",
      "    (conv): Conv2d(64, 80, kernel_size=(1, 1), stride=(1, 1), bias=False)\n",
      "    (bn): BatchNorm2d(80, eps=0.001, momentum=0.1, affine=True, track_running_stats=True)\n",
      "  )\n",
      "  (Conv2d_4a_3x3): BasicConv2d(\n",
      "    (conv): Conv2d(80, 192, kernel_size=(3, 3), stride=(1, 1), bias=False)\n",
      "    (bn): BatchNorm2d(192, eps=0.001, momentum=0.1, affine=True, track_running_stats=True)\n",
      "  )\n",
      "  (Mixed_5b): InceptionA(\n",
      "    (branch1x1): BasicConv2d(\n",
      "      (conv): Conv2d(192, 64, kernel_size=(1, 1), stride=(1, 1), bias=False)\n",
      "      (bn): BatchNorm2d(64, eps=0.001, momentum=0.1, affine=True, track_running_stats=True)\n",
      "    )\n",
      "    (branch5x5_1): BasicConv2d(\n",
      "      (conv): Conv2d(192, 48, kernel_size=(1, 1), stride=(1, 1), bias=False)\n",
      "      (bn): BatchNorm2d(48, eps=0.001, momentum=0.1, affine=True, track_running_stats=True)\n",
      "    )\n",
      "    (branch5x5_2): BasicConv2d(\n",
      "      (conv): Conv2d(48, 64, kernel_size=(5, 5), stride=(1, 1), padding=(2, 2), bias=False)\n",
      "      (bn): BatchNorm2d(64, eps=0.001, momentum=0.1, affine=True, track_running_stats=True)\n",
      "    )\n",
      "    (branch3x3dbl_1): BasicConv2d(\n",
      "      (conv): Conv2d(192, 64, kernel_size=(1, 1), stride=(1, 1), bias=False)\n",
      "      (bn): BatchNorm2d(64, eps=0.001, momentum=0.1, affine=True, track_running_stats=True)\n",
      "    )\n",
      "    (branch3x3dbl_2): BasicConv2d(\n",
      "      (conv): Conv2d(64, 96, kernel_size=(3, 3), stride=(1, 1), padding=(1, 1), bias=False)\n",
      "      (bn): BatchNorm2d(96, eps=0.001, momentum=0.1, affine=True, track_running_stats=True)\n",
      "    )\n",
      "    (branch3x3dbl_3): BasicConv2d(\n",
      "      (conv): Conv2d(96, 96, kernel_size=(3, 3), stride=(1, 1), padding=(1, 1), bias=False)\n",
      "      (bn): BatchNorm2d(96, eps=0.001, momentum=0.1, affine=True, track_running_stats=True)\n",
      "    )\n",
      "    (branch_pool): BasicConv2d(\n",
      "      (conv): Conv2d(192, 32, kernel_size=(1, 1), stride=(1, 1), bias=False)\n",
      "      (bn): BatchNorm2d(32, eps=0.001, momentum=0.1, affine=True, track_running_stats=True)\n",
      "    )\n",
      "  )\n",
      "  (Mixed_5c): InceptionA(\n",
      "    (branch1x1): BasicConv2d(\n",
      "      (conv): Conv2d(256, 64, kernel_size=(1, 1), stride=(1, 1), bias=False)\n",
      "      (bn): BatchNorm2d(64, eps=0.001, momentum=0.1, affine=True, track_running_stats=True)\n",
      "    )\n",
      "    (branch5x5_1): BasicConv2d(\n",
      "      (conv): Conv2d(256, 48, kernel_size=(1, 1), stride=(1, 1), bias=False)\n",
      "      (bn): BatchNorm2d(48, eps=0.001, momentum=0.1, affine=True, track_running_stats=True)\n",
      "    )\n",
      "    (branch5x5_2): BasicConv2d(\n",
      "      (conv): Conv2d(48, 64, kernel_size=(5, 5), stride=(1, 1), padding=(2, 2), bias=False)\n",
      "      (bn): BatchNorm2d(64, eps=0.001, momentum=0.1, affine=True, track_running_stats=True)\n",
      "    )\n",
      "    (branch3x3dbl_1): BasicConv2d(\n",
      "      (conv): Conv2d(256, 64, kernel_size=(1, 1), stride=(1, 1), bias=False)\n",
      "      (bn): BatchNorm2d(64, eps=0.001, momentum=0.1, affine=True, track_running_stats=True)\n",
      "    )\n",
      "    (branch3x3dbl_2): BasicConv2d(\n",
      "      (conv): Conv2d(64, 96, kernel_size=(3, 3), stride=(1, 1), padding=(1, 1), bias=False)\n",
      "      (bn): BatchNorm2d(96, eps=0.001, momentum=0.1, affine=True, track_running_stats=True)\n",
      "    )\n",
      "    (branch3x3dbl_3): BasicConv2d(\n",
      "      (conv): Conv2d(96, 96, kernel_size=(3, 3), stride=(1, 1), padding=(1, 1), bias=False)\n",
      "      (bn): BatchNorm2d(96, eps=0.001, momentum=0.1, affine=True, track_running_stats=True)\n",
      "    )\n",
      "    (branch_pool): BasicConv2d(\n",
      "      (conv): Conv2d(256, 64, kernel_size=(1, 1), stride=(1, 1), bias=False)\n",
      "      (bn): BatchNorm2d(64, eps=0.001, momentum=0.1, affine=True, track_running_stats=True)\n",
      "    )\n",
      "  )\n",
      "  (Mixed_5d): InceptionA(\n",
      "    (branch1x1): BasicConv2d(\n",
      "      (conv): Conv2d(288, 64, kernel_size=(1, 1), stride=(1, 1), bias=False)\n",
      "      (bn): BatchNorm2d(64, eps=0.001, momentum=0.1, affine=True, track_running_stats=True)\n",
      "    )\n",
      "    (branch5x5_1): BasicConv2d(\n",
      "      (conv): Conv2d(288, 48, kernel_size=(1, 1), stride=(1, 1), bias=False)\n",
      "      (bn): BatchNorm2d(48, eps=0.001, momentum=0.1, affine=True, track_running_stats=True)\n",
      "    )\n",
      "    (branch5x5_2): BasicConv2d(\n",
      "      (conv): Conv2d(48, 64, kernel_size=(5, 5), stride=(1, 1), padding=(2, 2), bias=False)\n",
      "      (bn): BatchNorm2d(64, eps=0.001, momentum=0.1, affine=True, track_running_stats=True)\n",
      "    )\n",
      "    (branch3x3dbl_1): BasicConv2d(\n",
      "      (conv): Conv2d(288, 64, kernel_size=(1, 1), stride=(1, 1), bias=False)\n",
      "      (bn): BatchNorm2d(64, eps=0.001, momentum=0.1, affine=True, track_running_stats=True)\n",
      "    )\n",
      "    (branch3x3dbl_2): BasicConv2d(\n",
      "      (conv): Conv2d(64, 96, kernel_size=(3, 3), stride=(1, 1), padding=(1, 1), bias=False)\n",
      "      (bn): BatchNorm2d(96, eps=0.001, momentum=0.1, affine=True, track_running_stats=True)\n",
      "    )\n",
      "    (branch3x3dbl_3): BasicConv2d(\n",
      "      (conv): Conv2d(96, 96, kernel_size=(3, 3), stride=(1, 1), padding=(1, 1), bias=False)\n",
      "      (bn): BatchNorm2d(96, eps=0.001, momentum=0.1, affine=True, track_running_stats=True)\n",
      "    )\n",
      "    (branch_pool): BasicConv2d(\n",
      "      (conv): Conv2d(288, 64, kernel_size=(1, 1), stride=(1, 1), bias=False)\n",
      "      (bn): BatchNorm2d(64, eps=0.001, momentum=0.1, affine=True, track_running_stats=True)\n",
      "    )\n",
      "  )\n",
      "  (Mixed_6a): InceptionB(\n",
      "    (branch3x3): BasicConv2d(\n",
      "      (conv): Conv2d(288, 384, kernel_size=(3, 3), stride=(2, 2), bias=False)\n",
      "      (bn): BatchNorm2d(384, eps=0.001, momentum=0.1, affine=True, track_running_stats=True)\n",
      "    )\n",
      "    (branch3x3dbl_1): BasicConv2d(\n",
      "      (conv): Conv2d(288, 64, kernel_size=(1, 1), stride=(1, 1), bias=False)\n",
      "      (bn): BatchNorm2d(64, eps=0.001, momentum=0.1, affine=True, track_running_stats=True)\n",
      "    )\n",
      "    (branch3x3dbl_2): BasicConv2d(\n",
      "      (conv): Conv2d(64, 96, kernel_size=(3, 3), stride=(1, 1), padding=(1, 1), bias=False)\n",
      "      (bn): BatchNorm2d(96, eps=0.001, momentum=0.1, affine=True, track_running_stats=True)\n",
      "    )\n",
      "    (branch3x3dbl_3): BasicConv2d(\n",
      "      (conv): Conv2d(96, 96, kernel_size=(3, 3), stride=(2, 2), bias=False)\n",
      "      (bn): BatchNorm2d(96, eps=0.001, momentum=0.1, affine=True, track_running_stats=True)\n",
      "    )\n",
      "  )\n",
      "  (Mixed_6b): InceptionC(\n",
      "    (branch1x1): BasicConv2d(\n",
      "      (conv): Conv2d(768, 192, kernel_size=(1, 1), stride=(1, 1), bias=False)\n",
      "      (bn): BatchNorm2d(192, eps=0.001, momentum=0.1, affine=True, track_running_stats=True)\n",
      "    )\n",
      "    (branch7x7_1): BasicConv2d(\n",
      "      (conv): Conv2d(768, 128, kernel_size=(1, 1), stride=(1, 1), bias=False)\n",
      "      (bn): BatchNorm2d(128, eps=0.001, momentum=0.1, affine=True, track_running_stats=True)\n",
      "    )\n",
      "    (branch7x7_2): BasicConv2d(\n",
      "      (conv): Conv2d(128, 128, kernel_size=(1, 7), stride=(1, 1), padding=(0, 3), bias=False)\n",
      "      (bn): BatchNorm2d(128, eps=0.001, momentum=0.1, affine=True, track_running_stats=True)\n",
      "    )\n",
      "    (branch7x7_3): BasicConv2d(\n",
      "      (conv): Conv2d(128, 192, kernel_size=(7, 1), stride=(1, 1), padding=(3, 0), bias=False)\n",
      "      (bn): BatchNorm2d(192, eps=0.001, momentum=0.1, affine=True, track_running_stats=True)\n",
      "    )\n",
      "    (branch7x7dbl_1): BasicConv2d(\n",
      "      (conv): Conv2d(768, 128, kernel_size=(1, 1), stride=(1, 1), bias=False)\n",
      "      (bn): BatchNorm2d(128, eps=0.001, momentum=0.1, affine=True, track_running_stats=True)\n",
      "    )\n",
      "    (branch7x7dbl_2): BasicConv2d(\n",
      "      (conv): Conv2d(128, 128, kernel_size=(7, 1), stride=(1, 1), padding=(3, 0), bias=False)\n",
      "      (bn): BatchNorm2d(128, eps=0.001, momentum=0.1, affine=True, track_running_stats=True)\n",
      "    )\n",
      "    (branch7x7dbl_3): BasicConv2d(\n",
      "      (conv): Conv2d(128, 128, kernel_size=(1, 7), stride=(1, 1), padding=(0, 3), bias=False)\n",
      "      (bn): BatchNorm2d(128, eps=0.001, momentum=0.1, affine=True, track_running_stats=True)\n",
      "    )\n",
      "    (branch7x7dbl_4): BasicConv2d(\n",
      "      (conv): Conv2d(128, 128, kernel_size=(7, 1), stride=(1, 1), padding=(3, 0), bias=False)\n",
      "      (bn): BatchNorm2d(128, eps=0.001, momentum=0.1, affine=True, track_running_stats=True)\n",
      "    )\n",
      "    (branch7x7dbl_5): BasicConv2d(\n",
      "      (conv): Conv2d(128, 192, kernel_size=(1, 7), stride=(1, 1), padding=(0, 3), bias=False)\n",
      "      (bn): BatchNorm2d(192, eps=0.001, momentum=0.1, affine=True, track_running_stats=True)\n",
      "    )\n",
      "    (branch_pool): BasicConv2d(\n",
      "      (conv): Conv2d(768, 192, kernel_size=(1, 1), stride=(1, 1), bias=False)\n",
      "      (bn): BatchNorm2d(192, eps=0.001, momentum=0.1, affine=True, track_running_stats=True)\n",
      "    )\n",
      "  )\n",
      "  (Mixed_6c): InceptionC(\n",
      "    (branch1x1): BasicConv2d(\n",
      "      (conv): Conv2d(768, 192, kernel_size=(1, 1), stride=(1, 1), bias=False)\n",
      "      (bn): BatchNorm2d(192, eps=0.001, momentum=0.1, affine=True, track_running_stats=True)\n",
      "    )\n",
      "    (branch7x7_1): BasicConv2d(\n",
      "      (conv): Conv2d(768, 160, kernel_size=(1, 1), stride=(1, 1), bias=False)\n",
      "      (bn): BatchNorm2d(160, eps=0.001, momentum=0.1, affine=True, track_running_stats=True)\n",
      "    )\n",
      "    (branch7x7_2): BasicConv2d(\n",
      "      (conv): Conv2d(160, 160, kernel_size=(1, 7), stride=(1, 1), padding=(0, 3), bias=False)\n",
      "      (bn): BatchNorm2d(160, eps=0.001, momentum=0.1, affine=True, track_running_stats=True)\n",
      "    )\n",
      "    (branch7x7_3): BasicConv2d(\n",
      "      (conv): Conv2d(160, 192, kernel_size=(7, 1), stride=(1, 1), padding=(3, 0), bias=False)\n",
      "      (bn): BatchNorm2d(192, eps=0.001, momentum=0.1, affine=True, track_running_stats=True)\n",
      "    )\n",
      "    (branch7x7dbl_1): BasicConv2d(\n",
      "      (conv): Conv2d(768, 160, kernel_size=(1, 1), stride=(1, 1), bias=False)\n",
      "      (bn): BatchNorm2d(160, eps=0.001, momentum=0.1, affine=True, track_running_stats=True)\n",
      "    )\n",
      "    (branch7x7dbl_2): BasicConv2d(\n",
      "      (conv): Conv2d(160, 160, kernel_size=(7, 1), stride=(1, 1), padding=(3, 0), bias=False)\n",
      "      (bn): BatchNorm2d(160, eps=0.001, momentum=0.1, affine=True, track_running_stats=True)\n",
      "    )\n",
      "    (branch7x7dbl_3): BasicConv2d(\n",
      "      (conv): Conv2d(160, 160, kernel_size=(1, 7), stride=(1, 1), padding=(0, 3), bias=False)\n",
      "      (bn): BatchNorm2d(160, eps=0.001, momentum=0.1, affine=True, track_running_stats=True)\n",
      "    )\n",
      "    (branch7x7dbl_4): BasicConv2d(\n",
      "      (conv): Conv2d(160, 160, kernel_size=(7, 1), stride=(1, 1), padding=(3, 0), bias=False)\n",
      "      (bn): BatchNorm2d(160, eps=0.001, momentum=0.1, affine=True, track_running_stats=True)\n",
      "    )\n",
      "    (branch7x7dbl_5): BasicConv2d(\n",
      "      (conv): Conv2d(160, 192, kernel_size=(1, 7), stride=(1, 1), padding=(0, 3), bias=False)\n",
      "      (bn): BatchNorm2d(192, eps=0.001, momentum=0.1, affine=True, track_running_stats=True)\n",
      "    )\n",
      "    (branch_pool): BasicConv2d(\n",
      "      (conv): Conv2d(768, 192, kernel_size=(1, 1), stride=(1, 1), bias=False)\n",
      "      (bn): BatchNorm2d(192, eps=0.001, momentum=0.1, affine=True, track_running_stats=True)\n",
      "    )\n",
      "  )\n",
      "  (Mixed_6d): InceptionC(\n",
      "    (branch1x1): BasicConv2d(\n",
      "      (conv): Conv2d(768, 192, kernel_size=(1, 1), stride=(1, 1), bias=False)\n",
      "      (bn): BatchNorm2d(192, eps=0.001, momentum=0.1, affine=True, track_running_stats=True)\n",
      "    )\n",
      "    (branch7x7_1): BasicConv2d(\n",
      "      (conv): Conv2d(768, 160, kernel_size=(1, 1), stride=(1, 1), bias=False)\n",
      "      (bn): BatchNorm2d(160, eps=0.001, momentum=0.1, affine=True, track_running_stats=True)\n",
      "    )\n",
      "    (branch7x7_2): BasicConv2d(\n",
      "      (conv): Conv2d(160, 160, kernel_size=(1, 7), stride=(1, 1), padding=(0, 3), bias=False)\n",
      "      (bn): BatchNorm2d(160, eps=0.001, momentum=0.1, affine=True, track_running_stats=True)\n",
      "    )\n",
      "    (branch7x7_3): BasicConv2d(\n",
      "      (conv): Conv2d(160, 192, kernel_size=(7, 1), stride=(1, 1), padding=(3, 0), bias=False)\n",
      "      (bn): BatchNorm2d(192, eps=0.001, momentum=0.1, affine=True, track_running_stats=True)\n",
      "    )\n",
      "    (branch7x7dbl_1): BasicConv2d(\n",
      "      (conv): Conv2d(768, 160, kernel_size=(1, 1), stride=(1, 1), bias=False)\n",
      "      (bn): BatchNorm2d(160, eps=0.001, momentum=0.1, affine=True, track_running_stats=True)\n",
      "    )\n",
      "    (branch7x7dbl_2): BasicConv2d(\n",
      "      (conv): Conv2d(160, 160, kernel_size=(7, 1), stride=(1, 1), padding=(3, 0), bias=False)\n",
      "      (bn): BatchNorm2d(160, eps=0.001, momentum=0.1, affine=True, track_running_stats=True)\n",
      "    )\n",
      "    (branch7x7dbl_3): BasicConv2d(\n",
      "      (conv): Conv2d(160, 160, kernel_size=(1, 7), stride=(1, 1), padding=(0, 3), bias=False)\n",
      "      (bn): BatchNorm2d(160, eps=0.001, momentum=0.1, affine=True, track_running_stats=True)\n",
      "    )\n",
      "    (branch7x7dbl_4): BasicConv2d(\n",
      "      (conv): Conv2d(160, 160, kernel_size=(7, 1), stride=(1, 1), padding=(3, 0), bias=False)\n",
      "      (bn): BatchNorm2d(160, eps=0.001, momentum=0.1, affine=True, track_running_stats=True)\n",
      "    )\n",
      "    (branch7x7dbl_5): BasicConv2d(\n",
      "      (conv): Conv2d(160, 192, kernel_size=(1, 7), stride=(1, 1), padding=(0, 3), bias=False)\n",
      "      (bn): BatchNorm2d(192, eps=0.001, momentum=0.1, affine=True, track_running_stats=True)\n",
      "    )\n",
      "    (branch_pool): BasicConv2d(\n",
      "      (conv): Conv2d(768, 192, kernel_size=(1, 1), stride=(1, 1), bias=False)\n",
      "      (bn): BatchNorm2d(192, eps=0.001, momentum=0.1, affine=True, track_running_stats=True)\n",
      "    )\n",
      "  )\n",
      "  (Mixed_6e): InceptionC(\n",
      "    (branch1x1): BasicConv2d(\n",
      "      (conv): Conv2d(768, 192, kernel_size=(1, 1), stride=(1, 1), bias=False)\n",
      "      (bn): BatchNorm2d(192, eps=0.001, momentum=0.1, affine=True, track_running_stats=True)\n",
      "    )\n",
      "    (branch7x7_1): BasicConv2d(\n",
      "      (conv): Conv2d(768, 192, kernel_size=(1, 1), stride=(1, 1), bias=False)\n",
      "      (bn): BatchNorm2d(192, eps=0.001, momentum=0.1, affine=True, track_running_stats=True)\n",
      "    )\n",
      "    (branch7x7_2): BasicConv2d(\n",
      "      (conv): Conv2d(192, 192, kernel_size=(1, 7), stride=(1, 1), padding=(0, 3), bias=False)\n",
      "      (bn): BatchNorm2d(192, eps=0.001, momentum=0.1, affine=True, track_running_stats=True)\n",
      "    )\n",
      "    (branch7x7_3): BasicConv2d(\n",
      "      (conv): Conv2d(192, 192, kernel_size=(7, 1), stride=(1, 1), padding=(3, 0), bias=False)\n",
      "      (bn): BatchNorm2d(192, eps=0.001, momentum=0.1, affine=True, track_running_stats=True)\n",
      "    )\n",
      "    (branch7x7dbl_1): BasicConv2d(\n",
      "      (conv): Conv2d(768, 192, kernel_size=(1, 1), stride=(1, 1), bias=False)\n",
      "      (bn): BatchNorm2d(192, eps=0.001, momentum=0.1, affine=True, track_running_stats=True)\n",
      "    )\n",
      "    (branch7x7dbl_2): BasicConv2d(\n",
      "      (conv): Conv2d(192, 192, kernel_size=(7, 1), stride=(1, 1), padding=(3, 0), bias=False)\n",
      "      (bn): BatchNorm2d(192, eps=0.001, momentum=0.1, affine=True, track_running_stats=True)\n",
      "    )\n",
      "    (branch7x7dbl_3): BasicConv2d(\n",
      "      (conv): Conv2d(192, 192, kernel_size=(1, 7), stride=(1, 1), padding=(0, 3), bias=False)\n",
      "      (bn): BatchNorm2d(192, eps=0.001, momentum=0.1, affine=True, track_running_stats=True)\n",
      "    )\n",
      "    (branch7x7dbl_4): BasicConv2d(\n",
      "      (conv): Conv2d(192, 192, kernel_size=(7, 1), stride=(1, 1), padding=(3, 0), bias=False)\n",
      "      (bn): BatchNorm2d(192, eps=0.001, momentum=0.1, affine=True, track_running_stats=True)\n",
      "    )\n",
      "    (branch7x7dbl_5): BasicConv2d(\n",
      "      (conv): Conv2d(192, 192, kernel_size=(1, 7), stride=(1, 1), padding=(0, 3), bias=False)\n",
      "      (bn): BatchNorm2d(192, eps=0.001, momentum=0.1, affine=True, track_running_stats=True)\n",
      "    )\n",
      "    (branch_pool): BasicConv2d(\n",
      "      (conv): Conv2d(768, 192, kernel_size=(1, 1), stride=(1, 1), bias=False)\n",
      "      (bn): BatchNorm2d(192, eps=0.001, momentum=0.1, affine=True, track_running_stats=True)\n",
      "    )\n",
      "  )\n",
      "  (AuxLogits): InceptionAux(\n",
      "    (conv0): BasicConv2d(\n",
      "      (conv): Conv2d(768, 128, kernel_size=(1, 1), stride=(1, 1), bias=False)\n",
      "      (bn): BatchNorm2d(128, eps=0.001, momentum=0.1, affine=True, track_running_stats=True)\n",
      "    )\n",
      "    (conv1): BasicConv2d(\n",
      "      (conv): Conv2d(128, 768, kernel_size=(5, 5), stride=(1, 1), bias=False)\n",
      "      (bn): BatchNorm2d(768, eps=0.001, momentum=0.1, affine=True, track_running_stats=True)\n",
      "    )\n",
      "    (fc): Linear(in_features=768, out_features=1000, bias=True)\n",
      "  )\n",
      "  (Mixed_7a): InceptionD(\n",
      "    (branch3x3_1): BasicConv2d(\n",
      "      (conv): Conv2d(768, 192, kernel_size=(1, 1), stride=(1, 1), bias=False)\n",
      "      (bn): BatchNorm2d(192, eps=0.001, momentum=0.1, affine=True, track_running_stats=True)\n",
      "    )\n",
      "    (branch3x3_2): BasicConv2d(\n",
      "      (conv): Conv2d(192, 320, kernel_size=(3, 3), stride=(2, 2), bias=False)\n",
      "      (bn): BatchNorm2d(320, eps=0.001, momentum=0.1, affine=True, track_running_stats=True)\n",
      "    )\n",
      "    (branch7x7x3_1): BasicConv2d(\n",
      "      (conv): Conv2d(768, 192, kernel_size=(1, 1), stride=(1, 1), bias=False)\n",
      "      (bn): BatchNorm2d(192, eps=0.001, momentum=0.1, affine=True, track_running_stats=True)\n",
      "    )\n",
      "    (branch7x7x3_2): BasicConv2d(\n",
      "      (conv): Conv2d(192, 192, kernel_size=(1, 7), stride=(1, 1), padding=(0, 3), bias=False)\n",
      "      (bn): BatchNorm2d(192, eps=0.001, momentum=0.1, affine=True, track_running_stats=True)\n",
      "    )\n",
      "    (branch7x7x3_3): BasicConv2d(\n",
      "      (conv): Conv2d(192, 192, kernel_size=(7, 1), stride=(1, 1), padding=(3, 0), bias=False)\n",
      "      (bn): BatchNorm2d(192, eps=0.001, momentum=0.1, affine=True, track_running_stats=True)\n",
      "    )\n",
      "    (branch7x7x3_4): BasicConv2d(\n",
      "      (conv): Conv2d(192, 192, kernel_size=(3, 3), stride=(2, 2), bias=False)\n",
      "      (bn): BatchNorm2d(192, eps=0.001, momentum=0.1, affine=True, track_running_stats=True)\n",
      "    )\n",
      "  )\n",
      "  (Mixed_7b): InceptionE(\n",
      "    (branch1x1): BasicConv2d(\n",
      "      (conv): Conv2d(1280, 320, kernel_size=(1, 1), stride=(1, 1), bias=False)\n",
      "      (bn): BatchNorm2d(320, eps=0.001, momentum=0.1, affine=True, track_running_stats=True)\n",
      "    )\n",
      "    (branch3x3_1): BasicConv2d(\n",
      "      (conv): Conv2d(1280, 384, kernel_size=(1, 1), stride=(1, 1), bias=False)\n",
      "      (bn): BatchNorm2d(384, eps=0.001, momentum=0.1, affine=True, track_running_stats=True)\n",
      "    )\n",
      "    (branch3x3_2a): BasicConv2d(\n",
      "      (conv): Conv2d(384, 384, kernel_size=(1, 3), stride=(1, 1), padding=(0, 1), bias=False)\n",
      "      (bn): BatchNorm2d(384, eps=0.001, momentum=0.1, affine=True, track_running_stats=True)\n",
      "    )\n",
      "    (branch3x3_2b): BasicConv2d(\n",
      "      (conv): Conv2d(384, 384, kernel_size=(3, 1), stride=(1, 1), padding=(1, 0), bias=False)\n",
      "      (bn): BatchNorm2d(384, eps=0.001, momentum=0.1, affine=True, track_running_stats=True)\n",
      "    )\n",
      "    (branch3x3dbl_1): BasicConv2d(\n",
      "      (conv): Conv2d(1280, 448, kernel_size=(1, 1), stride=(1, 1), bias=False)\n",
      "      (bn): BatchNorm2d(448, eps=0.001, momentum=0.1, affine=True, track_running_stats=True)\n",
      "    )\n",
      "    (branch3x3dbl_2): BasicConv2d(\n",
      "      (conv): Conv2d(448, 384, kernel_size=(3, 3), stride=(1, 1), padding=(1, 1), bias=False)\n",
      "      (bn): BatchNorm2d(384, eps=0.001, momentum=0.1, affine=True, track_running_stats=True)\n",
      "    )\n",
      "    (branch3x3dbl_3a): BasicConv2d(\n",
      "      (conv): Conv2d(384, 384, kernel_size=(1, 3), stride=(1, 1), padding=(0, 1), bias=False)\n",
      "      (bn): BatchNorm2d(384, eps=0.001, momentum=0.1, affine=True, track_running_stats=True)\n",
      "    )\n",
      "    (branch3x3dbl_3b): BasicConv2d(\n",
      "      (conv): Conv2d(384, 384, kernel_size=(3, 1), stride=(1, 1), padding=(1, 0), bias=False)\n",
      "      (bn): BatchNorm2d(384, eps=0.001, momentum=0.1, affine=True, track_running_stats=True)\n",
      "    )\n",
      "    (branch_pool): BasicConv2d(\n",
      "      (conv): Conv2d(1280, 192, kernel_size=(1, 1), stride=(1, 1), bias=False)\n",
      "      (bn): BatchNorm2d(192, eps=0.001, momentum=0.1, affine=True, track_running_stats=True)\n",
      "    )\n",
      "  )\n",
      "  (Mixed_7c): InceptionE(\n",
      "    (branch1x1): BasicConv2d(\n",
      "      (conv): Conv2d(2048, 320, kernel_size=(1, 1), stride=(1, 1), bias=False)\n",
      "      (bn): BatchNorm2d(320, eps=0.001, momentum=0.1, affine=True, track_running_stats=True)\n",
      "    )\n",
      "    (branch3x3_1): BasicConv2d(\n",
      "      (conv): Conv2d(2048, 384, kernel_size=(1, 1), stride=(1, 1), bias=False)\n",
      "      (bn): BatchNorm2d(384, eps=0.001, momentum=0.1, affine=True, track_running_stats=True)\n",
      "    )\n",
      "    (branch3x3_2a): BasicConv2d(\n",
      "      (conv): Conv2d(384, 384, kernel_size=(1, 3), stride=(1, 1), padding=(0, 1), bias=False)\n",
      "      (bn): BatchNorm2d(384, eps=0.001, momentum=0.1, affine=True, track_running_stats=True)\n",
      "    )\n",
      "    (branch3x3_2b): BasicConv2d(\n",
      "      (conv): Conv2d(384, 384, kernel_size=(3, 1), stride=(1, 1), padding=(1, 0), bias=False)\n",
      "      (bn): BatchNorm2d(384, eps=0.001, momentum=0.1, affine=True, track_running_stats=True)\n",
      "    )\n",
      "    (branch3x3dbl_1): BasicConv2d(\n",
      "      (conv): Conv2d(2048, 448, kernel_size=(1, 1), stride=(1, 1), bias=False)\n",
      "      (bn): BatchNorm2d(448, eps=0.001, momentum=0.1, affine=True, track_running_stats=True)\n",
      "    )\n",
      "    (branch3x3dbl_2): BasicConv2d(\n",
      "      (conv): Conv2d(448, 384, kernel_size=(3, 3), stride=(1, 1), padding=(1, 1), bias=False)\n",
      "      (bn): BatchNorm2d(384, eps=0.001, momentum=0.1, affine=True, track_running_stats=True)\n",
      "    )\n",
      "    (branch3x3dbl_3a): BasicConv2d(\n",
      "      (conv): Conv2d(384, 384, kernel_size=(1, 3), stride=(1, 1), padding=(0, 1), bias=False)\n",
      "      (bn): BatchNorm2d(384, eps=0.001, momentum=0.1, affine=True, track_running_stats=True)\n",
      "    )\n",
      "    (branch3x3dbl_3b): BasicConv2d(\n",
      "      (conv): Conv2d(384, 384, kernel_size=(3, 1), stride=(1, 1), padding=(1, 0), bias=False)\n",
      "      (bn): BatchNorm2d(384, eps=0.001, momentum=0.1, affine=True, track_running_stats=True)\n",
      "    )\n",
      "    (branch_pool): BasicConv2d(\n",
      "      (conv): Conv2d(2048, 192, kernel_size=(1, 1), stride=(1, 1), bias=False)\n",
      "      (bn): BatchNorm2d(192, eps=0.001, momentum=0.1, affine=True, track_running_stats=True)\n",
      "    )\n",
      "  )\n",
      "  (fc): Linear(in_features=2048, out_features=1000, bias=True)\n",
      ")\n"
     ]
    }
   ],
   "source": [
    "# Printa modellen för att se de sista FC-lagren som behöver bytas ut: \n",
    "print(model)"
   ]
  },
  {
   "cell_type": "code",
   "execution_count": 25,
   "metadata": {},
   "outputs": [],
   "source": [
    "models_last_fc_infeatures = 2048\n",
    "model_name = 'Inception_v3'"
   ]
  },
  {
   "cell_type": "code",
   "execution_count": 26,
   "metadata": {},
   "outputs": [
    {
     "data": {
      "text/plain": [
       "'Inception_v3_e100_bsztr4_bszval16_lr1e-04'"
      ]
     },
     "execution_count": 26,
     "metadata": {},
     "output_type": "execute_result"
    }
   ],
   "source": [
    "create_filename(model_name)"
   ]
  },
  {
   "cell_type": "code",
   "execution_count": 27,
   "metadata": {},
   "outputs": [],
   "source": [
    "if do_training == True:\n",
    "    \n",
    "    # Vi måste ändra på det sista FC-lagret i modellen, som från början\n",
    "    # innehållet 1000 st out-features. Vi behöver bara 7.\n",
    "\n",
    "    for param in model.parameters():\n",
    "        param.require_grad = False\n",
    "    \n",
    "    # Ersätt sista fc-lagret med rätt antal ut-klasser: \n",
    "    model.fc = nn.Linear(in_features = models_last_fc_infeatures, out_features = number_of_classes, bias = True)\n",
    "    \n",
    "else:\n",
    "    model.fc = nn.Linear(in_features = models_last_fc_infeatures, out_features = number_of_classes, bias = True)\n",
    "    load_trained_model(model_name)\n",
    "    model.eval()"
   ]
  },
  {
   "cell_type": "markdown",
   "metadata": {},
   "source": [
    "### Flytta modellen till GPU, om en sådan finns:"
   ]
  },
  {
   "cell_type": "code",
   "execution_count": 28,
   "metadata": {},
   "outputs": [
    {
     "data": {
      "text/plain": [
       "True"
      ]
     },
     "execution_count": 28,
     "metadata": {},
     "output_type": "execute_result"
    }
   ],
   "source": [
    "# Flytta modellen till rätt device:\n",
    "\n",
    "to_device(model, device)\n",
    "\n",
    "# Verifiera att modellen är på rätt device:\n",
    "# True => modellen finns på GPU.\n",
    "\n",
    "next(model.parameters()).is_cuda"
   ]
  },
  {
   "cell_type": "code",
   "execution_count": 29,
   "metadata": {},
   "outputs": [
    {
     "name": "stdout",
     "output_type": "stream",
     "text": [
      "Antalet träningsbara parametrar är 25,126,607 st.\n"
     ]
    }
   ],
   "source": [
    "trainableparameters = []\n",
    "for param in model.parameters():\n",
    "    # trainableparameters = param.numel()\n",
    "    trainableparameters.append(param.numel())\n",
    "    num_trainable_params = np.sum(trainableparameters)\n",
    "    \n",
    "print(f'Antalet träningsbara parametrar är {num_trainable_params:,} st.')"
   ]
  },
  {
   "cell_type": "markdown",
   "metadata": {},
   "source": [
    "## Definiera loss-function och vilken metod för optimering som ska användas:"
   ]
  },
  {
   "cell_type": "code",
   "execution_count": 30,
   "metadata": {},
   "outputs": [],
   "source": [
    "# Definiera loss-function och vilken optimerare som ska användas:\n",
    "criterion = nn.CrossEntropyLoss()\n",
    "optimizer = torch.optim.Adam(model.parameters(), lr = learning_rate)"
   ]
  },
  {
   "cell_type": "code",
   "execution_count": 31,
   "metadata": {},
   "outputs": [],
   "source": [
    "# Decay LR by a factor of 0.1 every 3 epochs\n",
    "# exp_lr_scheduler = lr_scheduler.StepLR(optimizer, step_size = 3, gamma = 0.1)"
   ]
  },
  {
   "cell_type": "markdown",
   "metadata": {},
   "source": [
    "## Följande återställer modellens vikter mellan olika körningar"
   ]
  },
  {
   "cell_type": "code",
   "execution_count": 32,
   "metadata": {},
   "outputs": [],
   "source": [
    "def weights_init(m):\n",
    "    if isinstance(m, nn.Conv2d):\n",
    "        torch.nn.init.xavier_uniform_(m.weight.data)"
   ]
  },
  {
   "cell_type": "markdown",
   "metadata": {},
   "source": [
    "## Overfit på en batch för att se att modellen är rimlig"
   ]
  },
  {
   "cell_type": "code",
   "execution_count": 34,
   "metadata": {},
   "outputs": [],
   "source": [
    "if do_training == True:\n",
    "\n",
    "    model.apply(weights_init)\n",
    "    model.train()\n",
    "\n",
    "    inputs, labels = next(iter(train_dl_weighted))\n",
    "    inputs = inputs.to(device)\n",
    "    labels = labels.to(device)\n",
    "\n",
    "    criterion_check_onebatch = nn.CrossEntropyLoss()\n",
    "    optimizer_check_onebatch = optim.Adam(model.parameters(), lr = learning_rate)\n",
    "\n",
    "    model.train()\n",
    "    for epoch in range(31):\n",
    "        optimizer_check_onebatch.zero_grad()\n",
    "        outputs = model(inputs)\n",
    "        loss = criterion_check_onebatch(outputs, labels)\n",
    "        _, preds = torch.max(outputs, 1)\n",
    "        loss.backward()\n",
    "        optimizer_check_onebatch.step()\n",
    "        correct = torch.sum(preds == labels)\n",
    "    \n",
    "        if epoch%10 == 0:\n",
    "            print(f'Epok {epoch:02}: ----- loss = {loss:4.4f} ----- accuracy = {correct}')\n",
    "else:\n",
    "    pass"
   ]
  },
  {
   "cell_type": "markdown",
   "metadata": {},
   "source": [
    "# Träna och utvärdera modellen"
   ]
  },
  {
   "cell_type": "code",
   "execution_count": 140,
   "metadata": {},
   "outputs": [],
   "source": [
    "def train_eval(epochs = 10, do_validation = True, training_dataloader = train_dl_weighted, validation_dataloader = valid_dl):\n",
    "\n",
    "    # if ((do_training == False) and (do_validation == True)):\n",
    "    #    print(\"Kan inte validera en modell som inte tränats.\")\n",
    "    # else:\n",
    "    start_training_time = time.time()\n",
    "\n",
    "    # Placeholders för att mäta modellen:\n",
    "    global train_accuracy, train_losses, val_accuracy, val_losses\n",
    "        \n",
    "    train_accuracy = []\n",
    "    train_losses = []\n",
    "        \n",
    "    val_accuracy = []\n",
    "    val_losses = []\n",
    "\n",
    "    for epoch in range(epochs):\n",
    "        start_epoch_time = time.time()\n",
    "        train_correct_pred_per_epoch = 0\n",
    "        \n",
    "        current_train_loss = 0.0\n",
    "        current_train_corrects = 0\n",
    "        \n",
    "        # Träning ###########################################################\n",
    "        # Sätt modellen i träningsläge:\n",
    "        start_train_time = time.time()\n",
    "        model.train()\n",
    "        \n",
    "        for inputs_train, labels_train in training_dataloader:\n",
    "            # Med denna modell får vi två outputs:\n",
    "            train_predictions, train_aux_logits = model.forward(inputs_train)\n",
    "            optimizer.zero_grad()\n",
    "            \n",
    "            train_loss = criterion(train_predictions, labels_train)\n",
    "            train_loss.backward()\n",
    "                \n",
    "            optimizer.step()\n",
    "                    \n",
    "            #exp_lr_scheduler.step()\n",
    "            #lr = exp_lr_scheduler.get_lr()\n",
    "                \n",
    "            # Nedan ger den mest troliga klassen:\n",
    "            # train_predicted består av två värden:\n",
    "            # values och indices, därav väljer \n",
    "            # vi train_predicted[1] sen.\n",
    "            train_predicted = torch.max(train_predictions, 1)\n",
    "    \n",
    "            current_train_loss += train_loss.item() * batchsz_train\n",
    "            current_train_corrects += torch.sum(train_predicted[1] == labels_train.data)\n",
    "        \n",
    "        end_train_time = time.time()\n",
    "        \n",
    "        # Validering ########################################################\n",
    "        # Sätt modellen i utvärderingsläge:\n",
    "            \n",
    "        if do_validation == True:\n",
    "            start_eval_time = time.time()\n",
    "            model.eval()\n",
    "        \n",
    "            current_val_loss = 0.0\n",
    "            current_val_corrects = 0\n",
    "        \n",
    "            with torch.no_grad():\n",
    "                \n",
    "                inputs_val, labels_val = next(iter(validation_dataloader))\n",
    "                \n",
    "                val_predictions = model.forward(inputs_val)\n",
    "                val_loss = criterion(val_predictions, labels_val)\n",
    "                \n",
    "                val_pred_values, val_predicted = torch.max(val_predictions, 1)\n",
    "                    \n",
    "                current_val_loss += val_loss.item() * batchsz_val\n",
    "                current_val_corrects += torch.sum(val_predicted == labels_val.data)\n",
    "        \n",
    "            end_eval_time = time.time()\n",
    "        else:\n",
    "            pass\n",
    "            \n",
    "        ######################################################################\n",
    "        \n",
    "        # Metrics ############################################################\n",
    "        # Räkna ut acc och loss per epok:\n",
    "        epoch_train_loss = np.float64(current_train_loss / num_train_images)\n",
    "        epoch_train_acc = np.float64(current_train_corrects.double() / num_train_images)\n",
    "        \n",
    "        if do_validation == True:\n",
    "            epoch_val_loss = np.float64(current_val_loss / batchsz_val)\n",
    "            epoch_val_acc = np.float64(current_val_corrects.double() / batchsz_val)\n",
    "        else:\n",
    "            pass\n",
    "                \n",
    "        # Lagra accuracy och loss per epok i en lista för t.ex. plottning:\n",
    "        train_losses.append(epoch_train_loss)\n",
    "        train_accuracy.append(epoch_train_acc)\n",
    "            \n",
    "        if do_validation == True:\n",
    "            val_losses.append(epoch_val_loss)\n",
    "            val_accuracy.append(epoch_val_acc)\n",
    "        else:\n",
    "            pass\n",
    "                \n",
    "        # Räkna ut tiderna per epok:\n",
    "        end_epoch_time = time.time()\n",
    "        epoch_time = end_epoch_time - start_epoch_time\n",
    "        \n",
    "        # epoch startar på 0, därav \"+1\" nedan:\n",
    "        if do_validation == True:\n",
    "            print(f\"Epok {epoch + 1:02}: {epoch_time:2.1f} sek, train-acc = {epoch_train_acc:4.3f}, val-acc = {epoch_val_acc:4.3f}, train-loss = {epoch_train_loss:4.4f}, val-loss = {epoch_val_loss:4.4f}\")            \n",
    "        else:\n",
    "            print(f\"Epok {epoch + 1:02}: {epoch_time:2.1f} sek, train-acc = {epoch_train_acc:4.3f}, train-loss = {epoch_train_loss:4.4f}\")\n",
    "    \n",
    "    # Spara träningsdatan till fil och i en pandas_df:\n",
    "    #save_training_log(model_name, do_validation)\n",
    "    \n",
    "    end_training_time = time.time()\n",
    "    \n",
    "    delta = end_training_time - start_training_time\n",
    "    \n",
    "    print(f'\\nTraining took {delta:.2f} seconds.')"
   ]
  },
  {
   "cell_type": "code",
   "execution_count": null,
   "metadata": {},
   "outputs": [],
   "source": [
    "# Felsökning nedan... :-)"
   ]
  },
  {
   "cell_type": "code",
   "execution_count": 102,
   "metadata": {},
   "outputs": [
    {
     "name": "stdout",
     "output_type": "stream",
     "text": [
      "tensor(8, device='cuda:0')\n"
     ]
    }
   ],
   "source": [
    "with torch.no_grad():\n",
    "    inputs_val, labels_val = next(iter(valid_dl))\n",
    "                \n",
    "    val_predictions = model.forward(inputs_val)\n",
    "    val_loss = criterion(val_predictions, labels_val)\n",
    "                \n",
    "    val_pred_values, val_predicted = torch.max(val_predictions, 1)\n",
    "    current_val_corrects = 0\n",
    "\n",
    "    current_val_corrects += torch.sum(val_predicted == labels_val.data)\n",
    "    print(current_val_corrects)"
   ]
  },
  {
   "cell_type": "code",
   "execution_count": 90,
   "metadata": {},
   "outputs": [
    {
     "data": {
      "text/plain": [
       "tensor([[-0.5186, -0.0426, -0.4392, -0.1860, -0.2805, -0.8589,  0.0593],\n",
       "        [ 0.3928, -0.2779, -0.1446,  0.3555, -0.4682,  0.2508, -0.1850],\n",
       "        [-0.5906, -0.4043,  0.1135,  0.1581,  0.0968, -0.1123, -0.3515],\n",
       "        [ 0.3514,  0.1627,  0.3748, -0.1686,  0.1726,  0.1787,  0.5258],\n",
       "        [-0.0804, -0.1824, -0.3288, -0.1269,  0.1130,  0.1983, -0.2513],\n",
       "        [ 0.2773, -0.6002, -0.1763, -0.0763,  0.3227, -0.2346, -0.5133],\n",
       "        [-0.0805, -0.3232,  0.0648, -0.0875,  0.0601, -0.0177,  0.2190],\n",
       "        [-0.3279, -0.2118,  0.1383, -0.2011,  0.0932, -0.0749, -0.1768],\n",
       "        [-0.3830, -0.5163,  0.2566, -0.0472,  0.1888,  0.0033, -0.3669],\n",
       "        [-0.0913, -0.0355, -0.0042, -0.5512,  0.3089, -0.6105, -0.0823],\n",
       "        [-0.1353, -0.5246,  0.2645, -0.5012,  0.0816,  0.2328, -0.1560],\n",
       "        [ 0.4153, -0.1650,  0.3160,  0.2189, -0.1188,  0.1177, -0.1486],\n",
       "        [-0.0165, -0.5099, -0.1494,  0.6054,  0.1635,  0.0330, -0.1733],\n",
       "        [-0.4773,  0.0527, -0.0618,  0.2371, -0.1612,  0.0908, -0.1353],\n",
       "        [-0.2372, -0.2170, -0.2533,  0.1442,  0.3729,  0.1128, -0.6340],\n",
       "        [ 0.2361, -0.8672, -0.2262,  0.0009, -0.3076,  0.0644, -0.0621]],\n",
       "       device='cuda:0')"
      ]
     },
     "execution_count": 90,
     "metadata": {},
     "output_type": "execute_result"
    }
   ],
   "source": [
    "val_predictions # (16, 7), från model.forward(inputs)\n",
    "# Är detta \"sannolikheten\" per klass, crossentropy? Ja, eftersom det \n",
    "# kommer från model.forward()...!"
   ]
  },
  {
   "cell_type": "code",
   "execution_count": 91,
   "metadata": {},
   "outputs": [
    {
     "data": {
      "text/plain": [
       "tensor([[-0.2042, -0.3192, -1.8778,  ...,  0.3699, -1.3243, -0.1011],\n",
       "        [-0.8045,  1.1339, -2.7234,  ...,  0.8253,  1.9302,  1.8388],\n",
       "        [-1.5712,  1.3545, -0.6361,  ..., -3.8614,  0.2421,  0.8606],\n",
       "        ...,\n",
       "        [-0.9931,  1.2717, -0.4980,  ...,  1.9029,  3.0866,  0.6406],\n",
       "        [-0.6393,  2.0526,  0.9540,  ..., -0.3114, -0.8450,  0.7645],\n",
       "        [ 0.2048,  0.4666,  1.8012,  ...,  0.4212,  1.1100, -3.0695]],\n",
       "       device='cuda:0')"
      ]
     },
     "execution_count": 91,
     "metadata": {},
     "output_type": "execute_result"
    }
   ],
   "source": [
    "val_what # (16, 1000), från model.forward(inputs)"
   ]
  },
  {
   "cell_type": "code",
   "execution_count": 92,
   "metadata": {},
   "outputs": [
    {
     "data": {
      "text/plain": [
       "tensor([0.0593, 0.3928, 0.1581, 0.5258, 0.1983, 0.3227, 0.2190, 0.1383, 0.2566,\n",
       "        0.3089, 0.2645, 0.4153, 0.6054, 0.2371, 0.3729, 0.2361],\n",
       "       device='cuda:0')"
      ]
     },
     "execution_count": 92,
     "metadata": {},
     "output_type": "execute_result"
    }
   ],
   "source": [
    "val_pred_values # (16), torch.max(val_predictions, 1)\n",
    "# torch.max(tensor, dim = 1) ger två värden:\n",
    "# 1. max-värdena längs dim = 1 (=rad)\n",
    "# 2. max-värdenas index i tensorn.\n",
    "\n",
    "# Men varför en 1000-dimensions-tensor ovan?"
   ]
  },
  {
   "cell_type": "code",
   "execution_count": 93,
   "metadata": {},
   "outputs": [
    {
     "data": {
      "text/plain": [
       "tensor([6, 0, 3, 6, 5, 4, 6, 2, 2, 4, 2, 0, 3, 3, 4, 0], device='cuda:0')"
      ]
     },
     "execution_count": 93,
     "metadata": {},
     "output_type": "execute_result"
    }
   ],
   "source": [
    "val_predicted # (16), torch.max(val_predictions, 1)"
   ]
  },
  {
   "cell_type": "code",
   "execution_count": null,
   "metadata": {},
   "outputs": [],
   "source": [
    "# slut på felsökning i validation!"
   ]
  },
  {
   "cell_type": "code",
   "execution_count": 108,
   "metadata": {
    "scrolled": true
   },
   "outputs": [],
   "source": [
    "# Nollställer vikterna i modellen:\n",
    "if do_training == True:\n",
    "    model.apply(weights_init)\n",
    "else:\n",
    "    pass\n",
    "\n",
    "# Nedan för att vi använder \"droplast = True\"...\n",
    "\n",
    "# Train:\n",
    "num_train_images = batchsz_train * np.floor_divide(len(train_loader.dataset), batchsz_train)\n",
    "    \n",
    "# Validation:\n",
    "num_val_images = batchsz_val * np.floor_divide(len(valid_loader.dataset), batchsz_val)"
   ]
  },
  {
   "cell_type": "markdown",
   "metadata": {},
   "source": [
    "### Träningsrunda #1"
   ]
  },
  {
   "cell_type": "code",
   "execution_count": 114,
   "metadata": {
    "scrolled": true
   },
   "outputs": [
    {
     "name": "stdout",
     "output_type": "stream",
     "text": [
      "Epok 01: 188.7 sek, train-acc = 0.153, val-acc = 0.188, train-loss = 1.9475, val-loss = 2.0978\n",
      "Epok 02: 195.5 sek, train-acc = 0.201, val-acc = 0.312, train-loss = 1.8938, val-loss = 1.6088\n",
      "Epok 03: 195.3 sek, train-acc = 0.252, val-acc = 0.062, train-loss = 1.8310, val-loss = 2.1506\n",
      "Epok 04: 195.2 sek, train-acc = 0.293, val-acc = 0.250, train-loss = 1.7670, val-loss = 1.5951\n",
      "Epok 05: 196.0 sek, train-acc = 0.348, val-acc = 0.375, train-loss = 1.6789, val-loss = 1.9975\n",
      "Epok 06: 197.8 sek, train-acc = 0.373, val-acc = 0.562, train-loss = 1.6287, val-loss = 1.1916\n",
      "Epok 07: 197.9 sek, train-acc = 0.399, val-acc = 0.375, train-loss = 1.5708, val-loss = 1.4248\n",
      "Epok 08: 198.3 sek, train-acc = 0.411, val-acc = 0.250, train-loss = 1.5293, val-loss = 1.9929\n",
      "Epok 09: 198.6 sek, train-acc = 0.439, val-acc = 0.500, train-loss = 1.4731, val-loss = 1.3103\n",
      "Epok 10: 197.0 sek, train-acc = 0.440, val-acc = 0.375, train-loss = 1.4743, val-loss = 1.3613\n",
      "Epok 11: 196.5 sek, train-acc = 0.472, val-acc = 0.688, train-loss = 1.3959, val-loss = 0.9430\n",
      "Epok 12: 196.3 sek, train-acc = 0.464, val-acc = 0.500, train-loss = 1.4032, val-loss = 1.2661\n",
      "Epok 13: 196.7 sek, train-acc = 0.485, val-acc = 0.562, train-loss = 1.3627, val-loss = 0.8146\n",
      "Epok 14: 196.7 sek, train-acc = 0.491, val-acc = 0.750, train-loss = 1.3459, val-loss = 1.0364\n",
      "Epok 15: 196.7 sek, train-acc = 0.487, val-acc = 0.375, train-loss = 1.3372, val-loss = 5.2706\n",
      "Epok 16: 196.7 sek, train-acc = 0.519, val-acc = 0.375, train-loss = 1.2735, val-loss = 2.7972\n",
      "Epok 17: 197.0 sek, train-acc = 0.519, val-acc = 0.625, train-loss = 1.2737, val-loss = 1.1564\n",
      "Epok 18: 196.8 sek, train-acc = 0.540, val-acc = 0.375, train-loss = 1.2358, val-loss = 2.0076\n",
      "Epok 19: 197.1 sek, train-acc = 0.552, val-acc = 0.562, train-loss = 1.2058, val-loss = 1.1463\n",
      "Epok 20: 197.0 sek, train-acc = 0.559, val-acc = 0.750, train-loss = 1.1717, val-loss = 0.7386\n",
      "Epok 21: 197.1 sek, train-acc = 0.567, val-acc = 0.438, train-loss = 1.1620, val-loss = 1.2498\n",
      "Epok 22: 197.1 sek, train-acc = 0.587, val-acc = 0.375, train-loss = 1.1276, val-loss = 3.6879\n",
      "Epok 23: 197.4 sek, train-acc = 0.577, val-acc = 0.375, train-loss = 1.1423, val-loss = 2.0043\n",
      "Epok 24: 197.3 sek, train-acc = 0.580, val-acc = 0.500, train-loss = 1.1124, val-loss = 6.3617\n",
      "Epok 25: 197.2 sek, train-acc = 0.602, val-acc = 0.375, train-loss = 1.0803, val-loss = 1.8246\n",
      "Epok 26: 197.1 sek, train-acc = 0.611, val-acc = 0.688, train-loss = 1.0595, val-loss = 0.8898\n",
      "Epok 27: 197.2 sek, train-acc = 0.614, val-acc = 0.438, train-loss = 1.0437, val-loss = 1.1571\n",
      "Epok 28: 197.2 sek, train-acc = 0.610, val-acc = 0.688, train-loss = 1.0412, val-loss = 1.0167\n",
      "Epok 29: 197.3 sek, train-acc = 0.625, val-acc = 0.625, train-loss = 0.9942, val-loss = 0.8969\n",
      "Epok 30: 197.5 sek, train-acc = 0.644, val-acc = 0.688, train-loss = 0.9728, val-loss = 1.0953\n",
      "Epok 31: 197.1 sek, train-acc = 0.635, val-acc = 0.500, train-loss = 0.9966, val-loss = 1.6764\n",
      "Epok 32: 197.4 sek, train-acc = 0.641, val-acc = 0.625, train-loss = 0.9604, val-loss = 0.9180\n",
      "Epok 33: 197.4 sek, train-acc = 0.644, val-acc = 0.625, train-loss = 0.9467, val-loss = 1.0769\n",
      "Epok 34: 197.3 sek, train-acc = 0.634, val-acc = 0.562, train-loss = 0.9503, val-loss = 1.2998\n",
      "Epok 35: 197.3 sek, train-acc = 0.656, val-acc = 0.562, train-loss = 0.9247, val-loss = 0.8528\n",
      "Epok 36: 197.4 sek, train-acc = 0.659, val-acc = 0.688, train-loss = 0.9181, val-loss = 1.6538\n",
      "Epok 37: 197.7 sek, train-acc = 0.667, val-acc = 0.562, train-loss = 0.9084, val-loss = 1.3321\n",
      "Epok 38: 197.4 sek, train-acc = 0.664, val-acc = 0.688, train-loss = 0.9069, val-loss = 0.9358\n",
      "Epok 39: 197.3 sek, train-acc = 0.671, val-acc = 0.562, train-loss = 0.8857, val-loss = 2.0192\n",
      "Epok 40: 197.2 sek, train-acc = 0.670, val-acc = 0.688, train-loss = 0.8866, val-loss = 2.2800\n",
      "Epok 41: 197.5 sek, train-acc = 0.672, val-acc = 0.562, train-loss = 0.8836, val-loss = 1.1791\n",
      "Epok 42: 197.4 sek, train-acc = 0.672, val-acc = 0.750, train-loss = 0.8789, val-loss = 0.7714\n",
      "Epok 43: 197.4 sek, train-acc = 0.678, val-acc = 0.750, train-loss = 0.8589, val-loss = 1.1020\n",
      "Epok 44: 197.4 sek, train-acc = 0.685, val-acc = 0.375, train-loss = 0.8325, val-loss = 1.9485\n",
      "Epok 45: 197.6 sek, train-acc = 0.680, val-acc = 0.312, train-loss = 0.8702, val-loss = 2.1241\n",
      "Epok 46: 197.5 sek, train-acc = 0.694, val-acc = 0.438, train-loss = 0.8297, val-loss = 2.3729\n",
      "Epok 47: 197.7 sek, train-acc = 0.694, val-acc = 0.812, train-loss = 0.8262, val-loss = 2.0544\n",
      "Epok 48: 197.8 sek, train-acc = 0.699, val-acc = 0.688, train-loss = 0.8031, val-loss = 1.0296\n",
      "Epok 49: 197.6 sek, train-acc = 0.694, val-acc = 0.562, train-loss = 0.8323, val-loss = 0.8082\n",
      "Epok 50: 197.5 sek, train-acc = 0.701, val-acc = 0.688, train-loss = 0.8114, val-loss = 0.7651\n",
      "Epok 51: 197.4 sek, train-acc = 0.706, val-acc = 0.500, train-loss = 0.7990, val-loss = 1.1351\n",
      "Epok 52: 197.7 sek, train-acc = 0.707, val-acc = 0.438, train-loss = 0.7924, val-loss = 0.8877\n",
      "Epok 53: 197.7 sek, train-acc = 0.708, val-acc = 0.562, train-loss = 0.7799, val-loss = 0.8841\n",
      "Epok 54: 197.4 sek, train-acc = 0.712, val-acc = 0.688, train-loss = 0.7846, val-loss = 1.9554\n",
      "Epok 55: 197.7 sek, train-acc = 0.709, val-acc = 0.688, train-loss = 0.7907, val-loss = 0.9413\n",
      "Epok 56: 197.5 sek, train-acc = 0.716, val-acc = 0.500, train-loss = 0.7462, val-loss = 0.9541\n",
      "Epok 57: 197.6 sek, train-acc = 0.714, val-acc = 0.688, train-loss = 0.7589, val-loss = 0.9520\n",
      "Epok 58: 197.5 sek, train-acc = 0.709, val-acc = 0.812, train-loss = 0.7781, val-loss = 0.4887\n",
      "Epok 59: 197.7 sek, train-acc = 0.719, val-acc = 0.625, train-loss = 0.7525, val-loss = 1.3916\n",
      "Epok 60: 197.9 sek, train-acc = 0.725, val-acc = 0.688, train-loss = 0.7397, val-loss = 0.6547\n",
      "Epok 61: 197.8 sek, train-acc = 0.728, val-acc = 0.562, train-loss = 0.7382, val-loss = 1.1263\n",
      "Epok 62: 197.9 sek, train-acc = 0.720, val-acc = 0.500, train-loss = 0.7566, val-loss = 1.2619\n",
      "Epok 63: 197.9 sek, train-acc = 0.738, val-acc = 0.500, train-loss = 0.7050, val-loss = 1.0538\n",
      "Epok 64: 197.6 sek, train-acc = 0.735, val-acc = 0.562, train-loss = 0.7126, val-loss = 1.2428\n",
      "Epok 65: 197.8 sek, train-acc = 0.747, val-acc = 0.625, train-loss = 0.6982, val-loss = 0.8411\n",
      "Epok 66: 197.9 sek, train-acc = 0.741, val-acc = 0.625, train-loss = 0.6966, val-loss = 1.2583\n",
      "Epok 67: 197.9 sek, train-acc = 0.753, val-acc = 0.562, train-loss = 0.6680, val-loss = 0.9478\n",
      "Epok 68: 197.7 sek, train-acc = 0.735, val-acc = 0.625, train-loss = 0.6948, val-loss = 1.0621\n",
      "Epok 69: 198.0 sek, train-acc = 0.737, val-acc = 0.750, train-loss = 0.7004, val-loss = 0.7840\n",
      "Epok 70: 197.9 sek, train-acc = 0.749, val-acc = 0.812, train-loss = 0.6761, val-loss = 1.2190\n",
      "Epok 71: 198.0 sek, train-acc = 0.744, val-acc = 0.688, train-loss = 0.6930, val-loss = 0.6777\n",
      "Epok 72: 198.1 sek, train-acc = 0.749, val-acc = 0.625, train-loss = 0.6815, val-loss = 0.8202\n",
      "Epok 73: 198.0 sek, train-acc = 0.754, val-acc = 0.500, train-loss = 0.6748, val-loss = 0.9940\n",
      "Epok 74: 198.0 sek, train-acc = 0.753, val-acc = 0.688, train-loss = 0.6696, val-loss = 0.8163\n",
      "Epok 75: 197.9 sek, train-acc = 0.755, val-acc = 0.500, train-loss = 0.6605, val-loss = 1.1640\n",
      "Epok 76: 197.9 sek, train-acc = 0.759, val-acc = 0.688, train-loss = 0.6408, val-loss = 0.8165\n",
      "Epok 77: 197.9 sek, train-acc = 0.766, val-acc = 0.500, train-loss = 0.6368, val-loss = 1.1745\n",
      "Epok 78: 198.0 sek, train-acc = 0.762, val-acc = 0.875, train-loss = 0.6428, val-loss = 0.3986\n",
      "Epok 79: 198.0 sek, train-acc = 0.765, val-acc = 0.438, train-loss = 0.6496, val-loss = 1.5209\n",
      "Epok 80: 198.0 sek, train-acc = 0.763, val-acc = 0.750, train-loss = 0.6327, val-loss = 0.9269\n",
      "Epok 81: 198.1 sek, train-acc = 0.760, val-acc = 0.688, train-loss = 0.6396, val-loss = 1.7422\n",
      "Epok 82: 197.9 sek, train-acc = 0.779, val-acc = 0.875, train-loss = 0.6089, val-loss = 0.4387\n",
      "Epok 83: 198.5 sek, train-acc = 0.770, val-acc = 0.375, train-loss = 0.6196, val-loss = 2.0462\n",
      "Epok 84: 198.1 sek, train-acc = 0.773, val-acc = 0.750, train-loss = 0.6092, val-loss = 1.1982\n",
      "Epok 85: 198.2 sek, train-acc = 0.781, val-acc = 0.875, train-loss = 0.5911, val-loss = 0.3891\n",
      "Epok 86: 198.1 sek, train-acc = 0.774, val-acc = 0.625, train-loss = 0.6050, val-loss = 1.2302\n",
      "Epok 87: 198.2 sek, train-acc = 0.764, val-acc = 0.750, train-loss = 0.6229, val-loss = 0.4473\n"
     ]
    },
    {
     "name": "stdout",
     "output_type": "stream",
     "text": [
      "Epok 88: 198.2 sek, train-acc = 0.775, val-acc = 0.500, train-loss = 0.6023, val-loss = 1.5081\n",
      "Epok 89: 198.0 sek, train-acc = 0.784, val-acc = 0.625, train-loss = 0.5808, val-loss = 0.9736\n",
      "Epok 90: 198.0 sek, train-acc = 0.780, val-acc = 0.875, train-loss = 0.5995, val-loss = 0.5954\n",
      "Epok 91: 198.0 sek, train-acc = 0.794, val-acc = 0.812, train-loss = 0.5641, val-loss = 0.4165\n",
      "Epok 92: 198.1 sek, train-acc = 0.787, val-acc = 0.875, train-loss = 0.5645, val-loss = 0.5689\n",
      "Epok 93: 198.2 sek, train-acc = 0.787, val-acc = 0.688, train-loss = 0.5892, val-loss = 0.7354\n",
      "Epok 94: 198.1 sek, train-acc = 0.784, val-acc = 0.812, train-loss = 0.5901, val-loss = 0.8423\n",
      "Epok 95: 198.3 sek, train-acc = 0.795, val-acc = 0.750, train-loss = 0.5705, val-loss = 1.3004\n",
      "Epok 96: 198.1 sek, train-acc = 0.790, val-acc = 0.562, train-loss = 0.5711, val-loss = 1.0325\n",
      "Epok 97: 198.3 sek, train-acc = 0.791, val-acc = 0.875, train-loss = 0.5681, val-loss = 0.5962\n",
      "Epok 98: 198.3 sek, train-acc = 0.804, val-acc = 0.688, train-loss = 0.5411, val-loss = 1.0791\n",
      "Epok 99: 198.3 sek, train-acc = 0.791, val-acc = 0.625, train-loss = 0.5687, val-loss = 0.9102\n",
      "Epok 100: 198.1 sek, train-acc = 0.798, val-acc = 0.750, train-loss = 0.5592, val-loss = 1.1658\n",
      "\n",
      "Training took 19745.89 seconds.\n"
     ]
    }
   ],
   "source": [
    "# Här görs själva träningen, valideringen, sparande av modellen och träningsloggen.\n",
    "# Alternativt så laddas en redan färdig modell/träningslogg.\n",
    "\n",
    "# \"epochs\" definieras i början av filen!\n",
    "\n",
    "if do_training == True:\n",
    "    train_eval(epochs, do_validation=True, training_dataloader=train_dl_weighted, validation_dataloader=valid_dl)\n",
    "    save_trained_model(model_name)\n",
    "else:\n",
    "    load_training_log(model_name)"
   ]
  },
  {
   "cell_type": "markdown",
   "metadata": {},
   "source": [
    "### Träningsrunda #2"
   ]
  },
  {
   "cell_type": "code",
   "execution_count": 142,
   "metadata": {},
   "outputs": [],
   "source": [
    "# Träna igen med 1/10 lr:\n",
    "optimizer = torch.optim.Adam(model.parameters(), lr = 1e-5)"
   ]
  },
  {
   "cell_type": "code",
   "execution_count": 143,
   "metadata": {},
   "outputs": [
    {
     "name": "stdout",
     "output_type": "stream",
     "text": [
      "Epok 01: 195.5 sek, train-acc = 0.807, val-acc = 0.562, train-loss = 0.5166, val-loss = 1.0817\n",
      "Epok 02: 198.0 sek, train-acc = 0.825, val-acc = 0.625, train-loss = 0.4823, val-loss = 0.9798\n",
      "Epok 03: 196.5 sek, train-acc = 0.840, val-acc = 0.562, train-loss = 0.4388, val-loss = 1.1893\n",
      "Epok 04: 196.5 sek, train-acc = 0.835, val-acc = 0.750, train-loss = 0.4480, val-loss = 1.0340\n",
      "Epok 05: 196.6 sek, train-acc = 0.829, val-acc = 0.688, train-loss = 0.4615, val-loss = 0.9008\n",
      "Epok 06: 196.9 sek, train-acc = 0.843, val-acc = 0.812, train-loss = 0.4353, val-loss = 0.7824\n",
      "Epok 07: 199.3 sek, train-acc = 0.839, val-acc = 0.750, train-loss = 0.4396, val-loss = 0.9192\n",
      "Epok 08: 199.4 sek, train-acc = 0.833, val-acc = 0.938, train-loss = 0.4467, val-loss = 0.3198\n",
      "Epok 09: 199.2 sek, train-acc = 0.842, val-acc = 0.625, train-loss = 0.4330, val-loss = 0.9602\n",
      "Epok 10: 198.0 sek, train-acc = 0.842, val-acc = 0.812, train-loss = 0.4254, val-loss = 0.3324\n",
      "Epok 11: 199.6 sek, train-acc = 0.846, val-acc = 0.875, train-loss = 0.4262, val-loss = 0.7296\n",
      "Epok 12: 198.6 sek, train-acc = 0.847, val-acc = 0.812, train-loss = 0.4142, val-loss = 0.6502\n",
      "Epok 13: 198.1 sek, train-acc = 0.839, val-acc = 0.562, train-loss = 0.4252, val-loss = 1.4576\n",
      "Epok 14: 198.3 sek, train-acc = 0.848, val-acc = 0.688, train-loss = 0.4174, val-loss = 0.4887\n",
      "Epok 15: 198.3 sek, train-acc = 0.850, val-acc = 0.688, train-loss = 0.4103, val-loss = 0.9923\n",
      "Epok 16: 198.3 sek, train-acc = 0.854, val-acc = 0.688, train-loss = 0.4020, val-loss = 0.6445\n",
      "Epok 17: 198.3 sek, train-acc = 0.853, val-acc = 0.750, train-loss = 0.4040, val-loss = 1.5162\n",
      "Epok 18: 200.3 sek, train-acc = 0.847, val-acc = 0.750, train-loss = 0.4119, val-loss = 0.8780\n",
      "Epok 19: 200.4 sek, train-acc = 0.849, val-acc = 0.750, train-loss = 0.4054, val-loss = 0.6988\n",
      "Epok 20: 200.5 sek, train-acc = 0.852, val-acc = 0.812, train-loss = 0.4059, val-loss = 0.4377\n",
      "Epok 21: 200.5 sek, train-acc = 0.853, val-acc = 0.750, train-loss = 0.3964, val-loss = 0.5894\n",
      "Epok 22: 200.4 sek, train-acc = 0.858, val-acc = 0.688, train-loss = 0.3817, val-loss = 0.6005\n",
      "Epok 23: 198.4 sek, train-acc = 0.854, val-acc = 0.750, train-loss = 0.3976, val-loss = 0.6497\n",
      "Epok 24: 198.2 sek, train-acc = 0.850, val-acc = 0.938, train-loss = 0.3960, val-loss = 0.3587\n",
      "Epok 25: 198.3 sek, train-acc = 0.854, val-acc = 0.688, train-loss = 0.3956, val-loss = 0.5928\n",
      "Epok 26: 198.3 sek, train-acc = 0.858, val-acc = 0.688, train-loss = 0.3870, val-loss = 0.5606\n",
      "Epok 27: 198.4 sek, train-acc = 0.854, val-acc = 0.812, train-loss = 0.3926, val-loss = 0.6384\n",
      "Epok 28: 198.5 sek, train-acc = 0.855, val-acc = 0.688, train-loss = 0.3962, val-loss = 1.1601\n",
      "Epok 29: 198.5 sek, train-acc = 0.854, val-acc = 0.688, train-loss = 0.4001, val-loss = 1.1276\n",
      "Epok 30: 198.2 sek, train-acc = 0.855, val-acc = 0.875, train-loss = 0.3891, val-loss = 0.4180\n",
      "Epok 31: 198.7 sek, train-acc = 0.856, val-acc = 0.688, train-loss = 0.3935, val-loss = 0.9873\n",
      "Epok 32: 198.2 sek, train-acc = 0.848, val-acc = 0.562, train-loss = 0.4094, val-loss = 0.9729\n",
      "Epok 33: 198.5 sek, train-acc = 0.852, val-acc = 0.812, train-loss = 0.3980, val-loss = 0.6133\n",
      "Epok 34: 198.5 sek, train-acc = 0.853, val-acc = 0.688, train-loss = 0.4110, val-loss = 0.9383\n",
      "Epok 35: 198.5 sek, train-acc = 0.865, val-acc = 0.750, train-loss = 0.3742, val-loss = 0.5652\n",
      "Epok 36: 198.4 sek, train-acc = 0.847, val-acc = 0.812, train-loss = 0.4108, val-loss = 0.7913\n",
      "Epok 37: 198.4 sek, train-acc = 0.855, val-acc = 0.812, train-loss = 0.3924, val-loss = 0.4098\n",
      "Epok 38: 198.5 sek, train-acc = 0.863, val-acc = 1.000, train-loss = 0.3807, val-loss = 0.1485\n",
      "Epok 39: 198.4 sek, train-acc = 0.853, val-acc = 0.875, train-loss = 0.3910, val-loss = 0.4439\n",
      "Epok 40: 198.7 sek, train-acc = 0.858, val-acc = 0.688, train-loss = 0.3918, val-loss = 0.7439\n",
      "Epok 41: 198.6 sek, train-acc = 0.864, val-acc = 0.562, train-loss = 0.3713, val-loss = 2.0161\n",
      "Epok 42: 198.5 sek, train-acc = 0.859, val-acc = 0.625, train-loss = 0.3856, val-loss = 1.4986\n",
      "Epok 43: 198.7 sek, train-acc = 0.867, val-acc = 0.500, train-loss = 0.3648, val-loss = 0.7722\n",
      "Epok 44: 198.4 sek, train-acc = 0.860, val-acc = 0.875, train-loss = 0.3848, val-loss = 0.3520\n",
      "Epok 45: 198.6 sek, train-acc = 0.864, val-acc = 0.938, train-loss = 0.3700, val-loss = 0.2062\n",
      "Epok 46: 198.5 sek, train-acc = 0.866, val-acc = 0.812, train-loss = 0.3650, val-loss = 0.4768\n",
      "Epok 47: 198.4 sek, train-acc = 0.865, val-acc = 0.938, train-loss = 0.3717, val-loss = 0.2556\n",
      "Epok 48: 198.5 sek, train-acc = 0.866, val-acc = 0.812, train-loss = 0.3634, val-loss = 0.8432\n",
      "Epok 49: 198.6 sek, train-acc = 0.866, val-acc = 0.688, train-loss = 0.3672, val-loss = 1.4026\n",
      "Epok 50: 198.5 sek, train-acc = 0.868, val-acc = 0.812, train-loss = 0.3655, val-loss = 0.4589\n",
      "Epok 51: 199.0 sek, train-acc = 0.862, val-acc = 0.750, train-loss = 0.3813, val-loss = 0.5871\n",
      "Epok 52: 199.2 sek, train-acc = 0.863, val-acc = 0.688, train-loss = 0.3658, val-loss = 0.9944\n",
      "Epok 53: 199.2 sek, train-acc = 0.864, val-acc = 0.688, train-loss = 0.3705, val-loss = 0.7530\n",
      "Epok 54: 199.0 sek, train-acc = 0.867, val-acc = 0.812, train-loss = 0.3688, val-loss = 0.4490\n",
      "Epok 55: 199.2 sek, train-acc = 0.863, val-acc = 0.438, train-loss = 0.3734, val-loss = 1.0472\n",
      "Epok 56: 199.4 sek, train-acc = 0.873, val-acc = 0.562, train-loss = 0.3537, val-loss = 1.2444\n",
      "Epok 57: 200.1 sek, train-acc = 0.869, val-acc = 0.812, train-loss = 0.3552, val-loss = 0.5804\n",
      "Epok 58: 201.1 sek, train-acc = 0.869, val-acc = 0.625, train-loss = 0.3612, val-loss = 1.0286\n",
      "Epok 59: 201.5 sek, train-acc = 0.863, val-acc = 0.688, train-loss = 0.3682, val-loss = 0.6739\n",
      "Epok 60: 201.0 sek, train-acc = 0.874, val-acc = 0.938, train-loss = 0.3590, val-loss = 0.2299\n",
      "Epok 61: 201.6 sek, train-acc = 0.860, val-acc = 0.750, train-loss = 0.3679, val-loss = 0.5331\n",
      "Epok 62: 198.8 sek, train-acc = 0.874, val-acc = 0.875, train-loss = 0.3454, val-loss = 0.4469\n",
      "Epok 63: 198.9 sek, train-acc = 0.871, val-acc = 0.750, train-loss = 0.3523, val-loss = 0.5140\n",
      "Epok 64: 198.6 sek, train-acc = 0.867, val-acc = 0.688, train-loss = 0.3784, val-loss = 0.7734\n",
      "Epok 65: 198.7 sek, train-acc = 0.871, val-acc = 0.688, train-loss = 0.3516, val-loss = 1.0950\n",
      "Epok 66: 198.7 sek, train-acc = 0.869, val-acc = 0.750, train-loss = 0.3549, val-loss = 1.2290\n",
      "Epok 67: 198.6 sek, train-acc = 0.872, val-acc = 0.625, train-loss = 0.3501, val-loss = 1.0696\n",
      "Epok 68: 198.7 sek, train-acc = 0.868, val-acc = 0.750, train-loss = 0.3767, val-loss = 0.5713\n",
      "Epok 69: 198.7 sek, train-acc = 0.871, val-acc = 0.875, train-loss = 0.3566, val-loss = 0.3504\n",
      "Epok 70: 198.8 sek, train-acc = 0.874, val-acc = 0.750, train-loss = 0.3539, val-loss = 0.9270\n",
      "Epok 71: 199.0 sek, train-acc = 0.868, val-acc = 0.562, train-loss = 0.3633, val-loss = 0.5646\n",
      "Epok 72: 198.7 sek, train-acc = 0.880, val-acc = 0.625, train-loss = 0.3438, val-loss = 0.9495\n",
      "Epok 73: 199.3 sek, train-acc = 0.873, val-acc = 0.750, train-loss = 0.3516, val-loss = 0.8571\n",
      "Epok 74: 198.7 sek, train-acc = 0.872, val-acc = 0.500, train-loss = 0.3542, val-loss = 1.0943\n",
      "Epok 75: 198.8 sek, train-acc = 0.881, val-acc = 0.812, train-loss = 0.3348, val-loss = 0.4493\n",
      "Epok 76: 198.8 sek, train-acc = 0.879, val-acc = 0.750, train-loss = 0.3318, val-loss = 0.5121\n",
      "Epok 77: 198.9 sek, train-acc = 0.876, val-acc = 0.750, train-loss = 0.3352, val-loss = 0.6572\n",
      "Epok 78: 198.6 sek, train-acc = 0.875, val-acc = 0.812, train-loss = 0.3380, val-loss = 0.4961\n",
      "Epok 79: 198.8 sek, train-acc = 0.870, val-acc = 0.625, train-loss = 0.3438, val-loss = 0.8550\n",
      "Epok 80: 198.7 sek, train-acc = 0.866, val-acc = 0.688, train-loss = 0.3555, val-loss = 1.6490\n",
      "Epok 81: 198.7 sek, train-acc = 0.874, val-acc = 0.562, train-loss = 0.3418, val-loss = 1.2547\n",
      "Epok 82: 199.0 sek, train-acc = 0.874, val-acc = 0.625, train-loss = 0.3492, val-loss = 1.0371\n",
      "Epok 83: 199.1 sek, train-acc = 0.870, val-acc = 1.000, train-loss = 0.3521, val-loss = 0.1089\n",
      "Epok 84: 198.7 sek, train-acc = 0.872, val-acc = 0.812, train-loss = 0.3427, val-loss = 0.3974\n",
      "Epok 85: 199.0 sek, train-acc = 0.877, val-acc = 0.625, train-loss = 0.3306, val-loss = 0.9062\n",
      "Epok 86: 199.0 sek, train-acc = 0.881, val-acc = 0.438, train-loss = 0.3267, val-loss = 1.5808\n",
      "Epok 87: 199.0 sek, train-acc = 0.880, val-acc = 0.812, train-loss = 0.3406, val-loss = 0.5937\n"
     ]
    },
    {
     "name": "stdout",
     "output_type": "stream",
     "text": [
      "Epok 88: 198.9 sek, train-acc = 0.871, val-acc = 0.812, train-loss = 0.3506, val-loss = 0.3547\n",
      "Epok 89: 199.0 sek, train-acc = 0.878, val-acc = 0.750, train-loss = 0.3339, val-loss = 0.5044\n",
      "Epok 90: 198.9 sek, train-acc = 0.879, val-acc = 0.688, train-loss = 0.3304, val-loss = 0.8986\n",
      "Epok 91: 199.1 sek, train-acc = 0.879, val-acc = 0.875, train-loss = 0.3394, val-loss = 0.2694\n",
      "Epok 92: 198.9 sek, train-acc = 0.879, val-acc = 0.688, train-loss = 0.3306, val-loss = 0.5232\n",
      "Epok 93: 198.8 sek, train-acc = 0.873, val-acc = 0.812, train-loss = 0.3435, val-loss = 0.7928\n",
      "Epok 94: 199.0 sek, train-acc = 0.883, val-acc = 0.688, train-loss = 0.3210, val-loss = 0.9696\n",
      "Epok 95: 198.8 sek, train-acc = 0.884, val-acc = 0.875, train-loss = 0.3155, val-loss = 0.5224\n",
      "Epok 96: 199.0 sek, train-acc = 0.868, val-acc = 0.688, train-loss = 0.3596, val-loss = 0.4225\n",
      "Epok 97: 198.9 sek, train-acc = 0.881, val-acc = 0.750, train-loss = 0.3309, val-loss = 0.9740\n",
      "Epok 98: 198.6 sek, train-acc = 0.877, val-acc = 0.875, train-loss = 0.3290, val-loss = 0.2562\n",
      "Epok 99: 198.9 sek, train-acc = 0.879, val-acc = 0.562, train-loss = 0.3392, val-loss = 1.6944\n",
      "Epok 100: 198.8 sek, train-acc = 0.887, val-acc = 0.938, train-loss = 0.3155, val-loss = 0.2234\n",
      "\n",
      "Training took 19879.97 seconds.\n"
     ]
    }
   ],
   "source": [
    "train_eval(epochs, do_validation=True, training_dataloader=train_dl_weighted, validation_dataloader=valid_dl)"
   ]
  },
  {
   "cell_type": "code",
   "execution_count": 144,
   "metadata": {},
   "outputs": [],
   "source": [
    "save_trained_model(model_name)"
   ]
  },
  {
   "cell_type": "code",
   "execution_count": 145,
   "metadata": {},
   "outputs": [
    {
     "data": {
      "text/html": [
       "<div>\n",
       "<style scoped>\n",
       "    .dataframe tbody tr th:only-of-type {\n",
       "        vertical-align: middle;\n",
       "    }\n",
       "\n",
       "    .dataframe tbody tr th {\n",
       "        vertical-align: top;\n",
       "    }\n",
       "\n",
       "    .dataframe thead th {\n",
       "        text-align: right;\n",
       "    }\n",
       "</style>\n",
       "<table border=\"1\" class=\"dataframe\">\n",
       "  <thead>\n",
       "    <tr style=\"text-align: right;\">\n",
       "      <th></th>\n",
       "      <th>epoch</th>\n",
       "      <th>train_acc</th>\n",
       "      <th>train_loss</th>\n",
       "      <th>val_acc</th>\n",
       "      <th>val_loss</th>\n",
       "    </tr>\n",
       "  </thead>\n",
       "  <tbody>\n",
       "    <tr>\n",
       "      <th>0</th>\n",
       "      <td>1</td>\n",
       "      <td>0.807396</td>\n",
       "      <td>0.516601</td>\n",
       "      <td>0.5625</td>\n",
       "      <td>1.081673</td>\n",
       "    </tr>\n",
       "    <tr>\n",
       "      <th>1</th>\n",
       "      <td>2</td>\n",
       "      <td>0.825385</td>\n",
       "      <td>0.482347</td>\n",
       "      <td>0.6250</td>\n",
       "      <td>0.979839</td>\n",
       "    </tr>\n",
       "    <tr>\n",
       "      <th>2</th>\n",
       "      <td>3</td>\n",
       "      <td>0.839520</td>\n",
       "      <td>0.438792</td>\n",
       "      <td>0.5625</td>\n",
       "      <td>1.189287</td>\n",
       "    </tr>\n",
       "    <tr>\n",
       "      <th>3</th>\n",
       "      <td>4</td>\n",
       "      <td>0.835094</td>\n",
       "      <td>0.448042</td>\n",
       "      <td>0.7500</td>\n",
       "      <td>1.034017</td>\n",
       "    </tr>\n",
       "    <tr>\n",
       "      <th>4</th>\n",
       "      <td>5</td>\n",
       "      <td>0.828955</td>\n",
       "      <td>0.461532</td>\n",
       "      <td>0.6875</td>\n",
       "      <td>0.900803</td>\n",
       "    </tr>\n",
       "    <tr>\n",
       "      <th>...</th>\n",
       "      <td>...</td>\n",
       "      <td>...</td>\n",
       "      <td>...</td>\n",
       "      <td>...</td>\n",
       "      <td>...</td>\n",
       "    </tr>\n",
       "    <tr>\n",
       "      <th>95</th>\n",
       "      <td>96</td>\n",
       "      <td>0.868361</td>\n",
       "      <td>0.359616</td>\n",
       "      <td>0.6875</td>\n",
       "      <td>0.422541</td>\n",
       "    </tr>\n",
       "    <tr>\n",
       "      <th>96</th>\n",
       "      <td>97</td>\n",
       "      <td>0.881211</td>\n",
       "      <td>0.330864</td>\n",
       "      <td>0.7500</td>\n",
       "      <td>0.974005</td>\n",
       "    </tr>\n",
       "    <tr>\n",
       "      <th>97</th>\n",
       "      <td>98</td>\n",
       "      <td>0.877499</td>\n",
       "      <td>0.328972</td>\n",
       "      <td>0.8750</td>\n",
       "      <td>0.256247</td>\n",
       "    </tr>\n",
       "    <tr>\n",
       "      <th>98</th>\n",
       "      <td>99</td>\n",
       "      <td>0.878926</td>\n",
       "      <td>0.339228</td>\n",
       "      <td>0.5625</td>\n",
       "      <td>1.694368</td>\n",
       "    </tr>\n",
       "    <tr>\n",
       "      <th>99</th>\n",
       "      <td>100</td>\n",
       "      <td>0.887065</td>\n",
       "      <td>0.315463</td>\n",
       "      <td>0.9375</td>\n",
       "      <td>0.223435</td>\n",
       "    </tr>\n",
       "  </tbody>\n",
       "</table>\n",
       "<p>100 rows × 5 columns</p>\n",
       "</div>"
      ],
      "text/plain": [
       "    epoch  train_acc  train_loss  val_acc  val_loss\n",
       "0       1   0.807396    0.516601   0.5625  1.081673\n",
       "1       2   0.825385    0.482347   0.6250  0.979839\n",
       "2       3   0.839520    0.438792   0.5625  1.189287\n",
       "3       4   0.835094    0.448042   0.7500  1.034017\n",
       "4       5   0.828955    0.461532   0.6875  0.900803\n",
       "..    ...        ...         ...      ...       ...\n",
       "95     96   0.868361    0.359616   0.6875  0.422541\n",
       "96     97   0.881211    0.330864   0.7500  0.974005\n",
       "97     98   0.877499    0.328972   0.8750  0.256247\n",
       "98     99   0.878926    0.339228   0.5625  1.694368\n",
       "99    100   0.887065    0.315463   0.9375  0.223435\n",
       "\n",
       "[100 rows x 5 columns]"
      ]
     },
     "execution_count": 145,
     "metadata": {},
     "output_type": "execute_result"
    }
   ],
   "source": [
    "save_training_log(model_name, True)"
   ]
  },
  {
   "cell_type": "code",
   "execution_count": null,
   "metadata": {},
   "outputs": [],
   "source": [
    "# Nedan celler för felsökning:"
   ]
  },
  {
   "cell_type": "code",
   "execution_count": 58,
   "metadata": {},
   "outputs": [],
   "source": [
    "inputs, labels = next(iter(train_dl_weighted))\n",
    "outputs, logits = model.forward(inputs)"
   ]
  },
  {
   "cell_type": "code",
   "execution_count": 60,
   "metadata": {},
   "outputs": [],
   "source": [
    "train_loss = criterion(outputs, labels)"
   ]
  },
  {
   "cell_type": "code",
   "execution_count": 61,
   "metadata": {},
   "outputs": [
    {
     "data": {
      "text/plain": [
       "tensor(1.9413, device='cuda:0', grad_fn=<NllLossBackward>)"
      ]
     },
     "execution_count": 61,
     "metadata": {},
     "output_type": "execute_result"
    }
   ],
   "source": [
    "train_loss"
   ]
  },
  {
   "cell_type": "code",
   "execution_count": 65,
   "metadata": {},
   "outputs": [],
   "source": [
    "train_loss.backward()\n",
    "                \n",
    "optimizer.step()\n",
    "                    \n",
    "train_predicted = torch.max(outputs, 1)"
   ]
  },
  {
   "cell_type": "code",
   "execution_count": 70,
   "metadata": {},
   "outputs": [],
   "source": [
    "current_train_loss = 0.0\n",
    "current_train_corrects = 0.0\n",
    "current_train_loss += train_loss.item() * batchsz_train"
   ]
  },
  {
   "cell_type": "code",
   "execution_count": 72,
   "metadata": {},
   "outputs": [
    {
     "data": {
      "text/plain": [
       "tensor([1, 2, 1, 0], device='cuda:0')"
      ]
     },
     "execution_count": 72,
     "metadata": {},
     "output_type": "execute_result"
    }
   ],
   "source": [
    "labels.data"
   ]
  },
  {
   "cell_type": "code",
   "execution_count": 77,
   "metadata": {},
   "outputs": [
    {
     "data": {
      "text/plain": [
       "torch.return_types.max(\n",
       "values=tensor([0.2186, 0.2908, 0.0897, 0.0519], device='cuda:0',\n",
       "       grad_fn=<MaxBackward0>),\n",
       "indices=tensor([3, 1, 5, 6], device='cuda:0'))"
      ]
     },
     "execution_count": 77,
     "metadata": {},
     "output_type": "execute_result"
    }
   ],
   "source": [
    "train_predicted"
   ]
  },
  {
   "cell_type": "code",
   "execution_count": 74,
   "metadata": {},
   "outputs": [
    {
     "data": {
      "text/plain": [
       "tensor([3, 1, 5, 6], device='cuda:0')"
      ]
     },
     "execution_count": 74,
     "metadata": {},
     "output_type": "execute_result"
    }
   ],
   "source": [
    "train_predicted[1]"
   ]
  },
  {
   "cell_type": "code",
   "execution_count": 75,
   "metadata": {},
   "outputs": [],
   "source": [
    "current_train_corrects += torch.sum(train_predicted[1] == labels.data)"
   ]
  },
  {
   "cell_type": "code",
   "execution_count": 76,
   "metadata": {},
   "outputs": [
    {
     "data": {
      "text/plain": [
       "tensor(0., device='cuda:0')"
      ]
     },
     "execution_count": 76,
     "metadata": {},
     "output_type": "execute_result"
    }
   ],
   "source": [
    "current_train_corrects"
   ]
  },
  {
   "cell_type": "code",
   "execution_count": 121,
   "metadata": {},
   "outputs": [
    {
     "data": {
      "text/html": [
       "<div>\n",
       "<style scoped>\n",
       "    .dataframe tbody tr th:only-of-type {\n",
       "        vertical-align: middle;\n",
       "    }\n",
       "\n",
       "    .dataframe tbody tr th {\n",
       "        vertical-align: top;\n",
       "    }\n",
       "\n",
       "    .dataframe thead th {\n",
       "        text-align: right;\n",
       "    }\n",
       "</style>\n",
       "<table border=\"1\" class=\"dataframe\">\n",
       "  <thead>\n",
       "    <tr style=\"text-align: right;\">\n",
       "      <th></th>\n",
       "      <th>epoch</th>\n",
       "      <th>train_acc</th>\n",
       "      <th>train_loss</th>\n",
       "      <th>val_acc</th>\n",
       "      <th>val_loss</th>\n",
       "    </tr>\n",
       "  </thead>\n",
       "  <tbody>\n",
       "    <tr>\n",
       "      <th>0</th>\n",
       "      <td>1</td>\n",
       "      <td>0.152913</td>\n",
       "      <td>1.947532</td>\n",
       "      <td>0.1875</td>\n",
       "      <td>2.097773</td>\n",
       "    </tr>\n",
       "    <tr>\n",
       "      <th>1</th>\n",
       "      <td>2</td>\n",
       "      <td>0.200742</td>\n",
       "      <td>1.893778</td>\n",
       "      <td>0.3125</td>\n",
       "      <td>1.608780</td>\n",
       "    </tr>\n",
       "    <tr>\n",
       "      <th>2</th>\n",
       "      <td>3</td>\n",
       "      <td>0.252427</td>\n",
       "      <td>1.830984</td>\n",
       "      <td>0.0625</td>\n",
       "      <td>2.150602</td>\n",
       "    </tr>\n",
       "    <tr>\n",
       "      <th>3</th>\n",
       "      <td>4</td>\n",
       "      <td>0.292975</td>\n",
       "      <td>1.766962</td>\n",
       "      <td>0.2500</td>\n",
       "      <td>1.595148</td>\n",
       "    </tr>\n",
       "    <tr>\n",
       "      <th>4</th>\n",
       "      <td>5</td>\n",
       "      <td>0.347658</td>\n",
       "      <td>1.678864</td>\n",
       "      <td>0.3750</td>\n",
       "      <td>1.997504</td>\n",
       "    </tr>\n",
       "  </tbody>\n",
       "</table>\n",
       "</div>"
      ],
      "text/plain": [
       "   epoch  train_acc  train_loss  val_acc  val_loss\n",
       "0      1   0.152913    1.947532   0.1875  2.097773\n",
       "1      2   0.200742    1.893778   0.3125  1.608780\n",
       "2      3   0.252427    1.830984   0.0625  2.150602\n",
       "3      4   0.292975    1.766962   0.2500  1.595148\n",
       "4      5   0.347658    1.678864   0.3750  1.997504"
      ]
     },
     "execution_count": 121,
     "metadata": {},
     "output_type": "execute_result"
    }
   ],
   "source": [
    "training_log.head()"
   ]
  },
  {
   "cell_type": "markdown",
   "metadata": {},
   "source": [
    "## Utvärdering av modellen:"
   ]
  },
  {
   "cell_type": "markdown",
   "metadata": {},
   "source": [
    "### Grafer över accuracy och loss på train/validation:"
   ]
  },
  {
   "cell_type": "code",
   "execution_count": 146,
   "metadata": {},
   "outputs": [
    {
     "data": {
      "image/png": "[encoded data removed]",
      "text/plain": [
       "<Figure size 432x288 with 1 Axes>"
      ]
     },
     "metadata": {
      "needs_background": "light"
     },
     "output_type": "display_data"
    }
   ],
   "source": [
    "plt.plot(training_log['epoch'], training_log['train_loss'])\n",
    "#plt.title(\"Loss on the training set over the epochs\")\n",
    "# plt.yticks(np.arange(0, 50, step = 5))\n",
    "# plt.ylim(0,50)\n",
    "#plt.show()\n",
    "\n",
    "# Plotta accuracy över valideringsdatat:\n",
    "plt.plot(training_log['epoch'], training_log['val_loss'])\n",
    "plt.title(\"Training and validation loss\")\n",
    "#plt.yticks(np.arange(0, 1.1, step = 0.2))\n",
    "#plt.ylim(0, max())\n",
    "plt.legend(['Train loss', 'Validation loss'], loc = 'upper right')\n",
    "plt.show()\n"
   ]
  },
  {
   "cell_type": "code",
   "execution_count": 147,
   "metadata": {},
   "outputs": [
    {
     "data": {
      "image/png": "[encoded data removed]",
      "text/plain": [
       "<Figure size 432x288 with 1 Axes>"
      ]
     },
     "metadata": {
      "needs_background": "light"
     },
     "output_type": "display_data"
    }
   ],
   "source": [
    "plt.plot(training_log['epoch'], training_log['train_acc'])\n",
    "#plt.title(\"Loss on the training set over the epochs\")\n",
    "# plt.yticks(np.arange(0, 50, step = 5))\n",
    "# plt.ylim(0,50)\n",
    "#plt.show()\n",
    "\n",
    "# Plotta accuracy över valideringsdatat:\n",
    "plt.plot(training_log['epoch'], training_log['val_acc'])\n",
    "plt.title(\"Training and validation accuracy\")\n",
    "#plt.yticks(np.arange(0, 1.1, step = 0.2))\n",
    "#plt.ylim(0, max())\n",
    "plt.legend(['Train acc', 'Validation acc'], loc = 'lower right')\n",
    "plt.show()"
   ]
  },
  {
   "cell_type": "code",
   "execution_count": 148,
   "metadata": {},
   "outputs": [],
   "source": [
    "max_train_acc = 100*max(training_log['train_acc'])"
   ]
  },
  {
   "cell_type": "code",
   "execution_count": 149,
   "metadata": {},
   "outputs": [
    {
     "name": "stdout",
     "output_type": "stream",
     "text": [
      "Max tränings-accuracy = 88.71 %.\n"
     ]
    }
   ],
   "source": [
    "print(f'Max tränings-accuracy = {max_train_acc:.2f} %.')"
   ]
  },
  {
   "cell_type": "markdown",
   "metadata": {},
   "source": [
    "### Utvärdera modellen på validation- och test-set:"
   ]
  },
  {
   "cell_type": "code",
   "execution_count": 150,
   "metadata": {},
   "outputs": [],
   "source": [
    "def evaluate_model(num_eval_images, data_loader, model):\n",
    "\n",
    "    model.eval()\n",
    "\n",
    "    start_eval_test_time = time.time()\n",
    "    \n",
    "    # Nedan för att vi inte ska uppdatera \n",
    "    # modellens vikter:\n",
    "\n",
    "    with torch.no_grad():\n",
    "        correct = 0\n",
    "        # Antal iterationer = num_test_images / batchsz_test = x st.\n",
    "    \n",
    "        for X_test, y_test in data_loader:\n",
    "            y_pred_test = model.forward(X_test)\n",
    "            predicted = torch.max(input = y_pred_test, dim = 1)[1]\n",
    "            correct += (predicted == y_test).sum()\n",
    "    \n",
    "        end_eval_test_time = time.time()\n",
    "    \n",
    "        eval_test_time = end_eval_test_time - start_eval_test_time\n",
    "\n",
    "    print(f'Test accuracy: {correct.item()}/{num_eval_images} = {correct.item()*100/(num_eval_images):5.2f} %')\n",
    "    print(f\"\\nEvaluation took {eval_test_time:.2f} seconds.\")"
   ]
  },
  {
   "cell_type": "code",
   "execution_count": 151,
   "metadata": {},
   "outputs": [
    {
     "name": "stdout",
     "output_type": "stream",
     "text": [
      "Test accuracy: 1478/2010 = 73.53 %\n",
      "\n",
      "Evaluation took 8.72 seconds.\n"
     ]
    }
   ],
   "source": [
    "num_test_images = len(test_loader.dataset)\n",
    "\n",
    "evaluate_model(num_test_images, test_dl, model)"
   ]
  },
  {
   "cell_type": "code",
   "execution_count": 152,
   "metadata": {},
   "outputs": [
    {
     "name": "stdout",
     "output_type": "stream",
     "text": [
      "Test accuracy: 762/998 = 76.35 %\n",
      "\n",
      "Evaluation took 4.47 seconds.\n"
     ]
    }
   ],
   "source": [
    "num_valid_images = len(valid_loader.dataset)\n",
    "\n",
    "evaluate_model(num_valid_images, valid_dl, model)"
   ]
  },
  {
   "cell_type": "markdown",
   "metadata": {},
   "source": [
    "### Confusion matrix"
   ]
  },
  {
   "cell_type": "code",
   "execution_count": 129,
   "metadata": {},
   "outputs": [],
   "source": [
    "def pytorch_confusion_matrix(num_classes, model, dataloader):\n",
    "    \n",
    "    confusion_matrix = torch.zeros(num_classes, num_classes)\n",
    "    \n",
    "    with torch.no_grad():\n",
    "        for i, (inputs, classes) in enumerate(dataloader):\n",
    "            inputs = inputs.to(device)\n",
    "            classes = classes.to(device)\n",
    "            \n",
    "            predictions = model.forward(inputs)\n",
    "            _, preds = torch.max(predictions, 1)\n",
    "            \n",
    "            for t, p in zip(classes.view(-1), preds.view(-1)):\n",
    "                confusion_matrix[t.long(), p.long()] += 1\n",
    "    \n",
    "    return confusion_matrix"
   ]
  },
  {
   "cell_type": "code",
   "execution_count": 130,
   "metadata": {},
   "outputs": [
    {
     "name": "stdout",
     "output_type": "stream",
     "text": [
      "Beräkningen av CM tog 9.47.\n"
     ]
    }
   ],
   "source": [
    "# Beräkningen på test-setet tar ca. 24 sek.\n",
    "# på den stationära datorn med GPU med 4 workers, \n",
    "# och ca. 19 sek. med 8 workers.\n",
    "\n",
    "start_cm_time = time.time()\n",
    "cm_test = pytorch_confusion_matrix(number_of_classes, model, test_dl)\n",
    "\n",
    "end_cm_time = time.time()\n",
    "\n",
    "delta_cm_time = end_cm_time - start_cm_time\n",
    "\n",
    "print(f'Beräkningen av CM tog {delta_cm_time:.2f}.')"
   ]
  },
  {
   "cell_type": "code",
   "execution_count": 131,
   "metadata": {},
   "outputs": [],
   "source": [
    "# Spara confusion matrix till en fil...\n",
    "\n",
    "cm_file_suffice = \".pt\"\n",
    "cm_filename = \"results/\" + file_name + cm_file_suffice\n",
    "torch.save(cm_test, cm_filename)"
   ]
  },
  {
   "cell_type": "code",
   "execution_count": 132,
   "metadata": {},
   "outputs": [],
   "source": [
    "# Ladda CM från en fil:\n",
    "\n",
    "cm_test = torch.load(cm_filename)"
   ]
  },
  {
   "cell_type": "code",
   "execution_count": 133,
   "metadata": {},
   "outputs": [],
   "source": [
    "cm_test_np = cm_test.numpy()"
   ]
  },
  {
   "cell_type": "code",
   "execution_count": 134,
   "metadata": {},
   "outputs": [
    {
     "name": "stdout",
     "output_type": "stream",
     "text": [
      "[[ 33.  14.   9.   4.   3.   3.   1.]\n",
      " [  7.  80.  10.   1.   1.   3.   2.]\n",
      " [  8.  11. 152.   4.  16.  23.   7.]\n",
      " [  0.   4.   3.  15.   0.   1.   1.]\n",
      " [  6.   4.  43.   6.  93.  61.  10.]\n",
      " [ 11.  36. 108.  37.  94. 976.  80.]\n",
      " [  0.   0.   0.   1.   1.   0.  27.]]\n"
     ]
    }
   ],
   "source": [
    "np.set_printoptions(suppress=True)\n",
    "print(cm_test_np)"
   ]
  },
  {
   "cell_type": "markdown",
   "metadata": {},
   "source": [
    "### Precision och recall (precision & sensitivitet):"
   ]
  },
  {
   "cell_type": "code",
   "execution_count": 135,
   "metadata": {},
   "outputs": [],
   "source": [
    "# Beräkna första radens summa:\n",
    "sum_row_one = np.sum(cm_test_np[:,0])\n",
    "\n",
    "# Då blir t.ex. precision för label 1:\n",
    "precision_label_one = cm_test_np[0][0].item() / sum_row_one"
   ]
  },
  {
   "cell_type": "code",
   "execution_count": 136,
   "metadata": {},
   "outputs": [
    {
     "name": "stdout",
     "output_type": "stream",
     "text": [
      "Precision för label 1 = 0.508\n"
     ]
    }
   ],
   "source": [
    "print(f'Precision för label 1 = {precision_label_one:.3f}')"
   ]
  },
  {
   "cell_type": "code",
   "execution_count": 137,
   "metadata": {},
   "outputs": [
    {
     "name": "stdout",
     "output_type": "stream",
     "text": [
      "Recall för label 1 = 0.493\n"
     ]
    }
   ],
   "source": [
    "# Motsvarande blir recall för label 1:\n",
    "\n",
    "sum_col_1 = np.sum(cm_test_np[0,:])\n",
    "recall_label_one = cm_test_np[0][0] / sum_col_1\n",
    "\n",
    "print(f'Recall för label 1 = {recall_label_one:.3f}')"
   ]
  },
  {
   "cell_type": "code",
   "execution_count": 138,
   "metadata": {},
   "outputs": [
    {
     "data": {
      "text/plain": [
       "'akiec'"
      ]
     },
     "execution_count": 138,
     "metadata": {},
     "output_type": "execute_result"
    }
   ],
   "source": [
    "# Få ut labels så här:\n",
    "test_loader.dataset.classes[0]"
   ]
  },
  {
   "cell_type": "code",
   "execution_count": 139,
   "metadata": {},
   "outputs": [
    {
     "name": "stdout",
     "output_type": "stream",
     "text": [
      "Precision för respektive klass:\n",
      "akiec: 0.508\n",
      "bcc  : 0.537\n",
      "bkl  : 0.468\n",
      "df   : 0.221\n",
      "mel  : 0.447\n",
      "nv   : 0.915\n",
      "vasc : 0.211\n",
      "\n",
      "Recall för respektive klass:\n",
      "akiec: 0.493\n",
      "bcc  : 0.769\n",
      "bkl  : 0.688\n",
      "df   : 0.625\n",
      "mel  : 0.417\n",
      "nv   : 0.727\n",
      "vasc : 0.931\n"
     ]
    }
   ],
   "source": [
    "# Skapa en sammanställning över precision/recall för alla sju klasser.\n",
    "\n",
    "# Precision:\n",
    "\n",
    "print(\"Precision för respektive klass:\")\n",
    "for i in range(number_of_classes):\n",
    "    sum_row_i = np.sum(cm_test_np[:, i])\n",
    "    recall_i = cm_test_np[i,i] / sum_row_i\n",
    "    print(f'{test_loader.dataset.classes[i]:5}: {recall_i:.3f}')\n",
    "\n",
    "\n",
    "# Recall:\n",
    "\n",
    "print(\"\\nRecall för respektive klass:\")\n",
    "for j in range(number_of_classes):\n",
    "    sum_col_j = np.sum(cm_test_np[j, :])\n",
    "    recall_j = cm_test_np[j,j] / sum_col_j\n",
    "    print(f'{test_loader.dataset.classes[j]:5}: {recall_j:.3f}')"
   ]
  },
  {
   "cell_type": "markdown",
   "metadata": {},
   "source": [
    "### Visualisera modellens förutsägelser"
   ]
  },
  {
   "cell_type": "code",
   "execution_count": null,
   "metadata": {},
   "outputs": [],
   "source": [
    "def visualize_model(model, num_images = 6):\n",
    "    was_training = model.training\n",
    "    model.eval()\n",
    "    images_so_far = 0\n",
    "    fig = plt.figure()\n",
    "\n",
    "    with torch.no_grad():\n",
    "        for i, (inputs, labels) in enumerate(test_loader):\n",
    "            inputs = inputs.to(device)\n",
    "            labels = labels.to(device)\n",
    "\n",
    "            outputs = model(inputs)\n",
    "            _, preds = torch.max(outputs, 1)\n",
    "\n",
    "            for j in range(inputs.size()[0]):\n",
    "                images_so_far += 1\n",
    "                ax = plt.subplot(num_images//2, 2, images_so_far)\n",
    "                ax.axis('off')\n",
    "                ax.set_title('predicted: {}'.format(class_names[preds[j]]))\n",
    "                imshow(inputs.cpu().data[j])\n",
    "\n",
    "                if images_so_far == num_images:\n",
    "                    model.train(mode = was_training)\n",
    "                    return\n",
    "        model.train(mode = was_training)"
   ]
  },
  {
   "cell_type": "code",
   "execution_count": null,
   "metadata": {},
   "outputs": [],
   "source": [
    "visualize_model(model, 4)"
   ]
  }
 ],
 "metadata": {
  "kernelspec": {
   "display_name": "Python 3",
   "language": "python",
   "name": "python3"
  },
  "language_info": {
   "codemirror_mode": {
    "name": "ipython",
    "version": 3
   },
   "file_extension": ".py",
   "mimetype": "text/x-python",
   "name": "python",
   "nbconvert_exporter": "python",
   "pygments_lexer": "ipython3",
   "version": "3.7.5"
  },
  "latex_envs": {
   "LaTeX_envs_menu_present": true,
   "autoclose": false,
   "autocomplete": true,
   "bibliofile": "biblio.bib",
   "cite_by": "apalike",
   "current_citInitial": 1,
   "eqLabelWithNumbers": true,
   "eqNumInitial": 1,
   "hotkeys": {
    "equation": "Ctrl-E",
    "itemize": "Ctrl-I"
   },
   "labels_anchors": false,
   "latex_user_defs": false,
   "report_style_numbering": false,
   "user_envs_cfg": false
  },
  "varInspector": {
   "cols": {
    "lenName": 16,
    "lenType": 16,
    "lenVar": 40
   },
   "kernels_config": {
    "python": {
     "delete_cmd_postfix": "",
     "delete_cmd_prefix": "del ",
     "library": "var_list.py",
     "varRefreshCmd": "print(var_dic_list())"
    },
    "r": {
     "delete_cmd_postfix": ") ",
     "delete_cmd_prefix": "rm(",
     "library": "var_list.r",
     "varRefreshCmd": "cat(var_dic_list()) "
    }
   },
   "position": {
    "height": "526.726px",
    "left": "854.368px",
    "right": "20px",
    "top": "120px",
    "width": "421.087px"
   },
   "types_to_exclude": [
    "module",
    "function",
    "builtin_function_or_method",
    "instance",
    "_Feature"
   ],
   "window_display": false
  }
 },
 "nbformat": 4,
 "nbformat_minor": 2
}
